{
 "cells": [
  {
   "cell_type": "markdown",
   "id": "5d42ac91",
   "metadata": {},
   "source": [
    "# Multiple Linear Regression"
   ]
  },
  {
   "cell_type": "markdown",
   "id": "5908ec79",
   "metadata": {},
   "source": [
    "**Problem Statement:**\n",
    "\n",
    "A bike-sharing system is a service in which bikes are made available for shared use to individuals on a short term basis for a price or free. Many bike share systems allow people to borrow a bike from a \"dock\" which is usually computer-controlled wherein the user enters the payment information, and the system unlocks it. This bike can then be returned to another dock belonging to the same system.\n",
    "\n",
    "A US bike-sharing provider BikeIndia has recently suffered considerable dips in their revenues due to the ongoing Corona pandemic. The company is finding it very difficult to sustain in the current market scenario. So, it has decided to come up with a mindful business plan to be able to accelerate its revenue as soon as the ongoing lockdown comes to an end, and the economy restores to a healthy state.\n",
    "\n",
    "In such an attempt, BikeIndia aspires to understand the demand for shared bikes among the people after this ongoing quarantine situation ends across the nation due to Covid-19. They have planned this to prepare themselves to cater to the people's needs once the situation gets better all around and stand out from other service providers and make huge profits.\n",
    "\n",
    "They have contracted a consulting company to understand the factors on which the demand for these shared bikes depends. Specifically, they want to understand the factors affecting the demand for these shared bikes in the American market. The company wants to know:\n",
    "\n",
    "Which variables are significant in predicting the demand for shared bikes. How well those variables describe the bike demands Based on various meteorological surveys and people's styles, the service provider firm has gathered a large dataset on daily bike demands across the American market based on some factors.\n",
    "\n",
    "**Business Goal:**\n",
    "\n",
    "We are required to model the demand for shared bikes with the available independent variables. It will be used by the management to understand how exactly the demands vary with different features. They can accordingly manipulate the business strategy to meet the demand levels and meet the customer's expectations. Further, the model will be a good way for management to understand the demand dynamics of a new market."
   ]
  },
  {
   "cell_type": "markdown",
   "id": "d8e5da60",
   "metadata": {},
   "source": [
    "## Importing Necessary Libraries"
   ]
  },
  {
   "cell_type": "code",
   "execution_count": 1,
   "id": "2b26fc06",
   "metadata": {
    "ExecuteTime": {
     "end_time": "2023-04-16T05:16:53.234243Z",
     "start_time": "2023-04-16T05:16:51.826943Z"
    }
   },
   "outputs": [],
   "source": [
    "import pandas as pd\n",
    "import numpy as np\n",
    "import matplotlib.pyplot as plt\n",
    "import seaborn as sns\n",
    "\n",
    "import warnings\n",
    "warnings.filterwarnings('ignore')"
   ]
  },
  {
   "cell_type": "markdown",
   "id": "e0536d57",
   "metadata": {},
   "source": [
    "## Data Understanding"
   ]
  },
  {
   "cell_type": "code",
   "execution_count": 2,
   "id": "eba61cb1",
   "metadata": {
    "ExecuteTime": {
     "end_time": "2023-04-16T05:16:53.259734Z",
     "start_time": "2023-04-16T05:16:53.235122Z"
    }
   },
   "outputs": [
    {
     "data": {
      "text/html": [
       "<div>\n",
       "<style scoped>\n",
       "    .dataframe tbody tr th:only-of-type {\n",
       "        vertical-align: middle;\n",
       "    }\n",
       "\n",
       "    .dataframe tbody tr th {\n",
       "        vertical-align: top;\n",
       "    }\n",
       "\n",
       "    .dataframe thead th {\n",
       "        text-align: right;\n",
       "    }\n",
       "</style>\n",
       "<table border=\"1\" class=\"dataframe\">\n",
       "  <thead>\n",
       "    <tr style=\"text-align: right;\">\n",
       "      <th></th>\n",
       "      <th>instant</th>\n",
       "      <th>dteday</th>\n",
       "      <th>season</th>\n",
       "      <th>yr</th>\n",
       "      <th>mnth</th>\n",
       "      <th>holiday</th>\n",
       "      <th>weekday</th>\n",
       "      <th>workingday</th>\n",
       "      <th>weathersit</th>\n",
       "      <th>temp</th>\n",
       "      <th>atemp</th>\n",
       "      <th>hum</th>\n",
       "      <th>windspeed</th>\n",
       "      <th>casual</th>\n",
       "      <th>registered</th>\n",
       "      <th>cnt</th>\n",
       "    </tr>\n",
       "  </thead>\n",
       "  <tbody>\n",
       "    <tr>\n",
       "      <th>0</th>\n",
       "      <td>1</td>\n",
       "      <td>01-01-2018</td>\n",
       "      <td>1</td>\n",
       "      <td>0</td>\n",
       "      <td>1</td>\n",
       "      <td>0</td>\n",
       "      <td>6</td>\n",
       "      <td>0</td>\n",
       "      <td>2</td>\n",
       "      <td>14.110847</td>\n",
       "      <td>18.18125</td>\n",
       "      <td>80.5833</td>\n",
       "      <td>10.749882</td>\n",
       "      <td>331</td>\n",
       "      <td>654</td>\n",
       "      <td>985</td>\n",
       "    </tr>\n",
       "    <tr>\n",
       "      <th>1</th>\n",
       "      <td>2</td>\n",
       "      <td>02-01-2018</td>\n",
       "      <td>1</td>\n",
       "      <td>0</td>\n",
       "      <td>1</td>\n",
       "      <td>0</td>\n",
       "      <td>0</td>\n",
       "      <td>0</td>\n",
       "      <td>2</td>\n",
       "      <td>14.902598</td>\n",
       "      <td>17.68695</td>\n",
       "      <td>69.6087</td>\n",
       "      <td>16.652113</td>\n",
       "      <td>131</td>\n",
       "      <td>670</td>\n",
       "      <td>801</td>\n",
       "    </tr>\n",
       "    <tr>\n",
       "      <th>2</th>\n",
       "      <td>3</td>\n",
       "      <td>03-01-2018</td>\n",
       "      <td>1</td>\n",
       "      <td>0</td>\n",
       "      <td>1</td>\n",
       "      <td>0</td>\n",
       "      <td>1</td>\n",
       "      <td>1</td>\n",
       "      <td>1</td>\n",
       "      <td>8.050924</td>\n",
       "      <td>9.47025</td>\n",
       "      <td>43.7273</td>\n",
       "      <td>16.636703</td>\n",
       "      <td>120</td>\n",
       "      <td>1229</td>\n",
       "      <td>1349</td>\n",
       "    </tr>\n",
       "    <tr>\n",
       "      <th>3</th>\n",
       "      <td>4</td>\n",
       "      <td>04-01-2018</td>\n",
       "      <td>1</td>\n",
       "      <td>0</td>\n",
       "      <td>1</td>\n",
       "      <td>0</td>\n",
       "      <td>2</td>\n",
       "      <td>1</td>\n",
       "      <td>1</td>\n",
       "      <td>8.200000</td>\n",
       "      <td>10.60610</td>\n",
       "      <td>59.0435</td>\n",
       "      <td>10.739832</td>\n",
       "      <td>108</td>\n",
       "      <td>1454</td>\n",
       "      <td>1562</td>\n",
       "    </tr>\n",
       "    <tr>\n",
       "      <th>4</th>\n",
       "      <td>5</td>\n",
       "      <td>05-01-2018</td>\n",
       "      <td>1</td>\n",
       "      <td>0</td>\n",
       "      <td>1</td>\n",
       "      <td>0</td>\n",
       "      <td>3</td>\n",
       "      <td>1</td>\n",
       "      <td>1</td>\n",
       "      <td>9.305237</td>\n",
       "      <td>11.46350</td>\n",
       "      <td>43.6957</td>\n",
       "      <td>12.522300</td>\n",
       "      <td>82</td>\n",
       "      <td>1518</td>\n",
       "      <td>1600</td>\n",
       "    </tr>\n",
       "  </tbody>\n",
       "</table>\n",
       "</div>"
      ],
      "text/plain": [
       "   instant      dteday  season  yr  mnth  holiday  weekday  workingday  \\\n",
       "0        1  01-01-2018       1   0     1        0        6           0   \n",
       "1        2  02-01-2018       1   0     1        0        0           0   \n",
       "2        3  03-01-2018       1   0     1        0        1           1   \n",
       "3        4  04-01-2018       1   0     1        0        2           1   \n",
       "4        5  05-01-2018       1   0     1        0        3           1   \n",
       "\n",
       "   weathersit       temp     atemp      hum  windspeed  casual  registered  \\\n",
       "0           2  14.110847  18.18125  80.5833  10.749882     331         654   \n",
       "1           2  14.902598  17.68695  69.6087  16.652113     131         670   \n",
       "2           1   8.050924   9.47025  43.7273  16.636703     120        1229   \n",
       "3           1   8.200000  10.60610  59.0435  10.739832     108        1454   \n",
       "4           1   9.305237  11.46350  43.6957  12.522300      82        1518   \n",
       "\n",
       "    cnt  \n",
       "0   985  \n",
       "1   801  \n",
       "2  1349  \n",
       "3  1562  \n",
       "4  1600  "
      ]
     },
     "execution_count": 2,
     "metadata": {},
     "output_type": "execute_result"
    }
   ],
   "source": [
    "df = pd.read_csv(\"day.csv\")\n",
    "df.head()"
   ]
  },
  {
   "cell_type": "code",
   "execution_count": 3,
   "id": "4e247d0d",
   "metadata": {
    "ExecuteTime": {
     "end_time": "2023-04-16T05:16:53.275785Z",
     "start_time": "2023-04-16T05:16:53.261833Z"
    }
   },
   "outputs": [
    {
     "data": {
      "text/plain": [
       "(730, 16)"
      ]
     },
     "execution_count": 3,
     "metadata": {},
     "output_type": "execute_result"
    }
   ],
   "source": [
    "df.shape"
   ]
  },
  {
   "cell_type": "markdown",
   "id": "0bf10226",
   "metadata": {},
   "source": [
    "We have `730` datapoints and `16` columns in the data."
   ]
  },
  {
   "cell_type": "code",
   "execution_count": 4,
   "id": "7b656952",
   "metadata": {
    "ExecuteTime": {
     "end_time": "2023-04-16T05:16:53.307521Z",
     "start_time": "2023-04-16T05:16:53.276390Z"
    }
   },
   "outputs": [
    {
     "name": "stdout",
     "output_type": "stream",
     "text": [
      "<class 'pandas.core.frame.DataFrame'>\n",
      "RangeIndex: 730 entries, 0 to 729\n",
      "Data columns (total 16 columns):\n",
      " #   Column      Non-Null Count  Dtype  \n",
      "---  ------      --------------  -----  \n",
      " 0   instant     730 non-null    int64  \n",
      " 1   dteday      730 non-null    object \n",
      " 2   season      730 non-null    int64  \n",
      " 3   yr          730 non-null    int64  \n",
      " 4   mnth        730 non-null    int64  \n",
      " 5   holiday     730 non-null    int64  \n",
      " 6   weekday     730 non-null    int64  \n",
      " 7   workingday  730 non-null    int64  \n",
      " 8   weathersit  730 non-null    int64  \n",
      " 9   temp        730 non-null    float64\n",
      " 10  atemp       730 non-null    float64\n",
      " 11  hum         730 non-null    float64\n",
      " 12  windspeed   730 non-null    float64\n",
      " 13  casual      730 non-null    int64  \n",
      " 14  registered  730 non-null    int64  \n",
      " 15  cnt         730 non-null    int64  \n",
      "dtypes: float64(4), int64(11), object(1)\n",
      "memory usage: 91.4+ KB\n"
     ]
    }
   ],
   "source": [
    "df.info()"
   ]
  },
  {
   "cell_type": "markdown",
   "id": "ea897ee3",
   "metadata": {},
   "source": [
    "All the columns seem to have the correct datatypes."
   ]
  },
  {
   "cell_type": "code",
   "execution_count": 5,
   "id": "768a3f8c",
   "metadata": {
    "ExecuteTime": {
     "end_time": "2023-04-16T05:16:53.320627Z",
     "start_time": "2023-04-16T05:16:53.308525Z"
    }
   },
   "outputs": [
    {
     "data": {
      "text/plain": [
       "instant       0\n",
       "dteday        0\n",
       "season        0\n",
       "yr            0\n",
       "mnth          0\n",
       "holiday       0\n",
       "weekday       0\n",
       "workingday    0\n",
       "weathersit    0\n",
       "temp          0\n",
       "atemp         0\n",
       "hum           0\n",
       "windspeed     0\n",
       "casual        0\n",
       "registered    0\n",
       "cnt           0\n",
       "dtype: int64"
      ]
     },
     "execution_count": 5,
     "metadata": {},
     "output_type": "execute_result"
    }
   ],
   "source": [
    "df.isna().sum()"
   ]
  },
  {
   "cell_type": "markdown",
   "id": "73f7c841",
   "metadata": {},
   "source": [
    "We have no missing values"
   ]
  },
  {
   "cell_type": "code",
   "execution_count": 6,
   "id": "c08b7286",
   "metadata": {
    "ExecuteTime": {
     "end_time": "2023-04-16T05:16:53.335903Z",
     "start_time": "2023-04-16T05:16:53.320627Z"
    }
   },
   "outputs": [
    {
     "data": {
      "text/plain": [
       "['instant',\n",
       " 'dteday',\n",
       " 'season',\n",
       " 'yr',\n",
       " 'mnth',\n",
       " 'holiday',\n",
       " 'weekday',\n",
       " 'workingday',\n",
       " 'weathersit',\n",
       " 'temp',\n",
       " 'atemp',\n",
       " 'hum',\n",
       " 'windspeed',\n",
       " 'casual',\n",
       " 'registered',\n",
       " 'cnt']"
      ]
     },
     "execution_count": 6,
     "metadata": {},
     "output_type": "execute_result"
    }
   ],
   "source": [
    "col = df.columns.to_list()\n",
    "col"
   ]
  },
  {
   "cell_type": "code",
   "execution_count": 7,
   "id": "2058053f",
   "metadata": {
    "ExecuteTime": {
     "end_time": "2023-04-16T05:16:53.344438Z",
     "start_time": "2023-04-16T05:16:53.337904Z"
    }
   },
   "outputs": [
    {
     "name": "stdout",
     "output_type": "stream",
     "text": [
      "season has values [1, 2, 3, 4]\n",
      "yr has values [0, 1]\n",
      "mnth has values [1, 2, 3, 4, 5, 6, 7, 8, 9, 10, 11, 12]\n",
      "holiday has values [0, 1]\n",
      "weekday has values [6, 0, 1, 2, 3, 4, 5]\n",
      "workingday has values [0, 1]\n",
      "weathersit has values [2, 1, 3]\n"
     ]
    }
   ],
   "source": [
    "for c in col[2:9]:\n",
    "    print(f\"{c} has values {list(df[c].unique())}\")"
   ]
  },
  {
   "cell_type": "markdown",
   "id": "19f20570",
   "metadata": {},
   "source": [
    "The columns `season`, `yr`, `mnth`, `holiday`, `weekday`, `workingday`, `weathersit` have few distinct values."
   ]
  },
  {
   "cell_type": "code",
   "execution_count": 8,
   "id": "b9775ac7",
   "metadata": {
    "ExecuteTime": {
     "end_time": "2023-04-16T05:16:53.372895Z",
     "start_time": "2023-04-16T05:16:53.345528Z"
    }
   },
   "outputs": [
    {
     "data": {
      "text/html": [
       "<div>\n",
       "<style scoped>\n",
       "    .dataframe tbody tr th:only-of-type {\n",
       "        vertical-align: middle;\n",
       "    }\n",
       "\n",
       "    .dataframe tbody tr th {\n",
       "        vertical-align: top;\n",
       "    }\n",
       "\n",
       "    .dataframe thead th {\n",
       "        text-align: right;\n",
       "    }\n",
       "</style>\n",
       "<table border=\"1\" class=\"dataframe\">\n",
       "  <thead>\n",
       "    <tr style=\"text-align: right;\">\n",
       "      <th></th>\n",
       "      <th>temp</th>\n",
       "      <th>atemp</th>\n",
       "      <th>hum</th>\n",
       "      <th>windspeed</th>\n",
       "      <th>casual</th>\n",
       "      <th>registered</th>\n",
       "      <th>cnt</th>\n",
       "    </tr>\n",
       "  </thead>\n",
       "  <tbody>\n",
       "    <tr>\n",
       "      <th>count</th>\n",
       "      <td>730.000000</td>\n",
       "      <td>730.000000</td>\n",
       "      <td>730.000000</td>\n",
       "      <td>730.000000</td>\n",
       "      <td>730.000000</td>\n",
       "      <td>730.000000</td>\n",
       "      <td>730.000000</td>\n",
       "    </tr>\n",
       "    <tr>\n",
       "      <th>mean</th>\n",
       "      <td>20.319259</td>\n",
       "      <td>23.726322</td>\n",
       "      <td>62.765175</td>\n",
       "      <td>12.763620</td>\n",
       "      <td>849.249315</td>\n",
       "      <td>3658.757534</td>\n",
       "      <td>4508.006849</td>\n",
       "    </tr>\n",
       "    <tr>\n",
       "      <th>std</th>\n",
       "      <td>7.506729</td>\n",
       "      <td>8.150308</td>\n",
       "      <td>14.237589</td>\n",
       "      <td>5.195841</td>\n",
       "      <td>686.479875</td>\n",
       "      <td>1559.758728</td>\n",
       "      <td>1936.011647</td>\n",
       "    </tr>\n",
       "    <tr>\n",
       "      <th>min</th>\n",
       "      <td>2.424346</td>\n",
       "      <td>3.953480</td>\n",
       "      <td>0.000000</td>\n",
       "      <td>1.500244</td>\n",
       "      <td>2.000000</td>\n",
       "      <td>20.000000</td>\n",
       "      <td>22.000000</td>\n",
       "    </tr>\n",
       "    <tr>\n",
       "      <th>25%</th>\n",
       "      <td>13.811885</td>\n",
       "      <td>16.889713</td>\n",
       "      <td>52.000000</td>\n",
       "      <td>9.041650</td>\n",
       "      <td>316.250000</td>\n",
       "      <td>2502.250000</td>\n",
       "      <td>3169.750000</td>\n",
       "    </tr>\n",
       "    <tr>\n",
       "      <th>50%</th>\n",
       "      <td>20.465826</td>\n",
       "      <td>24.368225</td>\n",
       "      <td>62.625000</td>\n",
       "      <td>12.125325</td>\n",
       "      <td>717.000000</td>\n",
       "      <td>3664.500000</td>\n",
       "      <td>4548.500000</td>\n",
       "    </tr>\n",
       "    <tr>\n",
       "      <th>75%</th>\n",
       "      <td>26.880615</td>\n",
       "      <td>30.445775</td>\n",
       "      <td>72.989575</td>\n",
       "      <td>15.625589</td>\n",
       "      <td>1096.500000</td>\n",
       "      <td>4783.250000</td>\n",
       "      <td>5966.000000</td>\n",
       "    </tr>\n",
       "    <tr>\n",
       "      <th>max</th>\n",
       "      <td>35.328347</td>\n",
       "      <td>42.044800</td>\n",
       "      <td>97.250000</td>\n",
       "      <td>34.000021</td>\n",
       "      <td>3410.000000</td>\n",
       "      <td>6946.000000</td>\n",
       "      <td>8714.000000</td>\n",
       "    </tr>\n",
       "  </tbody>\n",
       "</table>\n",
       "</div>"
      ],
      "text/plain": [
       "             temp       atemp         hum   windspeed       casual  \\\n",
       "count  730.000000  730.000000  730.000000  730.000000   730.000000   \n",
       "mean    20.319259   23.726322   62.765175   12.763620   849.249315   \n",
       "std      7.506729    8.150308   14.237589    5.195841   686.479875   \n",
       "min      2.424346    3.953480    0.000000    1.500244     2.000000   \n",
       "25%     13.811885   16.889713   52.000000    9.041650   316.250000   \n",
       "50%     20.465826   24.368225   62.625000   12.125325   717.000000   \n",
       "75%     26.880615   30.445775   72.989575   15.625589  1096.500000   \n",
       "max     35.328347   42.044800   97.250000   34.000021  3410.000000   \n",
       "\n",
       "        registered          cnt  \n",
       "count   730.000000   730.000000  \n",
       "mean   3658.757534  4508.006849  \n",
       "std    1559.758728  1936.011647  \n",
       "min      20.000000    22.000000  \n",
       "25%    2502.250000  3169.750000  \n",
       "50%    3664.500000  4548.500000  \n",
       "75%    4783.250000  5966.000000  \n",
       "max    6946.000000  8714.000000  "
      ]
     },
     "execution_count": 8,
     "metadata": {},
     "output_type": "execute_result"
    }
   ],
   "source": [
    "df[col[9:]].describe()"
   ]
  },
  {
   "cell_type": "markdown",
   "id": "cadfe266",
   "metadata": {},
   "source": [
    "The columns `temp`, `atemp`, `hum`, `windspeed` are real numbers whereas `casual`, `registered`, `cnt` are integers."
   ]
  },
  {
   "cell_type": "code",
   "execution_count": 9,
   "id": "0a9ff6f7",
   "metadata": {
    "ExecuteTime": {
     "end_time": "2023-04-16T05:16:53.388246Z",
     "start_time": "2023-04-16T05:16:53.372895Z"
    }
   },
   "outputs": [
    {
     "data": {
      "text/html": [
       "<div>\n",
       "<style scoped>\n",
       "    .dataframe tbody tr th:only-of-type {\n",
       "        vertical-align: middle;\n",
       "    }\n",
       "\n",
       "    .dataframe tbody tr th {\n",
       "        vertical-align: top;\n",
       "    }\n",
       "\n",
       "    .dataframe thead th {\n",
       "        text-align: right;\n",
       "    }\n",
       "</style>\n",
       "<table border=\"1\" class=\"dataframe\">\n",
       "  <thead>\n",
       "    <tr style=\"text-align: right;\">\n",
       "      <th></th>\n",
       "      <th>season</th>\n",
       "      <th>yr</th>\n",
       "      <th>mnth</th>\n",
       "      <th>holiday</th>\n",
       "      <th>weekday</th>\n",
       "      <th>workingday</th>\n",
       "      <th>weathersit</th>\n",
       "      <th>temp</th>\n",
       "      <th>atemp</th>\n",
       "      <th>hum</th>\n",
       "      <th>windspeed</th>\n",
       "      <th>cnt</th>\n",
       "    </tr>\n",
       "  </thead>\n",
       "  <tbody>\n",
       "    <tr>\n",
       "      <th>0</th>\n",
       "      <td>1</td>\n",
       "      <td>0</td>\n",
       "      <td>1</td>\n",
       "      <td>0</td>\n",
       "      <td>6</td>\n",
       "      <td>0</td>\n",
       "      <td>2</td>\n",
       "      <td>14.110847</td>\n",
       "      <td>18.18125</td>\n",
       "      <td>80.5833</td>\n",
       "      <td>10.749882</td>\n",
       "      <td>985</td>\n",
       "    </tr>\n",
       "    <tr>\n",
       "      <th>1</th>\n",
       "      <td>1</td>\n",
       "      <td>0</td>\n",
       "      <td>1</td>\n",
       "      <td>0</td>\n",
       "      <td>0</td>\n",
       "      <td>0</td>\n",
       "      <td>2</td>\n",
       "      <td>14.902598</td>\n",
       "      <td>17.68695</td>\n",
       "      <td>69.6087</td>\n",
       "      <td>16.652113</td>\n",
       "      <td>801</td>\n",
       "    </tr>\n",
       "    <tr>\n",
       "      <th>2</th>\n",
       "      <td>1</td>\n",
       "      <td>0</td>\n",
       "      <td>1</td>\n",
       "      <td>0</td>\n",
       "      <td>1</td>\n",
       "      <td>1</td>\n",
       "      <td>1</td>\n",
       "      <td>8.050924</td>\n",
       "      <td>9.47025</td>\n",
       "      <td>43.7273</td>\n",
       "      <td>16.636703</td>\n",
       "      <td>1349</td>\n",
       "    </tr>\n",
       "    <tr>\n",
       "      <th>3</th>\n",
       "      <td>1</td>\n",
       "      <td>0</td>\n",
       "      <td>1</td>\n",
       "      <td>0</td>\n",
       "      <td>2</td>\n",
       "      <td>1</td>\n",
       "      <td>1</td>\n",
       "      <td>8.200000</td>\n",
       "      <td>10.60610</td>\n",
       "      <td>59.0435</td>\n",
       "      <td>10.739832</td>\n",
       "      <td>1562</td>\n",
       "    </tr>\n",
       "    <tr>\n",
       "      <th>4</th>\n",
       "      <td>1</td>\n",
       "      <td>0</td>\n",
       "      <td>1</td>\n",
       "      <td>0</td>\n",
       "      <td>3</td>\n",
       "      <td>1</td>\n",
       "      <td>1</td>\n",
       "      <td>9.305237</td>\n",
       "      <td>11.46350</td>\n",
       "      <td>43.6957</td>\n",
       "      <td>12.522300</td>\n",
       "      <td>1600</td>\n",
       "    </tr>\n",
       "  </tbody>\n",
       "</table>\n",
       "</div>"
      ],
      "text/plain": [
       "   season  yr  mnth  holiday  weekday  workingday  weathersit       temp  \\\n",
       "0       1   0     1        0        6           0           2  14.110847   \n",
       "1       1   0     1        0        0           0           2  14.902598   \n",
       "2       1   0     1        0        1           1           1   8.050924   \n",
       "3       1   0     1        0        2           1           1   8.200000   \n",
       "4       1   0     1        0        3           1           1   9.305237   \n",
       "\n",
       "      atemp      hum  windspeed   cnt  \n",
       "0  18.18125  80.5833  10.749882   985  \n",
       "1  17.68695  69.6087  16.652113   801  \n",
       "2   9.47025  43.7273  16.636703  1349  \n",
       "3  10.60610  59.0435  10.739832  1562  \n",
       "4  11.46350  43.6957  12.522300  1600  "
      ]
     },
     "execution_count": 9,
     "metadata": {},
     "output_type": "execute_result"
    }
   ],
   "source": [
    "df.drop(['instant', 'dteday', 'casual', 'registered'], axis = 1, inplace = True)\n",
    "df.head()"
   ]
  },
  {
   "cell_type": "markdown",
   "id": "2225f029",
   "metadata": {},
   "source": [
    "The columns `instant` and `dteday` were redundant and hence they were dropped. We also dropped `causal` and `registered` as we only want the total demand and not the category."
   ]
  },
  {
   "cell_type": "markdown",
   "id": "6eb63c02",
   "metadata": {},
   "source": [
    "One more anomaly is that in some rows both `holiday` and `workingday` are 0. It is absurd for a day to not be holiday and not be a working day simultaneously so we drop such rows."
   ]
  },
  {
   "cell_type": "code",
   "execution_count": 10,
   "id": "6dc493e8",
   "metadata": {
    "ExecuteTime": {
     "end_time": "2023-04-16T05:16:53.502589Z",
     "start_time": "2023-04-16T05:16:53.390155Z"
    }
   },
   "outputs": [
    {
     "data": {
      "image/png": "[encoded data removed]",
      "text/plain": [
       "<Figure size 432x288 with 1 Axes>"
      ]
     },
     "metadata": {
      "needs_background": "light"
     },
     "output_type": "display_data"
    }
   ],
   "source": [
    "sns.scatterplot(x = 'holiday', y = 'workingday', data = df)\n",
    "plt.show()"
   ]
  },
  {
   "cell_type": "code",
   "execution_count": 11,
   "id": "e2ff30c4",
   "metadata": {
    "ExecuteTime": {
     "end_time": "2023-04-16T05:16:53.518215Z",
     "start_time": "2023-04-16T05:16:53.503160Z"
    }
   },
   "outputs": [
    {
     "data": {
      "text/html": [
       "<div>\n",
       "<style scoped>\n",
       "    .dataframe tbody tr th:only-of-type {\n",
       "        vertical-align: middle;\n",
       "    }\n",
       "\n",
       "    .dataframe tbody tr th {\n",
       "        vertical-align: top;\n",
       "    }\n",
       "\n",
       "    .dataframe thead th {\n",
       "        text-align: right;\n",
       "    }\n",
       "</style>\n",
       "<table border=\"1\" class=\"dataframe\">\n",
       "  <thead>\n",
       "    <tr style=\"text-align: right;\">\n",
       "      <th></th>\n",
       "      <th>season</th>\n",
       "      <th>yr</th>\n",
       "      <th>mnth</th>\n",
       "      <th>holiday</th>\n",
       "      <th>weekday</th>\n",
       "      <th>workingday</th>\n",
       "      <th>weathersit</th>\n",
       "      <th>temp</th>\n",
       "      <th>atemp</th>\n",
       "      <th>hum</th>\n",
       "      <th>windspeed</th>\n",
       "      <th>cnt</th>\n",
       "    </tr>\n",
       "  </thead>\n",
       "  <tbody>\n",
       "    <tr>\n",
       "      <th>2</th>\n",
       "      <td>1</td>\n",
       "      <td>0</td>\n",
       "      <td>1</td>\n",
       "      <td>0</td>\n",
       "      <td>1</td>\n",
       "      <td>1</td>\n",
       "      <td>1</td>\n",
       "      <td>8.050924</td>\n",
       "      <td>9.47025</td>\n",
       "      <td>43.7273</td>\n",
       "      <td>16.636703</td>\n",
       "      <td>1349</td>\n",
       "    </tr>\n",
       "    <tr>\n",
       "      <th>3</th>\n",
       "      <td>1</td>\n",
       "      <td>0</td>\n",
       "      <td>1</td>\n",
       "      <td>0</td>\n",
       "      <td>2</td>\n",
       "      <td>1</td>\n",
       "      <td>1</td>\n",
       "      <td>8.200000</td>\n",
       "      <td>10.60610</td>\n",
       "      <td>59.0435</td>\n",
       "      <td>10.739832</td>\n",
       "      <td>1562</td>\n",
       "    </tr>\n",
       "    <tr>\n",
       "      <th>4</th>\n",
       "      <td>1</td>\n",
       "      <td>0</td>\n",
       "      <td>1</td>\n",
       "      <td>0</td>\n",
       "      <td>3</td>\n",
       "      <td>1</td>\n",
       "      <td>1</td>\n",
       "      <td>9.305237</td>\n",
       "      <td>11.46350</td>\n",
       "      <td>43.6957</td>\n",
       "      <td>12.522300</td>\n",
       "      <td>1600</td>\n",
       "    </tr>\n",
       "    <tr>\n",
       "      <th>5</th>\n",
       "      <td>1</td>\n",
       "      <td>0</td>\n",
       "      <td>1</td>\n",
       "      <td>0</td>\n",
       "      <td>4</td>\n",
       "      <td>1</td>\n",
       "      <td>1</td>\n",
       "      <td>8.378268</td>\n",
       "      <td>11.66045</td>\n",
       "      <td>51.8261</td>\n",
       "      <td>6.000868</td>\n",
       "      <td>1606</td>\n",
       "    </tr>\n",
       "    <tr>\n",
       "      <th>6</th>\n",
       "      <td>1</td>\n",
       "      <td>0</td>\n",
       "      <td>1</td>\n",
       "      <td>0</td>\n",
       "      <td>5</td>\n",
       "      <td>1</td>\n",
       "      <td>2</td>\n",
       "      <td>8.057402</td>\n",
       "      <td>10.44195</td>\n",
       "      <td>49.8696</td>\n",
       "      <td>11.304642</td>\n",
       "      <td>1510</td>\n",
       "    </tr>\n",
       "  </tbody>\n",
       "</table>\n",
       "</div>"
      ],
      "text/plain": [
       "   season  yr  mnth  holiday  weekday  workingday  weathersit      temp  \\\n",
       "2       1   0     1        0        1           1           1  8.050924   \n",
       "3       1   0     1        0        2           1           1  8.200000   \n",
       "4       1   0     1        0        3           1           1  9.305237   \n",
       "5       1   0     1        0        4           1           1  8.378268   \n",
       "6       1   0     1        0        5           1           2  8.057402   \n",
       "\n",
       "      atemp      hum  windspeed   cnt  \n",
       "2   9.47025  43.7273  16.636703  1349  \n",
       "3  10.60610  59.0435  10.739832  1562  \n",
       "4  11.46350  43.6957  12.522300  1600  \n",
       "5  11.66045  51.8261   6.000868  1606  \n",
       "6  10.44195  49.8696  11.304642  1510  "
      ]
     },
     "execution_count": 11,
     "metadata": {},
     "output_type": "execute_result"
    }
   ],
   "source": [
    "df = df.loc[(df['holiday'] != 0) | (df['workingday'] != 0)]\n",
    "df.head()"
   ]
  },
  {
   "cell_type": "code",
   "execution_count": 12,
   "id": "37606a92",
   "metadata": {
    "ExecuteTime": {
     "end_time": "2023-04-16T05:16:53.633612Z",
     "start_time": "2023-04-16T05:16:53.520211Z"
    }
   },
   "outputs": [
    {
     "data": {
      "image/png": "[encoded data removed]",
      "text/plain": [
       "<Figure size 432x288 with 1 Axes>"
      ]
     },
     "metadata": {
      "needs_background": "light"
     },
     "output_type": "display_data"
    }
   ],
   "source": [
    "sns.scatterplot(x = 'holiday', y = 'workingday', data = df)\n",
    "plt.show()"
   ]
  },
  {
   "cell_type": "code",
   "execution_count": 13,
   "id": "e9b2caf2",
   "metadata": {
    "ExecuteTime": {
     "end_time": "2023-04-16T05:16:53.644370Z",
     "start_time": "2023-04-16T05:16:53.635611Z"
    }
   },
   "outputs": [
    {
     "data": {
      "text/plain": [
       "(520, 12)"
      ]
     },
     "execution_count": 13,
     "metadata": {},
     "output_type": "execute_result"
    }
   ],
   "source": [
    "df.shape"
   ]
  },
  {
   "cell_type": "markdown",
   "id": "c6ec9231",
   "metadata": {},
   "source": [
    "We removed `210` such rows! Now `holiday` and `workingday` convey the same information in the dataset so we can drop one of them. We will drop `workingday`."
   ]
  },
  {
   "cell_type": "code",
   "execution_count": 14,
   "id": "8dfaa404",
   "metadata": {
    "ExecuteTime": {
     "end_time": "2023-04-16T05:16:53.663668Z",
     "start_time": "2023-04-16T05:16:53.644370Z"
    }
   },
   "outputs": [
    {
     "data": {
      "text/html": [
       "<div>\n",
       "<style scoped>\n",
       "    .dataframe tbody tr th:only-of-type {\n",
       "        vertical-align: middle;\n",
       "    }\n",
       "\n",
       "    .dataframe tbody tr th {\n",
       "        vertical-align: top;\n",
       "    }\n",
       "\n",
       "    .dataframe thead th {\n",
       "        text-align: right;\n",
       "    }\n",
       "</style>\n",
       "<table border=\"1\" class=\"dataframe\">\n",
       "  <thead>\n",
       "    <tr style=\"text-align: right;\">\n",
       "      <th></th>\n",
       "      <th>season</th>\n",
       "      <th>yr</th>\n",
       "      <th>mnth</th>\n",
       "      <th>holiday</th>\n",
       "      <th>weekday</th>\n",
       "      <th>weathersit</th>\n",
       "      <th>temp</th>\n",
       "      <th>atemp</th>\n",
       "      <th>hum</th>\n",
       "      <th>windspeed</th>\n",
       "      <th>cnt</th>\n",
       "    </tr>\n",
       "  </thead>\n",
       "  <tbody>\n",
       "    <tr>\n",
       "      <th>2</th>\n",
       "      <td>1</td>\n",
       "      <td>0</td>\n",
       "      <td>1</td>\n",
       "      <td>0</td>\n",
       "      <td>1</td>\n",
       "      <td>1</td>\n",
       "      <td>8.050924</td>\n",
       "      <td>9.47025</td>\n",
       "      <td>43.7273</td>\n",
       "      <td>16.636703</td>\n",
       "      <td>1349</td>\n",
       "    </tr>\n",
       "    <tr>\n",
       "      <th>3</th>\n",
       "      <td>1</td>\n",
       "      <td>0</td>\n",
       "      <td>1</td>\n",
       "      <td>0</td>\n",
       "      <td>2</td>\n",
       "      <td>1</td>\n",
       "      <td>8.200000</td>\n",
       "      <td>10.60610</td>\n",
       "      <td>59.0435</td>\n",
       "      <td>10.739832</td>\n",
       "      <td>1562</td>\n",
       "    </tr>\n",
       "    <tr>\n",
       "      <th>4</th>\n",
       "      <td>1</td>\n",
       "      <td>0</td>\n",
       "      <td>1</td>\n",
       "      <td>0</td>\n",
       "      <td>3</td>\n",
       "      <td>1</td>\n",
       "      <td>9.305237</td>\n",
       "      <td>11.46350</td>\n",
       "      <td>43.6957</td>\n",
       "      <td>12.522300</td>\n",
       "      <td>1600</td>\n",
       "    </tr>\n",
       "    <tr>\n",
       "      <th>5</th>\n",
       "      <td>1</td>\n",
       "      <td>0</td>\n",
       "      <td>1</td>\n",
       "      <td>0</td>\n",
       "      <td>4</td>\n",
       "      <td>1</td>\n",
       "      <td>8.378268</td>\n",
       "      <td>11.66045</td>\n",
       "      <td>51.8261</td>\n",
       "      <td>6.000868</td>\n",
       "      <td>1606</td>\n",
       "    </tr>\n",
       "    <tr>\n",
       "      <th>6</th>\n",
       "      <td>1</td>\n",
       "      <td>0</td>\n",
       "      <td>1</td>\n",
       "      <td>0</td>\n",
       "      <td>5</td>\n",
       "      <td>2</td>\n",
       "      <td>8.057402</td>\n",
       "      <td>10.44195</td>\n",
       "      <td>49.8696</td>\n",
       "      <td>11.304642</td>\n",
       "      <td>1510</td>\n",
       "    </tr>\n",
       "  </tbody>\n",
       "</table>\n",
       "</div>"
      ],
      "text/plain": [
       "   season  yr  mnth  holiday  weekday  weathersit      temp     atemp  \\\n",
       "2       1   0     1        0        1           1  8.050924   9.47025   \n",
       "3       1   0     1        0        2           1  8.200000  10.60610   \n",
       "4       1   0     1        0        3           1  9.305237  11.46350   \n",
       "5       1   0     1        0        4           1  8.378268  11.66045   \n",
       "6       1   0     1        0        5           2  8.057402  10.44195   \n",
       "\n",
       "       hum  windspeed   cnt  \n",
       "2  43.7273  16.636703  1349  \n",
       "3  59.0435  10.739832  1562  \n",
       "4  43.6957  12.522300  1600  \n",
       "5  51.8261   6.000868  1606  \n",
       "6  49.8696  11.304642  1510  "
      ]
     },
     "execution_count": 14,
     "metadata": {},
     "output_type": "execute_result"
    }
   ],
   "source": [
    "df.drop(['workingday'], axis = 1, inplace = True)\n",
    "df.head()"
   ]
  },
  {
   "cell_type": "code",
   "execution_count": 15,
   "id": "997ccfbd",
   "metadata": {
    "ExecuteTime": {
     "end_time": "2023-04-16T05:16:53.679050Z",
     "start_time": "2023-04-16T05:16:53.663668Z"
    }
   },
   "outputs": [
    {
     "data": {
      "text/plain": [
       "0"
      ]
     },
     "execution_count": 15,
     "metadata": {},
     "output_type": "execute_result"
    }
   ],
   "source": [
    "df.duplicated().sum()"
   ]
  },
  {
   "cell_type": "markdown",
   "id": "6f4a9e20",
   "metadata": {},
   "source": [
    "We don't have any duplicate values in the data."
   ]
  },
  {
   "cell_type": "code",
   "execution_count": 16,
   "id": "c0b5a6ef",
   "metadata": {
    "ExecuteTime": {
     "end_time": "2023-04-16T05:16:53.694873Z",
     "start_time": "2023-04-16T05:16:53.680030Z"
    }
   },
   "outputs": [
    {
     "data": {
      "text/plain": [
       "['season',\n",
       " 'yr',\n",
       " 'mnth',\n",
       " 'holiday',\n",
       " 'weekday',\n",
       " 'weathersit',\n",
       " 'temp',\n",
       " 'atemp',\n",
       " 'hum',\n",
       " 'windspeed',\n",
       " 'cnt']"
      ]
     },
     "execution_count": 16,
     "metadata": {},
     "output_type": "execute_result"
    }
   ],
   "source": [
    "col = df.columns.to_list()\n",
    "col"
   ]
  },
  {
   "cell_type": "code",
   "execution_count": 17,
   "id": "77e37175",
   "metadata": {
    "ExecuteTime": {
     "end_time": "2023-04-16T05:16:53.712437Z",
     "start_time": "2023-04-16T05:16:53.696781Z"
    }
   },
   "outputs": [
    {
     "data": {
      "text/plain": [
       "['season', 'yr', 'mnth', 'holiday', 'weekday', 'weathersit']"
      ]
     },
     "execution_count": 17,
     "metadata": {},
     "output_type": "execute_result"
    }
   ],
   "source": [
    "cat_cols = col[0:6]\n",
    "cat_cols"
   ]
  },
  {
   "cell_type": "code",
   "execution_count": 18,
   "id": "36a8deb5",
   "metadata": {
    "ExecuteTime": {
     "end_time": "2023-04-16T05:16:53.730095Z",
     "start_time": "2023-04-16T05:16:53.713997Z"
    }
   },
   "outputs": [
    {
     "data": {
      "text/plain": [
       "['temp', 'atemp', 'hum', 'windspeed', 'cnt']"
      ]
     },
     "execution_count": 18,
     "metadata": {},
     "output_type": "execute_result"
    }
   ],
   "source": [
    "desc_cols = col[6:]\n",
    "desc_cols"
   ]
  },
  {
   "cell_type": "markdown",
   "id": "3738cd2f",
   "metadata": {},
   "source": [
    "## Data Visualization"
   ]
  },
  {
   "cell_type": "code",
   "execution_count": 19,
   "id": "4f239ddb",
   "metadata": {
    "ExecuteTime": {
     "end_time": "2023-04-16T05:16:55.178306Z",
     "start_time": "2023-04-16T05:16:53.730095Z"
    },
    "scrolled": false
   },
   "outputs": [
    {
     "data": {
      "image/png": "[encoded data removed]",
      "text/plain": [
       "<Figure size 1440x576 with 2 Axes>"
      ]
     },
     "metadata": {
      "needs_background": "light"
     },
     "output_type": "display_data"
    },
    {
     "data": {
      "image/png": "[encoded data removed]",
      "text/plain": [
       "<Figure size 1440x576 with 2 Axes>"
      ]
     },
     "metadata": {
      "needs_background": "light"
     },
     "output_type": "display_data"
    },
    {
     "data": {
      "image/png": "[encoded data removed]",
      "text/plain": [
       "<Figure size 1440x576 with 2 Axes>"
      ]
     },
     "metadata": {
      "needs_background": "light"
     },
     "output_type": "display_data"
    },
    {
     "data": {
      "image/png": "[encoded data removed]",
      "text/plain": [
       "<Figure size 1440x576 with 2 Axes>"
      ]
     },
     "metadata": {
      "needs_background": "light"
     },
     "output_type": "display_data"
    },
    {
     "data": {
      "image/png": "[encoded data removed]",
      "text/plain": [
       "<Figure size 1440x576 with 2 Axes>"
      ]
     },
     "metadata": {
      "needs_background": "light"
     },
     "output_type": "display_data"
    },
    {
     "data": {
      "image/png": "[encoded data removed]",
      "text/plain": [
       "<Figure size 1440x576 with 2 Axes>"
      ]
     },
     "metadata": {
      "needs_background": "light"
     },
     "output_type": "display_data"
    }
   ],
   "source": [
    "for c in cat_cols:\n",
    "    plt.figure(figsize=(20,8))\n",
    "\n",
    "    plt.subplot(1,2,1)\n",
    "    sns.barplot(x=c, y='cnt', data=df, estimator='mean')\n",
    "    plt.title(f'{c} vs cnt')\n",
    "\n",
    "    plt.subplot(1,2,2)\n",
    "    plt.title(f'{c} Box Plot')\n",
    "    sns.boxplot(x = df[c], y=df['cnt'])\n",
    "\n",
    "    plt.show()"
   ]
  },
  {
   "cell_type": "markdown",
   "id": "67cb7a83",
   "metadata": {},
   "source": [
    "**Few Insights:**\n",
    "\n",
    "> Demand has increased the following year\n",
    "\n",
    "> There is more demand on holidays\n",
    "\n",
    "> There is very less demand during weather 3"
   ]
  },
  {
   "cell_type": "code",
   "execution_count": 20,
   "id": "67414b6c",
   "metadata": {
    "ExecuteTime": {
     "end_time": "2023-04-16T05:16:56.122975Z",
     "start_time": "2023-04-16T05:16:55.180153Z"
    },
    "scrolled": false
   },
   "outputs": [
    {
     "data": {
      "image/png": "[encoded data removed]",
      "text/plain": [
       "<Figure size 1440x576 with 2 Axes>"
      ]
     },
     "metadata": {
      "needs_background": "light"
     },
     "output_type": "display_data"
    },
    {
     "data": {
      "image/png": "[encoded data removed]",
      "text/plain": [
       "<Figure size 1440x576 with 2 Axes>"
      ]
     },
     "metadata": {
      "needs_background": "light"
     },
     "output_type": "display_data"
    },
    {
     "data": {
      "image/png": "[encoded data removed]",
      "text/plain": [
       "<Figure size 1440x576 with 2 Axes>"
      ]
     },
     "metadata": {
      "needs_background": "light"
     },
     "output_type": "display_data"
    },
    {
     "data": {
      "image/png": "[encoded data removed]",
      "text/plain": [
       "<Figure size 1440x576 with 2 Axes>"
      ]
     },
     "metadata": {
      "needs_background": "light"
     },
     "output_type": "display_data"
    },
    {
     "data": {
      "image/png": "[encoded data removed]",
      "text/plain": [
       "<Figure size 1440x576 with 2 Axes>"
      ]
     },
     "metadata": {
      "needs_background": "light"
     },
     "output_type": "display_data"
    }
   ],
   "source": [
    "for c in desc_cols:\n",
    "    plt.figure(figsize=(20,8))\n",
    "\n",
    "    plt.subplot(1,2,1)\n",
    "    plt.title(f'{c} Distribution Plot')\n",
    "    sns.distplot(df[c])\n",
    "    plt.axvline(df[c].mean(), color=\"r\")\n",
    "    plt.axvline(df[c].median(), color=\"b\")\n",
    "\n",
    "    plt.subplot(1,2,2)\n",
    "    plt.title(f'{c} Spread')\n",
    "    sns.boxplot(y=df[c])\n",
    "\n",
    "    plt.show()"
   ]
  },
  {
   "cell_type": "markdown",
   "id": "b6e94306",
   "metadata": {},
   "source": [
    "**Few Insights:**\n",
    "\n",
    "> `temp` has bimodal distribution\n",
    "\n",
    "> `windspeed` is right-skewed\n",
    "\n",
    "> Majority of the columns have mean and median equal"
   ]
  },
  {
   "cell_type": "code",
   "execution_count": 21,
   "id": "1a67649e",
   "metadata": {
    "ExecuteTime": {
     "end_time": "2023-04-16T05:16:56.282817Z",
     "start_time": "2023-04-16T05:16:56.123576Z"
    }
   },
   "outputs": [
    {
     "data": {
      "image/png": "[encoded data removed]",
      "text/plain": [
       "<Figure size 432x288 with 2 Axes>"
      ]
     },
     "metadata": {
      "needs_background": "light"
     },
     "output_type": "display_data"
    }
   ],
   "source": [
    "sns.heatmap(df[desc_cols].corr(), cmap = 'YlGnBu', annot = True)\n",
    "plt.show()"
   ]
  },
  {
   "cell_type": "code",
   "execution_count": 22,
   "id": "2623514b",
   "metadata": {
    "ExecuteTime": {
     "end_time": "2023-04-16T05:16:58.886984Z",
     "start_time": "2023-04-16T05:16:56.283821Z"
    }
   },
   "outputs": [
    {
     "data": {
      "image/png": "[encoded data removed]",
      "text/plain": [
       "<Figure size 900x900 with 30 Axes>"
      ]
     },
     "metadata": {
      "needs_background": "light"
     },
     "output_type": "display_data"
    }
   ],
   "source": [
    "sns.pairplot(df[desc_cols])\n",
    "plt.show()"
   ]
  },
  {
   "cell_type": "markdown",
   "id": "dd75fd5c",
   "metadata": {},
   "source": [
    "`temp` and `atemp` are highly correlated so we drop one of them to avoid multi-collinearity"
   ]
  },
  {
   "cell_type": "code",
   "execution_count": 23,
   "id": "2c38f92e",
   "metadata": {
    "ExecuteTime": {
     "end_time": "2023-04-16T05:16:58.906406Z",
     "start_time": "2023-04-16T05:16:58.888889Z"
    }
   },
   "outputs": [
    {
     "data": {
      "text/html": [
       "<div>\n",
       "<style scoped>\n",
       "    .dataframe tbody tr th:only-of-type {\n",
       "        vertical-align: middle;\n",
       "    }\n",
       "\n",
       "    .dataframe tbody tr th {\n",
       "        vertical-align: top;\n",
       "    }\n",
       "\n",
       "    .dataframe thead th {\n",
       "        text-align: right;\n",
       "    }\n",
       "</style>\n",
       "<table border=\"1\" class=\"dataframe\">\n",
       "  <thead>\n",
       "    <tr style=\"text-align: right;\">\n",
       "      <th></th>\n",
       "      <th>season</th>\n",
       "      <th>yr</th>\n",
       "      <th>mnth</th>\n",
       "      <th>holiday</th>\n",
       "      <th>weekday</th>\n",
       "      <th>weathersit</th>\n",
       "      <th>temp</th>\n",
       "      <th>hum</th>\n",
       "      <th>windspeed</th>\n",
       "      <th>cnt</th>\n",
       "    </tr>\n",
       "  </thead>\n",
       "  <tbody>\n",
       "    <tr>\n",
       "      <th>2</th>\n",
       "      <td>1</td>\n",
       "      <td>0</td>\n",
       "      <td>1</td>\n",
       "      <td>0</td>\n",
       "      <td>1</td>\n",
       "      <td>1</td>\n",
       "      <td>8.050924</td>\n",
       "      <td>43.7273</td>\n",
       "      <td>16.636703</td>\n",
       "      <td>1349</td>\n",
       "    </tr>\n",
       "    <tr>\n",
       "      <th>3</th>\n",
       "      <td>1</td>\n",
       "      <td>0</td>\n",
       "      <td>1</td>\n",
       "      <td>0</td>\n",
       "      <td>2</td>\n",
       "      <td>1</td>\n",
       "      <td>8.200000</td>\n",
       "      <td>59.0435</td>\n",
       "      <td>10.739832</td>\n",
       "      <td>1562</td>\n",
       "    </tr>\n",
       "    <tr>\n",
       "      <th>4</th>\n",
       "      <td>1</td>\n",
       "      <td>0</td>\n",
       "      <td>1</td>\n",
       "      <td>0</td>\n",
       "      <td>3</td>\n",
       "      <td>1</td>\n",
       "      <td>9.305237</td>\n",
       "      <td>43.6957</td>\n",
       "      <td>12.522300</td>\n",
       "      <td>1600</td>\n",
       "    </tr>\n",
       "    <tr>\n",
       "      <th>5</th>\n",
       "      <td>1</td>\n",
       "      <td>0</td>\n",
       "      <td>1</td>\n",
       "      <td>0</td>\n",
       "      <td>4</td>\n",
       "      <td>1</td>\n",
       "      <td>8.378268</td>\n",
       "      <td>51.8261</td>\n",
       "      <td>6.000868</td>\n",
       "      <td>1606</td>\n",
       "    </tr>\n",
       "    <tr>\n",
       "      <th>6</th>\n",
       "      <td>1</td>\n",
       "      <td>0</td>\n",
       "      <td>1</td>\n",
       "      <td>0</td>\n",
       "      <td>5</td>\n",
       "      <td>2</td>\n",
       "      <td>8.057402</td>\n",
       "      <td>49.8696</td>\n",
       "      <td>11.304642</td>\n",
       "      <td>1510</td>\n",
       "    </tr>\n",
       "  </tbody>\n",
       "</table>\n",
       "</div>"
      ],
      "text/plain": [
       "   season  yr  mnth  holiday  weekday  weathersit      temp      hum  \\\n",
       "2       1   0     1        0        1           1  8.050924  43.7273   \n",
       "3       1   0     1        0        2           1  8.200000  59.0435   \n",
       "4       1   0     1        0        3           1  9.305237  43.6957   \n",
       "5       1   0     1        0        4           1  8.378268  51.8261   \n",
       "6       1   0     1        0        5           2  8.057402  49.8696   \n",
       "\n",
       "   windspeed   cnt  \n",
       "2  16.636703  1349  \n",
       "3  10.739832  1562  \n",
       "4  12.522300  1600  \n",
       "5   6.000868  1606  \n",
       "6  11.304642  1510  "
      ]
     },
     "execution_count": 23,
     "metadata": {},
     "output_type": "execute_result"
    }
   ],
   "source": [
    "df.drop(['atemp'], axis = 1, inplace = True)\n",
    "df.head()"
   ]
  },
  {
   "cell_type": "code",
   "execution_count": 24,
   "id": "42435f46",
   "metadata": {
    "ExecuteTime": {
     "end_time": "2023-04-16T05:16:58.921648Z",
     "start_time": "2023-04-16T05:16:58.908919Z"
    }
   },
   "outputs": [
    {
     "data": {
      "text/plain": [
       "['temp', 'hum', 'windspeed', 'cnt']"
      ]
     },
     "execution_count": 24,
     "metadata": {},
     "output_type": "execute_result"
    }
   ],
   "source": [
    "desc_cols.remove('atemp')\n",
    "desc_cols"
   ]
  },
  {
   "cell_type": "markdown",
   "id": "3f4b5bbf",
   "metadata": {},
   "source": [
    "## Model Development"
   ]
  },
  {
   "cell_type": "markdown",
   "id": "eebdc023",
   "metadata": {},
   "source": [
    "First we normalize the continuous features using `MinMax` Scaler. To use `MinMax` we must remove the outliers."
   ]
  },
  {
   "cell_type": "code",
   "execution_count": 25,
   "id": "7e0e0730",
   "metadata": {
    "ExecuteTime": {
     "end_time": "2023-04-16T05:16:58.944254Z",
     "start_time": "2023-04-16T05:16:58.923617Z"
    }
   },
   "outputs": [],
   "source": [
    "# Calculate the interquartile range (IQR) for each column\n",
    "Q1 = df[desc_cols].quantile(0.25)\n",
    "Q3 = df[desc_cols].quantile(0.75)\n",
    "IQR = Q3 - Q1\n",
    "\n",
    "# Define a threshold for outliers\n",
    "threshold = 1.5\n",
    "\n",
    "# Remove rows with outliers\n",
    "df = df[~((df[desc_cols] < (Q1 - threshold * IQR)) | (df[desc_cols] > (Q3 + threshold * IQR))).any(axis=1)]"
   ]
  },
  {
   "cell_type": "code",
   "execution_count": 26,
   "id": "157ae4ae",
   "metadata": {
    "ExecuteTime": {
     "end_time": "2023-04-16T05:16:58.956413Z",
     "start_time": "2023-04-16T05:16:58.944957Z"
    }
   },
   "outputs": [
    {
     "data": {
      "text/plain": [
       "(511, 10)"
      ]
     },
     "execution_count": 26,
     "metadata": {},
     "output_type": "execute_result"
    }
   ],
   "source": [
    "df.shape"
   ]
  },
  {
   "cell_type": "markdown",
   "id": "901627aa",
   "metadata": {},
   "source": [
    "`9` rows were removed!"
   ]
  },
  {
   "cell_type": "markdown",
   "id": "d7d5b10a",
   "metadata": {},
   "source": [
    "### Scaling the features"
   ]
  },
  {
   "cell_type": "code",
   "execution_count": 27,
   "id": "f1352cfe",
   "metadata": {
    "ExecuteTime": {
     "end_time": "2023-04-16T05:16:59.049883Z",
     "start_time": "2023-04-16T05:16:58.956413Z"
    }
   },
   "outputs": [],
   "source": [
    "from sklearn.preprocessing import MinMaxScaler\n",
    "\n",
    "scaler = MinMaxScaler()\n",
    "df[desc_cols] = scaler.fit_transform(df[desc_cols])"
   ]
  },
  {
   "cell_type": "code",
   "execution_count": 28,
   "id": "23a4949b",
   "metadata": {
    "ExecuteTime": {
     "end_time": "2023-04-16T05:16:59.085530Z",
     "start_time": "2023-04-16T05:16:59.051805Z"
    },
    "scrolled": true
   },
   "outputs": [
    {
     "data": {
      "text/html": [
       "<div>\n",
       "<style scoped>\n",
       "    .dataframe tbody tr th:only-of-type {\n",
       "        vertical-align: middle;\n",
       "    }\n",
       "\n",
       "    .dataframe tbody tr th {\n",
       "        vertical-align: top;\n",
       "    }\n",
       "\n",
       "    .dataframe thead th {\n",
       "        text-align: right;\n",
       "    }\n",
       "</style>\n",
       "<table border=\"1\" class=\"dataframe\">\n",
       "  <thead>\n",
       "    <tr style=\"text-align: right;\">\n",
       "      <th></th>\n",
       "      <th>temp</th>\n",
       "      <th>hum</th>\n",
       "      <th>windspeed</th>\n",
       "      <th>cnt</th>\n",
       "    </tr>\n",
       "  </thead>\n",
       "  <tbody>\n",
       "    <tr>\n",
       "      <th>count</th>\n",
       "      <td>511.000000</td>\n",
       "      <td>511.000000</td>\n",
       "      <td>511.000000</td>\n",
       "      <td>511.000000</td>\n",
       "    </tr>\n",
       "    <tr>\n",
       "      <th>mean</th>\n",
       "      <td>0.538568</td>\n",
       "      <td>0.501958</td>\n",
       "      <td>0.460208</td>\n",
       "      <td>0.546078</td>\n",
       "    </tr>\n",
       "    <tr>\n",
       "      <th>std</th>\n",
       "      <td>0.243571</td>\n",
       "      <td>0.200812</td>\n",
       "      <td>0.204696</td>\n",
       "      <td>0.226556</td>\n",
       "    </tr>\n",
       "    <tr>\n",
       "      <th>min</th>\n",
       "      <td>0.000000</td>\n",
       "      <td>0.000000</td>\n",
       "      <td>0.000000</td>\n",
       "      <td>0.000000</td>\n",
       "    </tr>\n",
       "    <tr>\n",
       "      <th>25%</th>\n",
       "      <td>0.324183</td>\n",
       "      <td>0.362027</td>\n",
       "      <td>0.312937</td>\n",
       "      <td>0.394964</td>\n",
       "    </tr>\n",
       "    <tr>\n",
       "      <th>50%</th>\n",
       "      <td>0.555004</td>\n",
       "      <td>0.502442</td>\n",
       "      <td>0.430094</td>\n",
       "      <td>0.547122</td>\n",
       "    </tr>\n",
       "    <tr>\n",
       "      <th>75%</th>\n",
       "      <td>0.744766</td>\n",
       "      <td>0.644383</td>\n",
       "      <td>0.589174</td>\n",
       "      <td>0.721942</td>\n",
       "    </tr>\n",
       "    <tr>\n",
       "      <th>max</th>\n",
       "      <td>1.000000</td>\n",
       "      <td>1.000000</td>\n",
       "      <td>1.000000</td>\n",
       "      <td>1.000000</td>\n",
       "    </tr>\n",
       "  </tbody>\n",
       "</table>\n",
       "</div>"
      ],
      "text/plain": [
       "             temp         hum   windspeed         cnt\n",
       "count  511.000000  511.000000  511.000000  511.000000\n",
       "mean     0.538568    0.501958    0.460208    0.546078\n",
       "std      0.243571    0.200812    0.204696    0.226556\n",
       "min      0.000000    0.000000    0.000000    0.000000\n",
       "25%      0.324183    0.362027    0.312937    0.394964\n",
       "50%      0.555004    0.502442    0.430094    0.547122\n",
       "75%      0.744766    0.644383    0.589174    0.721942\n",
       "max      1.000000    1.000000    1.000000    1.000000"
      ]
     },
     "execution_count": 28,
     "metadata": {},
     "output_type": "execute_result"
    }
   ],
   "source": [
    "df[desc_cols].describe()"
   ]
  },
  {
   "cell_type": "code",
   "execution_count": 29,
   "id": "bfc00a7c",
   "metadata": {
    "ExecuteTime": {
     "end_time": "2023-04-16T05:16:59.117637Z",
     "start_time": "2023-04-16T05:16:59.087436Z"
    }
   },
   "outputs": [
    {
     "data": {
      "text/html": [
       "<div>\n",
       "<style scoped>\n",
       "    .dataframe tbody tr th:only-of-type {\n",
       "        vertical-align: middle;\n",
       "    }\n",
       "\n",
       "    .dataframe tbody tr th {\n",
       "        vertical-align: top;\n",
       "    }\n",
       "\n",
       "    .dataframe thead th {\n",
       "        text-align: right;\n",
       "    }\n",
       "</style>\n",
       "<table border=\"1\" class=\"dataframe\">\n",
       "  <thead>\n",
       "    <tr style=\"text-align: right;\">\n",
       "      <th></th>\n",
       "      <th>season</th>\n",
       "      <th>yr</th>\n",
       "      <th>mnth</th>\n",
       "      <th>holiday</th>\n",
       "      <th>weekday</th>\n",
       "      <th>weathersit</th>\n",
       "      <th>temp</th>\n",
       "      <th>hum</th>\n",
       "      <th>windspeed</th>\n",
       "      <th>cnt</th>\n",
       "    </tr>\n",
       "  </thead>\n",
       "  <tbody>\n",
       "    <tr>\n",
       "      <th>2</th>\n",
       "      <td>1</td>\n",
       "      <td>0</td>\n",
       "      <td>1</td>\n",
       "      <td>0</td>\n",
       "      <td>1</td>\n",
       "      <td>1</td>\n",
       "      <td>0.131798</td>\n",
       "      <td>0.215785</td>\n",
       "      <td>0.635105</td>\n",
       "      <td>0.159113</td>\n",
       "    </tr>\n",
       "    <tr>\n",
       "      <th>3</th>\n",
       "      <td>1</td>\n",
       "      <td>0</td>\n",
       "      <td>1</td>\n",
       "      <td>0</td>\n",
       "      <td>2</td>\n",
       "      <td>1</td>\n",
       "      <td>0.136640</td>\n",
       "      <td>0.440198</td>\n",
       "      <td>0.387681</td>\n",
       "      <td>0.184652</td>\n",
       "    </tr>\n",
       "    <tr>\n",
       "      <th>4</th>\n",
       "      <td>1</td>\n",
       "      <td>0</td>\n",
       "      <td>1</td>\n",
       "      <td>0</td>\n",
       "      <td>3</td>\n",
       "      <td>1</td>\n",
       "      <td>0.172538</td>\n",
       "      <td>0.215322</td>\n",
       "      <td>0.462471</td>\n",
       "      <td>0.189209</td>\n",
       "    </tr>\n",
       "    <tr>\n",
       "      <th>5</th>\n",
       "      <td>1</td>\n",
       "      <td>0</td>\n",
       "      <td>1</td>\n",
       "      <td>0</td>\n",
       "      <td>4</td>\n",
       "      <td>1</td>\n",
       "      <td>0.142430</td>\n",
       "      <td>0.334448</td>\n",
       "      <td>0.188840</td>\n",
       "      <td>0.189928</td>\n",
       "    </tr>\n",
       "    <tr>\n",
       "      <th>6</th>\n",
       "      <td>1</td>\n",
       "      <td>0</td>\n",
       "      <td>1</td>\n",
       "      <td>0</td>\n",
       "      <td>5</td>\n",
       "      <td>2</td>\n",
       "      <td>0.132009</td>\n",
       "      <td>0.305782</td>\n",
       "      <td>0.411379</td>\n",
       "      <td>0.178417</td>\n",
       "    </tr>\n",
       "  </tbody>\n",
       "</table>\n",
       "</div>"
      ],
      "text/plain": [
       "   season  yr  mnth  holiday  weekday  weathersit      temp       hum  \\\n",
       "2       1   0     1        0        1           1  0.131798  0.215785   \n",
       "3       1   0     1        0        2           1  0.136640  0.440198   \n",
       "4       1   0     1        0        3           1  0.172538  0.215322   \n",
       "5       1   0     1        0        4           1  0.142430  0.334448   \n",
       "6       1   0     1        0        5           2  0.132009  0.305782   \n",
       "\n",
       "   windspeed       cnt  \n",
       "2   0.635105  0.159113  \n",
       "3   0.387681  0.184652  \n",
       "4   0.462471  0.189209  \n",
       "5   0.188840  0.189928  \n",
       "6   0.411379  0.178417  "
      ]
     },
     "execution_count": 29,
     "metadata": {},
     "output_type": "execute_result"
    }
   ],
   "source": [
    "df.head()"
   ]
  },
  {
   "cell_type": "markdown",
   "id": "5c608cab",
   "metadata": {},
   "source": [
    "### One Hot Encoding"
   ]
  },
  {
   "cell_type": "code",
   "execution_count": 30,
   "id": "f527a138",
   "metadata": {
    "ExecuteTime": {
     "end_time": "2023-04-16T05:16:59.156256Z",
     "start_time": "2023-04-16T05:16:59.119624Z"
    }
   },
   "outputs": [
    {
     "data": {
      "text/html": [
       "<div>\n",
       "<style scoped>\n",
       "    .dataframe tbody tr th:only-of-type {\n",
       "        vertical-align: middle;\n",
       "    }\n",
       "\n",
       "    .dataframe tbody tr th {\n",
       "        vertical-align: top;\n",
       "    }\n",
       "\n",
       "    .dataframe thead th {\n",
       "        text-align: right;\n",
       "    }\n",
       "</style>\n",
       "<table border=\"1\" class=\"dataframe\">\n",
       "  <thead>\n",
       "    <tr style=\"text-align: right;\">\n",
       "      <th></th>\n",
       "      <th>temp</th>\n",
       "      <th>hum</th>\n",
       "      <th>windspeed</th>\n",
       "      <th>cnt</th>\n",
       "      <th>season_2</th>\n",
       "      <th>season_3</th>\n",
       "      <th>season_4</th>\n",
       "      <th>yr_1</th>\n",
       "      <th>mnth_2</th>\n",
       "      <th>mnth_3</th>\n",
       "      <th>...</th>\n",
       "      <th>mnth_10</th>\n",
       "      <th>mnth_11</th>\n",
       "      <th>mnth_12</th>\n",
       "      <th>holiday_1</th>\n",
       "      <th>weekday_2</th>\n",
       "      <th>weekday_3</th>\n",
       "      <th>weekday_4</th>\n",
       "      <th>weekday_5</th>\n",
       "      <th>weathersit_2</th>\n",
       "      <th>weathersit_3</th>\n",
       "    </tr>\n",
       "  </thead>\n",
       "  <tbody>\n",
       "    <tr>\n",
       "      <th>2</th>\n",
       "      <td>0.131798</td>\n",
       "      <td>0.215785</td>\n",
       "      <td>0.635105</td>\n",
       "      <td>0.159113</td>\n",
       "      <td>0</td>\n",
       "      <td>0</td>\n",
       "      <td>0</td>\n",
       "      <td>0</td>\n",
       "      <td>0</td>\n",
       "      <td>0</td>\n",
       "      <td>...</td>\n",
       "      <td>0</td>\n",
       "      <td>0</td>\n",
       "      <td>0</td>\n",
       "      <td>0</td>\n",
       "      <td>0</td>\n",
       "      <td>0</td>\n",
       "      <td>0</td>\n",
       "      <td>0</td>\n",
       "      <td>0</td>\n",
       "      <td>0</td>\n",
       "    </tr>\n",
       "    <tr>\n",
       "      <th>3</th>\n",
       "      <td>0.136640</td>\n",
       "      <td>0.440198</td>\n",
       "      <td>0.387681</td>\n",
       "      <td>0.184652</td>\n",
       "      <td>0</td>\n",
       "      <td>0</td>\n",
       "      <td>0</td>\n",
       "      <td>0</td>\n",
       "      <td>0</td>\n",
       "      <td>0</td>\n",
       "      <td>...</td>\n",
       "      <td>0</td>\n",
       "      <td>0</td>\n",
       "      <td>0</td>\n",
       "      <td>0</td>\n",
       "      <td>1</td>\n",
       "      <td>0</td>\n",
       "      <td>0</td>\n",
       "      <td>0</td>\n",
       "      <td>0</td>\n",
       "      <td>0</td>\n",
       "    </tr>\n",
       "    <tr>\n",
       "      <th>4</th>\n",
       "      <td>0.172538</td>\n",
       "      <td>0.215322</td>\n",
       "      <td>0.462471</td>\n",
       "      <td>0.189209</td>\n",
       "      <td>0</td>\n",
       "      <td>0</td>\n",
       "      <td>0</td>\n",
       "      <td>0</td>\n",
       "      <td>0</td>\n",
       "      <td>0</td>\n",
       "      <td>...</td>\n",
       "      <td>0</td>\n",
       "      <td>0</td>\n",
       "      <td>0</td>\n",
       "      <td>0</td>\n",
       "      <td>0</td>\n",
       "      <td>1</td>\n",
       "      <td>0</td>\n",
       "      <td>0</td>\n",
       "      <td>0</td>\n",
       "      <td>0</td>\n",
       "    </tr>\n",
       "    <tr>\n",
       "      <th>5</th>\n",
       "      <td>0.142430</td>\n",
       "      <td>0.334448</td>\n",
       "      <td>0.188840</td>\n",
       "      <td>0.189928</td>\n",
       "      <td>0</td>\n",
       "      <td>0</td>\n",
       "      <td>0</td>\n",
       "      <td>0</td>\n",
       "      <td>0</td>\n",
       "      <td>0</td>\n",
       "      <td>...</td>\n",
       "      <td>0</td>\n",
       "      <td>0</td>\n",
       "      <td>0</td>\n",
       "      <td>0</td>\n",
       "      <td>0</td>\n",
       "      <td>0</td>\n",
       "      <td>1</td>\n",
       "      <td>0</td>\n",
       "      <td>0</td>\n",
       "      <td>0</td>\n",
       "    </tr>\n",
       "    <tr>\n",
       "      <th>6</th>\n",
       "      <td>0.132009</td>\n",
       "      <td>0.305782</td>\n",
       "      <td>0.411379</td>\n",
       "      <td>0.178417</td>\n",
       "      <td>0</td>\n",
       "      <td>0</td>\n",
       "      <td>0</td>\n",
       "      <td>0</td>\n",
       "      <td>0</td>\n",
       "      <td>0</td>\n",
       "      <td>...</td>\n",
       "      <td>0</td>\n",
       "      <td>0</td>\n",
       "      <td>0</td>\n",
       "      <td>0</td>\n",
       "      <td>0</td>\n",
       "      <td>0</td>\n",
       "      <td>0</td>\n",
       "      <td>1</td>\n",
       "      <td>1</td>\n",
       "      <td>0</td>\n",
       "    </tr>\n",
       "  </tbody>\n",
       "</table>\n",
       "<p>5 rows × 26 columns</p>\n",
       "</div>"
      ],
      "text/plain": [
       "       temp       hum  windspeed       cnt  season_2  season_3  season_4  \\\n",
       "2  0.131798  0.215785   0.635105  0.159113         0         0         0   \n",
       "3  0.136640  0.440198   0.387681  0.184652         0         0         0   \n",
       "4  0.172538  0.215322   0.462471  0.189209         0         0         0   \n",
       "5  0.142430  0.334448   0.188840  0.189928         0         0         0   \n",
       "6  0.132009  0.305782   0.411379  0.178417         0         0         0   \n",
       "\n",
       "   yr_1  mnth_2  mnth_3  ...  mnth_10  mnth_11  mnth_12  holiday_1  weekday_2  \\\n",
       "2     0       0       0  ...        0        0        0          0          0   \n",
       "3     0       0       0  ...        0        0        0          0          1   \n",
       "4     0       0       0  ...        0        0        0          0          0   \n",
       "5     0       0       0  ...        0        0        0          0          0   \n",
       "6     0       0       0  ...        0        0        0          0          0   \n",
       "\n",
       "   weekday_3  weekday_4  weekday_5  weathersit_2  weathersit_3  \n",
       "2          0          0          0             0             0  \n",
       "3          0          0          0             0             0  \n",
       "4          1          0          0             0             0  \n",
       "5          0          1          0             0             0  \n",
       "6          0          0          1             1             0  \n",
       "\n",
       "[5 rows x 26 columns]"
      ]
     },
     "execution_count": 30,
     "metadata": {},
     "output_type": "execute_result"
    }
   ],
   "source": [
    "df = pd.get_dummies(df, columns = cat_cols, drop_first = True)\n",
    "df.head()"
   ]
  },
  {
   "cell_type": "code",
   "execution_count": 31,
   "id": "4b1e5c91",
   "metadata": {
    "ExecuteTime": {
     "end_time": "2023-04-16T05:16:59.170689Z",
     "start_time": "2023-04-16T05:16:59.158256Z"
    }
   },
   "outputs": [
    {
     "data": {
      "text/plain": [
       "(511, 26)"
      ]
     },
     "execution_count": 31,
     "metadata": {},
     "output_type": "execute_result"
    }
   ],
   "source": [
    "df.shape"
   ]
  },
  {
   "cell_type": "code",
   "execution_count": 32,
   "id": "719b64d1",
   "metadata": {
    "ExecuteTime": {
     "end_time": "2023-04-16T05:16:59.186233Z",
     "start_time": "2023-04-16T05:16:59.171373Z"
    }
   },
   "outputs": [
    {
     "data": {
      "text/plain": [
       "Index(['temp', 'hum', 'windspeed', 'cnt', 'season_2', 'season_3', 'season_4',\n",
       "       'yr_1', 'mnth_2', 'mnth_3', 'mnth_4', 'mnth_5', 'mnth_6', 'mnth_7',\n",
       "       'mnth_8', 'mnth_9', 'mnth_10', 'mnth_11', 'mnth_12', 'holiday_1',\n",
       "       'weekday_2', 'weekday_3', 'weekday_4', 'weekday_5', 'weathersit_2',\n",
       "       'weathersit_3'],\n",
       "      dtype='object')"
      ]
     },
     "execution_count": 32,
     "metadata": {},
     "output_type": "execute_result"
    }
   ],
   "source": [
    "df.columns"
   ]
  },
  {
   "cell_type": "markdown",
   "id": "f87b6d8f",
   "metadata": {},
   "source": [
    "Now we define X and y for model training. Target variable (y) is `cnt` and rest of the column are input features."
   ]
  },
  {
   "cell_type": "code",
   "execution_count": 33,
   "id": "2ea60f7f",
   "metadata": {
    "ExecuteTime": {
     "end_time": "2023-04-16T05:16:59.206082Z",
     "start_time": "2023-04-16T05:16:59.187341Z"
    },
    "scrolled": true
   },
   "outputs": [
    {
     "data": {
      "text/plain": [
       "2    0.159113\n",
       "3    0.184652\n",
       "4    0.189209\n",
       "5    0.189928\n",
       "6    0.178417\n",
       "Name: cnt, dtype: float64"
      ]
     },
     "execution_count": 33,
     "metadata": {},
     "output_type": "execute_result"
    }
   ],
   "source": [
    "y = df.pop('cnt')\n",
    "y.head()"
   ]
  },
  {
   "cell_type": "code",
   "execution_count": 34,
   "id": "f2d035ba",
   "metadata": {
    "ExecuteTime": {
     "end_time": "2023-04-16T05:16:59.235341Z",
     "start_time": "2023-04-16T05:16:59.206082Z"
    }
   },
   "outputs": [
    {
     "data": {
      "text/html": [
       "<div>\n",
       "<style scoped>\n",
       "    .dataframe tbody tr th:only-of-type {\n",
       "        vertical-align: middle;\n",
       "    }\n",
       "\n",
       "    .dataframe tbody tr th {\n",
       "        vertical-align: top;\n",
       "    }\n",
       "\n",
       "    .dataframe thead th {\n",
       "        text-align: right;\n",
       "    }\n",
       "</style>\n",
       "<table border=\"1\" class=\"dataframe\">\n",
       "  <thead>\n",
       "    <tr style=\"text-align: right;\">\n",
       "      <th></th>\n",
       "      <th>temp</th>\n",
       "      <th>hum</th>\n",
       "      <th>windspeed</th>\n",
       "      <th>season_2</th>\n",
       "      <th>season_3</th>\n",
       "      <th>season_4</th>\n",
       "      <th>yr_1</th>\n",
       "      <th>mnth_2</th>\n",
       "      <th>mnth_3</th>\n",
       "      <th>mnth_4</th>\n",
       "      <th>...</th>\n",
       "      <th>mnth_10</th>\n",
       "      <th>mnth_11</th>\n",
       "      <th>mnth_12</th>\n",
       "      <th>holiday_1</th>\n",
       "      <th>weekday_2</th>\n",
       "      <th>weekday_3</th>\n",
       "      <th>weekday_4</th>\n",
       "      <th>weekday_5</th>\n",
       "      <th>weathersit_2</th>\n",
       "      <th>weathersit_3</th>\n",
       "    </tr>\n",
       "  </thead>\n",
       "  <tbody>\n",
       "    <tr>\n",
       "      <th>2</th>\n",
       "      <td>0.131798</td>\n",
       "      <td>0.215785</td>\n",
       "      <td>0.635105</td>\n",
       "      <td>0</td>\n",
       "      <td>0</td>\n",
       "      <td>0</td>\n",
       "      <td>0</td>\n",
       "      <td>0</td>\n",
       "      <td>0</td>\n",
       "      <td>0</td>\n",
       "      <td>...</td>\n",
       "      <td>0</td>\n",
       "      <td>0</td>\n",
       "      <td>0</td>\n",
       "      <td>0</td>\n",
       "      <td>0</td>\n",
       "      <td>0</td>\n",
       "      <td>0</td>\n",
       "      <td>0</td>\n",
       "      <td>0</td>\n",
       "      <td>0</td>\n",
       "    </tr>\n",
       "    <tr>\n",
       "      <th>3</th>\n",
       "      <td>0.136640</td>\n",
       "      <td>0.440198</td>\n",
       "      <td>0.387681</td>\n",
       "      <td>0</td>\n",
       "      <td>0</td>\n",
       "      <td>0</td>\n",
       "      <td>0</td>\n",
       "      <td>0</td>\n",
       "      <td>0</td>\n",
       "      <td>0</td>\n",
       "      <td>...</td>\n",
       "      <td>0</td>\n",
       "      <td>0</td>\n",
       "      <td>0</td>\n",
       "      <td>0</td>\n",
       "      <td>1</td>\n",
       "      <td>0</td>\n",
       "      <td>0</td>\n",
       "      <td>0</td>\n",
       "      <td>0</td>\n",
       "      <td>0</td>\n",
       "    </tr>\n",
       "    <tr>\n",
       "      <th>4</th>\n",
       "      <td>0.172538</td>\n",
       "      <td>0.215322</td>\n",
       "      <td>0.462471</td>\n",
       "      <td>0</td>\n",
       "      <td>0</td>\n",
       "      <td>0</td>\n",
       "      <td>0</td>\n",
       "      <td>0</td>\n",
       "      <td>0</td>\n",
       "      <td>0</td>\n",
       "      <td>...</td>\n",
       "      <td>0</td>\n",
       "      <td>0</td>\n",
       "      <td>0</td>\n",
       "      <td>0</td>\n",
       "      <td>0</td>\n",
       "      <td>1</td>\n",
       "      <td>0</td>\n",
       "      <td>0</td>\n",
       "      <td>0</td>\n",
       "      <td>0</td>\n",
       "    </tr>\n",
       "    <tr>\n",
       "      <th>5</th>\n",
       "      <td>0.142430</td>\n",
       "      <td>0.334448</td>\n",
       "      <td>0.188840</td>\n",
       "      <td>0</td>\n",
       "      <td>0</td>\n",
       "      <td>0</td>\n",
       "      <td>0</td>\n",
       "      <td>0</td>\n",
       "      <td>0</td>\n",
       "      <td>0</td>\n",
       "      <td>...</td>\n",
       "      <td>0</td>\n",
       "      <td>0</td>\n",
       "      <td>0</td>\n",
       "      <td>0</td>\n",
       "      <td>0</td>\n",
       "      <td>0</td>\n",
       "      <td>1</td>\n",
       "      <td>0</td>\n",
       "      <td>0</td>\n",
       "      <td>0</td>\n",
       "    </tr>\n",
       "    <tr>\n",
       "      <th>6</th>\n",
       "      <td>0.132009</td>\n",
       "      <td>0.305782</td>\n",
       "      <td>0.411379</td>\n",
       "      <td>0</td>\n",
       "      <td>0</td>\n",
       "      <td>0</td>\n",
       "      <td>0</td>\n",
       "      <td>0</td>\n",
       "      <td>0</td>\n",
       "      <td>0</td>\n",
       "      <td>...</td>\n",
       "      <td>0</td>\n",
       "      <td>0</td>\n",
       "      <td>0</td>\n",
       "      <td>0</td>\n",
       "      <td>0</td>\n",
       "      <td>0</td>\n",
       "      <td>0</td>\n",
       "      <td>1</td>\n",
       "      <td>1</td>\n",
       "      <td>0</td>\n",
       "    </tr>\n",
       "  </tbody>\n",
       "</table>\n",
       "<p>5 rows × 25 columns</p>\n",
       "</div>"
      ],
      "text/plain": [
       "       temp       hum  windspeed  season_2  season_3  season_4  yr_1  mnth_2  \\\n",
       "2  0.131798  0.215785   0.635105         0         0         0     0       0   \n",
       "3  0.136640  0.440198   0.387681         0         0         0     0       0   \n",
       "4  0.172538  0.215322   0.462471         0         0         0     0       0   \n",
       "5  0.142430  0.334448   0.188840         0         0         0     0       0   \n",
       "6  0.132009  0.305782   0.411379         0         0         0     0       0   \n",
       "\n",
       "   mnth_3  mnth_4  ...  mnth_10  mnth_11  mnth_12  holiday_1  weekday_2  \\\n",
       "2       0       0  ...        0        0        0          0          0   \n",
       "3       0       0  ...        0        0        0          0          1   \n",
       "4       0       0  ...        0        0        0          0          0   \n",
       "5       0       0  ...        0        0        0          0          0   \n",
       "6       0       0  ...        0        0        0          0          0   \n",
       "\n",
       "   weekday_3  weekday_4  weekday_5  weathersit_2  weathersit_3  \n",
       "2          0          0          0             0             0  \n",
       "3          0          0          0             0             0  \n",
       "4          1          0          0             0             0  \n",
       "5          0          1          0             0             0  \n",
       "6          0          0          1             1             0  \n",
       "\n",
       "[5 rows x 25 columns]"
      ]
     },
     "execution_count": 34,
     "metadata": {},
     "output_type": "execute_result"
    }
   ],
   "source": [
    "X = df\n",
    "X.head()"
   ]
  },
  {
   "cell_type": "markdown",
   "id": "126b0a34",
   "metadata": {},
   "source": [
    "### Train Test split"
   ]
  },
  {
   "cell_type": "code",
   "execution_count": 35,
   "id": "1981be25",
   "metadata": {
    "ExecuteTime": {
     "end_time": "2023-04-16T05:16:59.286022Z",
     "start_time": "2023-04-16T05:16:59.236494Z"
    }
   },
   "outputs": [],
   "source": [
    "from sklearn.model_selection import train_test_split\n",
    "X_train, X_test, y_train, y_test = train_test_split(X, y, test_size = 0.2, random_state = 1)"
   ]
  },
  {
   "cell_type": "code",
   "execution_count": 36,
   "id": "994410ec",
   "metadata": {
    "ExecuteTime": {
     "end_time": "2023-04-16T05:16:59.316909Z",
     "start_time": "2023-04-16T05:16:59.287930Z"
    },
    "scrolled": true
   },
   "outputs": [
    {
     "data": {
      "text/html": [
       "<div>\n",
       "<style scoped>\n",
       "    .dataframe tbody tr th:only-of-type {\n",
       "        vertical-align: middle;\n",
       "    }\n",
       "\n",
       "    .dataframe tbody tr th {\n",
       "        vertical-align: top;\n",
       "    }\n",
       "\n",
       "    .dataframe thead th {\n",
       "        text-align: right;\n",
       "    }\n",
       "</style>\n",
       "<table border=\"1\" class=\"dataframe\">\n",
       "  <thead>\n",
       "    <tr style=\"text-align: right;\">\n",
       "      <th></th>\n",
       "      <th>temp</th>\n",
       "      <th>hum</th>\n",
       "      <th>windspeed</th>\n",
       "      <th>season_2</th>\n",
       "      <th>season_3</th>\n",
       "      <th>season_4</th>\n",
       "      <th>yr_1</th>\n",
       "      <th>mnth_2</th>\n",
       "      <th>mnth_3</th>\n",
       "      <th>mnth_4</th>\n",
       "      <th>...</th>\n",
       "      <th>mnth_10</th>\n",
       "      <th>mnth_11</th>\n",
       "      <th>mnth_12</th>\n",
       "      <th>holiday_1</th>\n",
       "      <th>weekday_2</th>\n",
       "      <th>weekday_3</th>\n",
       "      <th>weekday_4</th>\n",
       "      <th>weekday_5</th>\n",
       "      <th>weathersit_2</th>\n",
       "      <th>weathersit_3</th>\n",
       "    </tr>\n",
       "  </thead>\n",
       "  <tbody>\n",
       "    <tr>\n",
       "      <th>61</th>\n",
       "      <td>0.134420</td>\n",
       "      <td>0.041514</td>\n",
       "      <td>0.571698</td>\n",
       "      <td>0</td>\n",
       "      <td>0</td>\n",
       "      <td>0</td>\n",
       "      <td>0</td>\n",
       "      <td>0</td>\n",
       "      <td>1</td>\n",
       "      <td>0</td>\n",
       "      <td>...</td>\n",
       "      <td>0</td>\n",
       "      <td>0</td>\n",
       "      <td>0</td>\n",
       "      <td>0</td>\n",
       "      <td>0</td>\n",
       "      <td>0</td>\n",
       "      <td>1</td>\n",
       "      <td>0</td>\n",
       "      <td>0</td>\n",
       "      <td>0</td>\n",
       "    </tr>\n",
       "    <tr>\n",
       "      <th>86</th>\n",
       "      <td>0.222330</td>\n",
       "      <td>0.017837</td>\n",
       "      <td>0.533606</td>\n",
       "      <td>1</td>\n",
       "      <td>0</td>\n",
       "      <td>0</td>\n",
       "      <td>0</td>\n",
       "      <td>0</td>\n",
       "      <td>1</td>\n",
       "      <td>0</td>\n",
       "      <td>...</td>\n",
       "      <td>0</td>\n",
       "      <td>0</td>\n",
       "      <td>0</td>\n",
       "      <td>0</td>\n",
       "      <td>0</td>\n",
       "      <td>0</td>\n",
       "      <td>0</td>\n",
       "      <td>0</td>\n",
       "      <td>0</td>\n",
       "      <td>0</td>\n",
       "    </tr>\n",
       "    <tr>\n",
       "      <th>652</th>\n",
       "      <td>0.618258</td>\n",
       "      <td>0.611722</td>\n",
       "      <td>0.769280</td>\n",
       "      <td>0</td>\n",
       "      <td>0</td>\n",
       "      <td>1</td>\n",
       "      <td>1</td>\n",
       "      <td>0</td>\n",
       "      <td>0</td>\n",
       "      <td>0</td>\n",
       "      <td>...</td>\n",
       "      <td>1</td>\n",
       "      <td>0</td>\n",
       "      <td>0</td>\n",
       "      <td>0</td>\n",
       "      <td>0</td>\n",
       "      <td>0</td>\n",
       "      <td>0</td>\n",
       "      <td>0</td>\n",
       "      <td>1</td>\n",
       "      <td>0</td>\n",
       "    </tr>\n",
       "    <tr>\n",
       "      <th>116</th>\n",
       "      <td>0.695938</td>\n",
       "      <td>0.799146</td>\n",
       "      <td>0.814718</td>\n",
       "      <td>1</td>\n",
       "      <td>0</td>\n",
       "      <td>0</td>\n",
       "      <td>0</td>\n",
       "      <td>0</td>\n",
       "      <td>0</td>\n",
       "      <td>1</td>\n",
       "      <td>...</td>\n",
       "      <td>0</td>\n",
       "      <td>0</td>\n",
       "      <td>0</td>\n",
       "      <td>0</td>\n",
       "      <td>0</td>\n",
       "      <td>1</td>\n",
       "      <td>0</td>\n",
       "      <td>0</td>\n",
       "      <td>1</td>\n",
       "      <td>0</td>\n",
       "    </tr>\n",
       "    <tr>\n",
       "      <th>691</th>\n",
       "      <td>0.360803</td>\n",
       "      <td>0.408425</td>\n",
       "      <td>0.353173</td>\n",
       "      <td>0</td>\n",
       "      <td>0</td>\n",
       "      <td>1</td>\n",
       "      <td>1</td>\n",
       "      <td>0</td>\n",
       "      <td>0</td>\n",
       "      <td>0</td>\n",
       "      <td>...</td>\n",
       "      <td>0</td>\n",
       "      <td>1</td>\n",
       "      <td>0</td>\n",
       "      <td>0</td>\n",
       "      <td>0</td>\n",
       "      <td>0</td>\n",
       "      <td>0</td>\n",
       "      <td>1</td>\n",
       "      <td>0</td>\n",
       "      <td>0</td>\n",
       "    </tr>\n",
       "  </tbody>\n",
       "</table>\n",
       "<p>5 rows × 25 columns</p>\n",
       "</div>"
      ],
      "text/plain": [
       "         temp       hum  windspeed  season_2  season_3  season_4  yr_1  \\\n",
       "61   0.134420  0.041514   0.571698         0         0         0     0   \n",
       "86   0.222330  0.017837   0.533606         1         0         0     0   \n",
       "652  0.618258  0.611722   0.769280         0         0         1     1   \n",
       "116  0.695938  0.799146   0.814718         1         0         0     0   \n",
       "691  0.360803  0.408425   0.353173         0         0         1     1   \n",
       "\n",
       "     mnth_2  mnth_3  mnth_4  ...  mnth_10  mnth_11  mnth_12  holiday_1  \\\n",
       "61        0       1       0  ...        0        0        0          0   \n",
       "86        0       1       0  ...        0        0        0          0   \n",
       "652       0       0       0  ...        1        0        0          0   \n",
       "116       0       0       1  ...        0        0        0          0   \n",
       "691       0       0       0  ...        0        1        0          0   \n",
       "\n",
       "     weekday_2  weekday_3  weekday_4  weekday_5  weathersit_2  weathersit_3  \n",
       "61           0          0          1          0             0             0  \n",
       "86           0          0          0          0             0             0  \n",
       "652          0          0          0          0             1             0  \n",
       "116          0          1          0          0             1             0  \n",
       "691          0          0          0          1             0             0  \n",
       "\n",
       "[5 rows x 25 columns]"
      ]
     },
     "execution_count": 36,
     "metadata": {},
     "output_type": "execute_result"
    }
   ],
   "source": [
    "X_train.head()"
   ]
  },
  {
   "cell_type": "code",
   "execution_count": 37,
   "id": "75f61dd8",
   "metadata": {
    "ExecuteTime": {
     "end_time": "2023-04-16T05:16:59.326185Z",
     "start_time": "2023-04-16T05:16:59.317926Z"
    }
   },
   "outputs": [
    {
     "data": {
      "text/plain": [
       "(408, 25)"
      ]
     },
     "execution_count": 37,
     "metadata": {},
     "output_type": "execute_result"
    }
   ],
   "source": [
    "X_train.shape"
   ]
  },
  {
   "cell_type": "code",
   "execution_count": 38,
   "id": "077053f6",
   "metadata": {
    "ExecuteTime": {
     "end_time": "2023-04-16T05:16:59.357712Z",
     "start_time": "2023-04-16T05:16:59.326185Z"
    }
   },
   "outputs": [
    {
     "data": {
      "text/html": [
       "<div>\n",
       "<style scoped>\n",
       "    .dataframe tbody tr th:only-of-type {\n",
       "        vertical-align: middle;\n",
       "    }\n",
       "\n",
       "    .dataframe tbody tr th {\n",
       "        vertical-align: top;\n",
       "    }\n",
       "\n",
       "    .dataframe thead th {\n",
       "        text-align: right;\n",
       "    }\n",
       "</style>\n",
       "<table border=\"1\" class=\"dataframe\">\n",
       "  <thead>\n",
       "    <tr style=\"text-align: right;\">\n",
       "      <th></th>\n",
       "      <th>temp</th>\n",
       "      <th>hum</th>\n",
       "      <th>windspeed</th>\n",
       "      <th>season_2</th>\n",
       "      <th>season_3</th>\n",
       "      <th>season_4</th>\n",
       "      <th>yr_1</th>\n",
       "      <th>mnth_2</th>\n",
       "      <th>mnth_3</th>\n",
       "      <th>mnth_4</th>\n",
       "      <th>...</th>\n",
       "      <th>mnth_10</th>\n",
       "      <th>mnth_11</th>\n",
       "      <th>mnth_12</th>\n",
       "      <th>holiday_1</th>\n",
       "      <th>weekday_2</th>\n",
       "      <th>weekday_3</th>\n",
       "      <th>weekday_4</th>\n",
       "      <th>weekday_5</th>\n",
       "      <th>weathersit_2</th>\n",
       "      <th>weathersit_3</th>\n",
       "    </tr>\n",
       "  </thead>\n",
       "  <tbody>\n",
       "    <tr>\n",
       "      <th>69</th>\n",
       "      <td>0.291808</td>\n",
       "      <td>0.526835</td>\n",
       "      <td>0.591984</td>\n",
       "      <td>0</td>\n",
       "      <td>0</td>\n",
       "      <td>0</td>\n",
       "      <td>0</td>\n",
       "      <td>0</td>\n",
       "      <td>1</td>\n",
       "      <td>0</td>\n",
       "      <td>...</td>\n",
       "      <td>0</td>\n",
       "      <td>0</td>\n",
       "      <td>0</td>\n",
       "      <td>0</td>\n",
       "      <td>0</td>\n",
       "      <td>0</td>\n",
       "      <td>0</td>\n",
       "      <td>1</td>\n",
       "      <td>1</td>\n",
       "      <td>0</td>\n",
       "    </tr>\n",
       "    <tr>\n",
       "      <th>498</th>\n",
       "      <td>0.633793</td>\n",
       "      <td>0.731990</td>\n",
       "      <td>0.534978</td>\n",
       "      <td>1</td>\n",
       "      <td>0</td>\n",
       "      <td>0</td>\n",
       "      <td>1</td>\n",
       "      <td>0</td>\n",
       "      <td>0</td>\n",
       "      <td>0</td>\n",
       "      <td>...</td>\n",
       "      <td>0</td>\n",
       "      <td>0</td>\n",
       "      <td>0</td>\n",
       "      <td>0</td>\n",
       "      <td>0</td>\n",
       "      <td>0</td>\n",
       "      <td>0</td>\n",
       "      <td>0</td>\n",
       "      <td>1</td>\n",
       "      <td>0</td>\n",
       "    </tr>\n",
       "    <tr>\n",
       "      <th>408</th>\n",
       "      <td>0.166602</td>\n",
       "      <td>0.177656</td>\n",
       "      <td>0.407323</td>\n",
       "      <td>0</td>\n",
       "      <td>0</td>\n",
       "      <td>0</td>\n",
       "      <td>1</td>\n",
       "      <td>1</td>\n",
       "      <td>0</td>\n",
       "      <td>0</td>\n",
       "      <td>...</td>\n",
       "      <td>0</td>\n",
       "      <td>0</td>\n",
       "      <td>0</td>\n",
       "      <td>0</td>\n",
       "      <td>0</td>\n",
       "      <td>0</td>\n",
       "      <td>0</td>\n",
       "      <td>0</td>\n",
       "      <td>0</td>\n",
       "      <td>0</td>\n",
       "    </tr>\n",
       "    <tr>\n",
       "      <th>318</th>\n",
       "      <td>0.576088</td>\n",
       "      <td>0.584249</td>\n",
       "      <td>0.498266</td>\n",
       "      <td>0</td>\n",
       "      <td>0</td>\n",
       "      <td>1</td>\n",
       "      <td>0</td>\n",
       "      <td>0</td>\n",
       "      <td>0</td>\n",
       "      <td>0</td>\n",
       "      <td>...</td>\n",
       "      <td>0</td>\n",
       "      <td>1</td>\n",
       "      <td>0</td>\n",
       "      <td>0</td>\n",
       "      <td>1</td>\n",
       "      <td>0</td>\n",
       "      <td>0</td>\n",
       "      <td>0</td>\n",
       "      <td>1</td>\n",
       "      <td>0</td>\n",
       "    </tr>\n",
       "    <tr>\n",
       "      <th>717</th>\n",
       "      <td>0.313085</td>\n",
       "      <td>0.491453</td>\n",
       "      <td>0.454577</td>\n",
       "      <td>0</td>\n",
       "      <td>0</td>\n",
       "      <td>1</td>\n",
       "      <td>1</td>\n",
       "      <td>0</td>\n",
       "      <td>0</td>\n",
       "      <td>0</td>\n",
       "      <td>...</td>\n",
       "      <td>0</td>\n",
       "      <td>0</td>\n",
       "      <td>1</td>\n",
       "      <td>0</td>\n",
       "      <td>0</td>\n",
       "      <td>1</td>\n",
       "      <td>0</td>\n",
       "      <td>0</td>\n",
       "      <td>0</td>\n",
       "      <td>0</td>\n",
       "    </tr>\n",
       "  </tbody>\n",
       "</table>\n",
       "<p>5 rows × 25 columns</p>\n",
       "</div>"
      ],
      "text/plain": [
       "         temp       hum  windspeed  season_2  season_3  season_4  yr_1  \\\n",
       "69   0.291808  0.526835   0.591984         0         0         0     0   \n",
       "498  0.633793  0.731990   0.534978         1         0         0     1   \n",
       "408  0.166602  0.177656   0.407323         0         0         0     1   \n",
       "318  0.576088  0.584249   0.498266         0         0         1     0   \n",
       "717  0.313085  0.491453   0.454577         0         0         1     1   \n",
       "\n",
       "     mnth_2  mnth_3  mnth_4  ...  mnth_10  mnth_11  mnth_12  holiday_1  \\\n",
       "69        0       1       0  ...        0        0        0          0   \n",
       "498       0       0       0  ...        0        0        0          0   \n",
       "408       1       0       0  ...        0        0        0          0   \n",
       "318       0       0       0  ...        0        1        0          0   \n",
       "717       0       0       0  ...        0        0        1          0   \n",
       "\n",
       "     weekday_2  weekday_3  weekday_4  weekday_5  weathersit_2  weathersit_3  \n",
       "69           0          0          0          1             1             0  \n",
       "498          0          0          0          0             1             0  \n",
       "408          0          0          0          0             0             0  \n",
       "318          1          0          0          0             1             0  \n",
       "717          0          1          0          0             0             0  \n",
       "\n",
       "[5 rows x 25 columns]"
      ]
     },
     "execution_count": 38,
     "metadata": {},
     "output_type": "execute_result"
    }
   ],
   "source": [
    "X_test.head()"
   ]
  },
  {
   "cell_type": "code",
   "execution_count": 39,
   "id": "b09fb3d4",
   "metadata": {
    "ExecuteTime": {
     "end_time": "2023-04-16T05:16:59.370866Z",
     "start_time": "2023-04-16T05:16:59.357712Z"
    }
   },
   "outputs": [
    {
     "data": {
      "text/plain": [
       "(103, 25)"
      ]
     },
     "execution_count": 39,
     "metadata": {},
     "output_type": "execute_result"
    }
   ],
   "source": [
    "X_test.shape"
   ]
  },
  {
   "cell_type": "code",
   "execution_count": 40,
   "id": "6645c3ce",
   "metadata": {
    "ExecuteTime": {
     "end_time": "2023-04-16T05:16:59.386075Z",
     "start_time": "2023-04-16T05:16:59.370866Z"
    }
   },
   "outputs": [
    {
     "data": {
      "text/plain": [
       "61     0.199400\n",
       "86     0.240528\n",
       "652    0.701799\n",
       "116    0.461631\n",
       "691    0.466187\n",
       "Name: cnt, dtype: float64"
      ]
     },
     "execution_count": 40,
     "metadata": {},
     "output_type": "execute_result"
    }
   ],
   "source": [
    "y_train.head()"
   ]
  },
  {
   "cell_type": "code",
   "execution_count": 41,
   "id": "a3db33b7",
   "metadata": {
    "ExecuteTime": {
     "end_time": "2023-04-16T05:16:59.407470Z",
     "start_time": "2023-04-16T05:16:59.388126Z"
    }
   },
   "outputs": [
    {
     "data": {
      "text/plain": [
       "(408,)"
      ]
     },
     "execution_count": 41,
     "metadata": {},
     "output_type": "execute_result"
    }
   ],
   "source": [
    "y_train.shape"
   ]
  },
  {
   "cell_type": "code",
   "execution_count": 42,
   "id": "6545d6f0",
   "metadata": {
    "ExecuteTime": {
     "end_time": "2023-04-16T05:16:59.421916Z",
     "start_time": "2023-04-16T05:16:59.410020Z"
    }
   },
   "outputs": [
    {
     "data": {
      "text/plain": [
       "69     0.234412\n",
       "498    0.338249\n",
       "408    0.407674\n",
       "318    0.500360\n",
       "717    0.628897\n",
       "Name: cnt, dtype: float64"
      ]
     },
     "execution_count": 42,
     "metadata": {},
     "output_type": "execute_result"
    }
   ],
   "source": [
    "y_test.head()"
   ]
  },
  {
   "cell_type": "code",
   "execution_count": 43,
   "id": "9569325f",
   "metadata": {
    "ExecuteTime": {
     "end_time": "2023-04-16T05:16:59.437083Z",
     "start_time": "2023-04-16T05:16:59.422859Z"
    },
    "scrolled": true
   },
   "outputs": [
    {
     "data": {
      "text/plain": [
       "(103,)"
      ]
     },
     "execution_count": 43,
     "metadata": {},
     "output_type": "execute_result"
    }
   ],
   "source": [
    "y_test.shape"
   ]
  },
  {
   "cell_type": "markdown",
   "id": "214dd2f8",
   "metadata": {},
   "source": [
    "### RFE"
   ]
  },
  {
   "cell_type": "code",
   "execution_count": 44,
   "id": "d82bd1e0",
   "metadata": {
    "ExecuteTime": {
     "end_time": "2023-04-16T05:16:59.504804Z",
     "start_time": "2023-04-16T05:16:59.439086Z"
    }
   },
   "outputs": [
    {
     "data": {
      "text/plain": [
       "LinearRegression()"
      ]
     },
     "execution_count": 44,
     "metadata": {},
     "output_type": "execute_result"
    }
   ],
   "source": [
    "from sklearn.linear_model import LinearRegression\n",
    "\n",
    "lr = LinearRegression()\n",
    "lr.fit(X_train, y_train)"
   ]
  },
  {
   "cell_type": "code",
   "execution_count": 45,
   "id": "8e1b89f8",
   "metadata": {
    "ExecuteTime": {
     "end_time": "2023-04-16T05:16:59.567023Z",
     "start_time": "2023-04-16T05:16:59.506327Z"
    }
   },
   "outputs": [
    {
     "data": {
      "text/plain": [
       "RFE(estimator=LinearRegression(), n_features_to_select=20)"
      ]
     },
     "execution_count": 45,
     "metadata": {},
     "output_type": "execute_result"
    }
   ],
   "source": [
    "from sklearn.feature_selection import RFE\n",
    "\n",
    "rfe = RFE(estimator= lr, n_features_to_select = 20)\n",
    "rfe = rfe.fit(X_train, y_train)\n",
    "rfe"
   ]
  },
  {
   "cell_type": "code",
   "execution_count": 46,
   "id": "6e8bb3b1",
   "metadata": {
    "ExecuteTime": {
     "end_time": "2023-04-16T05:16:59.588860Z",
     "start_time": "2023-04-16T05:16:59.569028Z"
    }
   },
   "outputs": [
    {
     "data": {
      "text/plain": [
       "Index(['temp', 'hum', 'windspeed', 'season_2', 'season_3', 'season_4', 'yr_1',\n",
       "       'mnth_2', 'mnth_3', 'mnth_4', 'mnth_5', 'mnth_6', 'mnth_8', 'mnth_9',\n",
       "       'mnth_10', 'mnth_12', 'holiday_1', 'weekday_2', 'weathersit_2',\n",
       "       'weathersit_3'],\n",
       "      dtype='object')"
      ]
     },
     "execution_count": 46,
     "metadata": {},
     "output_type": "execute_result"
    }
   ],
   "source": [
    "X_train.loc[:, rfe.support_].columns"
   ]
  },
  {
   "cell_type": "code",
   "execution_count": 47,
   "id": "d5d3e783",
   "metadata": {
    "ExecuteTime": {
     "end_time": "2023-04-16T05:16:59.603596Z",
     "start_time": "2023-04-16T05:16:59.589427Z"
    }
   },
   "outputs": [
    {
     "data": {
      "text/plain": [
       "[('temp', True, 1),\n",
       " ('hum', True, 1),\n",
       " ('windspeed', True, 1),\n",
       " ('season_2', True, 1),\n",
       " ('season_3', True, 1),\n",
       " ('season_4', True, 1),\n",
       " ('yr_1', True, 1),\n",
       " ('mnth_2', True, 1),\n",
       " ('mnth_3', True, 1),\n",
       " ('mnth_4', True, 1),\n",
       " ('mnth_5', True, 1),\n",
       " ('mnth_6', True, 1),\n",
       " ('mnth_7', False, 5),\n",
       " ('mnth_8', True, 1),\n",
       " ('mnth_9', True, 1),\n",
       " ('mnth_10', True, 1),\n",
       " ('mnth_11', False, 6),\n",
       " ('mnth_12', True, 1),\n",
       " ('holiday_1', True, 1),\n",
       " ('weekday_2', True, 1),\n",
       " ('weekday_3', False, 2),\n",
       " ('weekday_4', False, 3),\n",
       " ('weekday_5', False, 4),\n",
       " ('weathersit_2', True, 1),\n",
       " ('weathersit_3', True, 1)]"
      ]
     },
     "execution_count": 47,
     "metadata": {},
     "output_type": "execute_result"
    }
   ],
   "source": [
    "list(zip(X_train.columns, rfe.support_, rfe.ranking_))"
   ]
  },
  {
   "cell_type": "markdown",
   "id": "a3f6d471",
   "metadata": {},
   "source": [
    "We have the list of important features and now we build model using `statsmodels`"
   ]
  },
  {
   "cell_type": "code",
   "execution_count": 48,
   "id": "c4c8294b",
   "metadata": {
    "ExecuteTime": {
     "end_time": "2023-04-16T05:16:59.625671Z",
     "start_time": "2023-04-16T05:16:59.604177Z"
    },
    "scrolled": true
   },
   "outputs": [
    {
     "data": {
      "text/html": [
       "<div>\n",
       "<style scoped>\n",
       "    .dataframe tbody tr th:only-of-type {\n",
       "        vertical-align: middle;\n",
       "    }\n",
       "\n",
       "    .dataframe tbody tr th {\n",
       "        vertical-align: top;\n",
       "    }\n",
       "\n",
       "    .dataframe thead th {\n",
       "        text-align: right;\n",
       "    }\n",
       "</style>\n",
       "<table border=\"1\" class=\"dataframe\">\n",
       "  <thead>\n",
       "    <tr style=\"text-align: right;\">\n",
       "      <th></th>\n",
       "      <th>temp</th>\n",
       "      <th>hum</th>\n",
       "      <th>windspeed</th>\n",
       "      <th>season_2</th>\n",
       "      <th>season_3</th>\n",
       "      <th>season_4</th>\n",
       "      <th>yr_1</th>\n",
       "      <th>mnth_2</th>\n",
       "      <th>mnth_3</th>\n",
       "      <th>mnth_4</th>\n",
       "      <th>mnth_5</th>\n",
       "      <th>mnth_6</th>\n",
       "      <th>mnth_8</th>\n",
       "      <th>mnth_9</th>\n",
       "      <th>mnth_10</th>\n",
       "      <th>mnth_12</th>\n",
       "      <th>holiday_1</th>\n",
       "      <th>weekday_2</th>\n",
       "      <th>weathersit_2</th>\n",
       "      <th>weathersit_3</th>\n",
       "    </tr>\n",
       "  </thead>\n",
       "  <tbody>\n",
       "    <tr>\n",
       "      <th>61</th>\n",
       "      <td>0.134420</td>\n",
       "      <td>0.041514</td>\n",
       "      <td>0.571698</td>\n",
       "      <td>0</td>\n",
       "      <td>0</td>\n",
       "      <td>0</td>\n",
       "      <td>0</td>\n",
       "      <td>0</td>\n",
       "      <td>1</td>\n",
       "      <td>0</td>\n",
       "      <td>0</td>\n",
       "      <td>0</td>\n",
       "      <td>0</td>\n",
       "      <td>0</td>\n",
       "      <td>0</td>\n",
       "      <td>0</td>\n",
       "      <td>0</td>\n",
       "      <td>0</td>\n",
       "      <td>0</td>\n",
       "      <td>0</td>\n",
       "    </tr>\n",
       "    <tr>\n",
       "      <th>86</th>\n",
       "      <td>0.222330</td>\n",
       "      <td>0.017837</td>\n",
       "      <td>0.533606</td>\n",
       "      <td>1</td>\n",
       "      <td>0</td>\n",
       "      <td>0</td>\n",
       "      <td>0</td>\n",
       "      <td>0</td>\n",
       "      <td>1</td>\n",
       "      <td>0</td>\n",
       "      <td>0</td>\n",
       "      <td>0</td>\n",
       "      <td>0</td>\n",
       "      <td>0</td>\n",
       "      <td>0</td>\n",
       "      <td>0</td>\n",
       "      <td>0</td>\n",
       "      <td>0</td>\n",
       "      <td>0</td>\n",
       "      <td>0</td>\n",
       "    </tr>\n",
       "    <tr>\n",
       "      <th>652</th>\n",
       "      <td>0.618258</td>\n",
       "      <td>0.611722</td>\n",
       "      <td>0.769280</td>\n",
       "      <td>0</td>\n",
       "      <td>0</td>\n",
       "      <td>1</td>\n",
       "      <td>1</td>\n",
       "      <td>0</td>\n",
       "      <td>0</td>\n",
       "      <td>0</td>\n",
       "      <td>0</td>\n",
       "      <td>0</td>\n",
       "      <td>0</td>\n",
       "      <td>0</td>\n",
       "      <td>1</td>\n",
       "      <td>0</td>\n",
       "      <td>0</td>\n",
       "      <td>0</td>\n",
       "      <td>1</td>\n",
       "      <td>0</td>\n",
       "    </tr>\n",
       "    <tr>\n",
       "      <th>116</th>\n",
       "      <td>0.695938</td>\n",
       "      <td>0.799146</td>\n",
       "      <td>0.814718</td>\n",
       "      <td>1</td>\n",
       "      <td>0</td>\n",
       "      <td>0</td>\n",
       "      <td>0</td>\n",
       "      <td>0</td>\n",
       "      <td>0</td>\n",
       "      <td>1</td>\n",
       "      <td>0</td>\n",
       "      <td>0</td>\n",
       "      <td>0</td>\n",
       "      <td>0</td>\n",
       "      <td>0</td>\n",
       "      <td>0</td>\n",
       "      <td>0</td>\n",
       "      <td>0</td>\n",
       "      <td>1</td>\n",
       "      <td>0</td>\n",
       "    </tr>\n",
       "    <tr>\n",
       "      <th>691</th>\n",
       "      <td>0.360803</td>\n",
       "      <td>0.408425</td>\n",
       "      <td>0.353173</td>\n",
       "      <td>0</td>\n",
       "      <td>0</td>\n",
       "      <td>1</td>\n",
       "      <td>1</td>\n",
       "      <td>0</td>\n",
       "      <td>0</td>\n",
       "      <td>0</td>\n",
       "      <td>0</td>\n",
       "      <td>0</td>\n",
       "      <td>0</td>\n",
       "      <td>0</td>\n",
       "      <td>0</td>\n",
       "      <td>0</td>\n",
       "      <td>0</td>\n",
       "      <td>0</td>\n",
       "      <td>0</td>\n",
       "      <td>0</td>\n",
       "    </tr>\n",
       "  </tbody>\n",
       "</table>\n",
       "</div>"
      ],
      "text/plain": [
       "         temp       hum  windspeed  season_2  season_3  season_4  yr_1  \\\n",
       "61   0.134420  0.041514   0.571698         0         0         0     0   \n",
       "86   0.222330  0.017837   0.533606         1         0         0     0   \n",
       "652  0.618258  0.611722   0.769280         0         0         1     1   \n",
       "116  0.695938  0.799146   0.814718         1         0         0     0   \n",
       "691  0.360803  0.408425   0.353173         0         0         1     1   \n",
       "\n",
       "     mnth_2  mnth_3  mnth_4  mnth_5  mnth_6  mnth_8  mnth_9  mnth_10  mnth_12  \\\n",
       "61        0       1       0       0       0       0       0        0        0   \n",
       "86        0       1       0       0       0       0       0        0        0   \n",
       "652       0       0       0       0       0       0       0        1        0   \n",
       "116       0       0       1       0       0       0       0        0        0   \n",
       "691       0       0       0       0       0       0       0        0        0   \n",
       "\n",
       "     holiday_1  weekday_2  weathersit_2  weathersit_3  \n",
       "61           0          0             0             0  \n",
       "86           0          0             0             0  \n",
       "652          0          0             1             0  \n",
       "116          0          0             1             0  \n",
       "691          0          0             0             0  "
      ]
     },
     "execution_count": 48,
     "metadata": {},
     "output_type": "execute_result"
    }
   ],
   "source": [
    "X_train_rfe = X_train[X_train.columns[rfe.support_]]\n",
    "X_train_rfe.head()"
   ]
  },
  {
   "cell_type": "code",
   "execution_count": 49,
   "id": "8d6bf168",
   "metadata": {
    "ExecuteTime": {
     "end_time": "2023-04-16T05:17:00.161514Z",
     "start_time": "2023-04-16T05:16:59.626598Z"
    }
   },
   "outputs": [],
   "source": [
    "import statsmodels.api as sm\n",
    "from statsmodels.stats.outliers_influence import variance_inflation_factor"
   ]
  },
  {
   "cell_type": "code",
   "execution_count": 50,
   "id": "c6364f3f",
   "metadata": {
    "ExecuteTime": {
     "end_time": "2023-04-16T05:17:00.181668Z",
     "start_time": "2023-04-16T05:17:00.161514Z"
    }
   },
   "outputs": [],
   "source": [
    "def build_model(X,y):\n",
    "    X = sm.add_constant(X)\n",
    "    lm = sm.OLS(y,X).fit()\n",
    "    print(lm.summary())\n",
    "    return X\n",
    "    \n",
    "def checkVIF(X):\n",
    "    vif = pd.DataFrame()\n",
    "    vif['Features'] = X.columns\n",
    "    vif['VIF'] = [variance_inflation_factor(X.values, i) for i in range(X.shape[1])]\n",
    "    vif['VIF'] = round(vif['VIF'], 2)\n",
    "    vif = vif.sort_values(by = \"VIF\", ascending = False)\n",
    "    return(vif)"
   ]
  },
  {
   "cell_type": "markdown",
   "id": "bf9ec328",
   "metadata": {},
   "source": [
    "### Model 1"
   ]
  },
  {
   "cell_type": "code",
   "execution_count": 51,
   "id": "96b58a63",
   "metadata": {
    "ExecuteTime": {
     "end_time": "2023-04-16T05:17:00.219548Z",
     "start_time": "2023-04-16T05:17:00.181668Z"
    }
   },
   "outputs": [
    {
     "name": "stdout",
     "output_type": "stream",
     "text": [
      "                            OLS Regression Results                            \n",
      "==============================================================================\n",
      "Dep. Variable:                    cnt   R-squared:                       0.875\n",
      "Model:                            OLS   Adj. R-squared:                  0.869\n",
      "Method:                 Least Squares   F-statistic:                     135.9\n",
      "Date:                Sun, 16 Apr 2023   Prob (F-statistic):          4.16e-161\n",
      "Time:                        10:47:00   Log-Likelihood:                 453.59\n",
      "No. Observations:                 408   AIC:                            -865.2\n",
      "Df Residuals:                     387   BIC:                            -780.9\n",
      "Df Model:                          20                                         \n",
      "Covariance Type:            nonrobust                                         \n",
      "================================================================================\n",
      "                   coef    std err          t      P>|t|      [0.025      0.975]\n",
      "--------------------------------------------------------------------------------\n",
      "const            0.2147      0.023      9.390      0.000       0.170       0.260\n",
      "temp             0.4030      0.035     11.486      0.000       0.334       0.472\n",
      "hum             -0.1389      0.030     -4.664      0.000      -0.197      -0.080\n",
      "windspeed       -0.1041      0.022     -4.835      0.000      -0.146      -0.062\n",
      "season_2         0.1168      0.023      5.085      0.000       0.072       0.162\n",
      "season_3         0.1035      0.024      4.235      0.000       0.055       0.152\n",
      "season_4         0.1648      0.017      9.951      0.000       0.132       0.197\n",
      "yr_1             0.2488      0.008     29.940      0.000       0.233       0.265\n",
      "mnth_2           0.0182      0.019      0.952      0.342      -0.019       0.056\n",
      "mnth_3           0.0431      0.020      2.203      0.028       0.005       0.082\n",
      "mnth_4           0.0232      0.027      0.851      0.395      -0.030       0.077\n",
      "mnth_5           0.0531      0.027      1.959      0.051      -0.000       0.106\n",
      "mnth_6           0.0222      0.023      0.969      0.333      -0.023       0.067\n",
      "mnth_8           0.0526      0.018      2.889      0.004       0.017       0.088\n",
      "mnth_9           0.0884      0.018      4.782      0.000       0.052       0.125\n",
      "mnth_10          0.0867      0.019      4.517      0.000       0.049       0.124\n",
      "mnth_12          0.0280      0.017      1.639      0.102      -0.006       0.062\n",
      "holiday_1       -0.0787      0.021     -3.779      0.000      -0.120      -0.038\n",
      "weekday_2        0.0092      0.011      0.872      0.383      -0.011       0.030\n",
      "weathersit_2    -0.0460      0.011     -4.300      0.000      -0.067      -0.025\n",
      "weathersit_3    -0.2652      0.030     -8.891      0.000      -0.324      -0.207\n",
      "==============================================================================\n",
      "Omnibus:                       72.390   Durbin-Watson:                   1.904\n",
      "Prob(Omnibus):                  0.000   Jarque-Bera (JB):              199.300\n",
      "Skew:                          -0.841   Prob(JB):                     5.28e-44\n",
      "Kurtosis:                       5.982   Cond. No.                         18.4\n",
      "==============================================================================\n",
      "\n",
      "Notes:\n",
      "[1] Standard Errors assume that the covariance matrix of the errors is correctly specified.\n"
     ]
    }
   ],
   "source": [
    "X_train_new = build_model(X_train_rfe,y_train)"
   ]
  },
  {
   "cell_type": "markdown",
   "id": "f77b417e",
   "metadata": {},
   "source": [
    "`mnth_2` has p-value of `0.342` which is higher than the significance value of `0.05`, hence we drop that column."
   ]
  },
  {
   "cell_type": "code",
   "execution_count": 52,
   "id": "c85cf48d",
   "metadata": {
    "ExecuteTime": {
     "end_time": "2023-04-16T05:17:00.236034Z",
     "start_time": "2023-04-16T05:17:00.221263Z"
    }
   },
   "outputs": [],
   "source": [
    "X_train_new = X_train_new.drop(['mnth_2'], axis = 1)"
   ]
  },
  {
   "cell_type": "markdown",
   "id": "3b8b2a6a",
   "metadata": {},
   "source": [
    "### Model 2"
   ]
  },
  {
   "cell_type": "code",
   "execution_count": 53,
   "id": "1c294fbc",
   "metadata": {
    "ExecuteTime": {
     "end_time": "2023-04-16T05:17:00.269622Z",
     "start_time": "2023-04-16T05:17:00.238223Z"
    }
   },
   "outputs": [
    {
     "name": "stdout",
     "output_type": "stream",
     "text": [
      "                            OLS Regression Results                            \n",
      "==============================================================================\n",
      "Dep. Variable:                    cnt   R-squared:                       0.875\n",
      "Model:                            OLS   Adj. R-squared:                  0.869\n",
      "Method:                 Least Squares   F-statistic:                     143.0\n",
      "Date:                Sun, 16 Apr 2023   Prob (F-statistic):          5.38e-162\n",
      "Time:                        10:47:00   Log-Likelihood:                 453.11\n",
      "No. Observations:                 408   AIC:                            -866.2\n",
      "Df Residuals:                     388   BIC:                            -786.0\n",
      "Df Model:                          19                                         \n",
      "Covariance Type:            nonrobust                                         \n",
      "================================================================================\n",
      "                   coef    std err          t      P>|t|      [0.025      0.975]\n",
      "--------------------------------------------------------------------------------\n",
      "const            0.2229      0.021     10.521      0.000       0.181       0.265\n",
      "temp             0.4047      0.035     11.550      0.000       0.336       0.474\n",
      "hum             -0.1401      0.030     -4.708      0.000      -0.199      -0.082\n",
      "windspeed       -0.1047      0.022     -4.868      0.000      -0.147      -0.062\n",
      "season_2         0.1133      0.023      4.998      0.000       0.069       0.158\n",
      "season_3         0.0959      0.023      4.153      0.000       0.050       0.141\n",
      "season_4         0.1584      0.015     10.449      0.000       0.129       0.188\n",
      "yr_1             0.2487      0.008     29.929      0.000       0.232       0.265\n",
      "mnth_3           0.0366      0.018      1.997      0.047       0.001       0.073\n",
      "mnth_4           0.0187      0.027      0.695      0.487      -0.034       0.071\n",
      "mnth_5           0.0485      0.027      1.817      0.070      -0.004       0.101\n",
      "mnth_6           0.0185      0.023      0.820      0.413      -0.026       0.063\n",
      "mnth_8           0.0515      0.018      2.836      0.005       0.016       0.087\n",
      "mnth_9           0.0875      0.018      4.742      0.000       0.051       0.124\n",
      "mnth_10          0.0850      0.019      4.446      0.000       0.047       0.123\n",
      "mnth_12          0.0241      0.017      1.453      0.147      -0.009       0.057\n",
      "holiday_1       -0.0808      0.021     -3.907      0.000      -0.121      -0.040\n",
      "weekday_2        0.0093      0.011      0.886      0.376      -0.011       0.030\n",
      "weathersit_2    -0.0459      0.011     -4.294      0.000      -0.067      -0.025\n",
      "weathersit_3    -0.2647      0.030     -8.877      0.000      -0.323      -0.206\n",
      "==============================================================================\n",
      "Omnibus:                       72.989   Durbin-Watson:                   1.907\n",
      "Prob(Omnibus):                  0.000   Jarque-Bera (JB):              200.541\n",
      "Skew:                          -0.849   Prob(JB):                     2.84e-44\n",
      "Kurtosis:                       5.985   Cond. No.                         17.7\n",
      "==============================================================================\n",
      "\n",
      "Notes:\n",
      "[1] Standard Errors assume that the covariance matrix of the errors is correctly specified.\n"
     ]
    }
   ],
   "source": [
    "X_train_new = build_model(X_train_new,y_train)"
   ]
  },
  {
   "cell_type": "markdown",
   "id": "f2f09632",
   "metadata": {},
   "source": [
    "`mnth_4` has p-value of `0.487` which is higher than the significance value of `0.05`, hence we drop that column."
   ]
  },
  {
   "cell_type": "code",
   "execution_count": 54,
   "id": "32b2e414",
   "metadata": {
    "ExecuteTime": {
     "end_time": "2023-04-16T05:17:00.286723Z",
     "start_time": "2023-04-16T05:17:00.271643Z"
    }
   },
   "outputs": [],
   "source": [
    "X_train_new = X_train_new.drop(['mnth_4'], axis = 1)"
   ]
  },
  {
   "cell_type": "markdown",
   "id": "793085a1",
   "metadata": {},
   "source": [
    "### Model 3"
   ]
  },
  {
   "cell_type": "code",
   "execution_count": 55,
   "id": "857acbb6",
   "metadata": {
    "ExecuteTime": {
     "end_time": "2023-04-16T05:17:00.337909Z",
     "start_time": "2023-04-16T05:17:00.286723Z"
    },
    "scrolled": false
   },
   "outputs": [
    {
     "name": "stdout",
     "output_type": "stream",
     "text": [
      "                            OLS Regression Results                            \n",
      "==============================================================================\n",
      "Dep. Variable:                    cnt   R-squared:                       0.875\n",
      "Model:                            OLS   Adj. R-squared:                  0.869\n",
      "Method:                 Least Squares   F-statistic:                     151.1\n",
      "Date:                Sun, 16 Apr 2023   Prob (F-statistic):          5.48e-163\n",
      "Time:                        10:47:00   Log-Likelihood:                 452.86\n",
      "No. Observations:                 408   AIC:                            -867.7\n",
      "Df Residuals:                     389   BIC:                            -791.5\n",
      "Df Model:                          18                                         \n",
      "Covariance Type:            nonrobust                                         \n",
      "================================================================================\n",
      "                   coef    std err          t      P>|t|      [0.025      0.975]\n",
      "--------------------------------------------------------------------------------\n",
      "const            0.2239      0.021     10.606      0.000       0.182       0.265\n",
      "temp             0.4065      0.035     11.643      0.000       0.338       0.475\n",
      "hum             -0.1415      0.030     -4.770      0.000      -0.200      -0.083\n",
      "windspeed       -0.1037      0.021     -4.836      0.000      -0.146      -0.062\n",
      "season_2         0.1241      0.017      7.510      0.000       0.092       0.157\n",
      "season_3         0.0957      0.023      4.147      0.000       0.050       0.141\n",
      "season_4         0.1575      0.015     10.435      0.000       0.128       0.187\n",
      "yr_1             0.2485      0.008     29.941      0.000       0.232       0.265\n",
      "mnth_3           0.0305      0.016      1.898      0.058      -0.001       0.062\n",
      "mnth_5           0.0359      0.020      1.831      0.068      -0.003       0.074\n",
      "mnth_6           0.0093      0.018      0.509      0.611      -0.027       0.045\n",
      "mnth_8           0.0495      0.018      2.763      0.006       0.014       0.085\n",
      "mnth_9           0.0862      0.018      4.699      0.000       0.050       0.122\n",
      "mnth_10          0.0845      0.019      4.429      0.000       0.047       0.122\n",
      "mnth_12          0.0236      0.017      1.423      0.156      -0.009       0.056\n",
      "holiday_1       -0.0809      0.021     -3.913      0.000      -0.122      -0.040\n",
      "weekday_2        0.0095      0.010      0.908      0.365      -0.011       0.030\n",
      "weathersit_2    -0.0462      0.011     -4.324      0.000      -0.067      -0.025\n",
      "weathersit_3    -0.2652      0.030     -8.903      0.000      -0.324      -0.207\n",
      "==============================================================================\n",
      "Omnibus:                       73.075   Durbin-Watson:                   1.906\n",
      "Prob(Omnibus):                  0.000   Jarque-Bera (JB):              195.121\n",
      "Skew:                          -0.860   Prob(JB):                     4.27e-43\n",
      "Kurtosis:                       5.919   Cond. No.                         17.3\n",
      "==============================================================================\n",
      "\n",
      "Notes:\n",
      "[1] Standard Errors assume that the covariance matrix of the errors is correctly specified.\n"
     ]
    }
   ],
   "source": [
    "X_train_new = build_model(X_train_new,y_train)"
   ]
  },
  {
   "cell_type": "markdown",
   "id": "85698c89",
   "metadata": {},
   "source": [
    "`mnth_6` has p-value of `0.611` which is higher than the significance value of `0.05`, hence we drop that column."
   ]
  },
  {
   "cell_type": "code",
   "execution_count": 56,
   "id": "832b6d67",
   "metadata": {
    "ExecuteTime": {
     "end_time": "2023-04-16T05:17:00.352612Z",
     "start_time": "2023-04-16T05:17:00.337909Z"
    }
   },
   "outputs": [],
   "source": [
    "X_train_new = X_train_new.drop(['mnth_6'], axis = 1)"
   ]
  },
  {
   "cell_type": "markdown",
   "id": "0b57d5f9",
   "metadata": {},
   "source": [
    "### Model 4"
   ]
  },
  {
   "cell_type": "code",
   "execution_count": 57,
   "id": "d1f33b64",
   "metadata": {
    "ExecuteTime": {
     "end_time": "2023-04-16T05:17:00.386096Z",
     "start_time": "2023-04-16T05:17:00.354610Z"
    }
   },
   "outputs": [
    {
     "name": "stdout",
     "output_type": "stream",
     "text": [
      "                            OLS Regression Results                            \n",
      "==============================================================================\n",
      "Dep. Variable:                    cnt   R-squared:                       0.875\n",
      "Model:                            OLS   Adj. R-squared:                  0.869\n",
      "Method:                 Least Squares   F-statistic:                     160.3\n",
      "Date:                Sun, 16 Apr 2023   Prob (F-statistic):          4.85e-164\n",
      "Time:                        10:47:00   Log-Likelihood:                 452.72\n",
      "No. Observations:                 408   AIC:                            -869.4\n",
      "Df Residuals:                     390   BIC:                            -797.2\n",
      "Df Model:                          17                                         \n",
      "Covariance Type:            nonrobust                                         \n",
      "================================================================================\n",
      "                   coef    std err          t      P>|t|      [0.025      0.975]\n",
      "--------------------------------------------------------------------------------\n",
      "const            0.2235      0.021     10.604      0.000       0.182       0.265\n",
      "temp             0.4128      0.033     12.635      0.000       0.349       0.477\n",
      "hum             -0.1433      0.029     -4.869      0.000      -0.201      -0.085\n",
      "windspeed       -0.1038      0.021     -4.843      0.000      -0.146      -0.062\n",
      "season_2         0.1253      0.016      7.676      0.000       0.093       0.157\n",
      "season_3         0.0941      0.023      4.120      0.000       0.049       0.139\n",
      "season_4         0.1568      0.015     10.445      0.000       0.127       0.186\n",
      "yr_1             0.2482      0.008     30.009      0.000       0.232       0.264\n",
      "mnth_3           0.0288      0.016      1.835      0.067      -0.002       0.060\n",
      "mnth_5           0.0321      0.018      1.772      0.077      -0.004       0.068\n",
      "mnth_8           0.0475      0.017      2.721      0.007       0.013       0.082\n",
      "mnth_9           0.0850      0.018      4.678      0.000       0.049       0.121\n",
      "mnth_10          0.0834      0.019      4.404      0.000       0.046       0.121\n",
      "mnth_12          0.0235      0.017      1.421      0.156      -0.009       0.056\n",
      "holiday_1       -0.0819      0.021     -3.981      0.000      -0.122      -0.041\n",
      "weekday_2        0.0094      0.010      0.901      0.368      -0.011       0.030\n",
      "weathersit_2    -0.0458      0.011     -4.306      0.000      -0.067      -0.025\n",
      "weathersit_3    -0.2647      0.030     -8.899      0.000      -0.323      -0.206\n",
      "==============================================================================\n",
      "Omnibus:                       71.385   Durbin-Watson:                   1.908\n",
      "Prob(Omnibus):                  0.000   Jarque-Bera (JB):              187.402\n",
      "Skew:                          -0.846   Prob(JB):                     2.02e-41\n",
      "Kurtosis:                       5.856   Cond. No.                         16.7\n",
      "==============================================================================\n",
      "\n",
      "Notes:\n",
      "[1] Standard Errors assume that the covariance matrix of the errors is correctly specified.\n"
     ]
    }
   ],
   "source": [
    "X_train_new = build_model(X_train_new,y_train)"
   ]
  },
  {
   "cell_type": "markdown",
   "id": "de90304b",
   "metadata": {},
   "source": [
    "`mnth_12` has p-value of `0.156` which is higher than the significance value of `0.05`, hence we drop that column."
   ]
  },
  {
   "cell_type": "code",
   "execution_count": 58,
   "id": "1bfdc23c",
   "metadata": {
    "ExecuteTime": {
     "end_time": "2023-04-16T05:17:00.403443Z",
     "start_time": "2023-04-16T05:17:00.388562Z"
    }
   },
   "outputs": [],
   "source": [
    "X_train_new = X_train_new.drop(['mnth_12'], axis = 1)"
   ]
  },
  {
   "cell_type": "markdown",
   "id": "f891718a",
   "metadata": {},
   "source": [
    "### Model 5"
   ]
  },
  {
   "cell_type": "code",
   "execution_count": 59,
   "id": "762dd7e3",
   "metadata": {
    "ExecuteTime": {
     "end_time": "2023-04-16T05:17:00.436099Z",
     "start_time": "2023-04-16T05:17:00.403443Z"
    }
   },
   "outputs": [
    {
     "name": "stdout",
     "output_type": "stream",
     "text": [
      "                            OLS Regression Results                            \n",
      "==============================================================================\n",
      "Dep. Variable:                    cnt   R-squared:                       0.874\n",
      "Model:                            OLS   Adj. R-squared:                  0.869\n",
      "Method:                 Least Squares   F-statistic:                     169.8\n",
      "Date:                Sun, 16 Apr 2023   Prob (F-statistic):          9.96e-165\n",
      "Time:                        10:47:00   Log-Likelihood:                 451.67\n",
      "No. Observations:                 408   AIC:                            -869.3\n",
      "Df Residuals:                     391   BIC:                            -801.1\n",
      "Df Model:                          16                                         \n",
      "Covariance Type:            nonrobust                                         \n",
      "================================================================================\n",
      "                   coef    std err          t      P>|t|      [0.025      0.975]\n",
      "--------------------------------------------------------------------------------\n",
      "const            0.2270      0.021     10.830      0.000       0.186       0.268\n",
      "temp             0.4086      0.033     12.542      0.000       0.345       0.473\n",
      "hum             -0.1404      0.029     -4.775      0.000      -0.198      -0.083\n",
      "windspeed       -0.1034      0.021     -4.819      0.000      -0.146      -0.061\n",
      "season_2         0.1233      0.016      7.572      0.000       0.091       0.155\n",
      "season_3         0.0937      0.023      4.097      0.000       0.049       0.139\n",
      "season_4         0.1616      0.015     11.047      0.000       0.133       0.190\n",
      "yr_1             0.2479      0.008     29.945      0.000       0.232       0.264\n",
      "mnth_3           0.0263      0.016      1.681      0.094      -0.004       0.057\n",
      "mnth_5           0.0315      0.018      1.739      0.083      -0.004       0.067\n",
      "mnth_8           0.0464      0.017      2.658      0.008       0.012       0.081\n",
      "mnth_9           0.0814      0.018      4.520      0.000       0.046       0.117\n",
      "mnth_10          0.0752      0.018      4.164      0.000       0.040       0.111\n",
      "holiday_1       -0.0832      0.021     -4.043      0.000      -0.124      -0.043\n",
      "weekday_2        0.0087      0.010      0.831      0.406      -0.012       0.029\n",
      "weathersit_2    -0.0452      0.011     -4.246      0.000      -0.066      -0.024\n",
      "weathersit_3    -0.2622      0.030     -8.819      0.000      -0.321      -0.204\n",
      "==============================================================================\n",
      "Omnibus:                       71.709   Durbin-Watson:                   1.922\n",
      "Prob(Omnibus):                  0.000   Jarque-Bera (JB):              190.326\n",
      "Skew:                          -0.846   Prob(JB):                     4.69e-42\n",
      "Kurtosis:                       5.886   Cond. No.                         16.6\n",
      "==============================================================================\n",
      "\n",
      "Notes:\n",
      "[1] Standard Errors assume that the covariance matrix of the errors is correctly specified.\n"
     ]
    }
   ],
   "source": [
    "X_train_new = build_model(X_train_new,y_train)"
   ]
  },
  {
   "cell_type": "markdown",
   "id": "5f473f48",
   "metadata": {},
   "source": [
    "`mnth_3` has p-value of `0.094` which is higher than the significance value of `0.05`, hence we drop that column."
   ]
  },
  {
   "cell_type": "code",
   "execution_count": 60,
   "id": "aaa801fe",
   "metadata": {
    "ExecuteTime": {
     "end_time": "2023-04-16T05:17:00.451459Z",
     "start_time": "2023-04-16T05:17:00.438464Z"
    }
   },
   "outputs": [],
   "source": [
    "X_train_new = X_train_new.drop(['mnth_3'], axis = 1)"
   ]
  },
  {
   "cell_type": "markdown",
   "id": "2b8e3134",
   "metadata": {},
   "source": [
    "### Model 6"
   ]
  },
  {
   "cell_type": "code",
   "execution_count": 61,
   "id": "9b3a4479",
   "metadata": {
    "ExecuteTime": {
     "end_time": "2023-04-16T05:17:00.487080Z",
     "start_time": "2023-04-16T05:17:00.454462Z"
    }
   },
   "outputs": [
    {
     "name": "stdout",
     "output_type": "stream",
     "text": [
      "                            OLS Regression Results                            \n",
      "==============================================================================\n",
      "Dep. Variable:                    cnt   R-squared:                       0.873\n",
      "Model:                            OLS   Adj. R-squared:                  0.868\n",
      "Method:                 Least Squares   F-statistic:                     180.1\n",
      "Date:                Sun, 16 Apr 2023   Prob (F-statistic):          2.96e-165\n",
      "Time:                        10:47:00   Log-Likelihood:                 450.20\n",
      "No. Observations:                 408   AIC:                            -868.4\n",
      "Df Residuals:                     392   BIC:                            -804.2\n",
      "Df Model:                          15                                         \n",
      "Covariance Type:            nonrobust                                         \n",
      "================================================================================\n",
      "                   coef    std err          t      P>|t|      [0.025      0.975]\n",
      "--------------------------------------------------------------------------------\n",
      "const            0.2325      0.021     11.210      0.000       0.192       0.273\n",
      "temp             0.4071      0.033     12.473      0.000       0.343       0.471\n",
      "hum             -0.1386      0.029     -4.708      0.000      -0.197      -0.081\n",
      "windspeed       -0.1038      0.022     -4.829      0.000      -0.146      -0.062\n",
      "season_2         0.1245      0.016      7.632      0.000       0.092       0.157\n",
      "season_3         0.0891      0.023      3.915      0.000       0.044       0.134\n",
      "season_4         0.1564      0.014     10.916      0.000       0.128       0.185\n",
      "yr_1             0.2474      0.008     29.834      0.000       0.231       0.264\n",
      "mnth_5           0.0255      0.018      1.432      0.153      -0.010       0.061\n",
      "mnth_8           0.0463      0.017      2.647      0.008       0.012       0.081\n",
      "mnth_9           0.0811      0.018      4.496      0.000       0.046       0.117\n",
      "mnth_10          0.0754      0.018      4.162      0.000       0.040       0.111\n",
      "holiday_1       -0.0851      0.021     -4.133      0.000      -0.126      -0.045\n",
      "weekday_2        0.0094      0.010      0.892      0.373      -0.011       0.030\n",
      "weathersit_2    -0.0459      0.011     -4.302      0.000      -0.067      -0.025\n",
      "weathersit_3    -0.2619      0.030     -8.791      0.000      -0.321      -0.203\n",
      "==============================================================================\n",
      "Omnibus:                       68.402   Durbin-Watson:                   1.925\n",
      "Prob(Omnibus):                  0.000   Jarque-Bera (JB):              189.446\n",
      "Skew:                          -0.794   Prob(JB):                     7.28e-42\n",
      "Kurtosis:                       5.937   Cond. No.                         16.6\n",
      "==============================================================================\n",
      "\n",
      "Notes:\n",
      "[1] Standard Errors assume that the covariance matrix of the errors is correctly specified.\n"
     ]
    }
   ],
   "source": [
    "X_train_new = build_model(X_train_new,y_train)"
   ]
  },
  {
   "cell_type": "markdown",
   "id": "bf134b15",
   "metadata": {},
   "source": [
    "`mnth_5` has p-value of `0.153` which is higher than the significance value of `0.05`, hence we drop that column."
   ]
  },
  {
   "cell_type": "code",
   "execution_count": 62,
   "id": "478cac87",
   "metadata": {
    "ExecuteTime": {
     "end_time": "2023-04-16T05:17:00.503228Z",
     "start_time": "2023-04-16T05:17:00.488991Z"
    }
   },
   "outputs": [],
   "source": [
    "X_train_new = X_train_new.drop(['mnth_5'], axis = 1)"
   ]
  },
  {
   "cell_type": "markdown",
   "id": "51758f70",
   "metadata": {},
   "source": [
    "### Model 7"
   ]
  },
  {
   "cell_type": "code",
   "execution_count": 63,
   "id": "1943389c",
   "metadata": {
    "ExecuteTime": {
     "end_time": "2023-04-16T05:17:00.555439Z",
     "start_time": "2023-04-16T05:17:00.503228Z"
    },
    "scrolled": false
   },
   "outputs": [
    {
     "name": "stdout",
     "output_type": "stream",
     "text": [
      "                            OLS Regression Results                            \n",
      "==============================================================================\n",
      "Dep. Variable:                    cnt   R-squared:                       0.873\n",
      "Model:                            OLS   Adj. R-squared:                  0.868\n",
      "Method:                 Least Squares   F-statistic:                     192.3\n",
      "Date:                Sun, 16 Apr 2023   Prob (F-statistic):          5.79e-166\n",
      "Time:                        10:47:00   Log-Likelihood:                 449.14\n",
      "No. Observations:                 408   AIC:                            -868.3\n",
      "Df Residuals:                     393   BIC:                            -808.1\n",
      "Df Model:                          14                                         \n",
      "Covariance Type:            nonrobust                                         \n",
      "================================================================================\n",
      "                   coef    std err          t      P>|t|      [0.025      0.975]\n",
      "--------------------------------------------------------------------------------\n",
      "const            0.2278      0.021     11.108      0.000       0.188       0.268\n",
      "temp             0.4133      0.032     12.756      0.000       0.350       0.477\n",
      "hum             -0.1312      0.029     -4.520      0.000      -0.188      -0.074\n",
      "windspeed       -0.1045      0.022     -4.852      0.000      -0.147      -0.062\n",
      "season_2         0.1309      0.016      8.337      0.000       0.100       0.162\n",
      "season_3         0.0855      0.023      3.776      0.000       0.041       0.130\n",
      "season_4         0.1550      0.014     10.829      0.000       0.127       0.183\n",
      "yr_1             0.2476      0.008     29.817      0.000       0.231       0.264\n",
      "mnth_8           0.0462      0.018      2.639      0.009       0.012       0.081\n",
      "mnth_9           0.0801      0.018      4.433      0.000       0.045       0.116\n",
      "mnth_10          0.0741      0.018      4.090      0.000       0.038       0.110\n",
      "holiday_1       -0.0839      0.021     -4.075      0.000      -0.124      -0.043\n",
      "weekday_2        0.0102      0.010      0.969      0.333      -0.010       0.031\n",
      "weathersit_2    -0.0465      0.011     -4.352      0.000      -0.067      -0.025\n",
      "weathersit_3    -0.2654      0.030     -8.922      0.000      -0.324      -0.207\n",
      "==============================================================================\n",
      "Omnibus:                       68.856   Durbin-Watson:                   1.937\n",
      "Prob(Omnibus):                  0.000   Jarque-Bera (JB):              182.300\n",
      "Skew:                          -0.814   Prob(JB):                     2.59e-40\n",
      "Kurtosis:                       5.841   Cond. No.                         16.6\n",
      "==============================================================================\n",
      "\n",
      "Notes:\n",
      "[1] Standard Errors assume that the covariance matrix of the errors is correctly specified.\n"
     ]
    }
   ],
   "source": [
    "X_train_new = build_model(X_train_new,y_train)"
   ]
  },
  {
   "cell_type": "markdown",
   "id": "ad74ca90",
   "metadata": {},
   "source": [
    "`weekday_2` has p-value of `0.333` which is higher than the significance value of `0.05`, hence we drop that column."
   ]
  },
  {
   "cell_type": "code",
   "execution_count": 64,
   "id": "844b2906",
   "metadata": {
    "ExecuteTime": {
     "end_time": "2023-04-16T05:17:00.571365Z",
     "start_time": "2023-04-16T05:17:00.555439Z"
    }
   },
   "outputs": [],
   "source": [
    "X_train_new = X_train_new.drop(['weekday_2'], axis = 1)"
   ]
  },
  {
   "cell_type": "markdown",
   "id": "94150f03",
   "metadata": {},
   "source": [
    "### Model 8"
   ]
  },
  {
   "cell_type": "code",
   "execution_count": 65,
   "id": "a68fe2a4",
   "metadata": {
    "ExecuteTime": {
     "end_time": "2023-04-16T05:17:00.603773Z",
     "start_time": "2023-04-16T05:17:00.573549Z"
    }
   },
   "outputs": [
    {
     "name": "stdout",
     "output_type": "stream",
     "text": [
      "                            OLS Regression Results                            \n",
      "==============================================================================\n",
      "Dep. Variable:                    cnt   R-squared:                       0.872\n",
      "Model:                            OLS   Adj. R-squared:                  0.868\n",
      "Method:                 Least Squares   F-statistic:                     207.0\n",
      "Date:                Sun, 16 Apr 2023   Prob (F-statistic):          6.29e-167\n",
      "Time:                        10:47:00   Log-Likelihood:                 448.65\n",
      "No. Observations:                 408   AIC:                            -869.3\n",
      "Df Residuals:                     394   BIC:                            -813.1\n",
      "Df Model:                          13                                         \n",
      "Covariance Type:            nonrobust                                         \n",
      "================================================================================\n",
      "                   coef    std err          t      P>|t|      [0.025      0.975]\n",
      "--------------------------------------------------------------------------------\n",
      "const            0.2297      0.020     11.246      0.000       0.190       0.270\n",
      "temp             0.4131      0.032     12.751      0.000       0.349       0.477\n",
      "hum             -0.1309      0.029     -4.510      0.000      -0.188      -0.074\n",
      "windspeed       -0.1040      0.022     -4.833      0.000      -0.146      -0.062\n",
      "season_2         0.1307      0.016      8.328      0.000       0.100       0.162\n",
      "season_3         0.0855      0.023      3.776      0.000       0.041       0.130\n",
      "season_4         0.1550      0.014     10.836      0.000       0.127       0.183\n",
      "yr_1             0.2478      0.008     29.854      0.000       0.231       0.264\n",
      "mnth_8           0.0461      0.018      2.631      0.009       0.012       0.081\n",
      "mnth_9           0.0798      0.018      4.420      0.000       0.044       0.115\n",
      "mnth_10          0.0737      0.018      4.072      0.000       0.038       0.109\n",
      "holiday_1       -0.0860      0.020     -4.197      0.000      -0.126      -0.046\n",
      "weathersit_2    -0.0468      0.011     -4.382      0.000      -0.068      -0.026\n",
      "weathersit_3    -0.2657      0.030     -8.935      0.000      -0.324      -0.207\n",
      "==============================================================================\n",
      "Omnibus:                       70.371   Durbin-Watson:                   1.939\n",
      "Prob(Omnibus):                  0.000   Jarque-Bera (JB):              188.813\n",
      "Skew:                          -0.827   Prob(JB):                     1.00e-41\n",
      "Kurtosis:                       5.893   Cond. No.                         16.4\n",
      "==============================================================================\n",
      "\n",
      "Notes:\n",
      "[1] Standard Errors assume that the covariance matrix of the errors is correctly specified.\n"
     ]
    }
   ],
   "source": [
    "X_train_new = build_model(X_train_new,y_train)"
   ]
  },
  {
   "cell_type": "markdown",
   "id": "92fa950c",
   "metadata": {},
   "source": [
    "All of the features have p-values lower than `0.05`. Now we check VIF."
   ]
  },
  {
   "cell_type": "code",
   "execution_count": 66,
   "id": "8d2c1869",
   "metadata": {
    "ExecuteTime": {
     "end_time": "2023-04-16T05:17:00.651082Z",
     "start_time": "2023-04-16T05:17:00.603773Z"
    },
    "scrolled": false
   },
   "outputs": [
    {
     "data": {
      "text/html": [
       "<div>\n",
       "<style scoped>\n",
       "    .dataframe tbody tr th:only-of-type {\n",
       "        vertical-align: middle;\n",
       "    }\n",
       "\n",
       "    .dataframe tbody tr th {\n",
       "        vertical-align: top;\n",
       "    }\n",
       "\n",
       "    .dataframe thead th {\n",
       "        text-align: right;\n",
       "    }\n",
       "</style>\n",
       "<table border=\"1\" class=\"dataframe\">\n",
       "  <thead>\n",
       "    <tr style=\"text-align: right;\">\n",
       "      <th></th>\n",
       "      <th>Features</th>\n",
       "      <th>VIF</th>\n",
       "    </tr>\n",
       "  </thead>\n",
       "  <tbody>\n",
       "    <tr>\n",
       "      <th>0</th>\n",
       "      <td>const</td>\n",
       "      <td>25.31</td>\n",
       "    </tr>\n",
       "    <tr>\n",
       "      <th>5</th>\n",
       "      <td>season_3</td>\n",
       "      <td>6.13</td>\n",
       "    </tr>\n",
       "    <tr>\n",
       "      <th>1</th>\n",
       "      <td>temp</td>\n",
       "      <td>3.81</td>\n",
       "    </tr>\n",
       "    <tr>\n",
       "      <th>4</th>\n",
       "      <td>season_2</td>\n",
       "      <td>2.79</td>\n",
       "    </tr>\n",
       "    <tr>\n",
       "      <th>6</th>\n",
       "      <td>season_4</td>\n",
       "      <td>2.25</td>\n",
       "    </tr>\n",
       "    <tr>\n",
       "      <th>2</th>\n",
       "      <td>hum</td>\n",
       "      <td>2.06</td>\n",
       "    </tr>\n",
       "    <tr>\n",
       "      <th>10</th>\n",
       "      <td>mnth_10</td>\n",
       "      <td>1.60</td>\n",
       "    </tr>\n",
       "    <tr>\n",
       "      <th>8</th>\n",
       "      <td>mnth_8</td>\n",
       "      <td>1.57</td>\n",
       "    </tr>\n",
       "    <tr>\n",
       "      <th>12</th>\n",
       "      <td>weathersit_2</td>\n",
       "      <td>1.57</td>\n",
       "    </tr>\n",
       "    <tr>\n",
       "      <th>13</th>\n",
       "      <td>weathersit_3</td>\n",
       "      <td>1.41</td>\n",
       "    </tr>\n",
       "    <tr>\n",
       "      <th>9</th>\n",
       "      <td>mnth_9</td>\n",
       "      <td>1.39</td>\n",
       "    </tr>\n",
       "    <tr>\n",
       "      <th>3</th>\n",
       "      <td>windspeed</td>\n",
       "      <td>1.19</td>\n",
       "    </tr>\n",
       "    <tr>\n",
       "      <th>7</th>\n",
       "      <td>yr_1</td>\n",
       "      <td>1.04</td>\n",
       "    </tr>\n",
       "    <tr>\n",
       "      <th>11</th>\n",
       "      <td>holiday_1</td>\n",
       "      <td>1.02</td>\n",
       "    </tr>\n",
       "  </tbody>\n",
       "</table>\n",
       "</div>"
      ],
      "text/plain": [
       "        Features    VIF\n",
       "0          const  25.31\n",
       "5       season_3   6.13\n",
       "1           temp   3.81\n",
       "4       season_2   2.79\n",
       "6       season_4   2.25\n",
       "2            hum   2.06\n",
       "10       mnth_10   1.60\n",
       "8         mnth_8   1.57\n",
       "12  weathersit_2   1.57\n",
       "13  weathersit_3   1.41\n",
       "9         mnth_9   1.39\n",
       "3      windspeed   1.19\n",
       "7           yr_1   1.04\n",
       "11     holiday_1   1.02"
      ]
     },
     "execution_count": 66,
     "metadata": {},
     "output_type": "execute_result"
    }
   ],
   "source": [
    "checkVIF(X_train_new)"
   ]
  },
  {
   "cell_type": "markdown",
   "id": "60cc3a24",
   "metadata": {},
   "source": [
    "`season_3` has high VIF score hence we drop that column."
   ]
  },
  {
   "cell_type": "code",
   "execution_count": 67,
   "id": "1266ae75",
   "metadata": {
    "ExecuteTime": {
     "end_time": "2023-04-16T05:17:00.671670Z",
     "start_time": "2023-04-16T05:17:00.655002Z"
    }
   },
   "outputs": [],
   "source": [
    "X_train_new = X_train_new.drop(['season_3'], axis = 1)"
   ]
  },
  {
   "cell_type": "markdown",
   "id": "7f7f3166",
   "metadata": {},
   "source": [
    "### Model 9"
   ]
  },
  {
   "cell_type": "code",
   "execution_count": 68,
   "id": "cd6ac40d",
   "metadata": {
    "ExecuteTime": {
     "end_time": "2023-04-16T05:17:00.717034Z",
     "start_time": "2023-04-16T05:17:00.672515Z"
    }
   },
   "outputs": [
    {
     "name": "stdout",
     "output_type": "stream",
     "text": [
      "                            OLS Regression Results                            \n",
      "==============================================================================\n",
      "Dep. Variable:                    cnt   R-squared:                       0.868\n",
      "Model:                            OLS   Adj. R-squared:                  0.864\n",
      "Method:                 Least Squares   F-statistic:                     215.8\n",
      "Date:                Sun, 16 Apr 2023   Prob (F-statistic):          4.48e-165\n",
      "Time:                        10:47:00   Log-Likelihood:                 441.40\n",
      "No. Observations:                 408   AIC:                            -856.8\n",
      "Df Residuals:                     395   BIC:                            -804.6\n",
      "Df Model:                          12                                         \n",
      "Covariance Type:            nonrobust                                         \n",
      "================================================================================\n",
      "                   coef    std err          t      P>|t|      [0.025      0.975]\n",
      "--------------------------------------------------------------------------------\n",
      "const            0.2277      0.021     10.972      0.000       0.187       0.269\n",
      "temp             0.5082      0.021     24.550      0.000       0.468       0.549\n",
      "hum             -0.1492      0.029     -5.131      0.000      -0.206      -0.092\n",
      "windspeed       -0.1111      0.022     -5.098      0.000      -0.154      -0.068\n",
      "season_2         0.0885      0.011      7.908      0.000       0.066       0.110\n",
      "season_4         0.1302      0.013     10.079      0.000       0.105       0.156\n",
      "yr_1             0.2450      0.008     29.150      0.000       0.228       0.262\n",
      "mnth_8           0.0685      0.017      4.092      0.000       0.036       0.101\n",
      "mnth_9           0.1015      0.017      5.831      0.000       0.067       0.136\n",
      "mnth_10          0.0620      0.018      3.421      0.001       0.026       0.098\n",
      "holiday_1       -0.0867      0.021     -4.161      0.000      -0.128      -0.046\n",
      "weathersit_2    -0.0453      0.011     -4.180      0.000      -0.067      -0.024\n",
      "weathersit_3    -0.2534      0.030     -8.432      0.000      -0.312      -0.194\n",
      "==============================================================================\n",
      "Omnibus:                       62.008   Durbin-Watson:                   1.914\n",
      "Prob(Omnibus):                  0.000   Jarque-Bera (JB):              164.861\n",
      "Skew:                          -0.733   Prob(JB):                     1.59e-36\n",
      "Kurtosis:                       5.747   Cond. No.                         14.6\n",
      "==============================================================================\n",
      "\n",
      "Notes:\n",
      "[1] Standard Errors assume that the covariance matrix of the errors is correctly specified.\n"
     ]
    }
   ],
   "source": [
    "X_train_new = build_model(X_train_new,y_train)"
   ]
  },
  {
   "cell_type": "code",
   "execution_count": 69,
   "id": "91f85ed7",
   "metadata": {
    "ExecuteTime": {
     "end_time": "2023-04-16T05:17:00.755649Z",
     "start_time": "2023-04-16T05:17:00.720033Z"
    }
   },
   "outputs": [
    {
     "data": {
      "text/html": [
       "<div>\n",
       "<style scoped>\n",
       "    .dataframe tbody tr th:only-of-type {\n",
       "        vertical-align: middle;\n",
       "    }\n",
       "\n",
       "    .dataframe tbody tr th {\n",
       "        vertical-align: top;\n",
       "    }\n",
       "\n",
       "    .dataframe thead th {\n",
       "        text-align: right;\n",
       "    }\n",
       "</style>\n",
       "<table border=\"1\" class=\"dataframe\">\n",
       "  <thead>\n",
       "    <tr style=\"text-align: right;\">\n",
       "      <th></th>\n",
       "      <th>Features</th>\n",
       "      <th>VIF</th>\n",
       "    </tr>\n",
       "  </thead>\n",
       "  <tbody>\n",
       "    <tr>\n",
       "      <th>0</th>\n",
       "      <td>const</td>\n",
       "      <td>25.29</td>\n",
       "    </tr>\n",
       "    <tr>\n",
       "      <th>2</th>\n",
       "      <td>hum</td>\n",
       "      <td>2.00</td>\n",
       "    </tr>\n",
       "    <tr>\n",
       "      <th>5</th>\n",
       "      <td>season_4</td>\n",
       "      <td>1.78</td>\n",
       "    </tr>\n",
       "    <tr>\n",
       "      <th>11</th>\n",
       "      <td>weathersit_2</td>\n",
       "      <td>1.57</td>\n",
       "    </tr>\n",
       "    <tr>\n",
       "      <th>9</th>\n",
       "      <td>mnth_10</td>\n",
       "      <td>1.55</td>\n",
       "    </tr>\n",
       "    <tr>\n",
       "      <th>1</th>\n",
       "      <td>temp</td>\n",
       "      <td>1.51</td>\n",
       "    </tr>\n",
       "    <tr>\n",
       "      <th>7</th>\n",
       "      <td>mnth_8</td>\n",
       "      <td>1.39</td>\n",
       "    </tr>\n",
       "    <tr>\n",
       "      <th>12</th>\n",
       "      <td>weathersit_3</td>\n",
       "      <td>1.39</td>\n",
       "    </tr>\n",
       "    <tr>\n",
       "      <th>4</th>\n",
       "      <td>season_2</td>\n",
       "      <td>1.37</td>\n",
       "    </tr>\n",
       "    <tr>\n",
       "      <th>8</th>\n",
       "      <td>mnth_9</td>\n",
       "      <td>1.25</td>\n",
       "    </tr>\n",
       "    <tr>\n",
       "      <th>3</th>\n",
       "      <td>windspeed</td>\n",
       "      <td>1.18</td>\n",
       "    </tr>\n",
       "    <tr>\n",
       "      <th>6</th>\n",
       "      <td>yr_1</td>\n",
       "      <td>1.04</td>\n",
       "    </tr>\n",
       "    <tr>\n",
       "      <th>10</th>\n",
       "      <td>holiday_1</td>\n",
       "      <td>1.02</td>\n",
       "    </tr>\n",
       "  </tbody>\n",
       "</table>\n",
       "</div>"
      ],
      "text/plain": [
       "        Features    VIF\n",
       "0          const  25.29\n",
       "2            hum   2.00\n",
       "5       season_4   1.78\n",
       "11  weathersit_2   1.57\n",
       "9        mnth_10   1.55\n",
       "1           temp   1.51\n",
       "7         mnth_8   1.39\n",
       "12  weathersit_3   1.39\n",
       "4       season_2   1.37\n",
       "8         mnth_9   1.25\n",
       "3      windspeed   1.18\n",
       "6           yr_1   1.04\n",
       "10     holiday_1   1.02"
      ]
     },
     "execution_count": 69,
     "metadata": {},
     "output_type": "execute_result"
    }
   ],
   "source": [
    "checkVIF(X_train_new)"
   ]
  },
  {
   "cell_type": "markdown",
   "id": "94552661",
   "metadata": {},
   "source": [
    "All scores are satisfactory"
   ]
  },
  {
   "cell_type": "markdown",
   "id": "a4eec4d7",
   "metadata": {},
   "source": [
    "### Residual Analysis of Model"
   ]
  },
  {
   "cell_type": "code",
   "execution_count": 70,
   "id": "91a11454",
   "metadata": {
    "ExecuteTime": {
     "end_time": "2023-04-16T05:17:00.771649Z",
     "start_time": "2023-04-16T05:17:00.757645Z"
    }
   },
   "outputs": [],
   "source": [
    "lm = sm.OLS(y_train,X_train_new).fit()\n",
    "y_train_price = lm.predict(X_train_new)"
   ]
  },
  {
   "cell_type": "code",
   "execution_count": 71,
   "id": "1b77194b",
   "metadata": {
    "ExecuteTime": {
     "end_time": "2023-04-16T05:17:00.818497Z",
     "start_time": "2023-04-16T05:17:00.773405Z"
    }
   },
   "outputs": [
    {
     "data": {
      "text/html": [
       "<table class=\"simpletable\">\n",
       "<caption>OLS Regression Results</caption>\n",
       "<tr>\n",
       "  <th>Dep. Variable:</th>           <td>cnt</td>       <th>  R-squared:         </th> <td>   0.868</td> \n",
       "</tr>\n",
       "<tr>\n",
       "  <th>Model:</th>                   <td>OLS</td>       <th>  Adj. R-squared:    </th> <td>   0.864</td> \n",
       "</tr>\n",
       "<tr>\n",
       "  <th>Method:</th>             <td>Least Squares</td>  <th>  F-statistic:       </th> <td>   215.8</td> \n",
       "</tr>\n",
       "<tr>\n",
       "  <th>Date:</th>             <td>Sun, 16 Apr 2023</td> <th>  Prob (F-statistic):</th> <td>4.48e-165</td>\n",
       "</tr>\n",
       "<tr>\n",
       "  <th>Time:</th>                 <td>10:47:00</td>     <th>  Log-Likelihood:    </th> <td>  441.40</td> \n",
       "</tr>\n",
       "<tr>\n",
       "  <th>No. Observations:</th>      <td>   408</td>      <th>  AIC:               </th> <td>  -856.8</td> \n",
       "</tr>\n",
       "<tr>\n",
       "  <th>Df Residuals:</th>          <td>   395</td>      <th>  BIC:               </th> <td>  -804.6</td> \n",
       "</tr>\n",
       "<tr>\n",
       "  <th>Df Model:</th>              <td>    12</td>      <th>                     </th>     <td> </td>    \n",
       "</tr>\n",
       "<tr>\n",
       "  <th>Covariance Type:</th>      <td>nonrobust</td>    <th>                     </th>     <td> </td>    \n",
       "</tr>\n",
       "</table>\n",
       "<table class=\"simpletable\">\n",
       "<tr>\n",
       "        <td></td>          <th>coef</th>     <th>std err</th>      <th>t</th>      <th>P>|t|</th>  <th>[0.025</th>    <th>0.975]</th>  \n",
       "</tr>\n",
       "<tr>\n",
       "  <th>const</th>        <td>    0.2277</td> <td>    0.021</td> <td>   10.972</td> <td> 0.000</td> <td>    0.187</td> <td>    0.269</td>\n",
       "</tr>\n",
       "<tr>\n",
       "  <th>temp</th>         <td>    0.5082</td> <td>    0.021</td> <td>   24.550</td> <td> 0.000</td> <td>    0.468</td> <td>    0.549</td>\n",
       "</tr>\n",
       "<tr>\n",
       "  <th>hum</th>          <td>   -0.1492</td> <td>    0.029</td> <td>   -5.131</td> <td> 0.000</td> <td>   -0.206</td> <td>   -0.092</td>\n",
       "</tr>\n",
       "<tr>\n",
       "  <th>windspeed</th>    <td>   -0.1111</td> <td>    0.022</td> <td>   -5.098</td> <td> 0.000</td> <td>   -0.154</td> <td>   -0.068</td>\n",
       "</tr>\n",
       "<tr>\n",
       "  <th>season_2</th>     <td>    0.0885</td> <td>    0.011</td> <td>    7.908</td> <td> 0.000</td> <td>    0.066</td> <td>    0.110</td>\n",
       "</tr>\n",
       "<tr>\n",
       "  <th>season_4</th>     <td>    0.1302</td> <td>    0.013</td> <td>   10.079</td> <td> 0.000</td> <td>    0.105</td> <td>    0.156</td>\n",
       "</tr>\n",
       "<tr>\n",
       "  <th>yr_1</th>         <td>    0.2450</td> <td>    0.008</td> <td>   29.150</td> <td> 0.000</td> <td>    0.228</td> <td>    0.262</td>\n",
       "</tr>\n",
       "<tr>\n",
       "  <th>mnth_8</th>       <td>    0.0685</td> <td>    0.017</td> <td>    4.092</td> <td> 0.000</td> <td>    0.036</td> <td>    0.101</td>\n",
       "</tr>\n",
       "<tr>\n",
       "  <th>mnth_9</th>       <td>    0.1015</td> <td>    0.017</td> <td>    5.831</td> <td> 0.000</td> <td>    0.067</td> <td>    0.136</td>\n",
       "</tr>\n",
       "<tr>\n",
       "  <th>mnth_10</th>      <td>    0.0620</td> <td>    0.018</td> <td>    3.421</td> <td> 0.001</td> <td>    0.026</td> <td>    0.098</td>\n",
       "</tr>\n",
       "<tr>\n",
       "  <th>holiday_1</th>    <td>   -0.0867</td> <td>    0.021</td> <td>   -4.161</td> <td> 0.000</td> <td>   -0.128</td> <td>   -0.046</td>\n",
       "</tr>\n",
       "<tr>\n",
       "  <th>weathersit_2</th> <td>   -0.0453</td> <td>    0.011</td> <td>   -4.180</td> <td> 0.000</td> <td>   -0.067</td> <td>   -0.024</td>\n",
       "</tr>\n",
       "<tr>\n",
       "  <th>weathersit_3</th> <td>   -0.2534</td> <td>    0.030</td> <td>   -8.432</td> <td> 0.000</td> <td>   -0.312</td> <td>   -0.194</td>\n",
       "</tr>\n",
       "</table>\n",
       "<table class=\"simpletable\">\n",
       "<tr>\n",
       "  <th>Omnibus:</th>       <td>62.008</td> <th>  Durbin-Watson:     </th> <td>   1.914</td>\n",
       "</tr>\n",
       "<tr>\n",
       "  <th>Prob(Omnibus):</th> <td> 0.000</td> <th>  Jarque-Bera (JB):  </th> <td> 164.861</td>\n",
       "</tr>\n",
       "<tr>\n",
       "  <th>Skew:</th>          <td>-0.733</td> <th>  Prob(JB):          </th> <td>1.59e-36</td>\n",
       "</tr>\n",
       "<tr>\n",
       "  <th>Kurtosis:</th>      <td> 5.747</td> <th>  Cond. No.          </th> <td>    14.6</td>\n",
       "</tr>\n",
       "</table><br/><br/>Notes:<br/>[1] Standard Errors assume that the covariance matrix of the errors is correctly specified."
      ],
      "text/plain": [
       "<class 'statsmodels.iolib.summary.Summary'>\n",
       "\"\"\"\n",
       "                            OLS Regression Results                            \n",
       "==============================================================================\n",
       "Dep. Variable:                    cnt   R-squared:                       0.868\n",
       "Model:                            OLS   Adj. R-squared:                  0.864\n",
       "Method:                 Least Squares   F-statistic:                     215.8\n",
       "Date:                Sun, 16 Apr 2023   Prob (F-statistic):          4.48e-165\n",
       "Time:                        10:47:00   Log-Likelihood:                 441.40\n",
       "No. Observations:                 408   AIC:                            -856.8\n",
       "Df Residuals:                     395   BIC:                            -804.6\n",
       "Df Model:                          12                                         \n",
       "Covariance Type:            nonrobust                                         \n",
       "================================================================================\n",
       "                   coef    std err          t      P>|t|      [0.025      0.975]\n",
       "--------------------------------------------------------------------------------\n",
       "const            0.2277      0.021     10.972      0.000       0.187       0.269\n",
       "temp             0.5082      0.021     24.550      0.000       0.468       0.549\n",
       "hum             -0.1492      0.029     -5.131      0.000      -0.206      -0.092\n",
       "windspeed       -0.1111      0.022     -5.098      0.000      -0.154      -0.068\n",
       "season_2         0.0885      0.011      7.908      0.000       0.066       0.110\n",
       "season_4         0.1302      0.013     10.079      0.000       0.105       0.156\n",
       "yr_1             0.2450      0.008     29.150      0.000       0.228       0.262\n",
       "mnth_8           0.0685      0.017      4.092      0.000       0.036       0.101\n",
       "mnth_9           0.1015      0.017      5.831      0.000       0.067       0.136\n",
       "mnth_10          0.0620      0.018      3.421      0.001       0.026       0.098\n",
       "holiday_1       -0.0867      0.021     -4.161      0.000      -0.128      -0.046\n",
       "weathersit_2    -0.0453      0.011     -4.180      0.000      -0.067      -0.024\n",
       "weathersit_3    -0.2534      0.030     -8.432      0.000      -0.312      -0.194\n",
       "==============================================================================\n",
       "Omnibus:                       62.008   Durbin-Watson:                   1.914\n",
       "Prob(Omnibus):                  0.000   Jarque-Bera (JB):              164.861\n",
       "Skew:                          -0.733   Prob(JB):                     1.59e-36\n",
       "Kurtosis:                       5.747   Cond. No.                         14.6\n",
       "==============================================================================\n",
       "\n",
       "Notes:\n",
       "[1] Standard Errors assume that the covariance matrix of the errors is correctly specified.\n",
       "\"\"\""
      ]
     },
     "execution_count": 71,
     "metadata": {},
     "output_type": "execute_result"
    }
   ],
   "source": [
    "lm.summary()"
   ]
  },
  {
   "cell_type": "code",
   "execution_count": 72,
   "id": "49a23fa7",
   "metadata": {
    "ExecuteTime": {
     "end_time": "2023-04-16T05:17:00.852716Z",
     "start_time": "2023-04-16T05:17:00.820965Z"
    },
    "scrolled": true
   },
   "outputs": [
    {
     "data": {
      "text/html": [
       "<div>\n",
       "<style scoped>\n",
       "    .dataframe tbody tr th:only-of-type {\n",
       "        vertical-align: middle;\n",
       "    }\n",
       "\n",
       "    .dataframe tbody tr th {\n",
       "        vertical-align: top;\n",
       "    }\n",
       "\n",
       "    .dataframe thead th {\n",
       "        text-align: right;\n",
       "    }\n",
       "</style>\n",
       "<table border=\"1\" class=\"dataframe\">\n",
       "  <thead>\n",
       "    <tr style=\"text-align: right;\">\n",
       "      <th></th>\n",
       "      <th>Actual</th>\n",
       "      <th>Predicted</th>\n",
       "      <th>Residuals</th>\n",
       "    </tr>\n",
       "  </thead>\n",
       "  <tbody>\n",
       "    <tr>\n",
       "      <th>0</th>\n",
       "      <td>0.199400</td>\n",
       "      <td>0.226314</td>\n",
       "      <td>-0.026913</td>\n",
       "    </tr>\n",
       "    <tr>\n",
       "      <th>1</th>\n",
       "      <td>0.240528</td>\n",
       "      <td>0.367211</td>\n",
       "      <td>-0.126684</td>\n",
       "    </tr>\n",
       "    <tr>\n",
       "      <th>2</th>\n",
       "      <td>0.701799</td>\n",
       "      <td>0.757069</td>\n",
       "      <td>-0.055270</td>\n",
       "    </tr>\n",
       "    <tr>\n",
       "      <th>3</th>\n",
       "      <td>0.461631</td>\n",
       "      <td>0.414756</td>\n",
       "      <td>0.046875</td>\n",
       "    </tr>\n",
       "    <tr>\n",
       "      <th>4</th>\n",
       "      <td>0.466187</td>\n",
       "      <td>0.686090</td>\n",
       "      <td>-0.219903</td>\n",
       "    </tr>\n",
       "  </tbody>\n",
       "</table>\n",
       "</div>"
      ],
      "text/plain": [
       "     Actual  Predicted  Residuals\n",
       "0  0.199400   0.226314  -0.026913\n",
       "1  0.240528   0.367211  -0.126684\n",
       "2  0.701799   0.757069  -0.055270\n",
       "3  0.461631   0.414756   0.046875\n",
       "4  0.466187   0.686090  -0.219903"
      ]
     },
     "execution_count": 72,
     "metadata": {},
     "output_type": "execute_result"
    }
   ],
   "source": [
    "resd = pd.DataFrame(zip(y_train, y_train_price),columns = ['Actual', 'Predicted'])\n",
    "resd['Residuals'] = resd['Actual'] - resd['Predicted']\n",
    "resd.head()"
   ]
  },
  {
   "cell_type": "code",
   "execution_count": 73,
   "id": "fdfc1d81",
   "metadata": {
    "ExecuteTime": {
     "end_time": "2023-04-16T05:17:00.868182Z",
     "start_time": "2023-04-16T05:17:00.853532Z"
    }
   },
   "outputs": [
    {
     "data": {
      "text/plain": [
       "-3.756526680134874e-16"
      ]
     },
     "execution_count": 73,
     "metadata": {},
     "output_type": "execute_result"
    }
   ],
   "source": [
    "np.mean(resd['Residuals'])"
   ]
  },
  {
   "cell_type": "markdown",
   "id": "21c88080",
   "metadata": {},
   "source": [
    "The mean of residuals is very close to `0`"
   ]
  },
  {
   "cell_type": "code",
   "execution_count": 74,
   "id": "ff0c4dc3",
   "metadata": {
    "ExecuteTime": {
     "end_time": "2023-04-16T05:17:01.044846Z",
     "start_time": "2023-04-16T05:17:00.870175Z"
    }
   },
   "outputs": [
    {
     "data": {
      "image/png": "[encoded data removed]",
      "text/plain": [
       "<Figure size 432x288 with 1 Axes>"
      ]
     },
     "metadata": {
      "needs_background": "light"
     },
     "output_type": "display_data"
    }
   ],
   "source": [
    "fig = plt.figure()\n",
    "sns.distplot(resd['Residuals'], bins = 20)\n",
    "fig.suptitle('Error Terms', fontsize = 20)\n",
    "plt.xlabel('Errors', fontsize = 18)\n",
    "plt.show()"
   ]
  },
  {
   "cell_type": "markdown",
   "id": "e782a66b",
   "metadata": {},
   "source": [
    "The error terms are normally distributed which is a good sign."
   ]
  },
  {
   "cell_type": "code",
   "execution_count": 75,
   "id": "8d51c577",
   "metadata": {
    "ExecuteTime": {
     "end_time": "2023-04-16T05:17:01.180704Z",
     "start_time": "2023-04-16T05:17:01.046822Z"
    }
   },
   "outputs": [
    {
     "data": {
      "image/png": "[encoded data removed]",
      "text/plain": [
       "<Figure size 432x288 with 1 Axes>"
      ]
     },
     "metadata": {
      "needs_background": "light"
     },
     "output_type": "display_data"
    }
   ],
   "source": [
    "sns.scatterplot(x = 'Predicted', y = 'Residuals', data = resd)\n",
    "plt.show()"
   ]
  },
  {
   "cell_type": "markdown",
   "id": "c8a6382e",
   "metadata": {},
   "source": [
    "There seems to be no pattern in the error terms."
   ]
  },
  {
   "cell_type": "markdown",
   "id": "5cc7f046",
   "metadata": {},
   "source": [
    "## Predictions"
   ]
  },
  {
   "cell_type": "code",
   "execution_count": 76,
   "id": "6a226aa1",
   "metadata": {
    "ExecuteTime": {
     "end_time": "2023-04-16T05:17:01.202385Z",
     "start_time": "2023-04-16T05:17:01.182681Z"
    }
   },
   "outputs": [],
   "source": [
    "X_train_new = X_train_new.drop('const',axis=1)\n",
    "X_test_new = X_test[X_train_new.columns]\n",
    "\n",
    "X_test_new = sm.add_constant(X_test_new)"
   ]
  },
  {
   "cell_type": "code",
   "execution_count": 77,
   "id": "f116f83b",
   "metadata": {
    "ExecuteTime": {
     "end_time": "2023-04-16T05:17:01.218239Z",
     "start_time": "2023-04-16T05:17:01.204487Z"
    }
   },
   "outputs": [],
   "source": [
    "y_pred = lm.predict(X_test_new)"
   ]
  },
  {
   "cell_type": "code",
   "execution_count": 78,
   "id": "a7b9179b",
   "metadata": {
    "ExecuteTime": {
     "end_time": "2023-04-16T05:17:01.237966Z",
     "start_time": "2023-04-16T05:17:01.220301Z"
    }
   },
   "outputs": [],
   "source": [
    "from sklearn.metrics import r2_score"
   ]
  },
  {
   "cell_type": "code",
   "execution_count": 79,
   "id": "06f779e8",
   "metadata": {
    "ExecuteTime": {
     "end_time": "2023-04-16T05:17:01.253644Z",
     "start_time": "2023-04-16T05:17:01.240093Z"
    }
   },
   "outputs": [
    {
     "data": {
      "text/plain": [
       "0.7979079578910016"
      ]
     },
     "execution_count": 79,
     "metadata": {},
     "output_type": "execute_result"
    }
   ],
   "source": [
    "r2_score(y_test, y_pred)"
   ]
  },
  {
   "cell_type": "code",
   "execution_count": 80,
   "id": "e5c8a3fc",
   "metadata": {
    "ExecuteTime": {
     "end_time": "2023-04-16T05:17:01.433983Z",
     "start_time": "2023-04-16T05:17:01.254212Z"
    }
   },
   "outputs": [
    {
     "data": {
      "image/png": "[encoded data removed]",
      "text/plain": [
       "<Figure size 432x288 with 1 Axes>"
      ]
     },
     "metadata": {
      "needs_background": "light"
     },
     "output_type": "display_data"
    }
   ],
   "source": [
    "fig = plt.figure()\n",
    "plt.scatter(y_test,y_pred)\n",
    "fig.suptitle('y_test vs y_pred', fontsize=20)\n",
    "plt.xlabel('y_test', fontsize=18)\n",
    "plt.ylabel('y_pred', fontsize=16)\n",
    "plt.show()"
   ]
  },
  {
   "cell_type": "code",
   "execution_count": 81,
   "id": "8245059b",
   "metadata": {
    "ExecuteTime": {
     "end_time": "2023-04-16T05:17:01.468063Z",
     "start_time": "2023-04-16T05:17:01.436777Z"
    }
   },
   "outputs": [
    {
     "data": {
      "text/html": [
       "<table class=\"simpletable\">\n",
       "<caption>OLS Regression Results</caption>\n",
       "<tr>\n",
       "  <th>Dep. Variable:</th>           <td>cnt</td>       <th>  R-squared:         </th> <td>   0.868</td> \n",
       "</tr>\n",
       "<tr>\n",
       "  <th>Model:</th>                   <td>OLS</td>       <th>  Adj. R-squared:    </th> <td>   0.864</td> \n",
       "</tr>\n",
       "<tr>\n",
       "  <th>Method:</th>             <td>Least Squares</td>  <th>  F-statistic:       </th> <td>   215.8</td> \n",
       "</tr>\n",
       "<tr>\n",
       "  <th>Date:</th>             <td>Sun, 16 Apr 2023</td> <th>  Prob (F-statistic):</th> <td>4.48e-165</td>\n",
       "</tr>\n",
       "<tr>\n",
       "  <th>Time:</th>                 <td>10:47:01</td>     <th>  Log-Likelihood:    </th> <td>  441.40</td> \n",
       "</tr>\n",
       "<tr>\n",
       "  <th>No. Observations:</th>      <td>   408</td>      <th>  AIC:               </th> <td>  -856.8</td> \n",
       "</tr>\n",
       "<tr>\n",
       "  <th>Df Residuals:</th>          <td>   395</td>      <th>  BIC:               </th> <td>  -804.6</td> \n",
       "</tr>\n",
       "<tr>\n",
       "  <th>Df Model:</th>              <td>    12</td>      <th>                     </th>     <td> </td>    \n",
       "</tr>\n",
       "<tr>\n",
       "  <th>Covariance Type:</th>      <td>nonrobust</td>    <th>                     </th>     <td> </td>    \n",
       "</tr>\n",
       "</table>\n",
       "<table class=\"simpletable\">\n",
       "<tr>\n",
       "        <td></td>          <th>coef</th>     <th>std err</th>      <th>t</th>      <th>P>|t|</th>  <th>[0.025</th>    <th>0.975]</th>  \n",
       "</tr>\n",
       "<tr>\n",
       "  <th>const</th>        <td>    0.2277</td> <td>    0.021</td> <td>   10.972</td> <td> 0.000</td> <td>    0.187</td> <td>    0.269</td>\n",
       "</tr>\n",
       "<tr>\n",
       "  <th>temp</th>         <td>    0.5082</td> <td>    0.021</td> <td>   24.550</td> <td> 0.000</td> <td>    0.468</td> <td>    0.549</td>\n",
       "</tr>\n",
       "<tr>\n",
       "  <th>hum</th>          <td>   -0.1492</td> <td>    0.029</td> <td>   -5.131</td> <td> 0.000</td> <td>   -0.206</td> <td>   -0.092</td>\n",
       "</tr>\n",
       "<tr>\n",
       "  <th>windspeed</th>    <td>   -0.1111</td> <td>    0.022</td> <td>   -5.098</td> <td> 0.000</td> <td>   -0.154</td> <td>   -0.068</td>\n",
       "</tr>\n",
       "<tr>\n",
       "  <th>season_2</th>     <td>    0.0885</td> <td>    0.011</td> <td>    7.908</td> <td> 0.000</td> <td>    0.066</td> <td>    0.110</td>\n",
       "</tr>\n",
       "<tr>\n",
       "  <th>season_4</th>     <td>    0.1302</td> <td>    0.013</td> <td>   10.079</td> <td> 0.000</td> <td>    0.105</td> <td>    0.156</td>\n",
       "</tr>\n",
       "<tr>\n",
       "  <th>yr_1</th>         <td>    0.2450</td> <td>    0.008</td> <td>   29.150</td> <td> 0.000</td> <td>    0.228</td> <td>    0.262</td>\n",
       "</tr>\n",
       "<tr>\n",
       "  <th>mnth_8</th>       <td>    0.0685</td> <td>    0.017</td> <td>    4.092</td> <td> 0.000</td> <td>    0.036</td> <td>    0.101</td>\n",
       "</tr>\n",
       "<tr>\n",
       "  <th>mnth_9</th>       <td>    0.1015</td> <td>    0.017</td> <td>    5.831</td> <td> 0.000</td> <td>    0.067</td> <td>    0.136</td>\n",
       "</tr>\n",
       "<tr>\n",
       "  <th>mnth_10</th>      <td>    0.0620</td> <td>    0.018</td> <td>    3.421</td> <td> 0.001</td> <td>    0.026</td> <td>    0.098</td>\n",
       "</tr>\n",
       "<tr>\n",
       "  <th>holiday_1</th>    <td>   -0.0867</td> <td>    0.021</td> <td>   -4.161</td> <td> 0.000</td> <td>   -0.128</td> <td>   -0.046</td>\n",
       "</tr>\n",
       "<tr>\n",
       "  <th>weathersit_2</th> <td>   -0.0453</td> <td>    0.011</td> <td>   -4.180</td> <td> 0.000</td> <td>   -0.067</td> <td>   -0.024</td>\n",
       "</tr>\n",
       "<tr>\n",
       "  <th>weathersit_3</th> <td>   -0.2534</td> <td>    0.030</td> <td>   -8.432</td> <td> 0.000</td> <td>   -0.312</td> <td>   -0.194</td>\n",
       "</tr>\n",
       "</table>\n",
       "<table class=\"simpletable\">\n",
       "<tr>\n",
       "  <th>Omnibus:</th>       <td>62.008</td> <th>  Durbin-Watson:     </th> <td>   1.914</td>\n",
       "</tr>\n",
       "<tr>\n",
       "  <th>Prob(Omnibus):</th> <td> 0.000</td> <th>  Jarque-Bera (JB):  </th> <td> 164.861</td>\n",
       "</tr>\n",
       "<tr>\n",
       "  <th>Skew:</th>          <td>-0.733</td> <th>  Prob(JB):          </th> <td>1.59e-36</td>\n",
       "</tr>\n",
       "<tr>\n",
       "  <th>Kurtosis:</th>      <td> 5.747</td> <th>  Cond. No.          </th> <td>    14.6</td>\n",
       "</tr>\n",
       "</table><br/><br/>Notes:<br/>[1] Standard Errors assume that the covariance matrix of the errors is correctly specified."
      ],
      "text/plain": [
       "<class 'statsmodels.iolib.summary.Summary'>\n",
       "\"\"\"\n",
       "                            OLS Regression Results                            \n",
       "==============================================================================\n",
       "Dep. Variable:                    cnt   R-squared:                       0.868\n",
       "Model:                            OLS   Adj. R-squared:                  0.864\n",
       "Method:                 Least Squares   F-statistic:                     215.8\n",
       "Date:                Sun, 16 Apr 2023   Prob (F-statistic):          4.48e-165\n",
       "Time:                        10:47:01   Log-Likelihood:                 441.40\n",
       "No. Observations:                 408   AIC:                            -856.8\n",
       "Df Residuals:                     395   BIC:                            -804.6\n",
       "Df Model:                          12                                         \n",
       "Covariance Type:            nonrobust                                         \n",
       "================================================================================\n",
       "                   coef    std err          t      P>|t|      [0.025      0.975]\n",
       "--------------------------------------------------------------------------------\n",
       "const            0.2277      0.021     10.972      0.000       0.187       0.269\n",
       "temp             0.5082      0.021     24.550      0.000       0.468       0.549\n",
       "hum             -0.1492      0.029     -5.131      0.000      -0.206      -0.092\n",
       "windspeed       -0.1111      0.022     -5.098      0.000      -0.154      -0.068\n",
       "season_2         0.0885      0.011      7.908      0.000       0.066       0.110\n",
       "season_4         0.1302      0.013     10.079      0.000       0.105       0.156\n",
       "yr_1             0.2450      0.008     29.150      0.000       0.228       0.262\n",
       "mnth_8           0.0685      0.017      4.092      0.000       0.036       0.101\n",
       "mnth_9           0.1015      0.017      5.831      0.000       0.067       0.136\n",
       "mnth_10          0.0620      0.018      3.421      0.001       0.026       0.098\n",
       "holiday_1       -0.0867      0.021     -4.161      0.000      -0.128      -0.046\n",
       "weathersit_2    -0.0453      0.011     -4.180      0.000      -0.067      -0.024\n",
       "weathersit_3    -0.2534      0.030     -8.432      0.000      -0.312      -0.194\n",
       "==============================================================================\n",
       "Omnibus:                       62.008   Durbin-Watson:                   1.914\n",
       "Prob(Omnibus):                  0.000   Jarque-Bera (JB):              164.861\n",
       "Skew:                          -0.733   Prob(JB):                     1.59e-36\n",
       "Kurtosis:                       5.747   Cond. No.                         14.6\n",
       "==============================================================================\n",
       "\n",
       "Notes:\n",
       "[1] Standard Errors assume that the covariance matrix of the errors is correctly specified.\n",
       "\"\"\""
      ]
     },
     "execution_count": 81,
     "metadata": {},
     "output_type": "execute_result"
    }
   ],
   "source": [
    "lm.summary()"
   ]
  }
 ],
 "metadata": {
  "kernelspec": {
   "display_name": "Python 3 (ipykernel)",
   "language": "python",
   "name": "python3"
  },
  "language_info": {
   "codemirror_mode": {
    "name": "ipython",
    "version": 3
   },
   "file_extension": ".py",
   "mimetype": "text/x-python",
   "name": "python",
   "nbconvert_exporter": "python",
   "pygments_lexer": "ipython3",
   "version": "3.9.12"
  }
 },
 "nbformat": 4,
 "nbformat_minor": 5
}
