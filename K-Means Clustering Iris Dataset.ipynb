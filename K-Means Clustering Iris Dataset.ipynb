{
 "cells": [
  {
   "cell_type": "markdown",
   "id": "ff97fc2e",
   "metadata": {},
   "source": [
    "# K-Means Clustering"
   ]
  },
  {
   "cell_type": "markdown",
   "id": "e62d6f7c",
   "metadata": {},
   "source": [
    "In this exercise we will use KMeans clustering to create clusters in the iris dataset and then compare them with the original to see how accurate they are."
   ]
  },
  {
   "cell_type": "markdown",
   "id": "e7ccae75",
   "metadata": {},
   "source": [
    "## Importing Necessary Libraries"
   ]
  },
  {
   "cell_type": "code",
   "execution_count": 1,
   "id": "407a5bbe",
   "metadata": {
    "ExecuteTime": {
     "end_time": "2023-04-19T12:44:02.298010Z",
     "start_time": "2023-04-19T12:44:00.134328Z"
    }
   },
   "outputs": [],
   "source": [
    "import pandas as pd\n",
    "import numpy as np\n",
    "import matplotlib.pyplot as plt\n",
    "import seaborn as sns\n",
    "\n",
    "import warnings\n",
    "warnings.filterwarnings('ignore')"
   ]
  },
  {
   "cell_type": "markdown",
   "id": "73d0e45e",
   "metadata": {},
   "source": [
    "## Data Preparation"
   ]
  },
  {
   "cell_type": "code",
   "execution_count": 2,
   "id": "89b7b8a6",
   "metadata": {
    "ExecuteTime": {
     "end_time": "2023-04-19T12:44:02.332173Z",
     "start_time": "2023-04-19T12:44:02.298010Z"
    }
   },
   "outputs": [
    {
     "data": {
      "text/html": [
       "<div>\n",
       "<style scoped>\n",
       "    .dataframe tbody tr th:only-of-type {\n",
       "        vertical-align: middle;\n",
       "    }\n",
       "\n",
       "    .dataframe tbody tr th {\n",
       "        vertical-align: top;\n",
       "    }\n",
       "\n",
       "    .dataframe thead th {\n",
       "        text-align: right;\n",
       "    }\n",
       "</style>\n",
       "<table border=\"1\" class=\"dataframe\">\n",
       "  <thead>\n",
       "    <tr style=\"text-align: right;\">\n",
       "      <th></th>\n",
       "      <th>sepallength</th>\n",
       "      <th>sepalwidth</th>\n",
       "      <th>petallength</th>\n",
       "      <th>petalwidth</th>\n",
       "      <th>class</th>\n",
       "    </tr>\n",
       "  </thead>\n",
       "  <tbody>\n",
       "    <tr>\n",
       "      <th>0</th>\n",
       "      <td>5.1</td>\n",
       "      <td>3.5</td>\n",
       "      <td>1.4</td>\n",
       "      <td>0.2</td>\n",
       "      <td>Iris-setosa</td>\n",
       "    </tr>\n",
       "    <tr>\n",
       "      <th>1</th>\n",
       "      <td>4.9</td>\n",
       "      <td>3.0</td>\n",
       "      <td>1.4</td>\n",
       "      <td>0.2</td>\n",
       "      <td>Iris-setosa</td>\n",
       "    </tr>\n",
       "    <tr>\n",
       "      <th>2</th>\n",
       "      <td>4.7</td>\n",
       "      <td>3.2</td>\n",
       "      <td>1.3</td>\n",
       "      <td>0.2</td>\n",
       "      <td>Iris-setosa</td>\n",
       "    </tr>\n",
       "    <tr>\n",
       "      <th>3</th>\n",
       "      <td>4.6</td>\n",
       "      <td>3.1</td>\n",
       "      <td>1.5</td>\n",
       "      <td>0.2</td>\n",
       "      <td>Iris-setosa</td>\n",
       "    </tr>\n",
       "    <tr>\n",
       "      <th>4</th>\n",
       "      <td>5.0</td>\n",
       "      <td>3.6</td>\n",
       "      <td>1.4</td>\n",
       "      <td>0.2</td>\n",
       "      <td>Iris-setosa</td>\n",
       "    </tr>\n",
       "  </tbody>\n",
       "</table>\n",
       "</div>"
      ],
      "text/plain": [
       "   sepallength  sepalwidth  petallength  petalwidth        class\n",
       "0          5.1         3.5          1.4         0.2  Iris-setosa\n",
       "1          4.9         3.0          1.4         0.2  Iris-setosa\n",
       "2          4.7         3.2          1.3         0.2  Iris-setosa\n",
       "3          4.6         3.1          1.5         0.2  Iris-setosa\n",
       "4          5.0         3.6          1.4         0.2  Iris-setosa"
      ]
     },
     "execution_count": 2,
     "metadata": {},
     "output_type": "execute_result"
    }
   ],
   "source": [
    "iris = pd.read_csv('iris.csv')\n",
    "iris.head()"
   ]
  },
  {
   "cell_type": "code",
   "execution_count": 3,
   "id": "d2d95bdc",
   "metadata": {
    "ExecuteTime": {
     "end_time": "2023-04-19T12:44:02.354188Z",
     "start_time": "2023-04-19T12:44:02.332173Z"
    }
   },
   "outputs": [
    {
     "name": "stdout",
     "output_type": "stream",
     "text": [
      "<class 'pandas.core.frame.DataFrame'>\n",
      "RangeIndex: 150 entries, 0 to 149\n",
      "Data columns (total 5 columns):\n",
      " #   Column       Non-Null Count  Dtype  \n",
      "---  ------       --------------  -----  \n",
      " 0   sepallength  150 non-null    float64\n",
      " 1   sepalwidth   150 non-null    float64\n",
      " 2   petallength  150 non-null    float64\n",
      " 3   petalwidth   150 non-null    float64\n",
      " 4   class        150 non-null    object \n",
      "dtypes: float64(4), object(1)\n",
      "memory usage: 6.0+ KB\n"
     ]
    }
   ],
   "source": [
    "iris.info()"
   ]
  },
  {
   "cell_type": "code",
   "execution_count": 4,
   "id": "bb4b36a1",
   "metadata": {
    "ExecuteTime": {
     "end_time": "2023-04-19T12:44:02.365301Z",
     "start_time": "2023-04-19T12:44:02.354188Z"
    }
   },
   "outputs": [],
   "source": [
    "df = iris.copy()"
   ]
  },
  {
   "cell_type": "markdown",
   "id": "b9c9fea8",
   "metadata": {},
   "source": [
    "We copy the iris dataset to perform our operations on it and compare it with the original dataset."
   ]
  },
  {
   "cell_type": "code",
   "execution_count": 5,
   "id": "39ee8072",
   "metadata": {
    "ExecuteTime": {
     "end_time": "2023-04-19T12:44:02.376336Z",
     "start_time": "2023-04-19T12:44:02.366217Z"
    }
   },
   "outputs": [
    {
     "data": {
      "text/plain": [
       "array(['Iris-setosa', 'Iris-versicolor', 'Iris-virginica'], dtype=object)"
      ]
     },
     "execution_count": 5,
     "metadata": {},
     "output_type": "execute_result"
    }
   ],
   "source": [
    "df['class'].unique()"
   ]
  },
  {
   "cell_type": "markdown",
   "id": "ba22c635",
   "metadata": {},
   "source": [
    "We see that there are 3 unique species. Now we will check whether our clustering model predicts the same."
   ]
  },
  {
   "cell_type": "code",
   "execution_count": 6,
   "id": "77832514",
   "metadata": {
    "ExecuteTime": {
     "end_time": "2023-04-19T12:44:02.407507Z",
     "start_time": "2023-04-19T12:44:02.376336Z"
    }
   },
   "outputs": [
    {
     "data": {
      "text/html": [
       "<div>\n",
       "<style scoped>\n",
       "    .dataframe tbody tr th:only-of-type {\n",
       "        vertical-align: middle;\n",
       "    }\n",
       "\n",
       "    .dataframe tbody tr th {\n",
       "        vertical-align: top;\n",
       "    }\n",
       "\n",
       "    .dataframe thead th {\n",
       "        text-align: right;\n",
       "    }\n",
       "</style>\n",
       "<table border=\"1\" class=\"dataframe\">\n",
       "  <thead>\n",
       "    <tr style=\"text-align: right;\">\n",
       "      <th></th>\n",
       "      <th>sepallength</th>\n",
       "      <th>sepalwidth</th>\n",
       "      <th>petallength</th>\n",
       "      <th>petalwidth</th>\n",
       "    </tr>\n",
       "  </thead>\n",
       "  <tbody>\n",
       "    <tr>\n",
       "      <th>0</th>\n",
       "      <td>5.1</td>\n",
       "      <td>3.5</td>\n",
       "      <td>1.4</td>\n",
       "      <td>0.2</td>\n",
       "    </tr>\n",
       "    <tr>\n",
       "      <th>1</th>\n",
       "      <td>4.9</td>\n",
       "      <td>3.0</td>\n",
       "      <td>1.4</td>\n",
       "      <td>0.2</td>\n",
       "    </tr>\n",
       "    <tr>\n",
       "      <th>2</th>\n",
       "      <td>4.7</td>\n",
       "      <td>3.2</td>\n",
       "      <td>1.3</td>\n",
       "      <td>0.2</td>\n",
       "    </tr>\n",
       "    <tr>\n",
       "      <th>3</th>\n",
       "      <td>4.6</td>\n",
       "      <td>3.1</td>\n",
       "      <td>1.5</td>\n",
       "      <td>0.2</td>\n",
       "    </tr>\n",
       "    <tr>\n",
       "      <th>4</th>\n",
       "      <td>5.0</td>\n",
       "      <td>3.6</td>\n",
       "      <td>1.4</td>\n",
       "      <td>0.2</td>\n",
       "    </tr>\n",
       "  </tbody>\n",
       "</table>\n",
       "</div>"
      ],
      "text/plain": [
       "   sepallength  sepalwidth  petallength  petalwidth\n",
       "0          5.1         3.5          1.4         0.2\n",
       "1          4.9         3.0          1.4         0.2\n",
       "2          4.7         3.2          1.3         0.2\n",
       "3          4.6         3.1          1.5         0.2\n",
       "4          5.0         3.6          1.4         0.2"
      ]
     },
     "execution_count": 6,
     "metadata": {},
     "output_type": "execute_result"
    }
   ],
   "source": [
    "df.drop(['class'], axis = 1, inplace = True)\n",
    "df.head()"
   ]
  },
  {
   "cell_type": "markdown",
   "id": "0046fbbe",
   "metadata": {},
   "source": [
    "We dropped the `class` column as it was redundant for our exercise."
   ]
  },
  {
   "cell_type": "markdown",
   "id": "eacc6095",
   "metadata": {},
   "source": [
    "## Model Development"
   ]
  },
  {
   "cell_type": "markdown",
   "id": "20d67a47",
   "metadata": {},
   "source": [
    "First we will run the Hopkin's Clustering Test on the dataset. We begin by defining the `hopkins()` function."
   ]
  },
  {
   "cell_type": "code",
   "execution_count": 7,
   "id": "36af7a4f",
   "metadata": {
    "ExecuteTime": {
     "end_time": "2023-04-19T12:44:02.617940Z",
     "start_time": "2023-04-19T12:44:02.407507Z"
    }
   },
   "outputs": [],
   "source": [
    "from sklearn.neighbors import NearestNeighbors\n",
    "from random import sample\n",
    "from numpy.random import uniform\n",
    "from math import isnan\n",
    " \n",
    "def hopkins(X):\n",
    "    d = X.shape[1] # columns\n",
    "    n = len(X) # rows\n",
    "    m = int(0.1 * n) \n",
    "    nbrs = NearestNeighbors(n_neighbors=1).fit(X.values)\n",
    " \n",
    "    rand_X = sample(range(0, n, 1), m)\n",
    " \n",
    "    ujd = []\n",
    "    wjd = []\n",
    "    for j in range(0, m):\n",
    "        u_dist, _ = nbrs.kneighbors(uniform(np.amin(X,axis=0),np.amax(X,axis=0),d).reshape(1, -1), 2, return_distance=True)\n",
    "        ujd.append(u_dist[0][1])\n",
    "        w_dist, _ = nbrs.kneighbors(X.iloc[rand_X[j]].values.reshape(1, -1), 2, return_distance=True)\n",
    "        wjd.append(w_dist[0][1])\n",
    " \n",
    "    H = sum(ujd) / (sum(ujd) + sum(wjd))\n",
    "    if isnan(H):\n",
    "        print(ujd, wjd)\n",
    "        H = 0\n",
    " \n",
    "    return H"
   ]
  },
  {
   "cell_type": "markdown",
   "id": "ef55cb83",
   "metadata": {},
   "source": [
    "Since Hopkin's test produces a slightly different value each time we will iterate it for `1000` times and then take its mean."
   ]
  },
  {
   "cell_type": "code",
   "execution_count": 8,
   "id": "8975f982",
   "metadata": {
    "ExecuteTime": {
     "end_time": "2023-04-19T12:44:53.305714Z",
     "start_time": "2023-04-19T12:44:02.617940Z"
    }
   },
   "outputs": [
    {
     "data": {
      "text/plain": [
       "0.842680849830881"
      ]
     },
     "execution_count": 8,
     "metadata": {},
     "output_type": "execute_result"
    }
   ],
   "source": [
    "hopkins_stat = []\n",
    "for i in range(1000):\n",
    "    hopkins_stat.append(hopkins(df))\n",
    "    \n",
    "sum(hopkins_stat)/len(hopkins_stat)"
   ]
  },
  {
   "cell_type": "markdown",
   "id": "151212d8",
   "metadata": {},
   "source": [
    "The mean value is `0.84` which means our dataset has a high tendency for clustering. Now we will train the model. We will use elbow curve method for determining the number of clusters."
   ]
  },
  {
   "cell_type": "code",
   "execution_count": 9,
   "id": "1c39b82e",
   "metadata": {
    "ExecuteTime": {
     "end_time": "2023-04-19T12:44:53.430523Z",
     "start_time": "2023-04-19T12:44:53.305714Z"
    }
   },
   "outputs": [],
   "source": [
    "from sklearn.cluster import KMeans"
   ]
  },
  {
   "cell_type": "markdown",
   "id": "4b2bad52",
   "metadata": {},
   "source": [
    "If we set number of clusters as `1` we will get an error so we will calculate it manually. For `n_clusters = 1` the data will have a single centroid and we have to calculate the sum of the square of distance between the centroid and the remaining data points. First we will calculate the centroid."
   ]
  },
  {
   "cell_type": "code",
   "execution_count": 10,
   "id": "95727a2f",
   "metadata": {
    "ExecuteTime": {
     "end_time": "2023-04-19T12:44:53.459698Z",
     "start_time": "2023-04-19T12:44:53.431602Z"
    }
   },
   "outputs": [
    {
     "data": {
      "text/plain": [
       "array([5.84333333, 3.054     , 3.75866667, 1.19866667])"
      ]
     },
     "execution_count": 10,
     "metadata": {},
     "output_type": "execute_result"
    }
   ],
   "source": [
    "centroid = np.mean(df, axis = 0)\n",
    "centroid = centroid.values\n",
    "centroid"
   ]
  },
  {
   "cell_type": "markdown",
   "id": "39a70bc0",
   "metadata": {},
   "source": [
    "Now we will create two UDFs to calculate the distance between 2 points and the sum of those distances."
   ]
  },
  {
   "cell_type": "code",
   "execution_count": 11,
   "id": "acdb92a1",
   "metadata": {
    "ExecuteTime": {
     "end_time": "2023-04-19T12:44:53.483702Z",
     "start_time": "2023-04-19T12:44:53.459698Z"
    }
   },
   "outputs": [],
   "source": [
    "def euclidean_distance(point1, point2):\n",
    "    \"\"\"Calculate the Euclidean distance between two points.\"\"\"\n",
    "    return np.sqrt(np.sum((point1 - point2)**2))\n",
    "\n",
    "def sum_euclidean_distance(centroid, data_points):\n",
    "    \"\"\"Calculate the sum of Euclidean distances between the centroid and all data points.\"\"\"\n",
    "    sum_distance = 0\n",
    "    for point in data_points:\n",
    "        sum_distance += euclidean_distance(centroid, point)\n",
    "    return sum_distance"
   ]
  },
  {
   "cell_type": "code",
   "execution_count": 12,
   "id": "968f74f0",
   "metadata": {
    "ExecuteTime": {
     "end_time": "2023-04-19T12:44:53.517747Z",
     "start_time": "2023-04-19T12:44:53.483702Z"
    }
   },
   "outputs": [
    {
     "data": {
      "text/plain": [
       "291.4551238555539"
      ]
     },
     "execution_count": 12,
     "metadata": {},
     "output_type": "execute_result"
    }
   ],
   "source": [
    "sum_euclidean_distance(centroid, df.values)"
   ]
  },
  {
   "cell_type": "markdown",
   "id": "703bd5dd",
   "metadata": {},
   "source": [
    "The inertia for `n_clusters = 1` is `291.45`. We will insert that value in the list of inertias."
   ]
  },
  {
   "cell_type": "code",
   "execution_count": 13,
   "id": "1f538ee0",
   "metadata": {
    "ExecuteTime": {
     "end_time": "2023-04-19T12:44:54.766522Z",
     "start_time": "2023-04-19T12:44:53.521789Z"
    }
   },
   "outputs": [
    {
     "data": {
      "image/png": "[encoded data removed]",
      "text/plain": [
       "<Figure size 720x360 with 1 Axes>"
      ]
     },
     "metadata": {
      "needs_background": "light"
     },
     "output_type": "display_data"
    }
   ],
   "source": [
    "# Define a list of number of clusters to try\n",
    "n_clusters = range(2, 11)\n",
    "\n",
    "# Initialize an list with inertia value for n = 1 to store the inertia values for other n\n",
    "inertias = [291.45]\n",
    "\n",
    "# Perform K-means clustering for different number of clusters\n",
    "for n in n_clusters:\n",
    "    kmeans = KMeans(n_clusters=n, init='k-means++', max_iter=300, random_state=0)\n",
    "    kmeans.fit(df)\n",
    "    inertias.append(kmeans.inertia_)\n",
    "\n",
    "# Plot the inertia values vs. number of clusters\n",
    "plt.figure(figsize = (10,5))\n",
    "plt.plot(range(1,11), inertias, marker='o')\n",
    "plt.xlabel('Number of Clusters')\n",
    "plt.ylabel('Inertia')\n",
    "plt.title('Elbow Method for K-means Clustering on Iris Dataset')\n",
    "plt.show()"
   ]
  },
  {
   "cell_type": "markdown",
   "id": "3efb6b37",
   "metadata": {},
   "source": [
    "The elbow point is at `n = 3` which is in accordance with our dataset. We will now train the model for 3 clusters and then compare the results with original dataset."
   ]
  },
  {
   "cell_type": "code",
   "execution_count": 14,
   "id": "8d79e081",
   "metadata": {
    "ExecuteTime": {
     "end_time": "2023-04-19T12:44:54.879178Z",
     "start_time": "2023-04-19T12:44:54.766522Z"
    }
   },
   "outputs": [
    {
     "data": {
      "text/plain": [
       "KMeans(n_clusters=3, random_state=0)"
      ]
     },
     "execution_count": 14,
     "metadata": {},
     "output_type": "execute_result"
    }
   ],
   "source": [
    "kmeans_3 = KMeans(n_clusters = 3, init='k-means++', max_iter=300, random_state=0)\n",
    "kmeans_3.fit(df)"
   ]
  },
  {
   "cell_type": "code",
   "execution_count": 15,
   "id": "de7e1324",
   "metadata": {
    "ExecuteTime": {
     "end_time": "2023-04-19T12:44:54.897840Z",
     "start_time": "2023-04-19T12:44:54.879178Z"
    }
   },
   "outputs": [
    {
     "data": {
      "text/plain": [
       "array([1, 1, 1, 1, 1, 1, 1, 1, 1, 1, 1, 1, 1, 1, 1, 1, 1, 1, 1, 1, 1, 1,\n",
       "       1, 1, 1, 1, 1, 1, 1, 1, 1, 1, 1, 1, 1, 1, 1, 1, 1, 1, 1, 1, 1, 1,\n",
       "       1, 1, 1, 1, 1, 1, 0, 0, 2, 0, 0, 0, 0, 0, 0, 0, 0, 0, 0, 0, 0, 0,\n",
       "       0, 0, 0, 0, 0, 0, 0, 0, 0, 0, 0, 2, 0, 0, 0, 0, 0, 0, 0, 0, 0, 0,\n",
       "       0, 0, 0, 0, 0, 0, 0, 0, 0, 0, 0, 0, 2, 0, 2, 2, 2, 2, 0, 2, 2, 2,\n",
       "       2, 2, 2, 0, 0, 2, 2, 2, 2, 0, 2, 0, 2, 0, 2, 2, 0, 0, 2, 2, 2, 2,\n",
       "       2, 0, 2, 2, 2, 2, 0, 2, 2, 2, 0, 2, 2, 2, 0, 2, 2, 0])"
      ]
     },
     "execution_count": 15,
     "metadata": {},
     "output_type": "execute_result"
    }
   ],
   "source": [
    "kmeans_3.labels_"
   ]
  },
  {
   "cell_type": "code",
   "execution_count": 16,
   "id": "857e8352",
   "metadata": {
    "ExecuteTime": {
     "end_time": "2023-04-19T12:44:54.926784Z",
     "start_time": "2023-04-19T12:44:54.907328Z"
    }
   },
   "outputs": [
    {
     "data": {
      "text/plain": [
       "array([[5.9016129 , 2.7483871 , 4.39354839, 1.43387097],\n",
       "       [5.006     , 3.418     , 1.464     , 0.244     ],\n",
       "       [6.85      , 3.07368421, 5.74210526, 2.07105263]])"
      ]
     },
     "execution_count": 16,
     "metadata": {},
     "output_type": "execute_result"
    }
   ],
   "source": [
    "kmeans_3.cluster_centers_"
   ]
  },
  {
   "cell_type": "markdown",
   "id": "da44152a",
   "metadata": {},
   "source": [
    "These are the cluster centroids."
   ]
  },
  {
   "cell_type": "code",
   "execution_count": 17,
   "id": "187b1c3b",
   "metadata": {
    "ExecuteTime": {
     "end_time": "2023-04-19T12:44:54.968385Z",
     "start_time": "2023-04-19T12:44:54.927809Z"
    }
   },
   "outputs": [
    {
     "data": {
      "text/html": [
       "<div>\n",
       "<style scoped>\n",
       "    .dataframe tbody tr th:only-of-type {\n",
       "        vertical-align: middle;\n",
       "    }\n",
       "\n",
       "    .dataframe tbody tr th {\n",
       "        vertical-align: top;\n",
       "    }\n",
       "\n",
       "    .dataframe thead th {\n",
       "        text-align: right;\n",
       "    }\n",
       "</style>\n",
       "<table border=\"1\" class=\"dataframe\">\n",
       "  <thead>\n",
       "    <tr style=\"text-align: right;\">\n",
       "      <th></th>\n",
       "      <th>sepallength</th>\n",
       "      <th>sepalwidth</th>\n",
       "      <th>petallength</th>\n",
       "      <th>petalwidth</th>\n",
       "      <th>cluster</th>\n",
       "    </tr>\n",
       "  </thead>\n",
       "  <tbody>\n",
       "    <tr>\n",
       "      <th>0</th>\n",
       "      <td>5.1</td>\n",
       "      <td>3.5</td>\n",
       "      <td>1.4</td>\n",
       "      <td>0.2</td>\n",
       "      <td>1</td>\n",
       "    </tr>\n",
       "    <tr>\n",
       "      <th>1</th>\n",
       "      <td>4.9</td>\n",
       "      <td>3.0</td>\n",
       "      <td>1.4</td>\n",
       "      <td>0.2</td>\n",
       "      <td>1</td>\n",
       "    </tr>\n",
       "    <tr>\n",
       "      <th>2</th>\n",
       "      <td>4.7</td>\n",
       "      <td>3.2</td>\n",
       "      <td>1.3</td>\n",
       "      <td>0.2</td>\n",
       "      <td>1</td>\n",
       "    </tr>\n",
       "    <tr>\n",
       "      <th>3</th>\n",
       "      <td>4.6</td>\n",
       "      <td>3.1</td>\n",
       "      <td>1.5</td>\n",
       "      <td>0.2</td>\n",
       "      <td>1</td>\n",
       "    </tr>\n",
       "    <tr>\n",
       "      <th>4</th>\n",
       "      <td>5.0</td>\n",
       "      <td>3.6</td>\n",
       "      <td>1.4</td>\n",
       "      <td>0.2</td>\n",
       "      <td>1</td>\n",
       "    </tr>\n",
       "  </tbody>\n",
       "</table>\n",
       "</div>"
      ],
      "text/plain": [
       "   sepallength  sepalwidth  petallength  petalwidth  cluster\n",
       "0          5.1         3.5          1.4         0.2        1\n",
       "1          4.9         3.0          1.4         0.2        1\n",
       "2          4.7         3.2          1.3         0.2        1\n",
       "3          4.6         3.1          1.5         0.2        1\n",
       "4          5.0         3.6          1.4         0.2        1"
      ]
     },
     "execution_count": 17,
     "metadata": {},
     "output_type": "execute_result"
    }
   ],
   "source": [
    "df['cluster'] = kmeans_3.labels_\n",
    "df.head()"
   ]
  },
  {
   "cell_type": "markdown",
   "id": "02878832",
   "metadata": {},
   "source": [
    "## Result Verification"
   ]
  },
  {
   "cell_type": "markdown",
   "id": "249bdfdd",
   "metadata": {},
   "source": [
    "First we will plot the scatterplot of `sepallength` vs `sepalwidth` of both datasets side by side with hue as `class`."
   ]
  },
  {
   "cell_type": "code",
   "execution_count": 18,
   "id": "a9b2f87c",
   "metadata": {
    "ExecuteTime": {
     "end_time": "2023-04-19T12:44:56.258209Z",
     "start_time": "2023-04-19T12:44:54.968385Z"
    }
   },
   "outputs": [
    {
     "data": {
      "image/png": "[encoded data removed]",
      "text/plain": [
       "<Figure size 2160x576 with 2 Axes>"
      ]
     },
     "metadata": {
      "needs_background": "light"
     },
     "output_type": "display_data"
    }
   ],
   "source": [
    "plt.figure(figsize=(30,8))\n",
    "\n",
    "plt.subplot(1,2,1)\n",
    "sns.scatterplot(x = 'sepallength', y = 'sepalwidth', data = iris, hue = 'class', palette = 'deep')\n",
    "plt.title('Iris Dataset', fontsize = 14)\n",
    "plt.legend(title = 'class', bbox_to_anchor=(1, 1), loc = 0)\n",
    "\n",
    "plt.subplot(1,2,2)\n",
    "sns.scatterplot(x = 'sepallength', y = 'sepalwidth', data = df, hue = 'cluster', palette = 'viridis')\n",
    "plt.title('KMeans Model', fontsize = 14)\n",
    "plt.legend(title = 'cluster', bbox_to_anchor=(1, 1), loc = 0)\n",
    "\n",
    "plt.suptitle(\"Sepallength vs Sepalwidth\", fontsize = 20)\n",
    "plt.show()"
   ]
  },
  {
   "cell_type": "markdown",
   "id": "17afc078",
   "metadata": {},
   "source": [
    "Our model did a great job at creating the clusters. Now we will check the `petallength` vs `petalwidth` graph."
   ]
  },
  {
   "cell_type": "code",
   "execution_count": 19,
   "id": "4b87c66f",
   "metadata": {
    "ExecuteTime": {
     "end_time": "2023-04-19T12:44:57.413072Z",
     "start_time": "2023-04-19T12:44:56.258209Z"
    }
   },
   "outputs": [
    {
     "data": {
      "image/png": "[encoded data removed]",
      "text/plain": [
       "<Figure size 2160x576 with 2 Axes>"
      ]
     },
     "metadata": {
      "needs_background": "light"
     },
     "output_type": "display_data"
    }
   ],
   "source": [
    "plt.figure(figsize=(30,8))\n",
    "\n",
    "plt.subplot(1,2,1)\n",
    "sns.scatterplot(x = 'petallength', y = 'petalwidth', data = iris, hue = 'class', palette = 'deep')\n",
    "plt.title('Iris Dataset', fontsize = 14)\n",
    "plt.legend(title = 'class', bbox_to_anchor=(1, 1))\n",
    "\n",
    "plt.subplot(1,2,2)\n",
    "sns.scatterplot(x = 'petallength', y = 'petalwidth', data = df, hue = 'cluster', palette = 'viridis')\n",
    "plt.title('KMeans Model', fontsize = 14)\n",
    "plt.legend(title = 'cluster', bbox_to_anchor=(1, 1))\n",
    "\n",
    "plt.suptitle(\"Petalength vs Petalwidth\", fontsize = 20)\n",
    "plt.show()"
   ]
  },
  {
   "cell_type": "markdown",
   "id": "2272d4ed",
   "metadata": {},
   "source": [
    "From both the plots, even though there were some mistakes, we can conclude that our model did a great job of creating the clusters for our data. We observe that `cluster 1` represents `setosa`, `cluster 0` represents `versicolor` and `cluster 2` represents `virginica`."
   ]
  }
 ],
 "metadata": {
  "kernelspec": {
   "display_name": "Python 3 (ipykernel)",
   "language": "python",
   "name": "python3"
  },
  "language_info": {
   "codemirror_mode": {
    "name": "ipython",
    "version": 3
   },
   "file_extension": ".py",
   "mimetype": "text/x-python",
   "name": "python",
   "nbconvert_exporter": "python",
   "pygments_lexer": "ipython3",
   "version": "3.9.12"
  }
 },
 "nbformat": 4,
 "nbformat_minor": 5
}
