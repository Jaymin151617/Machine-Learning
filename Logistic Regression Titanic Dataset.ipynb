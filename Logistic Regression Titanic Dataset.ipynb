{
 "cells": [
  {
   "cell_type": "markdown",
   "id": "fcc90de1",
   "metadata": {},
   "source": [
    "# Logistic Regression Titanic Dataset"
   ]
  },
  {
   "cell_type": "markdown",
   "id": "55b53380",
   "metadata": {},
   "source": [
    "The goal is to predict survival of passengers traveling in RMS Titanic using Logistic Regression."
   ]
  },
  {
   "cell_type": "markdown",
   "id": "67ac2db2",
   "metadata": {},
   "source": [
    "## Importing Necessary Libraries"
   ]
  },
  {
   "cell_type": "code",
   "execution_count": 1,
   "id": "b8ec386a",
   "metadata": {
    "ExecuteTime": {
     "end_time": "2023-04-23T03:08:32.635458Z",
     "start_time": "2023-04-23T03:08:25.164013Z"
    }
   },
   "outputs": [],
   "source": [
    "import numpy as np\n",
    "import pandas as pd\n",
    "import matplotlib.pyplot as plt\n",
    "import seaborn as sns\n",
    "\n",
    "from statsmodels.stats.outliers_influence import variance_inflation_factor\n",
    "\n",
    "from sklearn.preprocessing import StandardScaler\n",
    "from sklearn.model_selection import train_test_split, GridSearchCV\n",
    "from sklearn.linear_model import LogisticRegression\n",
    "from sklearn.metrics import accuracy_score, confusion_matrix, f1_score, precision_score, recall_score\n",
    "from sklearn.metrics import confusion_matrix, roc_curve, auc, roc_auc_score\n",
    "\n",
    "import warnings\n",
    "warnings.filterwarnings(\"ignore\")"
   ]
  },
  {
   "cell_type": "markdown",
   "id": "a6db99e7",
   "metadata": {},
   "source": [
    "All the necessary libraries are imported and now we move on to importing and cleaning the data."
   ]
  },
  {
   "cell_type": "markdown",
   "id": "e53ce79a",
   "metadata": {},
   "source": [
    "## Data Cleaning"
   ]
  },
  {
   "cell_type": "code",
   "execution_count": 2,
   "id": "a1824194",
   "metadata": {
    "ExecuteTime": {
     "end_time": "2023-04-23T03:08:37.801672Z",
     "start_time": "2023-04-23T03:08:37.720217Z"
    }
   },
   "outputs": [
    {
     "data": {
      "text/html": [
       "<div>\n",
       "<style scoped>\n",
       "    .dataframe tbody tr th:only-of-type {\n",
       "        vertical-align: middle;\n",
       "    }\n",
       "\n",
       "    .dataframe tbody tr th {\n",
       "        vertical-align: top;\n",
       "    }\n",
       "\n",
       "    .dataframe thead th {\n",
       "        text-align: right;\n",
       "    }\n",
       "</style>\n",
       "<table border=\"1\" class=\"dataframe\">\n",
       "  <thead>\n",
       "    <tr style=\"text-align: right;\">\n",
       "      <th></th>\n",
       "      <th>PassengerId</th>\n",
       "      <th>Survived</th>\n",
       "      <th>Pclass</th>\n",
       "      <th>Name</th>\n",
       "      <th>Sex</th>\n",
       "      <th>Age</th>\n",
       "      <th>SibSp</th>\n",
       "      <th>Parch</th>\n",
       "      <th>Ticket</th>\n",
       "      <th>Fare</th>\n",
       "      <th>Cabin</th>\n",
       "      <th>Embarked</th>\n",
       "    </tr>\n",
       "  </thead>\n",
       "  <tbody>\n",
       "    <tr>\n",
       "      <th>0</th>\n",
       "      <td>1</td>\n",
       "      <td>0</td>\n",
       "      <td>3</td>\n",
       "      <td>Braund, Mr. Owen Harris</td>\n",
       "      <td>male</td>\n",
       "      <td>22.0</td>\n",
       "      <td>1</td>\n",
       "      <td>0</td>\n",
       "      <td>A/5 21171</td>\n",
       "      <td>7.2500</td>\n",
       "      <td>NaN</td>\n",
       "      <td>S</td>\n",
       "    </tr>\n",
       "    <tr>\n",
       "      <th>1</th>\n",
       "      <td>2</td>\n",
       "      <td>1</td>\n",
       "      <td>1</td>\n",
       "      <td>Cumings, Mrs. John Bradley (Florence Briggs Th...</td>\n",
       "      <td>female</td>\n",
       "      <td>38.0</td>\n",
       "      <td>1</td>\n",
       "      <td>0</td>\n",
       "      <td>PC 17599</td>\n",
       "      <td>71.2833</td>\n",
       "      <td>C85</td>\n",
       "      <td>C</td>\n",
       "    </tr>\n",
       "    <tr>\n",
       "      <th>2</th>\n",
       "      <td>3</td>\n",
       "      <td>1</td>\n",
       "      <td>3</td>\n",
       "      <td>Heikkinen, Miss. Laina</td>\n",
       "      <td>female</td>\n",
       "      <td>26.0</td>\n",
       "      <td>0</td>\n",
       "      <td>0</td>\n",
       "      <td>STON/O2. 3101282</td>\n",
       "      <td>7.9250</td>\n",
       "      <td>NaN</td>\n",
       "      <td>S</td>\n",
       "    </tr>\n",
       "    <tr>\n",
       "      <th>3</th>\n",
       "      <td>4</td>\n",
       "      <td>1</td>\n",
       "      <td>1</td>\n",
       "      <td>Futrelle, Mrs. Jacques Heath (Lily May Peel)</td>\n",
       "      <td>female</td>\n",
       "      <td>35.0</td>\n",
       "      <td>1</td>\n",
       "      <td>0</td>\n",
       "      <td>113803</td>\n",
       "      <td>53.1000</td>\n",
       "      <td>C123</td>\n",
       "      <td>S</td>\n",
       "    </tr>\n",
       "    <tr>\n",
       "      <th>4</th>\n",
       "      <td>5</td>\n",
       "      <td>0</td>\n",
       "      <td>3</td>\n",
       "      <td>Allen, Mr. William Henry</td>\n",
       "      <td>male</td>\n",
       "      <td>35.0</td>\n",
       "      <td>0</td>\n",
       "      <td>0</td>\n",
       "      <td>373450</td>\n",
       "      <td>8.0500</td>\n",
       "      <td>NaN</td>\n",
       "      <td>S</td>\n",
       "    </tr>\n",
       "  </tbody>\n",
       "</table>\n",
       "</div>"
      ],
      "text/plain": [
       "   PassengerId  Survived  Pclass  \\\n",
       "0            1         0       3   \n",
       "1            2         1       1   \n",
       "2            3         1       3   \n",
       "3            4         1       1   \n",
       "4            5         0       3   \n",
       "\n",
       "                                                Name     Sex   Age  SibSp  \\\n",
       "0                            Braund, Mr. Owen Harris    male  22.0      1   \n",
       "1  Cumings, Mrs. John Bradley (Florence Briggs Th...  female  38.0      1   \n",
       "2                             Heikkinen, Miss. Laina  female  26.0      0   \n",
       "3       Futrelle, Mrs. Jacques Heath (Lily May Peel)  female  35.0      1   \n",
       "4                           Allen, Mr. William Henry    male  35.0      0   \n",
       "\n",
       "   Parch            Ticket     Fare Cabin Embarked  \n",
       "0      0         A/5 21171   7.2500   NaN        S  \n",
       "1      0          PC 17599  71.2833   C85        C  \n",
       "2      0  STON/O2. 3101282   7.9250   NaN        S  \n",
       "3      0            113803  53.1000  C123        S  \n",
       "4      0            373450   8.0500   NaN        S  "
      ]
     },
     "execution_count": 2,
     "metadata": {},
     "output_type": "execute_result"
    }
   ],
   "source": [
    "df = pd.read_csv(\"titanic.csv\")\n",
    "df.head()"
   ]
  },
  {
   "cell_type": "code",
   "execution_count": 3,
   "id": "761fd8e7",
   "metadata": {
    "ExecuteTime": {
     "end_time": "2023-04-23T03:08:52.017385Z",
     "start_time": "2023-04-23T03:08:52.001233Z"
    }
   },
   "outputs": [
    {
     "data": {
      "text/plain": [
       "(891, 12)"
      ]
     },
     "execution_count": 3,
     "metadata": {},
     "output_type": "execute_result"
    }
   ],
   "source": [
    "df.shape"
   ]
  },
  {
   "cell_type": "markdown",
   "id": "e9e05098",
   "metadata": {},
   "source": [
    "There are `891` rows and `12` columns in the dataset."
   ]
  },
  {
   "cell_type": "code",
   "execution_count": 4,
   "id": "cc99671e",
   "metadata": {
    "ExecuteTime": {
     "end_time": "2023-04-23T03:08:55.837473Z",
     "start_time": "2023-04-23T03:08:55.784446Z"
    }
   },
   "outputs": [
    {
     "name": "stdout",
     "output_type": "stream",
     "text": [
      "<class 'pandas.core.frame.DataFrame'>\n",
      "RangeIndex: 891 entries, 0 to 890\n",
      "Data columns (total 12 columns):\n",
      " #   Column       Non-Null Count  Dtype  \n",
      "---  ------       --------------  -----  \n",
      " 0   PassengerId  891 non-null    int64  \n",
      " 1   Survived     891 non-null    int64  \n",
      " 2   Pclass       891 non-null    int64  \n",
      " 3   Name         891 non-null    object \n",
      " 4   Sex          891 non-null    object \n",
      " 5   Age          714 non-null    float64\n",
      " 6   SibSp        891 non-null    int64  \n",
      " 7   Parch        891 non-null    int64  \n",
      " 8   Ticket       891 non-null    object \n",
      " 9   Fare         891 non-null    float64\n",
      " 10  Cabin        204 non-null    object \n",
      " 11  Embarked     889 non-null    object \n",
      "dtypes: float64(2), int64(5), object(5)\n",
      "memory usage: 83.7+ KB\n"
     ]
    }
   ],
   "source": [
    "df.info()"
   ]
  },
  {
   "cell_type": "markdown",
   "id": "a2787e2e",
   "metadata": {},
   "source": [
    "All the columns seem to have correct datatypes."
   ]
  },
  {
   "cell_type": "code",
   "execution_count": 5,
   "id": "33b2a140",
   "metadata": {
    "ExecuteTime": {
     "end_time": "2023-04-23T03:09:01.911687Z",
     "start_time": "2023-04-23T03:09:01.886012Z"
    }
   },
   "outputs": [
    {
     "data": {
      "text/plain": [
       "Cabin          687\n",
       "Age            177\n",
       "Embarked         2\n",
       "PassengerId      0\n",
       "Survived         0\n",
       "Pclass           0\n",
       "Name             0\n",
       "Sex              0\n",
       "SibSp            0\n",
       "Parch            0\n",
       "Ticket           0\n",
       "Fare             0\n",
       "dtype: int64"
      ]
     },
     "execution_count": 5,
     "metadata": {},
     "output_type": "execute_result"
    }
   ],
   "source": [
    "df.isna().sum().sort_values(ascending=False)"
   ]
  },
  {
   "cell_type": "markdown",
   "id": "b1016784",
   "metadata": {},
   "source": [
    "`Cabin` has the most number of missing values. However we can drop that column safely as having a cabin indicates the person was from 1st Class and we already have a column for that."
   ]
  },
  {
   "cell_type": "code",
   "execution_count": 6,
   "id": "1e8e175e",
   "metadata": {
    "ExecuteTime": {
     "end_time": "2023-04-23T03:09:12.508126Z",
     "start_time": "2023-04-23T03:09:12.488467Z"
    }
   },
   "outputs": [],
   "source": [
    "df.drop(['Cabin'], axis=1, inplace=True)"
   ]
  },
  {
   "cell_type": "code",
   "execution_count": 7,
   "id": "ba1204df",
   "metadata": {
    "ExecuteTime": {
     "end_time": "2023-04-23T03:09:17.785964Z",
     "start_time": "2023-04-23T03:09:17.753534Z"
    }
   },
   "outputs": [
    {
     "data": {
      "text/plain": [
       "Age            177\n",
       "Embarked         2\n",
       "PassengerId      0\n",
       "Survived         0\n",
       "Pclass           0\n",
       "Name             0\n",
       "Sex              0\n",
       "SibSp            0\n",
       "Parch            0\n",
       "Ticket           0\n",
       "Fare             0\n",
       "dtype: int64"
      ]
     },
     "execution_count": 7,
     "metadata": {},
     "output_type": "execute_result"
    }
   ],
   "source": [
    "df.isna().sum().sort_values(ascending=False)"
   ]
  },
  {
   "cell_type": "markdown",
   "id": "bb77bb48",
   "metadata": {},
   "source": [
    "Now `Embarked` column as `2` missing values but since it is a categorical column we insert the mode of the column."
   ]
  },
  {
   "cell_type": "code",
   "execution_count": 8,
   "id": "4eaf90ee",
   "metadata": {
    "ExecuteTime": {
     "end_time": "2023-04-23T03:09:39.549716Z",
     "start_time": "2023-04-23T03:09:39.502832Z"
    }
   },
   "outputs": [
    {
     "data": {
      "text/plain": [
       "Age            177\n",
       "PassengerId      0\n",
       "Survived         0\n",
       "Pclass           0\n",
       "Name             0\n",
       "Sex              0\n",
       "SibSp            0\n",
       "Parch            0\n",
       "Ticket           0\n",
       "Fare             0\n",
       "Embarked         0\n",
       "dtype: int64"
      ]
     },
     "execution_count": 8,
     "metadata": {},
     "output_type": "execute_result"
    }
   ],
   "source": [
    "df.Embarked.fillna(df.Embarked.mode()[0], inplace=True)\n",
    "df.isna().sum().sort_values(ascending=False)"
   ]
  },
  {
   "cell_type": "markdown",
   "id": "4917ac6a",
   "metadata": {},
   "source": [
    "`Age` is a numerical column therefore we have two choices : either use the `mean` or the `median` to replace the missing values. But our choice will depend on the distribution of the `Age` column ie. whether it is normal or not."
   ]
  },
  {
   "cell_type": "code",
   "execution_count": 9,
   "id": "c3a492e6",
   "metadata": {
    "ExecuteTime": {
     "end_time": "2023-04-23T03:09:49.372624Z",
     "start_time": "2023-04-23T03:09:48.731350Z"
    }
   },
   "outputs": [
    {
     "data": {
      "image/png": "[encoded data removed]",
      "text/plain": [
       "<Figure size 432x288 with 1 Axes>"
      ]
     },
     "metadata": {
      "needs_background": "light"
     },
     "output_type": "display_data"
    },
    {
     "name": "stdout",
     "output_type": "stream",
     "text": [
      "0.38910778230082704\n"
     ]
    }
   ],
   "source": [
    "sns.distplot(df.Age)\n",
    "plt.axvline(df.Age.mean(), color='black')\n",
    "plt.axvline(df.Age.median(), color='green')\n",
    "plt.show()\n",
    "print(df.Age.skew())"
   ]
  },
  {
   "cell_type": "markdown",
   "id": "592929f8",
   "metadata": {},
   "source": [
    "With skewness of `0.389` we can say that the distribution is almost normal so we will replace the missing values with the `mean` of the column."
   ]
  },
  {
   "cell_type": "code",
   "execution_count": 10,
   "id": "a35b78a4",
   "metadata": {
    "ExecuteTime": {
     "end_time": "2023-04-23T03:09:56.250929Z",
     "start_time": "2023-04-23T03:09:56.227625Z"
    }
   },
   "outputs": [
    {
     "data": {
      "text/plain": [
       "PassengerId    0\n",
       "Survived       0\n",
       "Pclass         0\n",
       "Name           0\n",
       "Sex            0\n",
       "Age            0\n",
       "SibSp          0\n",
       "Parch          0\n",
       "Ticket         0\n",
       "Fare           0\n",
       "Embarked       0\n",
       "dtype: int64"
      ]
     },
     "execution_count": 10,
     "metadata": {},
     "output_type": "execute_result"
    }
   ],
   "source": [
    "df.Age.fillna(df.Age.mean(), inplace=True)\n",
    "df.isna().sum().sort_values(ascending=False)"
   ]
  },
  {
   "cell_type": "markdown",
   "id": "beee5818",
   "metadata": {},
   "source": [
    "We have no missing values and our data is clean. Now we will prepare the data for our model."
   ]
  },
  {
   "cell_type": "markdown",
   "id": "5997ef76",
   "metadata": {},
   "source": [
    "## Data Preparation"
   ]
  },
  {
   "cell_type": "markdown",
   "id": "5754bdfb",
   "metadata": {},
   "source": [
    "The `SibSp` and `Parch` columns seem useless on their own. We will combine them to create a new column called `FamilySize`."
   ]
  },
  {
   "cell_type": "code",
   "execution_count": 11,
   "id": "0fa248ce",
   "metadata": {
    "ExecuteTime": {
     "end_time": "2023-04-23T03:10:03.600178Z",
     "start_time": "2023-04-23T03:10:03.561985Z"
    },
    "scrolled": true
   },
   "outputs": [
    {
     "data": {
      "text/html": [
       "<div>\n",
       "<style scoped>\n",
       "    .dataframe tbody tr th:only-of-type {\n",
       "        vertical-align: middle;\n",
       "    }\n",
       "\n",
       "    .dataframe tbody tr th {\n",
       "        vertical-align: top;\n",
       "    }\n",
       "\n",
       "    .dataframe thead th {\n",
       "        text-align: right;\n",
       "    }\n",
       "</style>\n",
       "<table border=\"1\" class=\"dataframe\">\n",
       "  <thead>\n",
       "    <tr style=\"text-align: right;\">\n",
       "      <th></th>\n",
       "      <th>PassengerId</th>\n",
       "      <th>Survived</th>\n",
       "      <th>Pclass</th>\n",
       "      <th>Name</th>\n",
       "      <th>Sex</th>\n",
       "      <th>Age</th>\n",
       "      <th>SibSp</th>\n",
       "      <th>Parch</th>\n",
       "      <th>Ticket</th>\n",
       "      <th>Fare</th>\n",
       "      <th>Embarked</th>\n",
       "      <th>FamilySize</th>\n",
       "    </tr>\n",
       "  </thead>\n",
       "  <tbody>\n",
       "    <tr>\n",
       "      <th>0</th>\n",
       "      <td>1</td>\n",
       "      <td>0</td>\n",
       "      <td>3</td>\n",
       "      <td>Braund, Mr. Owen Harris</td>\n",
       "      <td>male</td>\n",
       "      <td>22.0</td>\n",
       "      <td>1</td>\n",
       "      <td>0</td>\n",
       "      <td>A/5 21171</td>\n",
       "      <td>7.2500</td>\n",
       "      <td>S</td>\n",
       "      <td>2</td>\n",
       "    </tr>\n",
       "    <tr>\n",
       "      <th>1</th>\n",
       "      <td>2</td>\n",
       "      <td>1</td>\n",
       "      <td>1</td>\n",
       "      <td>Cumings, Mrs. John Bradley (Florence Briggs Th...</td>\n",
       "      <td>female</td>\n",
       "      <td>38.0</td>\n",
       "      <td>1</td>\n",
       "      <td>0</td>\n",
       "      <td>PC 17599</td>\n",
       "      <td>71.2833</td>\n",
       "      <td>C</td>\n",
       "      <td>2</td>\n",
       "    </tr>\n",
       "    <tr>\n",
       "      <th>2</th>\n",
       "      <td>3</td>\n",
       "      <td>1</td>\n",
       "      <td>3</td>\n",
       "      <td>Heikkinen, Miss. Laina</td>\n",
       "      <td>female</td>\n",
       "      <td>26.0</td>\n",
       "      <td>0</td>\n",
       "      <td>0</td>\n",
       "      <td>STON/O2. 3101282</td>\n",
       "      <td>7.9250</td>\n",
       "      <td>S</td>\n",
       "      <td>1</td>\n",
       "    </tr>\n",
       "    <tr>\n",
       "      <th>3</th>\n",
       "      <td>4</td>\n",
       "      <td>1</td>\n",
       "      <td>1</td>\n",
       "      <td>Futrelle, Mrs. Jacques Heath (Lily May Peel)</td>\n",
       "      <td>female</td>\n",
       "      <td>35.0</td>\n",
       "      <td>1</td>\n",
       "      <td>0</td>\n",
       "      <td>113803</td>\n",
       "      <td>53.1000</td>\n",
       "      <td>S</td>\n",
       "      <td>2</td>\n",
       "    </tr>\n",
       "    <tr>\n",
       "      <th>4</th>\n",
       "      <td>5</td>\n",
       "      <td>0</td>\n",
       "      <td>3</td>\n",
       "      <td>Allen, Mr. William Henry</td>\n",
       "      <td>male</td>\n",
       "      <td>35.0</td>\n",
       "      <td>0</td>\n",
       "      <td>0</td>\n",
       "      <td>373450</td>\n",
       "      <td>8.0500</td>\n",
       "      <td>S</td>\n",
       "      <td>1</td>\n",
       "    </tr>\n",
       "  </tbody>\n",
       "</table>\n",
       "</div>"
      ],
      "text/plain": [
       "   PassengerId  Survived  Pclass  \\\n",
       "0            1         0       3   \n",
       "1            2         1       1   \n",
       "2            3         1       3   \n",
       "3            4         1       1   \n",
       "4            5         0       3   \n",
       "\n",
       "                                                Name     Sex   Age  SibSp  \\\n",
       "0                            Braund, Mr. Owen Harris    male  22.0      1   \n",
       "1  Cumings, Mrs. John Bradley (Florence Briggs Th...  female  38.0      1   \n",
       "2                             Heikkinen, Miss. Laina  female  26.0      0   \n",
       "3       Futrelle, Mrs. Jacques Heath (Lily May Peel)  female  35.0      1   \n",
       "4                           Allen, Mr. William Henry    male  35.0      0   \n",
       "\n",
       "   Parch            Ticket     Fare Embarked  FamilySize  \n",
       "0      0         A/5 21171   7.2500        S           2  \n",
       "1      0          PC 17599  71.2833        C           2  \n",
       "2      0  STON/O2. 3101282   7.9250        S           1  \n",
       "3      0            113803  53.1000        S           2  \n",
       "4      0            373450   8.0500        S           1  "
      ]
     },
     "execution_count": 11,
     "metadata": {},
     "output_type": "execute_result"
    }
   ],
   "source": [
    "df['FamilySize']  = df['SibSp'] + df['Parch'] + 1\n",
    "df.head()"
   ]
  },
  {
   "cell_type": "markdown",
   "id": "309d5a64",
   "metadata": {},
   "source": [
    "We will drop `PassengerId`, `Ticket`, `Name` as it is absurd to imagine these features will play an important role in predicting whether someone survives or not. `SibSp` and `Parch` are dropped because we have created a new feature using them. `Fare` directly won't play a role but it depends on `Pclass` as higher class will have higher fare so we drop it."
   ]
  },
  {
   "cell_type": "code",
   "execution_count": 12,
   "id": "17e60de1",
   "metadata": {
    "ExecuteTime": {
     "end_time": "2023-04-23T03:10:28.115821Z",
     "start_time": "2023-04-23T03:10:28.091206Z"
    }
   },
   "outputs": [
    {
     "data": {
      "text/html": [
       "<div>\n",
       "<style scoped>\n",
       "    .dataframe tbody tr th:only-of-type {\n",
       "        vertical-align: middle;\n",
       "    }\n",
       "\n",
       "    .dataframe tbody tr th {\n",
       "        vertical-align: top;\n",
       "    }\n",
       "\n",
       "    .dataframe thead th {\n",
       "        text-align: right;\n",
       "    }\n",
       "</style>\n",
       "<table border=\"1\" class=\"dataframe\">\n",
       "  <thead>\n",
       "    <tr style=\"text-align: right;\">\n",
       "      <th></th>\n",
       "      <th>Survived</th>\n",
       "      <th>Pclass</th>\n",
       "      <th>Sex</th>\n",
       "      <th>Age</th>\n",
       "      <th>Embarked</th>\n",
       "      <th>FamilySize</th>\n",
       "    </tr>\n",
       "  </thead>\n",
       "  <tbody>\n",
       "    <tr>\n",
       "      <th>0</th>\n",
       "      <td>0</td>\n",
       "      <td>3</td>\n",
       "      <td>male</td>\n",
       "      <td>22.0</td>\n",
       "      <td>S</td>\n",
       "      <td>2</td>\n",
       "    </tr>\n",
       "    <tr>\n",
       "      <th>1</th>\n",
       "      <td>1</td>\n",
       "      <td>1</td>\n",
       "      <td>female</td>\n",
       "      <td>38.0</td>\n",
       "      <td>C</td>\n",
       "      <td>2</td>\n",
       "    </tr>\n",
       "    <tr>\n",
       "      <th>2</th>\n",
       "      <td>1</td>\n",
       "      <td>3</td>\n",
       "      <td>female</td>\n",
       "      <td>26.0</td>\n",
       "      <td>S</td>\n",
       "      <td>1</td>\n",
       "    </tr>\n",
       "    <tr>\n",
       "      <th>3</th>\n",
       "      <td>1</td>\n",
       "      <td>1</td>\n",
       "      <td>female</td>\n",
       "      <td>35.0</td>\n",
       "      <td>S</td>\n",
       "      <td>2</td>\n",
       "    </tr>\n",
       "    <tr>\n",
       "      <th>4</th>\n",
       "      <td>0</td>\n",
       "      <td>3</td>\n",
       "      <td>male</td>\n",
       "      <td>35.0</td>\n",
       "      <td>S</td>\n",
       "      <td>1</td>\n",
       "    </tr>\n",
       "  </tbody>\n",
       "</table>\n",
       "</div>"
      ],
      "text/plain": [
       "   Survived  Pclass     Sex   Age Embarked  FamilySize\n",
       "0         0       3    male  22.0        S           2\n",
       "1         1       1  female  38.0        C           2\n",
       "2         1       3  female  26.0        S           1\n",
       "3         1       1  female  35.0        S           2\n",
       "4         0       3    male  35.0        S           1"
      ]
     },
     "execution_count": 12,
     "metadata": {},
     "output_type": "execute_result"
    }
   ],
   "source": [
    "df.drop(['PassengerId', 'Ticket', 'Name', 'SibSp', 'Parch', 'Fare'], axis=1, inplace=True)\n",
    "df.head()"
   ]
  },
  {
   "cell_type": "markdown",
   "id": "5cf2e639",
   "metadata": {},
   "source": [
    "We will now use One Hot Encoding to convert our categorical columns into numerical columns."
   ]
  },
  {
   "cell_type": "code",
   "execution_count": 13,
   "id": "4c85836d",
   "metadata": {
    "ExecuteTime": {
     "end_time": "2023-04-23T03:10:30.146221Z",
     "start_time": "2023-04-23T03:10:30.098170Z"
    }
   },
   "outputs": [
    {
     "data": {
      "text/html": [
       "<div>\n",
       "<style scoped>\n",
       "    .dataframe tbody tr th:only-of-type {\n",
       "        vertical-align: middle;\n",
       "    }\n",
       "\n",
       "    .dataframe tbody tr th {\n",
       "        vertical-align: top;\n",
       "    }\n",
       "\n",
       "    .dataframe thead th {\n",
       "        text-align: right;\n",
       "    }\n",
       "</style>\n",
       "<table border=\"1\" class=\"dataframe\">\n",
       "  <thead>\n",
       "    <tr style=\"text-align: right;\">\n",
       "      <th></th>\n",
       "      <th>Survived</th>\n",
       "      <th>Age</th>\n",
       "      <th>FamilySize</th>\n",
       "      <th>Pclass_2</th>\n",
       "      <th>Pclass_3</th>\n",
       "      <th>Embarked_Q</th>\n",
       "      <th>Embarked_S</th>\n",
       "      <th>Sex_male</th>\n",
       "    </tr>\n",
       "  </thead>\n",
       "  <tbody>\n",
       "    <tr>\n",
       "      <th>0</th>\n",
       "      <td>0</td>\n",
       "      <td>22.0</td>\n",
       "      <td>2</td>\n",
       "      <td>0</td>\n",
       "      <td>1</td>\n",
       "      <td>0</td>\n",
       "      <td>1</td>\n",
       "      <td>1</td>\n",
       "    </tr>\n",
       "    <tr>\n",
       "      <th>1</th>\n",
       "      <td>1</td>\n",
       "      <td>38.0</td>\n",
       "      <td>2</td>\n",
       "      <td>0</td>\n",
       "      <td>0</td>\n",
       "      <td>0</td>\n",
       "      <td>0</td>\n",
       "      <td>0</td>\n",
       "    </tr>\n",
       "    <tr>\n",
       "      <th>2</th>\n",
       "      <td>1</td>\n",
       "      <td>26.0</td>\n",
       "      <td>1</td>\n",
       "      <td>0</td>\n",
       "      <td>1</td>\n",
       "      <td>0</td>\n",
       "      <td>1</td>\n",
       "      <td>0</td>\n",
       "    </tr>\n",
       "    <tr>\n",
       "      <th>3</th>\n",
       "      <td>1</td>\n",
       "      <td>35.0</td>\n",
       "      <td>2</td>\n",
       "      <td>0</td>\n",
       "      <td>0</td>\n",
       "      <td>0</td>\n",
       "      <td>1</td>\n",
       "      <td>0</td>\n",
       "    </tr>\n",
       "    <tr>\n",
       "      <th>4</th>\n",
       "      <td>0</td>\n",
       "      <td>35.0</td>\n",
       "      <td>1</td>\n",
       "      <td>0</td>\n",
       "      <td>1</td>\n",
       "      <td>0</td>\n",
       "      <td>1</td>\n",
       "      <td>1</td>\n",
       "    </tr>\n",
       "  </tbody>\n",
       "</table>\n",
       "</div>"
      ],
      "text/plain": [
       "   Survived   Age  FamilySize  Pclass_2  Pclass_3  Embarked_Q  Embarked_S  \\\n",
       "0         0  22.0           2         0         1           0           1   \n",
       "1         1  38.0           2         0         0           0           0   \n",
       "2         1  26.0           1         0         1           0           1   \n",
       "3         1  35.0           2         0         0           0           1   \n",
       "4         0  35.0           1         0         1           0           1   \n",
       "\n",
       "   Sex_male  \n",
       "0         1  \n",
       "1         0  \n",
       "2         0  \n",
       "3         0  \n",
       "4         1  "
      ]
     },
     "execution_count": 13,
     "metadata": {},
     "output_type": "execute_result"
    }
   ],
   "source": [
    "df = pd.get_dummies(df, columns=['Pclass', 'Embarked', 'Sex'], drop_first=True)\n",
    "df.head()"
   ]
  },
  {
   "cell_type": "markdown",
   "id": "876c1353",
   "metadata": {},
   "source": [
    "`Age` column is not in the same scale as the rest of our data so to make the training process smooth we will scale the feature. The scaling technique will depend on the distribution of the data."
   ]
  },
  {
   "cell_type": "code",
   "execution_count": 14,
   "id": "49abbaf5",
   "metadata": {
    "ExecuteTime": {
     "end_time": "2023-04-23T03:10:49.105260Z",
     "start_time": "2023-04-23T03:10:48.415023Z"
    }
   },
   "outputs": [
    {
     "data": {
      "image/png": "[encoded data removed]",
      "text/plain": [
       "<Figure size 864x360 with 2 Axes>"
      ]
     },
     "metadata": {
      "needs_background": "light"
     },
     "output_type": "display_data"
    }
   ],
   "source": [
    "# Set up the figure with two subplots side by side\n",
    "plt.figure(figsize=(12, 5))\n",
    "\n",
    "# Draw the distplot in the left subplot\n",
    "plt.subplot(1, 2, 1)\n",
    "sns.distplot(df['Age'])\n",
    "plt.title('Distplot of Age')\n",
    "\n",
    "# Draw the boxplot in the right subplot\n",
    "plt.subplot(1, 2, 2)\n",
    "sns.boxplot(y=df['Age'])\n",
    "plt.title('Boxplot of Age')\n",
    "\n",
    "# Set common y-axis label for both subplots\n",
    "plt.suptitle('Distplot and Boxplot of Age', y=1.05)\n",
    "plt.ylabel('Value')\n",
    "\n",
    "# Show the plot\n",
    "plt.show()"
   ]
  },
  {
   "cell_type": "code",
   "execution_count": 15,
   "id": "67f87452",
   "metadata": {
    "ExecuteTime": {
     "end_time": "2023-04-23T03:10:54.293585Z",
     "start_time": "2023-04-23T03:10:54.272565Z"
    }
   },
   "outputs": [
    {
     "name": "stdout",
     "output_type": "stream",
     "text": [
      "0.4344880940129925\n"
     ]
    }
   ],
   "source": [
    "print(df['Age'].skew())"
   ]
  },
  {
   "cell_type": "markdown",
   "id": "f89eb812",
   "metadata": {},
   "source": [
    "With skewness of `0.434` the data can be assumed as being close to normally distributed so we will use `StandardScaler`."
   ]
  },
  {
   "cell_type": "code",
   "execution_count": 16,
   "id": "6931b5fe",
   "metadata": {
    "ExecuteTime": {
     "end_time": "2023-04-23T03:11:09.891559Z",
     "start_time": "2023-04-23T03:11:09.868307Z"
    }
   },
   "outputs": [],
   "source": [
    "# Create an instance of StandardScaler\n",
    "scaler = StandardScaler()\n",
    "\n",
    "# Fit the scaler to your data\n",
    "scaler.fit(df[['Age']])\n",
    "\n",
    "# Transform the data\n",
    "df['Age'] = scaler.transform(df[['Age']])"
   ]
  },
  {
   "cell_type": "code",
   "execution_count": 17,
   "id": "530bb1c1",
   "metadata": {
    "ExecuteTime": {
     "end_time": "2023-04-23T03:11:10.609912Z",
     "start_time": "2023-04-23T03:11:10.589280Z"
    },
    "scrolled": true
   },
   "outputs": [
    {
     "data": {
      "text/html": [
       "<div>\n",
       "<style scoped>\n",
       "    .dataframe tbody tr th:only-of-type {\n",
       "        vertical-align: middle;\n",
       "    }\n",
       "\n",
       "    .dataframe tbody tr th {\n",
       "        vertical-align: top;\n",
       "    }\n",
       "\n",
       "    .dataframe thead th {\n",
       "        text-align: right;\n",
       "    }\n",
       "</style>\n",
       "<table border=\"1\" class=\"dataframe\">\n",
       "  <thead>\n",
       "    <tr style=\"text-align: right;\">\n",
       "      <th></th>\n",
       "      <th>Age</th>\n",
       "    </tr>\n",
       "  </thead>\n",
       "  <tbody>\n",
       "    <tr>\n",
       "      <th>count</th>\n",
       "      <td>8.910000e+02</td>\n",
       "    </tr>\n",
       "    <tr>\n",
       "      <th>mean</th>\n",
       "      <td>2.232906e-16</td>\n",
       "    </tr>\n",
       "    <tr>\n",
       "      <th>std</th>\n",
       "      <td>1.000562e+00</td>\n",
       "    </tr>\n",
       "    <tr>\n",
       "      <th>min</th>\n",
       "      <td>-2.253155e+00</td>\n",
       "    </tr>\n",
       "    <tr>\n",
       "      <th>25%</th>\n",
       "      <td>-5.924806e-01</td>\n",
       "    </tr>\n",
       "    <tr>\n",
       "      <th>50%</th>\n",
       "      <td>0.000000e+00</td>\n",
       "    </tr>\n",
       "    <tr>\n",
       "      <th>75%</th>\n",
       "      <td>4.079260e-01</td>\n",
       "    </tr>\n",
       "    <tr>\n",
       "      <th>max</th>\n",
       "      <td>3.870872e+00</td>\n",
       "    </tr>\n",
       "  </tbody>\n",
       "</table>\n",
       "</div>"
      ],
      "text/plain": [
       "                Age\n",
       "count  8.910000e+02\n",
       "mean   2.232906e-16\n",
       "std    1.000562e+00\n",
       "min   -2.253155e+00\n",
       "25%   -5.924806e-01\n",
       "50%    0.000000e+00\n",
       "75%    4.079260e-01\n",
       "max    3.870872e+00"
      ]
     },
     "execution_count": 17,
     "metadata": {},
     "output_type": "execute_result"
    }
   ],
   "source": [
    "df[['Age']].describe()"
   ]
  },
  {
   "cell_type": "markdown",
   "id": "9bc7a57f",
   "metadata": {},
   "source": [
    "The mean of the column is `0` with standard deviation as `1`."
   ]
  },
  {
   "cell_type": "code",
   "execution_count": 18,
   "id": "55b6307a",
   "metadata": {
    "ExecuteTime": {
     "end_time": "2023-04-23T03:11:14.587930Z",
     "start_time": "2023-04-23T03:11:14.541631Z"
    }
   },
   "outputs": [
    {
     "data": {
      "text/html": [
       "<div>\n",
       "<style scoped>\n",
       "    .dataframe tbody tr th:only-of-type {\n",
       "        vertical-align: middle;\n",
       "    }\n",
       "\n",
       "    .dataframe tbody tr th {\n",
       "        vertical-align: top;\n",
       "    }\n",
       "\n",
       "    .dataframe thead th {\n",
       "        text-align: right;\n",
       "    }\n",
       "</style>\n",
       "<table border=\"1\" class=\"dataframe\">\n",
       "  <thead>\n",
       "    <tr style=\"text-align: right;\">\n",
       "      <th></th>\n",
       "      <th>Survived</th>\n",
       "      <th>Age</th>\n",
       "      <th>FamilySize</th>\n",
       "      <th>Pclass_2</th>\n",
       "      <th>Pclass_3</th>\n",
       "      <th>Embarked_Q</th>\n",
       "      <th>Embarked_S</th>\n",
       "      <th>Sex_male</th>\n",
       "    </tr>\n",
       "  </thead>\n",
       "  <tbody>\n",
       "    <tr>\n",
       "      <th>0</th>\n",
       "      <td>0</td>\n",
       "      <td>-0.592481</td>\n",
       "      <td>2</td>\n",
       "      <td>0</td>\n",
       "      <td>1</td>\n",
       "      <td>0</td>\n",
       "      <td>1</td>\n",
       "      <td>1</td>\n",
       "    </tr>\n",
       "    <tr>\n",
       "      <th>1</th>\n",
       "      <td>1</td>\n",
       "      <td>0.638789</td>\n",
       "      <td>2</td>\n",
       "      <td>0</td>\n",
       "      <td>0</td>\n",
       "      <td>0</td>\n",
       "      <td>0</td>\n",
       "      <td>0</td>\n",
       "    </tr>\n",
       "    <tr>\n",
       "      <th>2</th>\n",
       "      <td>1</td>\n",
       "      <td>-0.284663</td>\n",
       "      <td>1</td>\n",
       "      <td>0</td>\n",
       "      <td>1</td>\n",
       "      <td>0</td>\n",
       "      <td>1</td>\n",
       "      <td>0</td>\n",
       "    </tr>\n",
       "    <tr>\n",
       "      <th>3</th>\n",
       "      <td>1</td>\n",
       "      <td>0.407926</td>\n",
       "      <td>2</td>\n",
       "      <td>0</td>\n",
       "      <td>0</td>\n",
       "      <td>0</td>\n",
       "      <td>1</td>\n",
       "      <td>0</td>\n",
       "    </tr>\n",
       "    <tr>\n",
       "      <th>4</th>\n",
       "      <td>0</td>\n",
       "      <td>0.407926</td>\n",
       "      <td>1</td>\n",
       "      <td>0</td>\n",
       "      <td>1</td>\n",
       "      <td>0</td>\n",
       "      <td>1</td>\n",
       "      <td>1</td>\n",
       "    </tr>\n",
       "  </tbody>\n",
       "</table>\n",
       "</div>"
      ],
      "text/plain": [
       "   Survived       Age  FamilySize  Pclass_2  Pclass_3  Embarked_Q  Embarked_S  \\\n",
       "0         0 -0.592481           2         0         1           0           1   \n",
       "1         1  0.638789           2         0         0           0           0   \n",
       "2         1 -0.284663           1         0         1           0           1   \n",
       "3         1  0.407926           2         0         0           0           1   \n",
       "4         0  0.407926           1         0         1           0           1   \n",
       "\n",
       "   Sex_male  \n",
       "0         1  \n",
       "1         0  \n",
       "2         0  \n",
       "3         0  \n",
       "4         1  "
      ]
     },
     "execution_count": 18,
     "metadata": {},
     "output_type": "execute_result"
    }
   ],
   "source": [
    "df.head()"
   ]
  },
  {
   "cell_type": "markdown",
   "id": "a385b853",
   "metadata": {},
   "source": [
    "Our data is now ready to be used for model training."
   ]
  },
  {
   "cell_type": "markdown",
   "id": "6b30101a",
   "metadata": {},
   "source": [
    "## Model Development"
   ]
  },
  {
   "cell_type": "markdown",
   "id": "7855b0a3",
   "metadata": {},
   "source": [
    "`Survived` is our dependent feature so we will denote it with `y`."
   ]
  },
  {
   "cell_type": "code",
   "execution_count": 19,
   "id": "7af9ac9d",
   "metadata": {
    "ExecuteTime": {
     "end_time": "2023-04-23T03:11:22.224825Z",
     "start_time": "2023-04-23T03:11:22.208322Z"
    }
   },
   "outputs": [
    {
     "data": {
      "text/plain": [
       "0    0\n",
       "1    1\n",
       "2    1\n",
       "3    1\n",
       "4    0\n",
       "Name: Survived, dtype: int64"
      ]
     },
     "execution_count": 19,
     "metadata": {},
     "output_type": "execute_result"
    }
   ],
   "source": [
    "y = df.pop('Survived')\n",
    "y.head()"
   ]
  },
  {
   "cell_type": "markdown",
   "id": "2ba5de87",
   "metadata": {},
   "source": [
    "The rest of the features will be our independent variable. We will denote them with `X`."
   ]
  },
  {
   "cell_type": "code",
   "execution_count": 20,
   "id": "8f32db4e",
   "metadata": {
    "ExecuteTime": {
     "end_time": "2023-04-23T03:11:23.543580Z",
     "start_time": "2023-04-23T03:11:23.529013Z"
    }
   },
   "outputs": [
    {
     "data": {
      "text/html": [
       "<div>\n",
       "<style scoped>\n",
       "    .dataframe tbody tr th:only-of-type {\n",
       "        vertical-align: middle;\n",
       "    }\n",
       "\n",
       "    .dataframe tbody tr th {\n",
       "        vertical-align: top;\n",
       "    }\n",
       "\n",
       "    .dataframe thead th {\n",
       "        text-align: right;\n",
       "    }\n",
       "</style>\n",
       "<table border=\"1\" class=\"dataframe\">\n",
       "  <thead>\n",
       "    <tr style=\"text-align: right;\">\n",
       "      <th></th>\n",
       "      <th>Age</th>\n",
       "      <th>FamilySize</th>\n",
       "      <th>Pclass_2</th>\n",
       "      <th>Pclass_3</th>\n",
       "      <th>Embarked_Q</th>\n",
       "      <th>Embarked_S</th>\n",
       "      <th>Sex_male</th>\n",
       "    </tr>\n",
       "  </thead>\n",
       "  <tbody>\n",
       "    <tr>\n",
       "      <th>0</th>\n",
       "      <td>-0.592481</td>\n",
       "      <td>2</td>\n",
       "      <td>0</td>\n",
       "      <td>1</td>\n",
       "      <td>0</td>\n",
       "      <td>1</td>\n",
       "      <td>1</td>\n",
       "    </tr>\n",
       "    <tr>\n",
       "      <th>1</th>\n",
       "      <td>0.638789</td>\n",
       "      <td>2</td>\n",
       "      <td>0</td>\n",
       "      <td>0</td>\n",
       "      <td>0</td>\n",
       "      <td>0</td>\n",
       "      <td>0</td>\n",
       "    </tr>\n",
       "    <tr>\n",
       "      <th>2</th>\n",
       "      <td>-0.284663</td>\n",
       "      <td>1</td>\n",
       "      <td>0</td>\n",
       "      <td>1</td>\n",
       "      <td>0</td>\n",
       "      <td>1</td>\n",
       "      <td>0</td>\n",
       "    </tr>\n",
       "    <tr>\n",
       "      <th>3</th>\n",
       "      <td>0.407926</td>\n",
       "      <td>2</td>\n",
       "      <td>0</td>\n",
       "      <td>0</td>\n",
       "      <td>0</td>\n",
       "      <td>1</td>\n",
       "      <td>0</td>\n",
       "    </tr>\n",
       "    <tr>\n",
       "      <th>4</th>\n",
       "      <td>0.407926</td>\n",
       "      <td>1</td>\n",
       "      <td>0</td>\n",
       "      <td>1</td>\n",
       "      <td>0</td>\n",
       "      <td>1</td>\n",
       "      <td>1</td>\n",
       "    </tr>\n",
       "  </tbody>\n",
       "</table>\n",
       "</div>"
      ],
      "text/plain": [
       "        Age  FamilySize  Pclass_2  Pclass_3  Embarked_Q  Embarked_S  Sex_male\n",
       "0 -0.592481           2         0         1           0           1         1\n",
       "1  0.638789           2         0         0           0           0         0\n",
       "2 -0.284663           1         0         1           0           1         0\n",
       "3  0.407926           2         0         0           0           1         0\n",
       "4  0.407926           1         0         1           0           1         1"
      ]
     },
     "execution_count": 20,
     "metadata": {},
     "output_type": "execute_result"
    }
   ],
   "source": [
    "X = df\n",
    "X.head()"
   ]
  },
  {
   "cell_type": "markdown",
   "id": "54c59d60",
   "metadata": {},
   "source": [
    "Now we will check for highly correlated columns."
   ]
  },
  {
   "cell_type": "code",
   "execution_count": 21,
   "id": "e2a4f94a",
   "metadata": {
    "ExecuteTime": {
     "end_time": "2023-04-23T03:11:34.805118Z",
     "start_time": "2023-04-23T03:11:33.667360Z"
    }
   },
   "outputs": [
    {
     "data": {
      "image/png": "[encoded data removed]",
      "text/plain": [
       "<Figure size 720x720 with 2 Axes>"
      ]
     },
     "metadata": {
      "needs_background": "light"
     },
     "output_type": "display_data"
    }
   ],
   "source": [
    "corr = X.corr()\n",
    "plt.figure(figsize=(10,10))\n",
    "sns.heatmap(corr, vmax=.8, linewidth=.01, square=True, annot=True, linecolor='black', cmap='YlGnBu')\n",
    "plt.title(\"Correlation between features\")\n",
    "plt.show()"
   ]
  },
  {
   "cell_type": "markdown",
   "id": "b43e2133",
   "metadata": {},
   "source": [
    "Nothing alarming. We will verify this using VIF."
   ]
  },
  {
   "cell_type": "code",
   "execution_count": 22,
   "id": "a45a2895",
   "metadata": {
    "ExecuteTime": {
     "end_time": "2023-04-23T03:11:44.635876Z",
     "start_time": "2023-04-23T03:11:44.579325Z"
    }
   },
   "outputs": [
    {
     "data": {
      "text/html": [
       "<div>\n",
       "<style scoped>\n",
       "    .dataframe tbody tr th:only-of-type {\n",
       "        vertical-align: middle;\n",
       "    }\n",
       "\n",
       "    .dataframe tbody tr th {\n",
       "        vertical-align: top;\n",
       "    }\n",
       "\n",
       "    .dataframe thead th {\n",
       "        text-align: right;\n",
       "    }\n",
       "</style>\n",
       "<table border=\"1\" class=\"dataframe\">\n",
       "  <thead>\n",
       "    <tr style=\"text-align: right;\">\n",
       "      <th></th>\n",
       "      <th>Features</th>\n",
       "      <th>VIF</th>\n",
       "    </tr>\n",
       "  </thead>\n",
       "  <tbody>\n",
       "    <tr>\n",
       "      <th>5</th>\n",
       "      <td>Embarked_S</td>\n",
       "      <td>4.30</td>\n",
       "    </tr>\n",
       "    <tr>\n",
       "      <th>3</th>\n",
       "      <td>Pclass_3</td>\n",
       "      <td>3.73</td>\n",
       "    </tr>\n",
       "    <tr>\n",
       "      <th>6</th>\n",
       "      <td>Sex_male</td>\n",
       "      <td>2.62</td>\n",
       "    </tr>\n",
       "    <tr>\n",
       "      <th>1</th>\n",
       "      <td>FamilySize</td>\n",
       "      <td>2.15</td>\n",
       "    </tr>\n",
       "    <tr>\n",
       "      <th>2</th>\n",
       "      <td>Pclass_2</td>\n",
       "      <td>1.86</td>\n",
       "    </tr>\n",
       "    <tr>\n",
       "      <th>4</th>\n",
       "      <td>Embarked_Q</td>\n",
       "      <td>1.47</td>\n",
       "    </tr>\n",
       "    <tr>\n",
       "      <th>0</th>\n",
       "      <td>Age</td>\n",
       "      <td>1.16</td>\n",
       "    </tr>\n",
       "  </tbody>\n",
       "</table>\n",
       "</div>"
      ],
      "text/plain": [
       "     Features   VIF\n",
       "5  Embarked_S  4.30\n",
       "3    Pclass_3  3.73\n",
       "6    Sex_male  2.62\n",
       "1  FamilySize  2.15\n",
       "2    Pclass_2  1.86\n",
       "4  Embarked_Q  1.47\n",
       "0         Age  1.16"
      ]
     },
     "execution_count": 22,
     "metadata": {},
     "output_type": "execute_result"
    }
   ],
   "source": [
    "vif = pd.DataFrame()\n",
    "vif['Features'] = X.columns\n",
    "vif['VIF'] = [variance_inflation_factor(X.values, i) for i in range(X.shape[1])]\n",
    "vif['VIF'] = round(vif['VIF'], 2)\n",
    "vif = vif.sort_values(by = \"VIF\", ascending = False)\n",
    "vif"
   ]
  },
  {
   "cell_type": "markdown",
   "id": "38cda5ae",
   "metadata": {},
   "source": [
    "All of the values are below `5` so we are good to go. Now we will divide our data into training and testing sets."
   ]
  },
  {
   "cell_type": "code",
   "execution_count": 23,
   "id": "7a4b6eb1",
   "metadata": {
    "ExecuteTime": {
     "end_time": "2023-04-23T03:11:51.609998Z",
     "start_time": "2023-04-23T03:11:51.593418Z"
    }
   },
   "outputs": [],
   "source": [
    "X_train, X_test, y_train, y_test = train_test_split(X, y, test_size = 0.2, random_state = 100)"
   ]
  },
  {
   "cell_type": "code",
   "execution_count": 24,
   "id": "34f2f825",
   "metadata": {
    "ExecuteTime": {
     "end_time": "2023-04-23T03:11:53.291710Z",
     "start_time": "2023-04-23T03:11:53.271535Z"
    }
   },
   "outputs": [
    {
     "data": {
      "text/plain": [
       "(712, 7)"
      ]
     },
     "execution_count": 24,
     "metadata": {},
     "output_type": "execute_result"
    }
   ],
   "source": [
    "X_train.shape"
   ]
  },
  {
   "cell_type": "code",
   "execution_count": 25,
   "id": "c3a9774b",
   "metadata": {
    "ExecuteTime": {
     "end_time": "2023-04-23T03:11:53.843998Z",
     "start_time": "2023-04-23T03:11:53.827525Z"
    }
   },
   "outputs": [
    {
     "data": {
      "text/plain": [
       "(179, 7)"
      ]
     },
     "execution_count": 25,
     "metadata": {},
     "output_type": "execute_result"
    }
   ],
   "source": [
    "X_test.shape"
   ]
  },
  {
   "cell_type": "code",
   "execution_count": 26,
   "id": "3091f5e0",
   "metadata": {
    "ExecuteTime": {
     "end_time": "2023-04-23T03:11:54.387880Z",
     "start_time": "2023-04-23T03:11:54.363668Z"
    }
   },
   "outputs": [
    {
     "data": {
      "text/plain": [
       "(712,)"
      ]
     },
     "execution_count": 26,
     "metadata": {},
     "output_type": "execute_result"
    }
   ],
   "source": [
    "y_train.shape"
   ]
  },
  {
   "cell_type": "code",
   "execution_count": 27,
   "id": "9388669e",
   "metadata": {
    "ExecuteTime": {
     "end_time": "2023-04-23T03:11:54.956228Z",
     "start_time": "2023-04-23T03:11:54.940076Z"
    }
   },
   "outputs": [
    {
     "data": {
      "text/plain": [
       "(179,)"
      ]
     },
     "execution_count": 27,
     "metadata": {},
     "output_type": "execute_result"
    }
   ],
   "source": [
    "y_test.shape"
   ]
  },
  {
   "cell_type": "markdown",
   "id": "1161a96b",
   "metadata": {},
   "source": [
    "Now we will check if our dependent variable has more observations of one category than the other ie. class imbalance."
   ]
  },
  {
   "cell_type": "code",
   "execution_count": 28,
   "id": "b3566090",
   "metadata": {
    "ExecuteTime": {
     "end_time": "2023-04-23T03:11:59.588870Z",
     "start_time": "2023-04-23T03:11:59.556477Z"
    }
   },
   "outputs": [
    {
     "data": {
      "text/plain": [
       "0    0.616162\n",
       "1    0.383838\n",
       "Name: Survived, dtype: float64"
      ]
     },
     "execution_count": 28,
     "metadata": {},
     "output_type": "execute_result"
    }
   ],
   "source": [
    "y.value_counts(normalize = True)"
   ]
  },
  {
   "cell_type": "markdown",
   "id": "4f0552a6",
   "metadata": {},
   "source": [
    "We can observe that the majority of the labels are from class 0 and only a few are from class 1. If we use this distribution to develop our model, it may become biased towards predicting the majority class. As a result, we must consider class imbalance when developing our Logistic Regression model.\n",
    "\n",
    "There are a variety of approaches to dealing with class imbalance, such as increasing minority class samples or decreasing majority class samples to ensure that both classes have the same distribution.\n",
    "\n",
    "Because we’re using the Scikit-learn machine library to create the model, it has a logistic regression implementation that supports class weighting. We will use the inbuilt parameter “class_weight” while creating an instance of the Logistic Regression model.\n",
    "\n",
    "Both the majority and minority classes will be given separate weights. During the training phase, the weight differences will influence the classification of the classes.\n",
    "\n",
    "The purpose of adding class weights is to penalize the minority class for misclassification by setting a higher class weight while decreasing the weight for the majority class."
   ]
  },
  {
   "cell_type": "code",
   "execution_count": 29,
   "id": "95335973",
   "metadata": {
    "ExecuteTime": {
     "end_time": "2023-04-23T03:12:38.791686Z",
     "start_time": "2023-04-23T03:12:38.723831Z"
    }
   },
   "outputs": [
    {
     "data": {
      "text/plain": [
       "LogisticRegression(class_weight={0: 0.45, 1: 0.55})"
      ]
     },
     "execution_count": 29,
     "metadata": {},
     "output_type": "execute_result"
    }
   ],
   "source": [
    "lr_basemodel =LogisticRegression(class_weight = {0:0.45,1:0.55})\n",
    "\n",
    "lr_basemodel.fit(X_train,y_train)"
   ]
  },
  {
   "cell_type": "markdown",
   "id": "22be1f7c",
   "metadata": {},
   "source": [
    "We set the weights as `0.45` and `0.55` for `0` and `1` respectively."
   ]
  },
  {
   "cell_type": "code",
   "execution_count": 30,
   "id": "e19272ed",
   "metadata": {
    "ExecuteTime": {
     "end_time": "2023-04-23T03:12:42.033219Z",
     "start_time": "2023-04-23T03:12:42.009091Z"
    }
   },
   "outputs": [],
   "source": [
    "y_pred_train = lr_basemodel.predict(X_train)\n",
    "y_pred_test = lr_basemodel.predict(X_test)"
   ]
  },
  {
   "cell_type": "code",
   "execution_count": 31,
   "id": "a8cd2311",
   "metadata": {
    "ExecuteTime": {
     "end_time": "2023-04-23T03:12:44.540683Z",
     "start_time": "2023-04-23T03:12:44.511544Z"
    },
    "scrolled": true
   },
   "outputs": [
    {
     "data": {
      "text/html": [
       "<div>\n",
       "<style scoped>\n",
       "    .dataframe tbody tr th:only-of-type {\n",
       "        vertical-align: middle;\n",
       "    }\n",
       "\n",
       "    .dataframe tbody tr th {\n",
       "        vertical-align: top;\n",
       "    }\n",
       "\n",
       "    .dataframe thead th {\n",
       "        text-align: right;\n",
       "    }\n",
       "</style>\n",
       "<table border=\"1\" class=\"dataframe\">\n",
       "  <thead>\n",
       "    <tr style=\"text-align: right;\">\n",
       "      <th></th>\n",
       "      <th>Metric</th>\n",
       "      <th>Score</th>\n",
       "    </tr>\n",
       "  </thead>\n",
       "  <tbody>\n",
       "    <tr>\n",
       "      <th>0</th>\n",
       "      <td>Accuracy</td>\n",
       "      <td>0.800562</td>\n",
       "    </tr>\n",
       "    <tr>\n",
       "      <th>1</th>\n",
       "      <td>F1 Score</td>\n",
       "      <td>0.726923</td>\n",
       "    </tr>\n",
       "    <tr>\n",
       "      <th>2</th>\n",
       "      <td>Precision</td>\n",
       "      <td>0.747036</td>\n",
       "    </tr>\n",
       "    <tr>\n",
       "      <th>3</th>\n",
       "      <td>Recall</td>\n",
       "      <td>0.707865</td>\n",
       "    </tr>\n",
       "  </tbody>\n",
       "</table>\n",
       "</div>"
      ],
      "text/plain": [
       "      Metric     Score\n",
       "0   Accuracy  0.800562\n",
       "1   F1 Score  0.726923\n",
       "2  Precision  0.747036\n",
       "3     Recall  0.707865"
      ]
     },
     "execution_count": 31,
     "metadata": {},
     "output_type": "execute_result"
    }
   ],
   "source": [
    "# Calculate accuracy\n",
    "accuracy = accuracy_score(y_train, y_pred_train)\n",
    "\n",
    "# Calculate precision\n",
    "precision = precision_score(y_train, y_pred_train)\n",
    "\n",
    "# Calculate recall\n",
    "recall = recall_score(y_train, y_pred_train)\n",
    "\n",
    "# Calculate F1 score\n",
    "f1 = f1_score(y_train, y_pred_train)\n",
    "\n",
    "# Create a DataFrame to store the results\n",
    "results_df = pd.DataFrame({'Metric': ['Accuracy', 'F1 Score', 'Precision', 'Recall'],'Score': [accuracy, f1, precision, recall]})\n",
    "results_df"
   ]
  },
  {
   "cell_type": "markdown",
   "id": "600bf712",
   "metadata": {},
   "source": [
    "Our model did a great job on training set. We will check the metrics of testing set as well to see if our model has overfitted."
   ]
  },
  {
   "cell_type": "code",
   "execution_count": 32,
   "id": "53bb372b",
   "metadata": {
    "ExecuteTime": {
     "end_time": "2023-04-23T03:12:47.555862Z",
     "start_time": "2023-04-23T03:12:47.521734Z"
    }
   },
   "outputs": [
    {
     "data": {
      "text/html": [
       "<div>\n",
       "<style scoped>\n",
       "    .dataframe tbody tr th:only-of-type {\n",
       "        vertical-align: middle;\n",
       "    }\n",
       "\n",
       "    .dataframe tbody tr th {\n",
       "        vertical-align: top;\n",
       "    }\n",
       "\n",
       "    .dataframe thead th {\n",
       "        text-align: right;\n",
       "    }\n",
       "</style>\n",
       "<table border=\"1\" class=\"dataframe\">\n",
       "  <thead>\n",
       "    <tr style=\"text-align: right;\">\n",
       "      <th></th>\n",
       "      <th>Metric</th>\n",
       "      <th>Score</th>\n",
       "    </tr>\n",
       "  </thead>\n",
       "  <tbody>\n",
       "    <tr>\n",
       "      <th>0</th>\n",
       "      <td>Accuracy</td>\n",
       "      <td>0.804469</td>\n",
       "    </tr>\n",
       "    <tr>\n",
       "      <th>1</th>\n",
       "      <td>F1 Score</td>\n",
       "      <td>0.751773</td>\n",
       "    </tr>\n",
       "    <tr>\n",
       "      <th>2</th>\n",
       "      <td>Precision</td>\n",
       "      <td>0.803030</td>\n",
       "    </tr>\n",
       "    <tr>\n",
       "      <th>3</th>\n",
       "      <td>Recall</td>\n",
       "      <td>0.706667</td>\n",
       "    </tr>\n",
       "  </tbody>\n",
       "</table>\n",
       "</div>"
      ],
      "text/plain": [
       "      Metric     Score\n",
       "0   Accuracy  0.804469\n",
       "1   F1 Score  0.751773\n",
       "2  Precision  0.803030\n",
       "3     Recall  0.706667"
      ]
     },
     "execution_count": 32,
     "metadata": {},
     "output_type": "execute_result"
    }
   ],
   "source": [
    "# Calculate accuracy\n",
    "accuracy = accuracy_score(y_test, y_pred_test)\n",
    "\n",
    "# Calculate precision\n",
    "precision = precision_score(y_test, y_pred_test)\n",
    "\n",
    "# Calculate recall\n",
    "recall = recall_score(y_test, y_pred_test)\n",
    "\n",
    "# Calculate F1 score\n",
    "f1 = f1_score(y_test, y_pred_test)\n",
    "\n",
    "# Create a DataFrame to store the results\n",
    "results_df = pd.DataFrame({'Metric': ['Accuracy', 'F1 Score', 'Precision', 'Recall'],'Score': [accuracy, f1, precision, recall]})\n",
    "results_df"
   ]
  },
  {
   "cell_type": "markdown",
   "id": "679b0a5f",
   "metadata": {},
   "source": [
    "Similar metrics here as well. Hence our model is a perfect fit and works well."
   ]
  },
  {
   "cell_type": "markdown",
   "id": "8681b86a",
   "metadata": {},
   "source": [
    "## Hyperparameter Optimization"
   ]
  },
  {
   "cell_type": "markdown",
   "id": "0c65cca2",
   "metadata": {},
   "source": [
    "Up to this point, we created a logistic regression model using default parameters. Now let’s increase model performance and evaluate it again after tuning hyperparameters of the model.\n",
    "\n",
    "Hyperparameter tuning can be done using algorithms like Grid Search or Random Search."
   ]
  },
  {
   "cell_type": "code",
   "execution_count": 33,
   "id": "157f4cf0",
   "metadata": {
    "ExecuteTime": {
     "end_time": "2023-04-23T03:20:43.487922Z",
     "start_time": "2023-04-23T03:13:13.673175Z"
    }
   },
   "outputs": [
    {
     "data": {
      "text/plain": [
       "GridSearchCV(cv=5, estimator=LogisticRegression(),\n",
       "             param_grid={'C': [0.01, 0.1, 1, 10, 15, 20],\n",
       "                         'class_weight': [{0: 0.0, 1: 1.0},\n",
       "                                          {0: 0.02020408163265306,\n",
       "                                           1: 0.9797959183673469},\n",
       "                                          {0: 0.04040816326530612,\n",
       "                                           1: 0.9595918367346938},\n",
       "                                          {0: 0.06061224489795918,\n",
       "                                           1: 0.9393877551020409},\n",
       "                                          {0: 0.08081632653061224,\n",
       "                                           1: 0.9191836734693878},\n",
       "                                          {0: 0.1010204081632653,\n",
       "                                           1: 0.8989795918367347},\n",
       "                                          {0: 0.1212...\n",
       "                                           1: 0.5151020408163265},\n",
       "                                          {0: 0.5051020408163265,\n",
       "                                           1: 0.4948979591836735},\n",
       "                                          {0: 0.5253061224489796,\n",
       "                                           1: 0.47469387755102044},\n",
       "                                          {0: 0.5455102040816326,\n",
       "                                           1: 0.45448979591836736},\n",
       "                                          {0: 0.5657142857142857,\n",
       "                                           1: 0.4342857142857143},\n",
       "                                          {0: 0.5859183673469388,\n",
       "                                           1: 0.4140816326530612}, ...],\n",
       "                         'fit_intercept': [True, False],\n",
       "                         'penalty': ['l1', 'l2'],\n",
       "                         'solver': ['liblinear', 'saga', 'newton-cg', 'lbfgs']},\n",
       "             scoring='f1')"
      ]
     },
     "execution_count": 33,
     "metadata": {},
     "output_type": "execute_result"
    }
   ],
   "source": [
    "weights = np.linspace(0.0,0.99,50)\n",
    "\n",
    "# Define the hyperparameter grid for logistic regression\n",
    "param = {\n",
    "    'penalty': ['l1', 'l2'],\n",
    "    'C': [0.01, 0.1, 1, 10, 15, 20],\n",
    "    'fit_intercept': [True, False],\n",
    "    'solver': ['liblinear', 'saga', 'newton-cg', 'lbfgs'],\n",
    "    \"class_weight\": [{0:x ,1:1.0 -x} for x in weights]\n",
    "}\n",
    "\n",
    "# Create a logistic regression model\n",
    "logreg = LogisticRegression()\n",
    "\n",
    "# Create a GridSearchCV object\n",
    "grid_search = GridSearchCV(estimator = logreg, param_grid = param, scoring='f1', cv=5)\n",
    "\n",
    "# Fit the GridSearchCV object to the training data\n",
    "grid_search.fit(X_train, y_train)"
   ]
  },
  {
   "cell_type": "code",
   "execution_count": 34,
   "id": "e089ec18",
   "metadata": {
    "ExecuteTime": {
     "end_time": "2023-04-23T03:20:43.517604Z",
     "start_time": "2023-04-23T03:20:43.496329Z"
    }
   },
   "outputs": [
    {
     "name": "stdout",
     "output_type": "stream",
     "text": [
      "{'C': 20, 'class_weight': {0: 0.38387755102040816, 1: 0.6161224489795918}, 'fit_intercept': True, 'penalty': 'l1', 'solver': 'liblinear'}\n"
     ]
    }
   ],
   "source": [
    "print(grid_search.best_params_)"
   ]
  },
  {
   "cell_type": "markdown",
   "id": "c8f2a9b4",
   "metadata": {},
   "source": [
    "These are the best hyperparameters for our data. Now we will use these parameters to create the model."
   ]
  },
  {
   "cell_type": "code",
   "execution_count": 35,
   "id": "a874f3ea",
   "metadata": {
    "ExecuteTime": {
     "end_time": "2023-04-23T03:24:33.410048Z",
     "start_time": "2023-04-23T03:24:33.369887Z"
    }
   },
   "outputs": [
    {
     "data": {
      "text/plain": [
       "LogisticRegression(C=20,\n",
       "                   class_weight={0: 0.38387755102040816, 1: 0.6161224489795918},\n",
       "                   penalty='l1', solver='liblinear')"
      ]
     },
     "execution_count": 35,
     "metadata": {},
     "output_type": "execute_result"
    }
   ],
   "source": [
    "best_model = LogisticRegression(C = 20, \n",
    "                                class_weight = {0: 0.38387755102040816, 1: 0.6161224489795918}, \n",
    "                                fit_intercept = True, \n",
    "                                penalty = 'l1',\n",
    "                                solver = 'liblinear')\n",
    "best_model.fit(X_train,y_train)"
   ]
  },
  {
   "cell_type": "code",
   "execution_count": 36,
   "id": "a70f16bd",
   "metadata": {
    "ExecuteTime": {
     "end_time": "2023-04-23T03:24:34.931240Z",
     "start_time": "2023-04-23T03:24:34.918116Z"
    }
   },
   "outputs": [],
   "source": [
    "y_pred_train = best_model.predict(X_train)\n",
    "y_pred_test = best_model.predict(X_test)"
   ]
  },
  {
   "cell_type": "markdown",
   "id": "ace53aa6",
   "metadata": {},
   "source": [
    "Checking metrics of training set."
   ]
  },
  {
   "cell_type": "code",
   "execution_count": 37,
   "id": "221359fb",
   "metadata": {
    "ExecuteTime": {
     "end_time": "2023-04-23T03:24:36.712328Z",
     "start_time": "2023-04-23T03:24:36.670468Z"
    }
   },
   "outputs": [
    {
     "data": {
      "text/html": [
       "<div>\n",
       "<style scoped>\n",
       "    .dataframe tbody tr th:only-of-type {\n",
       "        vertical-align: middle;\n",
       "    }\n",
       "\n",
       "    .dataframe tbody tr th {\n",
       "        vertical-align: top;\n",
       "    }\n",
       "\n",
       "    .dataframe thead th {\n",
       "        text-align: right;\n",
       "    }\n",
       "</style>\n",
       "<table border=\"1\" class=\"dataframe\">\n",
       "  <thead>\n",
       "    <tr style=\"text-align: right;\">\n",
       "      <th></th>\n",
       "      <th>Metric</th>\n",
       "      <th>Score</th>\n",
       "    </tr>\n",
       "  </thead>\n",
       "  <tbody>\n",
       "    <tr>\n",
       "      <th>0</th>\n",
       "      <td>Accuracy</td>\n",
       "      <td>0.796348</td>\n",
       "    </tr>\n",
       "    <tr>\n",
       "      <th>1</th>\n",
       "      <td>F1 Score</td>\n",
       "      <td>0.741533</td>\n",
       "    </tr>\n",
       "    <tr>\n",
       "      <th>2</th>\n",
       "      <td>Precision</td>\n",
       "      <td>0.707483</td>\n",
       "    </tr>\n",
       "    <tr>\n",
       "      <th>3</th>\n",
       "      <td>Recall</td>\n",
       "      <td>0.779026</td>\n",
       "    </tr>\n",
       "  </tbody>\n",
       "</table>\n",
       "</div>"
      ],
      "text/plain": [
       "      Metric     Score\n",
       "0   Accuracy  0.796348\n",
       "1   F1 Score  0.741533\n",
       "2  Precision  0.707483\n",
       "3     Recall  0.779026"
      ]
     },
     "execution_count": 37,
     "metadata": {},
     "output_type": "execute_result"
    }
   ],
   "source": [
    "# Calculate accuracy\n",
    "accuracy = accuracy_score(y_train, y_pred_train)\n",
    "\n",
    "# Calculate precision\n",
    "precision = precision_score(y_train, y_pred_train)\n",
    "\n",
    "# Calculate recall\n",
    "recall = recall_score(y_train, y_pred_train)\n",
    "\n",
    "# Calculate F1 score\n",
    "f1 = f1_score(y_train, y_pred_train)\n",
    "\n",
    "# Create a DataFrame to store the results\n",
    "results_df = pd.DataFrame({'Metric': ['Accuracy', 'F1 Score', 'Precision', 'Recall'],'Score': [accuracy, f1, precision, recall]})\n",
    "results_df"
   ]
  },
  {
   "cell_type": "markdown",
   "id": "3640b110",
   "metadata": {},
   "source": [
    "All the metrics are good. Now we check the same for testing set."
   ]
  },
  {
   "cell_type": "code",
   "execution_count": 38,
   "id": "d58343fb",
   "metadata": {
    "ExecuteTime": {
     "end_time": "2023-04-23T03:24:38.506545Z",
     "start_time": "2023-04-23T03:24:38.461243Z"
    }
   },
   "outputs": [
    {
     "data": {
      "text/html": [
       "<div>\n",
       "<style scoped>\n",
       "    .dataframe tbody tr th:only-of-type {\n",
       "        vertical-align: middle;\n",
       "    }\n",
       "\n",
       "    .dataframe tbody tr th {\n",
       "        vertical-align: top;\n",
       "    }\n",
       "\n",
       "    .dataframe thead th {\n",
       "        text-align: right;\n",
       "    }\n",
       "</style>\n",
       "<table border=\"1\" class=\"dataframe\">\n",
       "  <thead>\n",
       "    <tr style=\"text-align: right;\">\n",
       "      <th></th>\n",
       "      <th>Metric</th>\n",
       "      <th>Score</th>\n",
       "    </tr>\n",
       "  </thead>\n",
       "  <tbody>\n",
       "    <tr>\n",
       "      <th>0</th>\n",
       "      <td>Accuracy</td>\n",
       "      <td>0.815642</td>\n",
       "    </tr>\n",
       "    <tr>\n",
       "      <th>1</th>\n",
       "      <td>F1 Score</td>\n",
       "      <td>0.778523</td>\n",
       "    </tr>\n",
       "    <tr>\n",
       "      <th>2</th>\n",
       "      <td>Precision</td>\n",
       "      <td>0.783784</td>\n",
       "    </tr>\n",
       "    <tr>\n",
       "      <th>3</th>\n",
       "      <td>Recall</td>\n",
       "      <td>0.773333</td>\n",
       "    </tr>\n",
       "  </tbody>\n",
       "</table>\n",
       "</div>"
      ],
      "text/plain": [
       "      Metric     Score\n",
       "0   Accuracy  0.815642\n",
       "1   F1 Score  0.778523\n",
       "2  Precision  0.783784\n",
       "3     Recall  0.773333"
      ]
     },
     "execution_count": 38,
     "metadata": {},
     "output_type": "execute_result"
    }
   ],
   "source": [
    "# Calculate accuracy\n",
    "accuracy = accuracy_score(y_test, y_pred_test)\n",
    "\n",
    "# Calculate precision\n",
    "precision = precision_score(y_test, y_pred_test)\n",
    "\n",
    "# Calculate recall\n",
    "recall = recall_score(y_test, y_pred_test)\n",
    "\n",
    "# Calculate F1 score\n",
    "f1 = f1_score(y_test, y_pred_test)\n",
    "\n",
    "# Create a DataFrame to store the results\n",
    "results_df = pd.DataFrame({'Metric': ['Accuracy', 'F1 Score', 'Precision', 'Recall'],'Score': [accuracy, f1, precision, recall]})\n",
    "results_df"
   ]
  },
  {
   "cell_type": "markdown",
   "id": "f1422c71",
   "metadata": {},
   "source": [
    "Compared to our previous model this one performs far better. Another metric to validate our result is the ROC curve."
   ]
  },
  {
   "cell_type": "code",
   "execution_count": 39,
   "id": "1ba2541d",
   "metadata": {
    "ExecuteTime": {
     "end_time": "2023-04-23T03:24:43.136288Z",
     "start_time": "2023-04-23T03:24:42.737385Z"
    }
   },
   "outputs": [
    {
     "data": {
      "image/png": "[encoded data removed]",
      "text/plain": [
       "<Figure size 720x432 with 1 Axes>"
      ]
     },
     "metadata": {
      "needs_background": "light"
     },
     "output_type": "display_data"
    }
   ],
   "source": [
    "# Predict probabilities for the test data\n",
    "y_probs = best_model.predict_proba(X_test)[:, 1]\n",
    "\n",
    "# Compute ROC curve\n",
    "fpr, tpr, thresholds = roc_curve(y_test, y_probs)\n",
    "roc_auc = auc(fpr, tpr)\n",
    "\n",
    "# Plot ROC curve\n",
    "plt.figure(figsize=(10, 6))\n",
    "plt.plot(fpr, tpr, color='blue', lw=2, label='ROC curve (area = %0.2f)' % roc_auc)\n",
    "plt.plot([0, 1], [0, 1], color='gray', linestyle='--', lw=2)\n",
    "plt.xlim([0.0, 1.0])\n",
    "plt.ylim([0.0, 1.05])\n",
    "plt.xlabel('False Positive Rate (FPR)')\n",
    "plt.ylabel('True Positive Rate (TPR)')\n",
    "plt.title('Receiver Operating Characteristic (ROC) Curve')\n",
    "plt.legend(loc='lower right')\n",
    "plt.show()"
   ]
  },
  {
   "cell_type": "code",
   "execution_count": 40,
   "id": "c20ee042",
   "metadata": {
    "ExecuteTime": {
     "end_time": "2023-04-23T03:24:50.723032Z",
     "start_time": "2023-04-23T03:24:50.697137Z"
    }
   },
   "outputs": [
    {
     "data": {
      "text/plain": [
       "0.8097435897435898"
      ]
     },
     "execution_count": 40,
     "metadata": {},
     "output_type": "execute_result"
    }
   ],
   "source": [
    "roc_auc_score(y_test, y_pred_test)"
   ]
  },
  {
   "cell_type": "markdown",
   "id": "8596d8cc",
   "metadata": {},
   "source": [
    "The area under ROC curve is `0.84` whereas roc_auc_score is `0.81`. This is due to slight computational differences. Both of the values should be close to `1` and the same is observed."
   ]
  },
  {
   "cell_type": "markdown",
   "id": "22025933",
   "metadata": {},
   "source": [
    "## Choosing Threshold value"
   ]
  },
  {
   "cell_type": "markdown",
   "id": "67cd23a0",
   "metadata": {},
   "source": [
    "The output of logistic regression is an array of probabilities. By default, if the value is below `0.5` then the predicted class is `0` and `1` otherwise. However according to our use case we can change the threshold for our desired metrics."
   ]
  },
  {
   "cell_type": "code",
   "execution_count": 41,
   "id": "1cc11130",
   "metadata": {
    "ExecuteTime": {
     "end_time": "2023-04-23T03:27:55.409759Z",
     "start_time": "2023-04-23T03:27:55.393618Z"
    }
   },
   "outputs": [
    {
     "data": {
      "text/plain": [
       "array([1, 1, 0, 1, 0, 1, 0, 0, 1, 0, 1, 0, 0, 1, 1, 0, 1, 1, 1, 0, 0, 1,\n",
       "       0, 1, 0, 0, 1, 0, 0, 0, 0, 1, 1, 0, 1, 0, 1, 1, 1, 0, 1, 1, 0, 0,\n",
       "       0, 1, 0, 1, 0, 1, 0, 0, 0, 0, 0, 0, 0, 0, 0, 0, 0, 0, 0, 0, 0, 1,\n",
       "       0, 1, 1, 0, 0, 0, 0, 1, 0, 0, 1, 0, 0, 0, 0, 0, 1, 1, 1, 0, 0, 1,\n",
       "       0, 0, 0, 1, 0, 0, 1, 1, 1, 1, 0, 1, 0, 0, 0, 1, 0, 1, 0, 1, 1, 0,\n",
       "       0, 0, 1, 0, 1, 0, 0, 0, 0, 1, 0, 0, 1, 0, 0, 1, 0, 0, 1, 0, 1, 0,\n",
       "       0, 1, 0, 0, 0, 0, 1, 0, 1, 1, 0, 0, 0, 0, 1, 1, 0, 1, 1, 0, 0, 1,\n",
       "       0, 1, 0, 1, 0, 0, 1, 1, 0, 0, 1, 0, 1, 1, 0, 1, 0, 1, 1, 1, 1, 1,\n",
       "       0, 0, 1])"
      ]
     },
     "execution_count": 41,
     "metadata": {},
     "output_type": "execute_result"
    }
   ],
   "source": [
    "pred_val = np.where(best_model.predict_proba(X_test)[:,1] > 0.50, 1, 0)\n",
    "pred_val"
   ]
  },
  {
   "cell_type": "code",
   "execution_count": 42,
   "id": "6da733b4",
   "metadata": {
    "ExecuteTime": {
     "end_time": "2023-04-23T03:28:05.290747Z",
     "start_time": "2023-04-23T03:28:05.249068Z"
    }
   },
   "outputs": [
    {
     "data": {
      "text/html": [
       "<div>\n",
       "<style scoped>\n",
       "    .dataframe tbody tr th:only-of-type {\n",
       "        vertical-align: middle;\n",
       "    }\n",
       "\n",
       "    .dataframe tbody tr th {\n",
       "        vertical-align: top;\n",
       "    }\n",
       "\n",
       "    .dataframe thead th {\n",
       "        text-align: right;\n",
       "    }\n",
       "</style>\n",
       "<table border=\"1\" class=\"dataframe\">\n",
       "  <thead>\n",
       "    <tr style=\"text-align: right;\">\n",
       "      <th></th>\n",
       "      <th>Actual</th>\n",
       "      <th>Predicted_Prob</th>\n",
       "      <th>Predicted</th>\n",
       "    </tr>\n",
       "  </thead>\n",
       "  <tbody>\n",
       "    <tr>\n",
       "      <th>0</th>\n",
       "      <td>0</td>\n",
       "      <td>0.851693</td>\n",
       "      <td>1</td>\n",
       "    </tr>\n",
       "    <tr>\n",
       "      <th>1</th>\n",
       "      <td>1</td>\n",
       "      <td>0.819691</td>\n",
       "      <td>1</td>\n",
       "    </tr>\n",
       "    <tr>\n",
       "      <th>2</th>\n",
       "      <td>1</td>\n",
       "      <td>0.142545</td>\n",
       "      <td>0</td>\n",
       "    </tr>\n",
       "    <tr>\n",
       "      <th>3</th>\n",
       "      <td>1</td>\n",
       "      <td>0.772446</td>\n",
       "      <td>1</td>\n",
       "    </tr>\n",
       "    <tr>\n",
       "      <th>4</th>\n",
       "      <td>0</td>\n",
       "      <td>0.262598</td>\n",
       "      <td>0</td>\n",
       "    </tr>\n",
       "    <tr>\n",
       "      <th>...</th>\n",
       "      <td>...</td>\n",
       "      <td>...</td>\n",
       "      <td>...</td>\n",
       "    </tr>\n",
       "    <tr>\n",
       "      <th>174</th>\n",
       "      <td>1</td>\n",
       "      <td>0.868818</td>\n",
       "      <td>1</td>\n",
       "    </tr>\n",
       "    <tr>\n",
       "      <th>175</th>\n",
       "      <td>1</td>\n",
       "      <td>0.734484</td>\n",
       "      <td>1</td>\n",
       "    </tr>\n",
       "    <tr>\n",
       "      <th>176</th>\n",
       "      <td>0</td>\n",
       "      <td>0.128299</td>\n",
       "      <td>0</td>\n",
       "    </tr>\n",
       "    <tr>\n",
       "      <th>177</th>\n",
       "      <td>0</td>\n",
       "      <td>0.074452</td>\n",
       "      <td>0</td>\n",
       "    </tr>\n",
       "    <tr>\n",
       "      <th>178</th>\n",
       "      <td>0</td>\n",
       "      <td>0.849380</td>\n",
       "      <td>1</td>\n",
       "    </tr>\n",
       "  </tbody>\n",
       "</table>\n",
       "<p>179 rows × 3 columns</p>\n",
       "</div>"
      ],
      "text/plain": [
       "     Actual  Predicted_Prob  Predicted\n",
       "0         0        0.851693          1\n",
       "1         1        0.819691          1\n",
       "2         1        0.142545          0\n",
       "3         1        0.772446          1\n",
       "4         0        0.262598          0\n",
       "..      ...             ...        ...\n",
       "174       1        0.868818          1\n",
       "175       1        0.734484          1\n",
       "176       0        0.128299          0\n",
       "177       0        0.074452          0\n",
       "178       0        0.849380          1\n",
       "\n",
       "[179 rows x 3 columns]"
      ]
     },
     "execution_count": 42,
     "metadata": {},
     "output_type": "execute_result"
    }
   ],
   "source": [
    "cutoff_df = pd.DataFrame(zip(y_test, y_probs, pred_val), columns=['Actual', 'Predicted_Prob', 'Predicted'])\n",
    "cutoff_df"
   ]
  },
  {
   "cell_type": "markdown",
   "id": "67c1facc",
   "metadata": {},
   "source": [
    "The above table consists of `actual class`, `predicted probability` and `predicted class`. We will construct the table for different thresholds."
   ]
  },
  {
   "cell_type": "code",
   "execution_count": 43,
   "id": "86ea0690",
   "metadata": {
    "ExecuteTime": {
     "end_time": "2023-04-23T03:31:01.490487Z",
     "start_time": "2023-04-23T03:31:01.442036Z"
    }
   },
   "outputs": [
    {
     "data": {
      "text/html": [
       "<div>\n",
       "<style scoped>\n",
       "    .dataframe tbody tr th:only-of-type {\n",
       "        vertical-align: middle;\n",
       "    }\n",
       "\n",
       "    .dataframe tbody tr th {\n",
       "        vertical-align: top;\n",
       "    }\n",
       "\n",
       "    .dataframe thead th {\n",
       "        text-align: right;\n",
       "    }\n",
       "</style>\n",
       "<table border=\"1\" class=\"dataframe\">\n",
       "  <thead>\n",
       "    <tr style=\"text-align: right;\">\n",
       "      <th></th>\n",
       "      <th>Actual</th>\n",
       "      <th>Predicted_Prob</th>\n",
       "      <th>Predicted</th>\n",
       "      <th>0.0</th>\n",
       "      <th>0.1</th>\n",
       "      <th>0.2</th>\n",
       "      <th>0.3</th>\n",
       "      <th>0.4</th>\n",
       "      <th>0.5</th>\n",
       "      <th>0.6</th>\n",
       "      <th>0.7</th>\n",
       "      <th>0.8</th>\n",
       "      <th>0.9</th>\n",
       "    </tr>\n",
       "  </thead>\n",
       "  <tbody>\n",
       "    <tr>\n",
       "      <th>0</th>\n",
       "      <td>0</td>\n",
       "      <td>0.851693</td>\n",
       "      <td>1</td>\n",
       "      <td>1</td>\n",
       "      <td>1</td>\n",
       "      <td>1</td>\n",
       "      <td>1</td>\n",
       "      <td>1</td>\n",
       "      <td>1</td>\n",
       "      <td>1</td>\n",
       "      <td>1</td>\n",
       "      <td>1</td>\n",
       "      <td>0</td>\n",
       "    </tr>\n",
       "    <tr>\n",
       "      <th>1</th>\n",
       "      <td>1</td>\n",
       "      <td>0.819691</td>\n",
       "      <td>1</td>\n",
       "      <td>1</td>\n",
       "      <td>1</td>\n",
       "      <td>1</td>\n",
       "      <td>1</td>\n",
       "      <td>1</td>\n",
       "      <td>1</td>\n",
       "      <td>1</td>\n",
       "      <td>1</td>\n",
       "      <td>1</td>\n",
       "      <td>0</td>\n",
       "    </tr>\n",
       "    <tr>\n",
       "      <th>2</th>\n",
       "      <td>1</td>\n",
       "      <td>0.142545</td>\n",
       "      <td>0</td>\n",
       "      <td>1</td>\n",
       "      <td>1</td>\n",
       "      <td>0</td>\n",
       "      <td>0</td>\n",
       "      <td>0</td>\n",
       "      <td>0</td>\n",
       "      <td>0</td>\n",
       "      <td>0</td>\n",
       "      <td>0</td>\n",
       "      <td>0</td>\n",
       "    </tr>\n",
       "    <tr>\n",
       "      <th>3</th>\n",
       "      <td>1</td>\n",
       "      <td>0.772446</td>\n",
       "      <td>1</td>\n",
       "      <td>1</td>\n",
       "      <td>1</td>\n",
       "      <td>1</td>\n",
       "      <td>1</td>\n",
       "      <td>1</td>\n",
       "      <td>1</td>\n",
       "      <td>1</td>\n",
       "      <td>1</td>\n",
       "      <td>0</td>\n",
       "      <td>0</td>\n",
       "    </tr>\n",
       "    <tr>\n",
       "      <th>4</th>\n",
       "      <td>0</td>\n",
       "      <td>0.262598</td>\n",
       "      <td>0</td>\n",
       "      <td>1</td>\n",
       "      <td>1</td>\n",
       "      <td>1</td>\n",
       "      <td>0</td>\n",
       "      <td>0</td>\n",
       "      <td>0</td>\n",
       "      <td>0</td>\n",
       "      <td>0</td>\n",
       "      <td>0</td>\n",
       "      <td>0</td>\n",
       "    </tr>\n",
       "  </tbody>\n",
       "</table>\n",
       "</div>"
      ],
      "text/plain": [
       "   Actual  Predicted_Prob  Predicted  0.0  0.1  0.2  0.3  0.4  0.5  0.6  0.7  \\\n",
       "0       0        0.851693          1    1    1    1    1    1    1    1    1   \n",
       "1       1        0.819691          1    1    1    1    1    1    1    1    1   \n",
       "2       1        0.142545          0    1    1    0    0    0    0    0    0   \n",
       "3       1        0.772446          1    1    1    1    1    1    1    1    1   \n",
       "4       0        0.262598          0    1    1    1    0    0    0    0    0   \n",
       "\n",
       "   0.8  0.9  \n",
       "0    1    0  \n",
       "1    1    0  \n",
       "2    0    0  \n",
       "3    0    0  \n",
       "4    0    0  "
      ]
     },
     "execution_count": 43,
     "metadata": {},
     "output_type": "execute_result"
    }
   ],
   "source": [
    "numbers = [float(x)/10 for x in range(10)]\n",
    "\n",
    "for i in numbers:\n",
    "    cutoff_df[i] = cutoff_df.Predicted_Prob.map(lambda x: 1 if x > i else 0)\n",
    "cutoff_df.head()"
   ]
  },
  {
   "cell_type": "markdown",
   "id": "70896ec2",
   "metadata": {},
   "source": [
    "Now we will evaluate the metrics for each threshold."
   ]
  },
  {
   "cell_type": "code",
   "execution_count": 44,
   "id": "8188b705",
   "metadata": {
    "ExecuteTime": {
     "end_time": "2023-04-23T03:32:51.657622Z",
     "start_time": "2023-04-23T03:32:51.578900Z"
    }
   },
   "outputs": [],
   "source": [
    "from sklearn.metrics import confusion_matrix\n",
    "# TP = confusion[1,1] # true positive \n",
    "# TN = confusion[0,0] # true negatives\n",
    "# FP = confusion[0,1] # false positives\n",
    "# FN = confusion[1,0] # false negatives\n",
    "num = [0.0,0.1,0.2,0.3,0.4,0.5,0.6,0.7,0.8,0.9]\n",
    "cutoff_df1 = pd.DataFrame( columns = ['prob','accuracy','sensi','speci'])\n",
    "for i in num:\n",
    "    cm1 = confusion_matrix(cutoff_df.Actual, cutoff_df[i])\n",
    "    total1=sum(sum(cm1))\n",
    "    Accuracy = (cm1[0,0]+cm1[1,1])/total1\n",
    "    Specificity = cm1[0,0]/(cm1[0,0]+cm1[0,1])\n",
    "    Sensitivity = cm1[1,1]/(cm1[1,0]+cm1[1,1])\n",
    "    cutoff_df1.loc[i] =[ i ,Accuracy,Sensitivity,Specificity]"
   ]
  },
  {
   "cell_type": "code",
   "execution_count": 45,
   "id": "ac41882c",
   "metadata": {
    "ExecuteTime": {
     "end_time": "2023-04-23T03:32:53.172631Z",
     "start_time": "2023-04-23T03:32:53.145943Z"
    }
   },
   "outputs": [
    {
     "data": {
      "text/html": [
       "<div>\n",
       "<style scoped>\n",
       "    .dataframe tbody tr th:only-of-type {\n",
       "        vertical-align: middle;\n",
       "    }\n",
       "\n",
       "    .dataframe tbody tr th {\n",
       "        vertical-align: top;\n",
       "    }\n",
       "\n",
       "    .dataframe thead th {\n",
       "        text-align: right;\n",
       "    }\n",
       "</style>\n",
       "<table border=\"1\" class=\"dataframe\">\n",
       "  <thead>\n",
       "    <tr style=\"text-align: right;\">\n",
       "      <th></th>\n",
       "      <th>prob</th>\n",
       "      <th>accuracy</th>\n",
       "      <th>sensi</th>\n",
       "      <th>speci</th>\n",
       "    </tr>\n",
       "  </thead>\n",
       "  <tbody>\n",
       "    <tr>\n",
       "      <th>0.0</th>\n",
       "      <td>0.0</td>\n",
       "      <td>0.418994</td>\n",
       "      <td>1.000000</td>\n",
       "      <td>0.000000</td>\n",
       "    </tr>\n",
       "    <tr>\n",
       "      <th>0.1</th>\n",
       "      <td>0.1</td>\n",
       "      <td>0.463687</td>\n",
       "      <td>1.000000</td>\n",
       "      <td>0.076923</td>\n",
       "    </tr>\n",
       "    <tr>\n",
       "      <th>0.2</th>\n",
       "      <td>0.2</td>\n",
       "      <td>0.675978</td>\n",
       "      <td>0.866667</td>\n",
       "      <td>0.538462</td>\n",
       "    </tr>\n",
       "    <tr>\n",
       "      <th>0.3</th>\n",
       "      <td>0.3</td>\n",
       "      <td>0.726257</td>\n",
       "      <td>0.800000</td>\n",
       "      <td>0.673077</td>\n",
       "    </tr>\n",
       "    <tr>\n",
       "      <th>0.4</th>\n",
       "      <td>0.4</td>\n",
       "      <td>0.782123</td>\n",
       "      <td>0.786667</td>\n",
       "      <td>0.778846</td>\n",
       "    </tr>\n",
       "    <tr>\n",
       "      <th>0.5</th>\n",
       "      <td>0.5</td>\n",
       "      <td>0.815642</td>\n",
       "      <td>0.773333</td>\n",
       "      <td>0.846154</td>\n",
       "    </tr>\n",
       "    <tr>\n",
       "      <th>0.6</th>\n",
       "      <td>0.6</td>\n",
       "      <td>0.804469</td>\n",
       "      <td>0.706667</td>\n",
       "      <td>0.875000</td>\n",
       "    </tr>\n",
       "    <tr>\n",
       "      <th>0.7</th>\n",
       "      <td>0.7</td>\n",
       "      <td>0.810056</td>\n",
       "      <td>0.706667</td>\n",
       "      <td>0.884615</td>\n",
       "    </tr>\n",
       "    <tr>\n",
       "      <th>0.8</th>\n",
       "      <td>0.8</td>\n",
       "      <td>0.765363</td>\n",
       "      <td>0.506667</td>\n",
       "      <td>0.951923</td>\n",
       "    </tr>\n",
       "    <tr>\n",
       "      <th>0.9</th>\n",
       "      <td>0.9</td>\n",
       "      <td>0.709497</td>\n",
       "      <td>0.306667</td>\n",
       "      <td>1.000000</td>\n",
       "    </tr>\n",
       "  </tbody>\n",
       "</table>\n",
       "</div>"
      ],
      "text/plain": [
       "     prob  accuracy     sensi     speci\n",
       "0.0   0.0  0.418994  1.000000  0.000000\n",
       "0.1   0.1  0.463687  1.000000  0.076923\n",
       "0.2   0.2  0.675978  0.866667  0.538462\n",
       "0.3   0.3  0.726257  0.800000  0.673077\n",
       "0.4   0.4  0.782123  0.786667  0.778846\n",
       "0.5   0.5  0.815642  0.773333  0.846154\n",
       "0.6   0.6  0.804469  0.706667  0.875000\n",
       "0.7   0.7  0.810056  0.706667  0.884615\n",
       "0.8   0.8  0.765363  0.506667  0.951923\n",
       "0.9   0.9  0.709497  0.306667  1.000000"
      ]
     },
     "execution_count": 45,
     "metadata": {},
     "output_type": "execute_result"
    }
   ],
   "source": [
    "cutoff_df1"
   ]
  },
  {
   "cell_type": "markdown",
   "id": "39285b13",
   "metadata": {},
   "source": [
    "Now we will plot the above table."
   ]
  },
  {
   "cell_type": "code",
   "execution_count": 46,
   "id": "982e0023",
   "metadata": {
    "ExecuteTime": {
     "end_time": "2023-04-23T03:33:33.511988Z",
     "start_time": "2023-04-23T03:33:33.359152Z"
    },
    "scrolled": false
   },
   "outputs": [
    {
     "data": {
      "application/javascript": [
       "/* Put everything inside the global mpl namespace */\n",
       "/* global mpl */\n",
       "window.mpl = {};\n",
       "\n",
       "mpl.get_websocket_type = function () {\n",
       "    if (typeof WebSocket !== 'undefined') {\n",
       "        return WebSocket;\n",
       "    } else if (typeof MozWebSocket !== 'undefined') {\n",
       "        return MozWebSocket;\n",
       "    } else {\n",
       "        alert(\n",
       "            'Your browser does not have WebSocket support. ' +\n",
       "                'Please try Chrome, Safari or Firefox ≥ 6. ' +\n",
       "                'Firefox 4 and 5 are also supported but you ' +\n",
       "                'have to enable WebSockets in about:config.'\n",
       "        );\n",
       "    }\n",
       "};\n",
       "\n",
       "mpl.figure = function (figure_id, websocket, ondownload, parent_element) {\n",
       "    this.id = figure_id;\n",
       "\n",
       "    this.ws = websocket;\n",
       "\n",
       "    this.supports_binary = this.ws.binaryType !== undefined;\n",
       "\n",
       "    if (!this.supports_binary) {\n",
       "        var warnings = document.getElementById('mpl-warnings');\n",
       "        if (warnings) {\n",
       "            warnings.style.display = 'block';\n",
       "            warnings.textContent =\n",
       "                'This browser does not support binary websocket messages. ' +\n",
       "                'Performance may be slow.';\n",
       "        }\n",
       "    }\n",
       "\n",
       "    this.imageObj = new Image();\n",
       "\n",
       "    this.context = undefined;\n",
       "    this.message = undefined;\n",
       "    this.canvas = undefined;\n",
       "    this.rubberband_canvas = undefined;\n",
       "    this.rubberband_context = undefined;\n",
       "    this.format_dropdown = undefined;\n",
       "\n",
       "    this.image_mode = 'full';\n",
       "\n",
       "    this.root = document.createElement('div');\n",
       "    this.root.setAttribute('style', 'display: inline-block');\n",
       "    this._root_extra_style(this.root);\n",
       "\n",
       "    parent_element.appendChild(this.root);\n",
       "\n",
       "    this._init_header(this);\n",
       "    this._init_canvas(this);\n",
       "    this._init_toolbar(this);\n",
       "\n",
       "    var fig = this;\n",
       "\n",
       "    this.waiting = false;\n",
       "\n",
       "    this.ws.onopen = function () {\n",
       "        fig.send_message('supports_binary', { value: fig.supports_binary });\n",
       "        fig.send_message('send_image_mode', {});\n",
       "        if (fig.ratio !== 1) {\n",
       "            fig.send_message('set_device_pixel_ratio', {\n",
       "                device_pixel_ratio: fig.ratio,\n",
       "            });\n",
       "        }\n",
       "        fig.send_message('refresh', {});\n",
       "    };\n",
       "\n",
       "    this.imageObj.onload = function () {\n",
       "        if (fig.image_mode === 'full') {\n",
       "            // Full images could contain transparency (where diff images\n",
       "            // almost always do), so we need to clear the canvas so that\n",
       "            // there is no ghosting.\n",
       "            fig.context.clearRect(0, 0, fig.canvas.width, fig.canvas.height);\n",
       "        }\n",
       "        fig.context.drawImage(fig.imageObj, 0, 0);\n",
       "    };\n",
       "\n",
       "    this.imageObj.onunload = function () {\n",
       "        fig.ws.close();\n",
       "    };\n",
       "\n",
       "    this.ws.onmessage = this._make_on_message_function(this);\n",
       "\n",
       "    this.ondownload = ondownload;\n",
       "};\n",
       "\n",
       "mpl.figure.prototype._init_header = function () {\n",
       "    var titlebar = document.createElement('div');\n",
       "    titlebar.classList =\n",
       "        'ui-dialog-titlebar ui-widget-header ui-corner-all ui-helper-clearfix';\n",
       "    var titletext = document.createElement('div');\n",
       "    titletext.classList = 'ui-dialog-title';\n",
       "    titletext.setAttribute(\n",
       "        'style',\n",
       "        'width: 100%; text-align: center; padding: 3px;'\n",
       "    );\n",
       "    titlebar.appendChild(titletext);\n",
       "    this.root.appendChild(titlebar);\n",
       "    this.header = titletext;\n",
       "};\n",
       "\n",
       "mpl.figure.prototype._canvas_extra_style = function (_canvas_div) {};\n",
       "\n",
       "mpl.figure.prototype._root_extra_style = function (_canvas_div) {};\n",
       "\n",
       "mpl.figure.prototype._init_canvas = function () {\n",
       "    var fig = this;\n",
       "\n",
       "    var canvas_div = (this.canvas_div = document.createElement('div'));\n",
       "    canvas_div.setAttribute(\n",
       "        'style',\n",
       "        'border: 1px solid #ddd;' +\n",
       "            'box-sizing: content-box;' +\n",
       "            'clear: both;' +\n",
       "            'min-height: 1px;' +\n",
       "            'min-width: 1px;' +\n",
       "            'outline: 0;' +\n",
       "            'overflow: hidden;' +\n",
       "            'position: relative;' +\n",
       "            'resize: both;'\n",
       "    );\n",
       "\n",
       "    function on_keyboard_event_closure(name) {\n",
       "        return function (event) {\n",
       "            return fig.key_event(event, name);\n",
       "        };\n",
       "    }\n",
       "\n",
       "    canvas_div.addEventListener(\n",
       "        'keydown',\n",
       "        on_keyboard_event_closure('key_press')\n",
       "    );\n",
       "    canvas_div.addEventListener(\n",
       "        'keyup',\n",
       "        on_keyboard_event_closure('key_release')\n",
       "    );\n",
       "\n",
       "    this._canvas_extra_style(canvas_div);\n",
       "    this.root.appendChild(canvas_div);\n",
       "\n",
       "    var canvas = (this.canvas = document.createElement('canvas'));\n",
       "    canvas.classList.add('mpl-canvas');\n",
       "    canvas.setAttribute('style', 'box-sizing: content-box;');\n",
       "\n",
       "    this.context = canvas.getContext('2d');\n",
       "\n",
       "    var backingStore =\n",
       "        this.context.backingStorePixelRatio ||\n",
       "        this.context.webkitBackingStorePixelRatio ||\n",
       "        this.context.mozBackingStorePixelRatio ||\n",
       "        this.context.msBackingStorePixelRatio ||\n",
       "        this.context.oBackingStorePixelRatio ||\n",
       "        this.context.backingStorePixelRatio ||\n",
       "        1;\n",
       "\n",
       "    this.ratio = (window.devicePixelRatio || 1) / backingStore;\n",
       "\n",
       "    var rubberband_canvas = (this.rubberband_canvas = document.createElement(\n",
       "        'canvas'\n",
       "    ));\n",
       "    rubberband_canvas.setAttribute(\n",
       "        'style',\n",
       "        'box-sizing: content-box; position: absolute; left: 0; top: 0; z-index: 1;'\n",
       "    );\n",
       "\n",
       "    // Apply a ponyfill if ResizeObserver is not implemented by browser.\n",
       "    if (this.ResizeObserver === undefined) {\n",
       "        if (window.ResizeObserver !== undefined) {\n",
       "            this.ResizeObserver = window.ResizeObserver;\n",
       "        } else {\n",
       "            var obs = _JSXTOOLS_RESIZE_OBSERVER({});\n",
       "            this.ResizeObserver = obs.ResizeObserver;\n",
       "        }\n",
       "    }\n",
       "\n",
       "    this.resizeObserverInstance = new this.ResizeObserver(function (entries) {\n",
       "        var nentries = entries.length;\n",
       "        for (var i = 0; i < nentries; i++) {\n",
       "            var entry = entries[i];\n",
       "            var width, height;\n",
       "            if (entry.contentBoxSize) {\n",
       "                if (entry.contentBoxSize instanceof Array) {\n",
       "                    // Chrome 84 implements new version of spec.\n",
       "                    width = entry.contentBoxSize[0].inlineSize;\n",
       "                    height = entry.contentBoxSize[0].blockSize;\n",
       "                } else {\n",
       "                    // Firefox implements old version of spec.\n",
       "                    width = entry.contentBoxSize.inlineSize;\n",
       "                    height = entry.contentBoxSize.blockSize;\n",
       "                }\n",
       "            } else {\n",
       "                // Chrome <84 implements even older version of spec.\n",
       "                width = entry.contentRect.width;\n",
       "                height = entry.contentRect.height;\n",
       "            }\n",
       "\n",
       "            // Keep the size of the canvas and rubber band canvas in sync with\n",
       "            // the canvas container.\n",
       "            if (entry.devicePixelContentBoxSize) {\n",
       "                // Chrome 84 implements new version of spec.\n",
       "                canvas.setAttribute(\n",
       "                    'width',\n",
       "                    entry.devicePixelContentBoxSize[0].inlineSize\n",
       "                );\n",
       "                canvas.setAttribute(\n",
       "                    'height',\n",
       "                    entry.devicePixelContentBoxSize[0].blockSize\n",
       "                );\n",
       "            } else {\n",
       "                canvas.setAttribute('width', width * fig.ratio);\n",
       "                canvas.setAttribute('height', height * fig.ratio);\n",
       "            }\n",
       "            canvas.setAttribute(\n",
       "                'style',\n",
       "                'width: ' + width + 'px; height: ' + height + 'px;'\n",
       "            );\n",
       "\n",
       "            rubberband_canvas.setAttribute('width', width);\n",
       "            rubberband_canvas.setAttribute('height', height);\n",
       "\n",
       "            // And update the size in Python. We ignore the initial 0/0 size\n",
       "            // that occurs as the element is placed into the DOM, which should\n",
       "            // otherwise not happen due to the minimum size styling.\n",
       "            if (fig.ws.readyState == 1 && width != 0 && height != 0) {\n",
       "                fig.request_resize(width, height);\n",
       "            }\n",
       "        }\n",
       "    });\n",
       "    this.resizeObserverInstance.observe(canvas_div);\n",
       "\n",
       "    function on_mouse_event_closure(name) {\n",
       "        return function (event) {\n",
       "            return fig.mouse_event(event, name);\n",
       "        };\n",
       "    }\n",
       "\n",
       "    rubberband_canvas.addEventListener(\n",
       "        'mousedown',\n",
       "        on_mouse_event_closure('button_press')\n",
       "    );\n",
       "    rubberband_canvas.addEventListener(\n",
       "        'mouseup',\n",
       "        on_mouse_event_closure('button_release')\n",
       "    );\n",
       "    rubberband_canvas.addEventListener(\n",
       "        'dblclick',\n",
       "        on_mouse_event_closure('dblclick')\n",
       "    );\n",
       "    // Throttle sequential mouse events to 1 every 20ms.\n",
       "    rubberband_canvas.addEventListener(\n",
       "        'mousemove',\n",
       "        on_mouse_event_closure('motion_notify')\n",
       "    );\n",
       "\n",
       "    rubberband_canvas.addEventListener(\n",
       "        'mouseenter',\n",
       "        on_mouse_event_closure('figure_enter')\n",
       "    );\n",
       "    rubberband_canvas.addEventListener(\n",
       "        'mouseleave',\n",
       "        on_mouse_event_closure('figure_leave')\n",
       "    );\n",
       "\n",
       "    canvas_div.addEventListener('wheel', function (event) {\n",
       "        if (event.deltaY < 0) {\n",
       "            event.step = 1;\n",
       "        } else {\n",
       "            event.step = -1;\n",
       "        }\n",
       "        on_mouse_event_closure('scroll')(event);\n",
       "    });\n",
       "\n",
       "    canvas_div.appendChild(canvas);\n",
       "    canvas_div.appendChild(rubberband_canvas);\n",
       "\n",
       "    this.rubberband_context = rubberband_canvas.getContext('2d');\n",
       "    this.rubberband_context.strokeStyle = '#000000';\n",
       "\n",
       "    this._resize_canvas = function (width, height, forward) {\n",
       "        if (forward) {\n",
       "            canvas_div.style.width = width + 'px';\n",
       "            canvas_div.style.height = height + 'px';\n",
       "        }\n",
       "    };\n",
       "\n",
       "    // Disable right mouse context menu.\n",
       "    this.rubberband_canvas.addEventListener('contextmenu', function (_e) {\n",
       "        event.preventDefault();\n",
       "        return false;\n",
       "    });\n",
       "\n",
       "    function set_focus() {\n",
       "        canvas.focus();\n",
       "        canvas_div.focus();\n",
       "    }\n",
       "\n",
       "    window.setTimeout(set_focus, 100);\n",
       "};\n",
       "\n",
       "mpl.figure.prototype._init_toolbar = function () {\n",
       "    var fig = this;\n",
       "\n",
       "    var toolbar = document.createElement('div');\n",
       "    toolbar.classList = 'mpl-toolbar';\n",
       "    this.root.appendChild(toolbar);\n",
       "\n",
       "    function on_click_closure(name) {\n",
       "        return function (_event) {\n",
       "            return fig.toolbar_button_onclick(name);\n",
       "        };\n",
       "    }\n",
       "\n",
       "    function on_mouseover_closure(tooltip) {\n",
       "        return function (event) {\n",
       "            if (!event.currentTarget.disabled) {\n",
       "                return fig.toolbar_button_onmouseover(tooltip);\n",
       "            }\n",
       "        };\n",
       "    }\n",
       "\n",
       "    fig.buttons = {};\n",
       "    var buttonGroup = document.createElement('div');\n",
       "    buttonGroup.classList = 'mpl-button-group';\n",
       "    for (var toolbar_ind in mpl.toolbar_items) {\n",
       "        var name = mpl.toolbar_items[toolbar_ind][0];\n",
       "        var tooltip = mpl.toolbar_items[toolbar_ind][1];\n",
       "        var image = mpl.toolbar_items[toolbar_ind][2];\n",
       "        var method_name = mpl.toolbar_items[toolbar_ind][3];\n",
       "\n",
       "        if (!name) {\n",
       "            /* Instead of a spacer, we start a new button group. */\n",
       "            if (buttonGroup.hasChildNodes()) {\n",
       "                toolbar.appendChild(buttonGroup);\n",
       "            }\n",
       "            buttonGroup = document.createElement('div');\n",
       "            buttonGroup.classList = 'mpl-button-group';\n",
       "            continue;\n",
       "        }\n",
       "\n",
       "        var button = (fig.buttons[name] = document.createElement('button'));\n",
       "        button.classList = 'mpl-widget';\n",
       "        button.setAttribute('role', 'button');\n",
       "        button.setAttribute('aria-disabled', 'false');\n",
       "        button.addEventListener('click', on_click_closure(method_name));\n",
       "        button.addEventListener('mouseover', on_mouseover_closure(tooltip));\n",
       "\n",
       "        var icon_img = document.createElement('img');\n",
       "        icon_img.src = '_images/' + image + '.png';\n",
       "        icon_img.srcset = '_images/' + image + '_large.png 2x';\n",
       "        icon_img.alt = tooltip;\n",
       "        button.appendChild(icon_img);\n",
       "\n",
       "        buttonGroup.appendChild(button);\n",
       "    }\n",
       "\n",
       "    if (buttonGroup.hasChildNodes()) {\n",
       "        toolbar.appendChild(buttonGroup);\n",
       "    }\n",
       "\n",
       "    var fmt_picker = document.createElement('select');\n",
       "    fmt_picker.classList = 'mpl-widget';\n",
       "    toolbar.appendChild(fmt_picker);\n",
       "    this.format_dropdown = fmt_picker;\n",
       "\n",
       "    for (var ind in mpl.extensions) {\n",
       "        var fmt = mpl.extensions[ind];\n",
       "        var option = document.createElement('option');\n",
       "        option.selected = fmt === mpl.default_extension;\n",
       "        option.innerHTML = fmt;\n",
       "        fmt_picker.appendChild(option);\n",
       "    }\n",
       "\n",
       "    var status_bar = document.createElement('span');\n",
       "    status_bar.classList = 'mpl-message';\n",
       "    toolbar.appendChild(status_bar);\n",
       "    this.message = status_bar;\n",
       "};\n",
       "\n",
       "mpl.figure.prototype.request_resize = function (x_pixels, y_pixels) {\n",
       "    // Request matplotlib to resize the figure. Matplotlib will then trigger a resize in the client,\n",
       "    // which will in turn request a refresh of the image.\n",
       "    this.send_message('resize', { width: x_pixels, height: y_pixels });\n",
       "};\n",
       "\n",
       "mpl.figure.prototype.send_message = function (type, properties) {\n",
       "    properties['type'] = type;\n",
       "    properties['figure_id'] = this.id;\n",
       "    this.ws.send(JSON.stringify(properties));\n",
       "};\n",
       "\n",
       "mpl.figure.prototype.send_draw_message = function () {\n",
       "    if (!this.waiting) {\n",
       "        this.waiting = true;\n",
       "        this.ws.send(JSON.stringify({ type: 'draw', figure_id: this.id }));\n",
       "    }\n",
       "};\n",
       "\n",
       "mpl.figure.prototype.handle_save = function (fig, _msg) {\n",
       "    var format_dropdown = fig.format_dropdown;\n",
       "    var format = format_dropdown.options[format_dropdown.selectedIndex].value;\n",
       "    fig.ondownload(fig, format);\n",
       "};\n",
       "\n",
       "mpl.figure.prototype.handle_resize = function (fig, msg) {\n",
       "    var size = msg['size'];\n",
       "    if (size[0] !== fig.canvas.width || size[1] !== fig.canvas.height) {\n",
       "        fig._resize_canvas(size[0], size[1], msg['forward']);\n",
       "        fig.send_message('refresh', {});\n",
       "    }\n",
       "};\n",
       "\n",
       "mpl.figure.prototype.handle_rubberband = function (fig, msg) {\n",
       "    var x0 = msg['x0'] / fig.ratio;\n",
       "    var y0 = (fig.canvas.height - msg['y0']) / fig.ratio;\n",
       "    var x1 = msg['x1'] / fig.ratio;\n",
       "    var y1 = (fig.canvas.height - msg['y1']) / fig.ratio;\n",
       "    x0 = Math.floor(x0) + 0.5;\n",
       "    y0 = Math.floor(y0) + 0.5;\n",
       "    x1 = Math.floor(x1) + 0.5;\n",
       "    y1 = Math.floor(y1) + 0.5;\n",
       "    var min_x = Math.min(x0, x1);\n",
       "    var min_y = Math.min(y0, y1);\n",
       "    var width = Math.abs(x1 - x0);\n",
       "    var height = Math.abs(y1 - y0);\n",
       "\n",
       "    fig.rubberband_context.clearRect(\n",
       "        0,\n",
       "        0,\n",
       "        fig.canvas.width / fig.ratio,\n",
       "        fig.canvas.height / fig.ratio\n",
       "    );\n",
       "\n",
       "    fig.rubberband_context.strokeRect(min_x, min_y, width, height);\n",
       "};\n",
       "\n",
       "mpl.figure.prototype.handle_figure_label = function (fig, msg) {\n",
       "    // Updates the figure title.\n",
       "    fig.header.textContent = msg['label'];\n",
       "};\n",
       "\n",
       "mpl.figure.prototype.handle_cursor = function (fig, msg) {\n",
       "    fig.rubberband_canvas.style.cursor = msg['cursor'];\n",
       "};\n",
       "\n",
       "mpl.figure.prototype.handle_message = function (fig, msg) {\n",
       "    fig.message.textContent = msg['message'];\n",
       "};\n",
       "\n",
       "mpl.figure.prototype.handle_draw = function (fig, _msg) {\n",
       "    // Request the server to send over a new figure.\n",
       "    fig.send_draw_message();\n",
       "};\n",
       "\n",
       "mpl.figure.prototype.handle_image_mode = function (fig, msg) {\n",
       "    fig.image_mode = msg['mode'];\n",
       "};\n",
       "\n",
       "mpl.figure.prototype.handle_history_buttons = function (fig, msg) {\n",
       "    for (var key in msg) {\n",
       "        if (!(key in fig.buttons)) {\n",
       "            continue;\n",
       "        }\n",
       "        fig.buttons[key].disabled = !msg[key];\n",
       "        fig.buttons[key].setAttribute('aria-disabled', !msg[key]);\n",
       "    }\n",
       "};\n",
       "\n",
       "mpl.figure.prototype.handle_navigate_mode = function (fig, msg) {\n",
       "    if (msg['mode'] === 'PAN') {\n",
       "        fig.buttons['Pan'].classList.add('active');\n",
       "        fig.buttons['Zoom'].classList.remove('active');\n",
       "    } else if (msg['mode'] === 'ZOOM') {\n",
       "        fig.buttons['Pan'].classList.remove('active');\n",
       "        fig.buttons['Zoom'].classList.add('active');\n",
       "    } else {\n",
       "        fig.buttons['Pan'].classList.remove('active');\n",
       "        fig.buttons['Zoom'].classList.remove('active');\n",
       "    }\n",
       "};\n",
       "\n",
       "mpl.figure.prototype.updated_canvas_event = function () {\n",
       "    // Called whenever the canvas gets updated.\n",
       "    this.send_message('ack', {});\n",
       "};\n",
       "\n",
       "// A function to construct a web socket function for onmessage handling.\n",
       "// Called in the figure constructor.\n",
       "mpl.figure.prototype._make_on_message_function = function (fig) {\n",
       "    return function socket_on_message(evt) {\n",
       "        if (evt.data instanceof Blob) {\n",
       "            var img = evt.data;\n",
       "            if (img.type !== 'image/png') {\n",
       "                /* FIXME: We get \"Resource interpreted as Image but\n",
       "                 * transferred with MIME type text/plain:\" errors on\n",
       "                 * Chrome.  But how to set the MIME type?  It doesn't seem\n",
       "                 * to be part of the websocket stream */\n",
       "                img.type = 'image/png';\n",
       "            }\n",
       "\n",
       "            /* Free the memory for the previous frames */\n",
       "            if (fig.imageObj.src) {\n",
       "                (window.URL || window.webkitURL).revokeObjectURL(\n",
       "                    fig.imageObj.src\n",
       "                );\n",
       "            }\n",
       "\n",
       "            fig.imageObj.src = (window.URL || window.webkitURL).createObjectURL(\n",
       "                img\n",
       "            );\n",
       "            fig.updated_canvas_event();\n",
       "            fig.waiting = false;\n",
       "            return;\n",
       "        } else if (\n",
       "            typeof evt.data === 'string' &&\n",
       "            evt.data.slice(0, 21) === 'data:image/png;base64'\n",
       "        ) {\n",
       "            fig.imageObj.src = evt.data;\n",
       "            fig.updated_canvas_event();\n",
       "            fig.waiting = false;\n",
       "            return;\n",
       "        }\n",
       "\n",
       "        var msg = JSON.parse(evt.data);\n",
       "        var msg_type = msg['type'];\n",
       "\n",
       "        // Call the  \"handle_{type}\" callback, which takes\n",
       "        // the figure and JSON message as its only arguments.\n",
       "        try {\n",
       "            var callback = fig['handle_' + msg_type];\n",
       "        } catch (e) {\n",
       "            console.log(\n",
       "                \"No handler for the '\" + msg_type + \"' message type: \",\n",
       "                msg\n",
       "            );\n",
       "            return;\n",
       "        }\n",
       "\n",
       "        if (callback) {\n",
       "            try {\n",
       "                // console.log(\"Handling '\" + msg_type + \"' message: \", msg);\n",
       "                callback(fig, msg);\n",
       "            } catch (e) {\n",
       "                console.log(\n",
       "                    \"Exception inside the 'handler_\" + msg_type + \"' callback:\",\n",
       "                    e,\n",
       "                    e.stack,\n",
       "                    msg\n",
       "                );\n",
       "            }\n",
       "        }\n",
       "    };\n",
       "};\n",
       "\n",
       "// from https://stackoverflow.com/questions/1114465/getting-mouse-location-in-canvas\n",
       "mpl.findpos = function (e) {\n",
       "    //this section is from http://www.quirksmode.org/js/events_properties.html\n",
       "    var targ;\n",
       "    if (!e) {\n",
       "        e = window.event;\n",
       "    }\n",
       "    if (e.target) {\n",
       "        targ = e.target;\n",
       "    } else if (e.srcElement) {\n",
       "        targ = e.srcElement;\n",
       "    }\n",
       "    if (targ.nodeType === 3) {\n",
       "        // defeat Safari bug\n",
       "        targ = targ.parentNode;\n",
       "    }\n",
       "\n",
       "    // pageX,Y are the mouse positions relative to the document\n",
       "    var boundingRect = targ.getBoundingClientRect();\n",
       "    var x = e.pageX - (boundingRect.left + document.body.scrollLeft);\n",
       "    var y = e.pageY - (boundingRect.top + document.body.scrollTop);\n",
       "\n",
       "    return { x: x, y: y };\n",
       "};\n",
       "\n",
       "/*\n",
       " * return a copy of an object with only non-object keys\n",
       " * we need this to avoid circular references\n",
       " * https://stackoverflow.com/a/24161582/3208463\n",
       " */\n",
       "function simpleKeys(original) {\n",
       "    return Object.keys(original).reduce(function (obj, key) {\n",
       "        if (typeof original[key] !== 'object') {\n",
       "            obj[key] = original[key];\n",
       "        }\n",
       "        return obj;\n",
       "    }, {});\n",
       "}\n",
       "\n",
       "mpl.figure.prototype.mouse_event = function (event, name) {\n",
       "    var canvas_pos = mpl.findpos(event);\n",
       "\n",
       "    if (name === 'button_press') {\n",
       "        this.canvas.focus();\n",
       "        this.canvas_div.focus();\n",
       "    }\n",
       "\n",
       "    var x = canvas_pos.x * this.ratio;\n",
       "    var y = canvas_pos.y * this.ratio;\n",
       "\n",
       "    this.send_message(name, {\n",
       "        x: x,\n",
       "        y: y,\n",
       "        button: event.button,\n",
       "        step: event.step,\n",
       "        guiEvent: simpleKeys(event),\n",
       "    });\n",
       "\n",
       "    /* This prevents the web browser from automatically changing to\n",
       "     * the text insertion cursor when the button is pressed.  We want\n",
       "     * to control all of the cursor setting manually through the\n",
       "     * 'cursor' event from matplotlib */\n",
       "    event.preventDefault();\n",
       "    return false;\n",
       "};\n",
       "\n",
       "mpl.figure.prototype._key_event_extra = function (_event, _name) {\n",
       "    // Handle any extra behaviour associated with a key event\n",
       "};\n",
       "\n",
       "mpl.figure.prototype.key_event = function (event, name) {\n",
       "    // Prevent repeat events\n",
       "    if (name === 'key_press') {\n",
       "        if (event.key === this._key) {\n",
       "            return;\n",
       "        } else {\n",
       "            this._key = event.key;\n",
       "        }\n",
       "    }\n",
       "    if (name === 'key_release') {\n",
       "        this._key = null;\n",
       "    }\n",
       "\n",
       "    var value = '';\n",
       "    if (event.ctrlKey && event.key !== 'Control') {\n",
       "        value += 'ctrl+';\n",
       "    }\n",
       "    else if (event.altKey && event.key !== 'Alt') {\n",
       "        value += 'alt+';\n",
       "    }\n",
       "    else if (event.shiftKey && event.key !== 'Shift') {\n",
       "        value += 'shift+';\n",
       "    }\n",
       "\n",
       "    value += 'k' + event.key;\n",
       "\n",
       "    this._key_event_extra(event, name);\n",
       "\n",
       "    this.send_message(name, { key: value, guiEvent: simpleKeys(event) });\n",
       "    return false;\n",
       "};\n",
       "\n",
       "mpl.figure.prototype.toolbar_button_onclick = function (name) {\n",
       "    if (name === 'download') {\n",
       "        this.handle_save(this, null);\n",
       "    } else {\n",
       "        this.send_message('toolbar_button', { name: name });\n",
       "    }\n",
       "};\n",
       "\n",
       "mpl.figure.prototype.toolbar_button_onmouseover = function (tooltip) {\n",
       "    this.message.textContent = tooltip;\n",
       "};\n",
       "\n",
       "///////////////// REMAINING CONTENT GENERATED BY embed_js.py /////////////////\n",
       "// prettier-ignore\n",
       "var _JSXTOOLS_RESIZE_OBSERVER=function(A){var t,i=new WeakMap,n=new WeakMap,a=new WeakMap,r=new WeakMap,o=new Set;function s(e){if(!(this instanceof s))throw new TypeError(\"Constructor requires 'new' operator\");i.set(this,e)}function h(){throw new TypeError(\"Function is not a constructor\")}function c(e,t,i,n){e=0 in arguments?Number(arguments[0]):0,t=1 in arguments?Number(arguments[1]):0,i=2 in arguments?Number(arguments[2]):0,n=3 in arguments?Number(arguments[3]):0,this.right=(this.x=this.left=e)+(this.width=i),this.bottom=(this.y=this.top=t)+(this.height=n),Object.freeze(this)}function d(){t=requestAnimationFrame(d);var s=new WeakMap,p=new Set;o.forEach((function(t){r.get(t).forEach((function(i){var r=t instanceof window.SVGElement,o=a.get(t),d=r?0:parseFloat(o.paddingTop),f=r?0:parseFloat(o.paddingRight),l=r?0:parseFloat(o.paddingBottom),u=r?0:parseFloat(o.paddingLeft),g=r?0:parseFloat(o.borderTopWidth),m=r?0:parseFloat(o.borderRightWidth),w=r?0:parseFloat(o.borderBottomWidth),b=u+f,F=d+l,v=(r?0:parseFloat(o.borderLeftWidth))+m,W=g+w,y=r?0:t.offsetHeight-W-t.clientHeight,E=r?0:t.offsetWidth-v-t.clientWidth,R=b+v,z=F+W,M=r?t.width:parseFloat(o.width)-R-E,O=r?t.height:parseFloat(o.height)-z-y;if(n.has(t)){var k=n.get(t);if(k[0]===M&&k[1]===O)return}n.set(t,[M,O]);var S=Object.create(h.prototype);S.target=t,S.contentRect=new c(u,d,M,O),s.has(i)||(s.set(i,[]),p.add(i)),s.get(i).push(S)}))})),p.forEach((function(e){i.get(e).call(e,s.get(e),e)}))}return s.prototype.observe=function(i){if(i instanceof window.Element){r.has(i)||(r.set(i,new Set),o.add(i),a.set(i,window.getComputedStyle(i)));var n=r.get(i);n.has(this)||n.add(this),cancelAnimationFrame(t),t=requestAnimationFrame(d)}},s.prototype.unobserve=function(i){if(i instanceof window.Element&&r.has(i)){var n=r.get(i);n.has(this)&&(n.delete(this),n.size||(r.delete(i),o.delete(i))),n.size||r.delete(i),o.size||cancelAnimationFrame(t)}},A.DOMRectReadOnly=c,A.ResizeObserver=s,A.ResizeObserverEntry=h,A}; // eslint-disable-line\n",
       "mpl.toolbar_items = [[\"Home\", \"Reset original view\", \"fa fa-home icon-home\", \"home\"], [\"Back\", \"Back to previous view\", \"fa fa-arrow-left icon-arrow-left\", \"back\"], [\"Forward\", \"Forward to next view\", \"fa fa-arrow-right icon-arrow-right\", \"forward\"], [\"\", \"\", \"\", \"\"], [\"Pan\", \"Left button pans, Right button zooms\\nx/y fixes axis, CTRL fixes aspect\", \"fa fa-arrows icon-move\", \"pan\"], [\"Zoom\", \"Zoom to rectangle\\nx/y fixes axis\", \"fa fa-square-o icon-check-empty\", \"zoom\"], [\"\", \"\", \"\", \"\"], [\"Download\", \"Download plot\", \"fa fa-floppy-o icon-save\", \"download\"]];\n",
       "\n",
       "mpl.extensions = [\"eps\", \"jpeg\", \"pgf\", \"pdf\", \"png\", \"ps\", \"raw\", \"svg\", \"tif\"];\n",
       "\n",
       "mpl.default_extension = \"png\";/* global mpl */\n",
       "\n",
       "var comm_websocket_adapter = function (comm) {\n",
       "    // Create a \"websocket\"-like object which calls the given IPython comm\n",
       "    // object with the appropriate methods. Currently this is a non binary\n",
       "    // socket, so there is still some room for performance tuning.\n",
       "    var ws = {};\n",
       "\n",
       "    ws.binaryType = comm.kernel.ws.binaryType;\n",
       "    ws.readyState = comm.kernel.ws.readyState;\n",
       "    function updateReadyState(_event) {\n",
       "        if (comm.kernel.ws) {\n",
       "            ws.readyState = comm.kernel.ws.readyState;\n",
       "        } else {\n",
       "            ws.readyState = 3; // Closed state.\n",
       "        }\n",
       "    }\n",
       "    comm.kernel.ws.addEventListener('open', updateReadyState);\n",
       "    comm.kernel.ws.addEventListener('close', updateReadyState);\n",
       "    comm.kernel.ws.addEventListener('error', updateReadyState);\n",
       "\n",
       "    ws.close = function () {\n",
       "        comm.close();\n",
       "    };\n",
       "    ws.send = function (m) {\n",
       "        //console.log('sending', m);\n",
       "        comm.send(m);\n",
       "    };\n",
       "    // Register the callback with on_msg.\n",
       "    comm.on_msg(function (msg) {\n",
       "        //console.log('receiving', msg['content']['data'], msg);\n",
       "        var data = msg['content']['data'];\n",
       "        if (data['blob'] !== undefined) {\n",
       "            data = {\n",
       "                data: new Blob(msg['buffers'], { type: data['blob'] }),\n",
       "            };\n",
       "        }\n",
       "        // Pass the mpl event to the overridden (by mpl) onmessage function.\n",
       "        ws.onmessage(data);\n",
       "    });\n",
       "    return ws;\n",
       "};\n",
       "\n",
       "mpl.mpl_figure_comm = function (comm, msg) {\n",
       "    // This is the function which gets called when the mpl process\n",
       "    // starts-up an IPython Comm through the \"matplotlib\" channel.\n",
       "\n",
       "    var id = msg.content.data.id;\n",
       "    // Get hold of the div created by the display call when the Comm\n",
       "    // socket was opened in Python.\n",
       "    var element = document.getElementById(id);\n",
       "    var ws_proxy = comm_websocket_adapter(comm);\n",
       "\n",
       "    function ondownload(figure, _format) {\n",
       "        window.open(figure.canvas.toDataURL());\n",
       "    }\n",
       "\n",
       "    var fig = new mpl.figure(id, ws_proxy, ondownload, element);\n",
       "\n",
       "    // Call onopen now - mpl needs it, as it is assuming we've passed it a real\n",
       "    // web socket which is closed, not our websocket->open comm proxy.\n",
       "    ws_proxy.onopen();\n",
       "\n",
       "    fig.parent_element = element;\n",
       "    fig.cell_info = mpl.find_output_cell(\"<div id='\" + id + \"'></div>\");\n",
       "    if (!fig.cell_info) {\n",
       "        console.error('Failed to find cell for figure', id, fig);\n",
       "        return;\n",
       "    }\n",
       "    fig.cell_info[0].output_area.element.on(\n",
       "        'cleared',\n",
       "        { fig: fig },\n",
       "        fig._remove_fig_handler\n",
       "    );\n",
       "};\n",
       "\n",
       "mpl.figure.prototype.handle_close = function (fig, msg) {\n",
       "    var width = fig.canvas.width / fig.ratio;\n",
       "    fig.cell_info[0].output_area.element.off(\n",
       "        'cleared',\n",
       "        fig._remove_fig_handler\n",
       "    );\n",
       "    fig.resizeObserverInstance.unobserve(fig.canvas_div);\n",
       "\n",
       "    // Update the output cell to use the data from the current canvas.\n",
       "    fig.push_to_output();\n",
       "    var dataURL = fig.canvas.toDataURL();\n",
       "    // Re-enable the keyboard manager in IPython - without this line, in FF,\n",
       "    // the notebook keyboard shortcuts fail.\n",
       "    IPython.keyboard_manager.enable();\n",
       "    fig.parent_element.innerHTML =\n",
       "        '<img src=\"' + dataURL + '\" width=\"' + width + '\">';\n",
       "    fig.close_ws(fig, msg);\n",
       "};\n",
       "\n",
       "mpl.figure.prototype.close_ws = function (fig, msg) {\n",
       "    fig.send_message('closing', msg);\n",
       "    // fig.ws.close()\n",
       "};\n",
       "\n",
       "mpl.figure.prototype.push_to_output = function (_remove_interactive) {\n",
       "    // Turn the data on the canvas into data in the output cell.\n",
       "    var width = this.canvas.width / this.ratio;\n",
       "    var dataURL = this.canvas.toDataURL();\n",
       "    this.cell_info[1]['text/html'] =\n",
       "        '<img src=\"' + dataURL + '\" width=\"' + width + '\">';\n",
       "};\n",
       "\n",
       "mpl.figure.prototype.updated_canvas_event = function () {\n",
       "    // Tell IPython that the notebook contents must change.\n",
       "    IPython.notebook.set_dirty(true);\n",
       "    this.send_message('ack', {});\n",
       "    var fig = this;\n",
       "    // Wait a second, then push the new image to the DOM so\n",
       "    // that it is saved nicely (might be nice to debounce this).\n",
       "    setTimeout(function () {\n",
       "        fig.push_to_output();\n",
       "    }, 1000);\n",
       "};\n",
       "\n",
       "mpl.figure.prototype._init_toolbar = function () {\n",
       "    var fig = this;\n",
       "\n",
       "    var toolbar = document.createElement('div');\n",
       "    toolbar.classList = 'btn-toolbar';\n",
       "    this.root.appendChild(toolbar);\n",
       "\n",
       "    function on_click_closure(name) {\n",
       "        return function (_event) {\n",
       "            return fig.toolbar_button_onclick(name);\n",
       "        };\n",
       "    }\n",
       "\n",
       "    function on_mouseover_closure(tooltip) {\n",
       "        return function (event) {\n",
       "            if (!event.currentTarget.disabled) {\n",
       "                return fig.toolbar_button_onmouseover(tooltip);\n",
       "            }\n",
       "        };\n",
       "    }\n",
       "\n",
       "    fig.buttons = {};\n",
       "    var buttonGroup = document.createElement('div');\n",
       "    buttonGroup.classList = 'btn-group';\n",
       "    var button;\n",
       "    for (var toolbar_ind in mpl.toolbar_items) {\n",
       "        var name = mpl.toolbar_items[toolbar_ind][0];\n",
       "        var tooltip = mpl.toolbar_items[toolbar_ind][1];\n",
       "        var image = mpl.toolbar_items[toolbar_ind][2];\n",
       "        var method_name = mpl.toolbar_items[toolbar_ind][3];\n",
       "\n",
       "        if (!name) {\n",
       "            /* Instead of a spacer, we start a new button group. */\n",
       "            if (buttonGroup.hasChildNodes()) {\n",
       "                toolbar.appendChild(buttonGroup);\n",
       "            }\n",
       "            buttonGroup = document.createElement('div');\n",
       "            buttonGroup.classList = 'btn-group';\n",
       "            continue;\n",
       "        }\n",
       "\n",
       "        button = fig.buttons[name] = document.createElement('button');\n",
       "        button.classList = 'btn btn-default';\n",
       "        button.href = '#';\n",
       "        button.title = name;\n",
       "        button.innerHTML = '<i class=\"fa ' + image + ' fa-lg\"></i>';\n",
       "        button.addEventListener('click', on_click_closure(method_name));\n",
       "        button.addEventListener('mouseover', on_mouseover_closure(tooltip));\n",
       "        buttonGroup.appendChild(button);\n",
       "    }\n",
       "\n",
       "    if (buttonGroup.hasChildNodes()) {\n",
       "        toolbar.appendChild(buttonGroup);\n",
       "    }\n",
       "\n",
       "    // Add the status bar.\n",
       "    var status_bar = document.createElement('span');\n",
       "    status_bar.classList = 'mpl-message pull-right';\n",
       "    toolbar.appendChild(status_bar);\n",
       "    this.message = status_bar;\n",
       "\n",
       "    // Add the close button to the window.\n",
       "    var buttongrp = document.createElement('div');\n",
       "    buttongrp.classList = 'btn-group inline pull-right';\n",
       "    button = document.createElement('button');\n",
       "    button.classList = 'btn btn-mini btn-primary';\n",
       "    button.href = '#';\n",
       "    button.title = 'Stop Interaction';\n",
       "    button.innerHTML = '<i class=\"fa fa-power-off icon-remove icon-large\"></i>';\n",
       "    button.addEventListener('click', function (_evt) {\n",
       "        fig.handle_close(fig, {});\n",
       "    });\n",
       "    button.addEventListener(\n",
       "        'mouseover',\n",
       "        on_mouseover_closure('Stop Interaction')\n",
       "    );\n",
       "    buttongrp.appendChild(button);\n",
       "    var titlebar = this.root.querySelector('.ui-dialog-titlebar');\n",
       "    titlebar.insertBefore(buttongrp, titlebar.firstChild);\n",
       "};\n",
       "\n",
       "mpl.figure.prototype._remove_fig_handler = function (event) {\n",
       "    var fig = event.data.fig;\n",
       "    if (event.target !== this) {\n",
       "        // Ignore bubbled events from children.\n",
       "        return;\n",
       "    }\n",
       "    fig.close_ws(fig, {});\n",
       "};\n",
       "\n",
       "mpl.figure.prototype._root_extra_style = function (el) {\n",
       "    el.style.boxSizing = 'content-box'; // override notebook setting of border-box.\n",
       "};\n",
       "\n",
       "mpl.figure.prototype._canvas_extra_style = function (el) {\n",
       "    // this is important to make the div 'focusable\n",
       "    el.setAttribute('tabindex', 0);\n",
       "    // reach out to IPython and tell the keyboard manager to turn it's self\n",
       "    // off when our div gets focus\n",
       "\n",
       "    // location in version 3\n",
       "    if (IPython.notebook.keyboard_manager) {\n",
       "        IPython.notebook.keyboard_manager.register_events(el);\n",
       "    } else {\n",
       "        // location in version 2\n",
       "        IPython.keyboard_manager.register_events(el);\n",
       "    }\n",
       "};\n",
       "\n",
       "mpl.figure.prototype._key_event_extra = function (event, _name) {\n",
       "    // Check for shift+enter\n",
       "    if (event.shiftKey && event.which === 13) {\n",
       "        this.canvas_div.blur();\n",
       "        // select the cell after this one\n",
       "        var index = IPython.notebook.find_cell_index(this.cell_info[0]);\n",
       "        IPython.notebook.select(index + 1);\n",
       "    }\n",
       "};\n",
       "\n",
       "mpl.figure.prototype.handle_save = function (fig, _msg) {\n",
       "    fig.ondownload(fig, null);\n",
       "};\n",
       "\n",
       "mpl.find_output_cell = function (html_output) {\n",
       "    // Return the cell and output element which can be found *uniquely* in the notebook.\n",
       "    // Note - this is a bit hacky, but it is done because the \"notebook_saving.Notebook\"\n",
       "    // IPython event is triggered only after the cells have been serialised, which for\n",
       "    // our purposes (turning an active figure into a static one), is too late.\n",
       "    var cells = IPython.notebook.get_cells();\n",
       "    var ncells = cells.length;\n",
       "    for (var i = 0; i < ncells; i++) {\n",
       "        var cell = cells[i];\n",
       "        if (cell.cell_type === 'code') {\n",
       "            for (var j = 0; j < cell.output_area.outputs.length; j++) {\n",
       "                var data = cell.output_area.outputs[j];\n",
       "                if (data.data) {\n",
       "                    // IPython >= 3 moved mimebundle to data attribute of output\n",
       "                    data = data.data;\n",
       "                }\n",
       "                if (data['text/html'] === html_output) {\n",
       "                    return [cell, data, j];\n",
       "                }\n",
       "            }\n",
       "        }\n",
       "    }\n",
       "};\n",
       "\n",
       "// Register the function which deals with the matplotlib target/channel.\n",
       "// The kernel may be null if the page has been refreshed.\n",
       "if (IPython.notebook.kernel !== null) {\n",
       "    IPython.notebook.kernel.comm_manager.register_target(\n",
       "        'matplotlib',\n",
       "        mpl.mpl_figure_comm\n",
       "    );\n",
       "}\n"
      ],
      "text/plain": [
       "<IPython.core.display.Javascript object>"
      ]
     },
     "metadata": {},
     "output_type": "display_data"
    },
    {
     "data": {
      "text/html": [
       "<img src=\"data:image/png;base64,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\" width=\"640\">"
      ],
      "text/plain": [
       "<IPython.core.display.HTML object>"
      ]
     },
     "metadata": {},
     "output_type": "display_data"
    }
   ],
   "source": [
    "%matplotlib notebook\n",
    "cutoff_df1.plot.line(x='prob', y=['accuracy','sensi','speci'])\n",
    "plt.show()"
   ]
  },
  {
   "cell_type": "markdown",
   "id": "63f85819",
   "metadata": {},
   "source": [
    "Depending upon the use case we can trade of between `accuracy`, `sensitivity` and `specificity`. If we want all of them to be high we will select the intersection point of these curves as our threshold. In this case, threshold will be `0.41`."
   ]
  },
  {
   "cell_type": "code",
   "execution_count": 47,
   "id": "a06129a2",
   "metadata": {
    "ExecuteTime": {
     "end_time": "2023-04-23T03:36:27.566674Z",
     "start_time": "2023-04-23T03:36:27.550649Z"
    }
   },
   "outputs": [],
   "source": [
    "preds_th = np.where(best_model.predict_proba(X_train)[:,1] > 0.41, 1, 0)"
   ]
  },
  {
   "cell_type": "markdown",
   "id": "d2f084cf",
   "metadata": {},
   "source": [
    "We will evaluate the metrics for both training and testing sets."
   ]
  },
  {
   "cell_type": "code",
   "execution_count": 48,
   "id": "d163d4c4",
   "metadata": {
    "ExecuteTime": {
     "end_time": "2023-04-23T03:36:31.796383Z",
     "start_time": "2023-04-23T03:36:31.748696Z"
    }
   },
   "outputs": [
    {
     "data": {
      "text/html": [
       "<div>\n",
       "<style scoped>\n",
       "    .dataframe tbody tr th:only-of-type {\n",
       "        vertical-align: middle;\n",
       "    }\n",
       "\n",
       "    .dataframe tbody tr th {\n",
       "        vertical-align: top;\n",
       "    }\n",
       "\n",
       "    .dataframe thead th {\n",
       "        text-align: right;\n",
       "    }\n",
       "</style>\n",
       "<table border=\"1\" class=\"dataframe\">\n",
       "  <thead>\n",
       "    <tr style=\"text-align: right;\">\n",
       "      <th></th>\n",
       "      <th>Metric</th>\n",
       "      <th>Score</th>\n",
       "    </tr>\n",
       "  </thead>\n",
       "  <tbody>\n",
       "    <tr>\n",
       "      <th>0</th>\n",
       "      <td>Accuracy</td>\n",
       "      <td>0.773876</td>\n",
       "    </tr>\n",
       "    <tr>\n",
       "      <th>1</th>\n",
       "      <td>F1 Score</td>\n",
       "      <td>0.730318</td>\n",
       "    </tr>\n",
       "    <tr>\n",
       "      <th>2</th>\n",
       "      <td>Precision</td>\n",
       "      <td>0.660606</td>\n",
       "    </tr>\n",
       "    <tr>\n",
       "      <th>3</th>\n",
       "      <td>Recall</td>\n",
       "      <td>0.816479</td>\n",
       "    </tr>\n",
       "    <tr>\n",
       "      <th>4</th>\n",
       "      <td>ROC</td>\n",
       "      <td>0.782397</td>\n",
       "    </tr>\n",
       "  </tbody>\n",
       "</table>\n",
       "</div>"
      ],
      "text/plain": [
       "      Metric     Score\n",
       "0   Accuracy  0.773876\n",
       "1   F1 Score  0.730318\n",
       "2  Precision  0.660606\n",
       "3     Recall  0.816479\n",
       "4        ROC  0.782397"
      ]
     },
     "execution_count": 48,
     "metadata": {},
     "output_type": "execute_result"
    }
   ],
   "source": [
    "# Calculate accuracy\n",
    "accuracy = accuracy_score(y_train, preds_th)\n",
    "\n",
    "# Calculate precision\n",
    "precision = precision_score(y_train, preds_th)\n",
    "\n",
    "# Calculate recall\n",
    "recall = recall_score(y_train, preds_th)\n",
    "\n",
    "# Calculate F1 score\n",
    "f1 = f1_score(y_train, preds_th)\n",
    "\n",
    "roc = roc_auc_score(y_train, preds_th)\n",
    "\n",
    "# Create a DataFrame to store the results\n",
    "results_df = pd.DataFrame({'Metric': ['Accuracy', 'F1 Score', 'Precision', 'Recall', 'ROC'],'Score': [accuracy, f1, precision, recall, roc]})\n",
    "results_df"
   ]
  },
  {
   "cell_type": "code",
   "execution_count": 49,
   "id": "7a6c7466",
   "metadata": {
    "ExecuteTime": {
     "end_time": "2023-04-23T03:36:39.199035Z",
     "start_time": "2023-04-23T03:36:39.184720Z"
    }
   },
   "outputs": [],
   "source": [
    "preds_th = np.where(best_model.predict_proba(X_test)[:,1] > 0.41, 1, 0)"
   ]
  },
  {
   "cell_type": "code",
   "execution_count": 50,
   "id": "a5b89d24",
   "metadata": {
    "ExecuteTime": {
     "end_time": "2023-04-23T03:36:40.163445Z",
     "start_time": "2023-04-23T03:36:40.125806Z"
    },
    "scrolled": true
   },
   "outputs": [
    {
     "data": {
      "text/html": [
       "<div>\n",
       "<style scoped>\n",
       "    .dataframe tbody tr th:only-of-type {\n",
       "        vertical-align: middle;\n",
       "    }\n",
       "\n",
       "    .dataframe tbody tr th {\n",
       "        vertical-align: top;\n",
       "    }\n",
       "\n",
       "    .dataframe thead th {\n",
       "        text-align: right;\n",
       "    }\n",
       "</style>\n",
       "<table border=\"1\" class=\"dataframe\">\n",
       "  <thead>\n",
       "    <tr style=\"text-align: right;\">\n",
       "      <th></th>\n",
       "      <th>Metric</th>\n",
       "      <th>Score</th>\n",
       "    </tr>\n",
       "  </thead>\n",
       "  <tbody>\n",
       "    <tr>\n",
       "      <th>0</th>\n",
       "      <td>Accuracy</td>\n",
       "      <td>0.793296</td>\n",
       "    </tr>\n",
       "    <tr>\n",
       "      <th>1</th>\n",
       "      <td>F1 Score</td>\n",
       "      <td>0.761290</td>\n",
       "    </tr>\n",
       "    <tr>\n",
       "      <th>2</th>\n",
       "      <td>Precision</td>\n",
       "      <td>0.737500</td>\n",
       "    </tr>\n",
       "    <tr>\n",
       "      <th>3</th>\n",
       "      <td>Recall</td>\n",
       "      <td>0.786667</td>\n",
       "    </tr>\n",
       "    <tr>\n",
       "      <th>4</th>\n",
       "      <td>ROC</td>\n",
       "      <td>0.792372</td>\n",
       "    </tr>\n",
       "  </tbody>\n",
       "</table>\n",
       "</div>"
      ],
      "text/plain": [
       "      Metric     Score\n",
       "0   Accuracy  0.793296\n",
       "1   F1 Score  0.761290\n",
       "2  Precision  0.737500\n",
       "3     Recall  0.786667\n",
       "4        ROC  0.792372"
      ]
     },
     "execution_count": 50,
     "metadata": {},
     "output_type": "execute_result"
    }
   ],
   "source": [
    "# Calculate accuracy\n",
    "accuracy = accuracy_score(y_test, preds_th)\n",
    "\n",
    "# Calculate precision\n",
    "precision = precision_score(y_test, preds_th)\n",
    "\n",
    "# Calculate recall\n",
    "recall = recall_score(y_test, preds_th)\n",
    "\n",
    "# Calculate F1 score\n",
    "f1 = f1_score(y_test, preds_th)\n",
    "\n",
    "roc = roc_auc_score(y_test, preds_th)\n",
    "\n",
    "# Create a DataFrame to store the results\n",
    "results_df = pd.DataFrame({'Metric': ['Accuracy', 'F1 Score', 'Precision', 'Recall', 'ROC'],'Score': [accuracy, f1, precision, recall, roc]})\n",
    "results_df"
   ]
  },
  {
   "cell_type": "markdown",
   "id": "6276f721",
   "metadata": {},
   "source": [
    "Compared to previous model all of the metrics have decreased slightly except `Recall`. `Recall` has increased slightly. So this is how depending upon the business problem we can choose our threshold values."
   ]
  },
  {
   "cell_type": "markdown",
   "id": "55f74651",
   "metadata": {},
   "source": [
    "## Conclusion"
   ]
  },
  {
   "cell_type": "markdown",
   "id": "ca4d77ac",
   "metadata": {},
   "source": [
    "In this logistic regression project, we followed a systematic approach to build a predictive model. We started by importing the necessary libraries and loading the data. We then performed data cleaning and preparation, which involved handling missing values, dealing with categorical variables, and scaling the features using techniques such as StandardScaler.\n",
    "\n",
    "Next, we assessed the multicollinearity among the features using `VIF (Variance Inflation Factor)` to ensure that the predictors were not highly correlated.\n",
    "\n",
    "We then addressed the issue of class imbalance by adding weights to the classes to give more importance to the minority class during model training. This can help to improve the model's ability to correctly predict the minority class, which may be important in imbalanced datasets.\n",
    "\n",
    "To optimize the model's performance, we performed hyperparameter tuning, which involved selecting the best hyperparameters for the logistic regression model using `GridSearchCV`. This can help to fine-tune the model and improve its predictive accuracy.\n",
    "\n",
    "We also evaluated the model's performance using various metrics, such as `ROC curve` and `AUC (Area Under the Curve) score`, which provide insights into the model's ability to correctly classify positive and negative cases.\n",
    "\n",
    "Furthermore, we used `accuracy`, `sensitivity`, and `specificity` curves to select an optimal threshold for classification based on the specific needs of the project. This allowed us to strike a balance between false positives and false negatives, depending on the costs and consequences of misclassification in the context of the problem being addressed.\n",
    "\n",
    "It's important to keep in mind that the specific steps and techniques used may vary depending on the dataset, problem, and specific requirements of the project, and further experimentation and fine-tuning may be necessary for the best results."
   ]
  }
 ],
 "metadata": {
  "kernelspec": {
   "display_name": "Python 3 (ipykernel)",
   "language": "python",
   "name": "python3"
  },
  "language_info": {
   "codemirror_mode": {
    "name": "ipython",
    "version": 3
   },
   "file_extension": ".py",
   "mimetype": "text/x-python",
   "name": "python",
   "nbconvert_exporter": "python",
   "pygments_lexer": "ipython3",
   "version": "3.9.12"
  }
 },
 "nbformat": 4,
 "nbformat_minor": 5
}
