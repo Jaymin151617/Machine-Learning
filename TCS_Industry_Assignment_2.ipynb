{
 "cells": [
  {
   "cell_type": "markdown",
   "id": "1d64c695",
   "metadata": {
    "id": "1d64c695"
   },
   "source": [
    "# TCS iON Industry Honour Course - Application of Deep Learning and Neural Networks\n",
    "# Industry Assignment - 2\n",
    "## Amazon Reviews Text Classification using CNN & LSTM\n",
    "Name : Jaymin Mistry\n",
    "\n",
    "College: B.K.Birla College of Arts, Science and Commerce, Kalyan"
   ]
  },
  {
   "cell_type": "markdown",
   "id": "YpbxWWVYgEVs",
   "metadata": {
    "id": "YpbxWWVYgEVs"
   },
   "source": [
    "### Importing Necessary Libraries\n",
    "\n",
    "Before we begin, we need to import libraries which we will use in our code."
   ]
  },
  {
   "cell_type": "code",
   "execution_count": null,
   "id": "03359e76",
   "metadata": {
    "ExecuteTime": {
     "end_time": "2023-11-07T07:25:22.213050Z",
     "start_time": "2023-11-07T07:25:08.363644Z"
    },
    "id": "03359e76"
   },
   "outputs": [],
   "source": [
    "import pandas as pd\n",
    "from numpy import array, asarray, zeros\n",
    "import matplotlib.pyplot as plt\n",
    "import seaborn as sns\n",
    "\n",
    "from sklearn.model_selection import train_test_split\n",
    "\n",
    "import tensorflow as tf\n",
    "from tensorflow.keras import regularizers\n",
    "from tensorflow.keras.preprocessing.text import Tokenizer\n",
    "from tensorflow.keras.preprocessing.sequence import pad_sequences\n",
    "from tensorflow.keras.models import Sequential, Model\n",
    "from tensorflow.keras.layers import Embedding, Conv1D, MaxPooling1D, Flatten, Dense, Dropout, BatchNormalization, Input, Attention, LSTM\n",
    "from tensorflow.keras.optimizers import Adam\n",
    "\n",
    "import warnings\n",
    "warnings.filterwarnings('ignore')"
   ]
  },
  {
   "cell_type": "markdown",
   "id": "kZ7_fuimhAcm",
   "metadata": {
    "id": "kZ7_fuimhAcm"
   },
   "source": [
    "### Data Preparation\n",
    "\n",
    "Now we mount Google Drive as it contains our dataset and other important files which we will use shortly."
   ]
  },
  {
   "cell_type": "code",
   "execution_count": null,
   "id": "kqqQy1ttB4fl",
   "metadata": {
    "id": "kqqQy1ttB4fl"
   },
   "outputs": [],
   "source": [
    "from google.colab import drive\n",
    "drive.mount('/content/drive')"
   ]
  },
  {
   "cell_type": "markdown",
   "id": "5-Tt4p1EhWKJ",
   "metadata": {
    "id": "5-Tt4p1EhWKJ"
   },
   "source": [
    "After mounting the Drive we will now read the csv file which contains the Amazon reviews."
   ]
  },
  {
   "cell_type": "code",
   "execution_count": null,
   "id": "f817fcd3",
   "metadata": {
    "ExecuteTime": {
     "end_time": "2023-11-07T07:25:22.370601Z",
     "start_time": "2023-11-07T07:25:22.214100Z"
    },
    "colab": {
     "base_uri": "https://localhost:8080/",
     "height": 206
    },
    "id": "f817fcd3",
    "outputId": "84aeaf71-acf9-4edc-e33f-853aa749827b"
   },
   "outputs": [
    {
     "data": {
      "text/html": [
       "\n",
       "  <div id=\"df-c25db5ba-8986-4021-af99-753e565acbad\" class=\"colab-df-container\">\n",
       "    <div>\n",
       "<style scoped>\n",
       "    .dataframe tbody tr th:only-of-type {\n",
       "        vertical-align: middle;\n",
       "    }\n",
       "\n",
       "    .dataframe tbody tr th {\n",
       "        vertical-align: top;\n",
       "    }\n",
       "\n",
       "    .dataframe thead th {\n",
       "        text-align: right;\n",
       "    }\n",
       "</style>\n",
       "<table border=\"1\" class=\"dataframe\">\n",
       "  <thead>\n",
       "    <tr style=\"text-align: right;\">\n",
       "      <th></th>\n",
       "      <th>ReviewTitle</th>\n",
       "      <th>ReviewBody</th>\n",
       "      <th>ReviewStar</th>\n",
       "      <th>Product</th>\n",
       "    </tr>\n",
       "  </thead>\n",
       "  <tbody>\n",
       "    <tr>\n",
       "      <th>0</th>\n",
       "      <td>Honest review of an edm music lover\\n</td>\n",
       "      <td>No doubt it has a great bass and to a great ex...</td>\n",
       "      <td>3</td>\n",
       "      <td>boAt Rockerz 255</td>\n",
       "    </tr>\n",
       "    <tr>\n",
       "      <th>1</th>\n",
       "      <td>Unreliable earphones with high cost\\n</td>\n",
       "      <td>This  earphones are unreliable, i bought it be...</td>\n",
       "      <td>1</td>\n",
       "      <td>boAt Rockerz 255</td>\n",
       "    </tr>\n",
       "    <tr>\n",
       "      <th>2</th>\n",
       "      <td>Really good and durable.\\n</td>\n",
       "      <td>i bought itfor 999,I purchased it second time,...</td>\n",
       "      <td>4</td>\n",
       "      <td>boAt Rockerz 255</td>\n",
       "    </tr>\n",
       "    <tr>\n",
       "      <th>3</th>\n",
       "      <td>stopped working in just 14 days\\n</td>\n",
       "      <td>Its sound quality is adorable. overall it was ...</td>\n",
       "      <td>1</td>\n",
       "      <td>boAt Rockerz 255</td>\n",
       "    </tr>\n",
       "    <tr>\n",
       "      <th>4</th>\n",
       "      <td>Just Awesome Wireless Headphone under 1000...😉\\n</td>\n",
       "      <td>Its Awesome... Good sound quality &amp; 8-9 hrs ba...</td>\n",
       "      <td>5</td>\n",
       "      <td>boAt Rockerz 255</td>\n",
       "    </tr>\n",
       "  </tbody>\n",
       "</table>\n",
       "</div>\n",
       "    <div class=\"colab-df-buttons\">\n",
       "\n",
       "  <div class=\"colab-df-container\">\n",
       "    <button class=\"colab-df-convert\" onclick=\"convertToInteractive('df-c25db5ba-8986-4021-af99-753e565acbad')\"\n",
       "            title=\"Convert this dataframe to an interactive table.\"\n",
       "            style=\"display:none;\">\n",
       "\n",
       "  <svg xmlns=\"http://www.w3.org/2000/svg\" height=\"24px\" viewBox=\"0 -960 960 960\">\n",
       "    <path d=\"M120-120v-720h720v720H120Zm60-500h600v-160H180v160Zm220 220h160v-160H400v160Zm0 220h160v-160H400v160ZM180-400h160v-160H180v160Zm440 0h160v-160H620v160ZM180-180h160v-160H180v160Zm440 0h160v-160H620v160Z\"/>\n",
       "  </svg>\n",
       "    </button>\n",
       "\n",
       "  <style>\n",
       "    .colab-df-container {\n",
       "      display:flex;\n",
       "      gap: 12px;\n",
       "    }\n",
       "\n",
       "    .colab-df-convert {\n",
       "      background-color: #E8F0FE;\n",
       "      border: none;\n",
       "      border-radius: 50%;\n",
       "      cursor: pointer;\n",
       "      display: none;\n",
       "      fill: #1967D2;\n",
       "      height: 32px;\n",
       "      padding: 0 0 0 0;\n",
       "      width: 32px;\n",
       "    }\n",
       "\n",
       "    .colab-df-convert:hover {\n",
       "      background-color: #E2EBFA;\n",
       "      box-shadow: 0px 1px 2px rgba(60, 64, 67, 0.3), 0px 1px 3px 1px rgba(60, 64, 67, 0.15);\n",
       "      fill: #174EA6;\n",
       "    }\n",
       "\n",
       "    .colab-df-buttons div {\n",
       "      margin-bottom: 4px;\n",
       "    }\n",
       "\n",
       "    [theme=dark] .colab-df-convert {\n",
       "      background-color: #3B4455;\n",
       "      fill: #D2E3FC;\n",
       "    }\n",
       "\n",
       "    [theme=dark] .colab-df-convert:hover {\n",
       "      background-color: #434B5C;\n",
       "      box-shadow: 0px 1px 3px 1px rgba(0, 0, 0, 0.15);\n",
       "      filter: drop-shadow(0px 1px 2px rgba(0, 0, 0, 0.3));\n",
       "      fill: #FFFFFF;\n",
       "    }\n",
       "  </style>\n",
       "\n",
       "    <script>\n",
       "      const buttonEl =\n",
       "        document.querySelector('#df-c25db5ba-8986-4021-af99-753e565acbad button.colab-df-convert');\n",
       "      buttonEl.style.display =\n",
       "        google.colab.kernel.accessAllowed ? 'block' : 'none';\n",
       "\n",
       "      async function convertToInteractive(key) {\n",
       "        const element = document.querySelector('#df-c25db5ba-8986-4021-af99-753e565acbad');\n",
       "        const dataTable =\n",
       "          await google.colab.kernel.invokeFunction('convertToInteractive',\n",
       "                                                    [key], {});\n",
       "        if (!dataTable) return;\n",
       "\n",
       "        const docLinkHtml = 'Like what you see? Visit the ' +\n",
       "          '<a target=\"_blank\" href=https://colab.research.google.com/notebooks/data_table.ipynb>data table notebook</a>'\n",
       "          + ' to learn more about interactive tables.';\n",
       "        element.innerHTML = '';\n",
       "        dataTable['output_type'] = 'display_data';\n",
       "        await google.colab.output.renderOutput(dataTable, element);\n",
       "        const docLink = document.createElement('div');\n",
       "        docLink.innerHTML = docLinkHtml;\n",
       "        element.appendChild(docLink);\n",
       "      }\n",
       "    </script>\n",
       "  </div>\n",
       "\n",
       "\n",
       "<div id=\"df-14005b71-d72e-43b1-9c32-36179c5d0b8c\">\n",
       "  <button class=\"colab-df-quickchart\" onclick=\"quickchart('df-14005b71-d72e-43b1-9c32-36179c5d0b8c')\"\n",
       "            title=\"Suggest charts\"\n",
       "            style=\"display:none;\">\n",
       "\n",
       "<svg xmlns=\"http://www.w3.org/2000/svg\" height=\"24px\"viewBox=\"0 0 24 24\"\n",
       "     width=\"24px\">\n",
       "    <g>\n",
       "        <path d=\"M19 3H5c-1.1 0-2 .9-2 2v14c0 1.1.9 2 2 2h14c1.1 0 2-.9 2-2V5c0-1.1-.9-2-2-2zM9 17H7v-7h2v7zm4 0h-2V7h2v10zm4 0h-2v-4h2v4z\"/>\n",
       "    </g>\n",
       "</svg>\n",
       "  </button>\n",
       "\n",
       "<style>\n",
       "  .colab-df-quickchart {\n",
       "      --bg-color: #E8F0FE;\n",
       "      --fill-color: #1967D2;\n",
       "      --hover-bg-color: #E2EBFA;\n",
       "      --hover-fill-color: #174EA6;\n",
       "      --disabled-fill-color: #AAA;\n",
       "      --disabled-bg-color: #DDD;\n",
       "  }\n",
       "\n",
       "  [theme=dark] .colab-df-quickchart {\n",
       "      --bg-color: #3B4455;\n",
       "      --fill-color: #D2E3FC;\n",
       "      --hover-bg-color: #434B5C;\n",
       "      --hover-fill-color: #FFFFFF;\n",
       "      --disabled-bg-color: #3B4455;\n",
       "      --disabled-fill-color: #666;\n",
       "  }\n",
       "\n",
       "  .colab-df-quickchart {\n",
       "    background-color: var(--bg-color);\n",
       "    border: none;\n",
       "    border-radius: 50%;\n",
       "    cursor: pointer;\n",
       "    display: none;\n",
       "    fill: var(--fill-color);\n",
       "    height: 32px;\n",
       "    padding: 0;\n",
       "    width: 32px;\n",
       "  }\n",
       "\n",
       "  .colab-df-quickchart:hover {\n",
       "    background-color: var(--hover-bg-color);\n",
       "    box-shadow: 0 1px 2px rgba(60, 64, 67, 0.3), 0 1px 3px 1px rgba(60, 64, 67, 0.15);\n",
       "    fill: var(--button-hover-fill-color);\n",
       "  }\n",
       "\n",
       "  .colab-df-quickchart-complete:disabled,\n",
       "  .colab-df-quickchart-complete:disabled:hover {\n",
       "    background-color: var(--disabled-bg-color);\n",
       "    fill: var(--disabled-fill-color);\n",
       "    box-shadow: none;\n",
       "  }\n",
       "\n",
       "  .colab-df-spinner {\n",
       "    border: 2px solid var(--fill-color);\n",
       "    border-color: transparent;\n",
       "    border-bottom-color: var(--fill-color);\n",
       "    animation:\n",
       "      spin 1s steps(1) infinite;\n",
       "  }\n",
       "\n",
       "  @keyframes spin {\n",
       "    0% {\n",
       "      border-color: transparent;\n",
       "      border-bottom-color: var(--fill-color);\n",
       "      border-left-color: var(--fill-color);\n",
       "    }\n",
       "    20% {\n",
       "      border-color: transparent;\n",
       "      border-left-color: var(--fill-color);\n",
       "      border-top-color: var(--fill-color);\n",
       "    }\n",
       "    30% {\n",
       "      border-color: transparent;\n",
       "      border-left-color: var(--fill-color);\n",
       "      border-top-color: var(--fill-color);\n",
       "      border-right-color: var(--fill-color);\n",
       "    }\n",
       "    40% {\n",
       "      border-color: transparent;\n",
       "      border-right-color: var(--fill-color);\n",
       "      border-top-color: var(--fill-color);\n",
       "    }\n",
       "    60% {\n",
       "      border-color: transparent;\n",
       "      border-right-color: var(--fill-color);\n",
       "    }\n",
       "    80% {\n",
       "      border-color: transparent;\n",
       "      border-right-color: var(--fill-color);\n",
       "      border-bottom-color: var(--fill-color);\n",
       "    }\n",
       "    90% {\n",
       "      border-color: transparent;\n",
       "      border-bottom-color: var(--fill-color);\n",
       "    }\n",
       "  }\n",
       "</style>\n",
       "\n",
       "  <script>\n",
       "    async function quickchart(key) {\n",
       "      const quickchartButtonEl =\n",
       "        document.querySelector('#' + key + ' button');\n",
       "      quickchartButtonEl.disabled = true;  // To prevent multiple clicks.\n",
       "      quickchartButtonEl.classList.add('colab-df-spinner');\n",
       "      try {\n",
       "        const charts = await google.colab.kernel.invokeFunction(\n",
       "            'suggestCharts', [key], {});\n",
       "      } catch (error) {\n",
       "        console.error('Error during call to suggestCharts:', error);\n",
       "      }\n",
       "      quickchartButtonEl.classList.remove('colab-df-spinner');\n",
       "      quickchartButtonEl.classList.add('colab-df-quickchart-complete');\n",
       "    }\n",
       "    (() => {\n",
       "      let quickchartButtonEl =\n",
       "        document.querySelector('#df-14005b71-d72e-43b1-9c32-36179c5d0b8c button');\n",
       "      quickchartButtonEl.style.display =\n",
       "        google.colab.kernel.accessAllowed ? 'block' : 'none';\n",
       "    })();\n",
       "  </script>\n",
       "</div>\n",
       "    </div>\n",
       "  </div>\n"
      ],
      "text/plain": [
       "                                        ReviewTitle  \\\n",
       "0             Honest review of an edm music lover\\n   \n",
       "1             Unreliable earphones with high cost\\n   \n",
       "2                        Really good and durable.\\n   \n",
       "3                 stopped working in just 14 days\\n   \n",
       "4  Just Awesome Wireless Headphone under 1000...😉\\n   \n",
       "\n",
       "                                          ReviewBody  ReviewStar  \\\n",
       "0  No doubt it has a great bass and to a great ex...           3   \n",
       "1  This  earphones are unreliable, i bought it be...           1   \n",
       "2  i bought itfor 999,I purchased it second time,...           4   \n",
       "3  Its sound quality is adorable. overall it was ...           1   \n",
       "4  Its Awesome... Good sound quality & 8-9 hrs ba...           5   \n",
       "\n",
       "            Product  \n",
       "0  boAt Rockerz 255  \n",
       "1  boAt Rockerz 255  \n",
       "2  boAt Rockerz 255  \n",
       "3  boAt Rockerz 255  \n",
       "4  boAt Rockerz 255  "
      ]
     },
     "execution_count": 3,
     "metadata": {},
     "output_type": "execute_result"
    }
   ],
   "source": [
    "df = pd.read_csv('/content/drive/MyDrive/reviews.csv')\n",
    "df.head()"
   ]
  },
  {
   "cell_type": "markdown",
   "id": "PWRaicefhlIx",
   "metadata": {
    "id": "PWRaicefhlIx"
   },
   "source": [
    "In this data we only need the `ReviewBody` and `ReviewStar` columns. So we will drop the remaining columns."
   ]
  },
  {
   "cell_type": "code",
   "execution_count": null,
   "id": "879db741",
   "metadata": {
    "ExecuteTime": {
     "end_time": "2023-11-07T07:25:22.392335Z",
     "start_time": "2023-11-07T07:25:22.375144Z"
    },
    "colab": {
     "base_uri": "https://localhost:8080/",
     "height": 206
    },
    "id": "879db741",
    "outputId": "737c98d1-8c18-45b8-c58f-d3bc64d5d24a"
   },
   "outputs": [
    {
     "data": {
      "text/html": [
       "\n",
       "  <div id=\"df-8d97f3c7-572b-422c-a2ea-c56e2f397898\" class=\"colab-df-container\">\n",
       "    <div>\n",
       "<style scoped>\n",
       "    .dataframe tbody tr th:only-of-type {\n",
       "        vertical-align: middle;\n",
       "    }\n",
       "\n",
       "    .dataframe tbody tr th {\n",
       "        vertical-align: top;\n",
       "    }\n",
       "\n",
       "    .dataframe thead th {\n",
       "        text-align: right;\n",
       "    }\n",
       "</style>\n",
       "<table border=\"1\" class=\"dataframe\">\n",
       "  <thead>\n",
       "    <tr style=\"text-align: right;\">\n",
       "      <th></th>\n",
       "      <th>ReviewBody</th>\n",
       "      <th>ReviewStar</th>\n",
       "    </tr>\n",
       "  </thead>\n",
       "  <tbody>\n",
       "    <tr>\n",
       "      <th>0</th>\n",
       "      <td>No doubt it has a great bass and to a great ex...</td>\n",
       "      <td>3</td>\n",
       "    </tr>\n",
       "    <tr>\n",
       "      <th>1</th>\n",
       "      <td>This  earphones are unreliable, i bought it be...</td>\n",
       "      <td>1</td>\n",
       "    </tr>\n",
       "    <tr>\n",
       "      <th>2</th>\n",
       "      <td>i bought itfor 999,I purchased it second time,...</td>\n",
       "      <td>4</td>\n",
       "    </tr>\n",
       "    <tr>\n",
       "      <th>3</th>\n",
       "      <td>Its sound quality is adorable. overall it was ...</td>\n",
       "      <td>1</td>\n",
       "    </tr>\n",
       "    <tr>\n",
       "      <th>4</th>\n",
       "      <td>Its Awesome... Good sound quality &amp; 8-9 hrs ba...</td>\n",
       "      <td>5</td>\n",
       "    </tr>\n",
       "  </tbody>\n",
       "</table>\n",
       "</div>\n",
       "    <div class=\"colab-df-buttons\">\n",
       "\n",
       "  <div class=\"colab-df-container\">\n",
       "    <button class=\"colab-df-convert\" onclick=\"convertToInteractive('df-8d97f3c7-572b-422c-a2ea-c56e2f397898')\"\n",
       "            title=\"Convert this dataframe to an interactive table.\"\n",
       "            style=\"display:none;\">\n",
       "\n",
       "  <svg xmlns=\"http://www.w3.org/2000/svg\" height=\"24px\" viewBox=\"0 -960 960 960\">\n",
       "    <path d=\"M120-120v-720h720v720H120Zm60-500h600v-160H180v160Zm220 220h160v-160H400v160Zm0 220h160v-160H400v160ZM180-400h160v-160H180v160Zm440 0h160v-160H620v160ZM180-180h160v-160H180v160Zm440 0h160v-160H620v160Z\"/>\n",
       "  </svg>\n",
       "    </button>\n",
       "\n",
       "  <style>\n",
       "    .colab-df-container {\n",
       "      display:flex;\n",
       "      gap: 12px;\n",
       "    }\n",
       "\n",
       "    .colab-df-convert {\n",
       "      background-color: #E8F0FE;\n",
       "      border: none;\n",
       "      border-radius: 50%;\n",
       "      cursor: pointer;\n",
       "      display: none;\n",
       "      fill: #1967D2;\n",
       "      height: 32px;\n",
       "      padding: 0 0 0 0;\n",
       "      width: 32px;\n",
       "    }\n",
       "\n",
       "    .colab-df-convert:hover {\n",
       "      background-color: #E2EBFA;\n",
       "      box-shadow: 0px 1px 2px rgba(60, 64, 67, 0.3), 0px 1px 3px 1px rgba(60, 64, 67, 0.15);\n",
       "      fill: #174EA6;\n",
       "    }\n",
       "\n",
       "    .colab-df-buttons div {\n",
       "      margin-bottom: 4px;\n",
       "    }\n",
       "\n",
       "    [theme=dark] .colab-df-convert {\n",
       "      background-color: #3B4455;\n",
       "      fill: #D2E3FC;\n",
       "    }\n",
       "\n",
       "    [theme=dark] .colab-df-convert:hover {\n",
       "      background-color: #434B5C;\n",
       "      box-shadow: 0px 1px 3px 1px rgba(0, 0, 0, 0.15);\n",
       "      filter: drop-shadow(0px 1px 2px rgba(0, 0, 0, 0.3));\n",
       "      fill: #FFFFFF;\n",
       "    }\n",
       "  </style>\n",
       "\n",
       "    <script>\n",
       "      const buttonEl =\n",
       "        document.querySelector('#df-8d97f3c7-572b-422c-a2ea-c56e2f397898 button.colab-df-convert');\n",
       "      buttonEl.style.display =\n",
       "        google.colab.kernel.accessAllowed ? 'block' : 'none';\n",
       "\n",
       "      async function convertToInteractive(key) {\n",
       "        const element = document.querySelector('#df-8d97f3c7-572b-422c-a2ea-c56e2f397898');\n",
       "        const dataTable =\n",
       "          await google.colab.kernel.invokeFunction('convertToInteractive',\n",
       "                                                    [key], {});\n",
       "        if (!dataTable) return;\n",
       "\n",
       "        const docLinkHtml = 'Like what you see? Visit the ' +\n",
       "          '<a target=\"_blank\" href=https://colab.research.google.com/notebooks/data_table.ipynb>data table notebook</a>'\n",
       "          + ' to learn more about interactive tables.';\n",
       "        element.innerHTML = '';\n",
       "        dataTable['output_type'] = 'display_data';\n",
       "        await google.colab.output.renderOutput(dataTable, element);\n",
       "        const docLink = document.createElement('div');\n",
       "        docLink.innerHTML = docLinkHtml;\n",
       "        element.appendChild(docLink);\n",
       "      }\n",
       "    </script>\n",
       "  </div>\n",
       "\n",
       "\n",
       "<div id=\"df-c95ed49d-e688-49be-aa78-ba532b8d7d78\">\n",
       "  <button class=\"colab-df-quickchart\" onclick=\"quickchart('df-c95ed49d-e688-49be-aa78-ba532b8d7d78')\"\n",
       "            title=\"Suggest charts\"\n",
       "            style=\"display:none;\">\n",
       "\n",
       "<svg xmlns=\"http://www.w3.org/2000/svg\" height=\"24px\"viewBox=\"0 0 24 24\"\n",
       "     width=\"24px\">\n",
       "    <g>\n",
       "        <path d=\"M19 3H5c-1.1 0-2 .9-2 2v14c0 1.1.9 2 2 2h14c1.1 0 2-.9 2-2V5c0-1.1-.9-2-2-2zM9 17H7v-7h2v7zm4 0h-2V7h2v10zm4 0h-2v-4h2v4z\"/>\n",
       "    </g>\n",
       "</svg>\n",
       "  </button>\n",
       "\n",
       "<style>\n",
       "  .colab-df-quickchart {\n",
       "      --bg-color: #E8F0FE;\n",
       "      --fill-color: #1967D2;\n",
       "      --hover-bg-color: #E2EBFA;\n",
       "      --hover-fill-color: #174EA6;\n",
       "      --disabled-fill-color: #AAA;\n",
       "      --disabled-bg-color: #DDD;\n",
       "  }\n",
       "\n",
       "  [theme=dark] .colab-df-quickchart {\n",
       "      --bg-color: #3B4455;\n",
       "      --fill-color: #D2E3FC;\n",
       "      --hover-bg-color: #434B5C;\n",
       "      --hover-fill-color: #FFFFFF;\n",
       "      --disabled-bg-color: #3B4455;\n",
       "      --disabled-fill-color: #666;\n",
       "  }\n",
       "\n",
       "  .colab-df-quickchart {\n",
       "    background-color: var(--bg-color);\n",
       "    border: none;\n",
       "    border-radius: 50%;\n",
       "    cursor: pointer;\n",
       "    display: none;\n",
       "    fill: var(--fill-color);\n",
       "    height: 32px;\n",
       "    padding: 0;\n",
       "    width: 32px;\n",
       "  }\n",
       "\n",
       "  .colab-df-quickchart:hover {\n",
       "    background-color: var(--hover-bg-color);\n",
       "    box-shadow: 0 1px 2px rgba(60, 64, 67, 0.3), 0 1px 3px 1px rgba(60, 64, 67, 0.15);\n",
       "    fill: var(--button-hover-fill-color);\n",
       "  }\n",
       "\n",
       "  .colab-df-quickchart-complete:disabled,\n",
       "  .colab-df-quickchart-complete:disabled:hover {\n",
       "    background-color: var(--disabled-bg-color);\n",
       "    fill: var(--disabled-fill-color);\n",
       "    box-shadow: none;\n",
       "  }\n",
       "\n",
       "  .colab-df-spinner {\n",
       "    border: 2px solid var(--fill-color);\n",
       "    border-color: transparent;\n",
       "    border-bottom-color: var(--fill-color);\n",
       "    animation:\n",
       "      spin 1s steps(1) infinite;\n",
       "  }\n",
       "\n",
       "  @keyframes spin {\n",
       "    0% {\n",
       "      border-color: transparent;\n",
       "      border-bottom-color: var(--fill-color);\n",
       "      border-left-color: var(--fill-color);\n",
       "    }\n",
       "    20% {\n",
       "      border-color: transparent;\n",
       "      border-left-color: var(--fill-color);\n",
       "      border-top-color: var(--fill-color);\n",
       "    }\n",
       "    30% {\n",
       "      border-color: transparent;\n",
       "      border-left-color: var(--fill-color);\n",
       "      border-top-color: var(--fill-color);\n",
       "      border-right-color: var(--fill-color);\n",
       "    }\n",
       "    40% {\n",
       "      border-color: transparent;\n",
       "      border-right-color: var(--fill-color);\n",
       "      border-top-color: var(--fill-color);\n",
       "    }\n",
       "    60% {\n",
       "      border-color: transparent;\n",
       "      border-right-color: var(--fill-color);\n",
       "    }\n",
       "    80% {\n",
       "      border-color: transparent;\n",
       "      border-right-color: var(--fill-color);\n",
       "      border-bottom-color: var(--fill-color);\n",
       "    }\n",
       "    90% {\n",
       "      border-color: transparent;\n",
       "      border-bottom-color: var(--fill-color);\n",
       "    }\n",
       "  }\n",
       "</style>\n",
       "\n",
       "  <script>\n",
       "    async function quickchart(key) {\n",
       "      const quickchartButtonEl =\n",
       "        document.querySelector('#' + key + ' button');\n",
       "      quickchartButtonEl.disabled = true;  // To prevent multiple clicks.\n",
       "      quickchartButtonEl.classList.add('colab-df-spinner');\n",
       "      try {\n",
       "        const charts = await google.colab.kernel.invokeFunction(\n",
       "            'suggestCharts', [key], {});\n",
       "      } catch (error) {\n",
       "        console.error('Error during call to suggestCharts:', error);\n",
       "      }\n",
       "      quickchartButtonEl.classList.remove('colab-df-spinner');\n",
       "      quickchartButtonEl.classList.add('colab-df-quickchart-complete');\n",
       "    }\n",
       "    (() => {\n",
       "      let quickchartButtonEl =\n",
       "        document.querySelector('#df-c95ed49d-e688-49be-aa78-ba532b8d7d78 button');\n",
       "      quickchartButtonEl.style.display =\n",
       "        google.colab.kernel.accessAllowed ? 'block' : 'none';\n",
       "    })();\n",
       "  </script>\n",
       "</div>\n",
       "    </div>\n",
       "  </div>\n"
      ],
      "text/plain": [
       "                                          ReviewBody  ReviewStar\n",
       "0  No doubt it has a great bass and to a great ex...           3\n",
       "1  This  earphones are unreliable, i bought it be...           1\n",
       "2  i bought itfor 999,I purchased it second time,...           4\n",
       "3  Its sound quality is adorable. overall it was ...           1\n",
       "4  Its Awesome... Good sound quality & 8-9 hrs ba...           5"
      ]
     },
     "execution_count": 4,
     "metadata": {},
     "output_type": "execute_result"
    }
   ],
   "source": [
    "df.drop(['ReviewTitle', 'Product'], axis=1, inplace=True)\n",
    "df.head()"
   ]
  },
  {
   "cell_type": "markdown",
   "id": "Dq8tWR43iP79",
   "metadata": {
    "id": "Dq8tWR43iP79"
   },
   "source": [
    "Now we will see whether our data has any missing values in it. We will also examine the datatype of the columns."
   ]
  },
  {
   "cell_type": "code",
   "execution_count": null,
   "id": "f7ac5a3b",
   "metadata": {
    "ExecuteTime": {
     "end_time": "2023-11-07T07:25:22.450458Z",
     "start_time": "2023-11-07T07:25:22.397073Z"
    },
    "colab": {
     "base_uri": "https://localhost:8080/"
    },
    "id": "f7ac5a3b",
    "outputId": "c977a97e-fdd3-4943-c27f-fac43b6f5ee9"
   },
   "outputs": [
    {
     "name": "stdout",
     "output_type": "stream",
     "text": [
      "<class 'pandas.core.frame.DataFrame'>\n",
      "RangeIndex: 14337 entries, 0 to 14336\n",
      "Data columns (total 2 columns):\n",
      " #   Column      Non-Null Count  Dtype \n",
      "---  ------      --------------  ----- \n",
      " 0   ReviewBody  14337 non-null  object\n",
      " 1   ReviewStar  14337 non-null  int64 \n",
      "dtypes: int64(1), object(1)\n",
      "memory usage: 224.1+ KB\n"
     ]
    }
   ],
   "source": [
    "df.info()"
   ]
  },
  {
   "cell_type": "markdown",
   "id": "tt772mQFiaty",
   "metadata": {
    "id": "tt772mQFiaty"
   },
   "source": [
    "So our data has `14337` rows in it and no missing values. Let us now check the frequency distribution of the review ratings."
   ]
  },
  {
   "cell_type": "code",
   "execution_count": null,
   "id": "792af7c5",
   "metadata": {
    "ExecuteTime": {
     "end_time": "2023-11-07T07:25:22.474980Z",
     "start_time": "2023-11-07T07:25:22.450458Z"
    },
    "colab": {
     "base_uri": "https://localhost:8080/"
    },
    "id": "792af7c5",
    "outputId": "1644cfd2-531e-454b-b14f-9256dfed7c42"
   },
   "outputs": [
    {
     "data": {
      "text/plain": [
       "5    6213\n",
       "4    3189\n",
       "1    2493\n",
       "3    1503\n",
       "2     939\n",
       "Name: ReviewStar, dtype: int64"
      ]
     },
     "execution_count": 6,
     "metadata": {},
     "output_type": "execute_result"
    }
   ],
   "source": [
    "df['ReviewStar'].value_counts()"
   ]
  },
  {
   "cell_type": "markdown",
   "id": "vluwgZfji7ER",
   "metadata": {
    "id": "vluwgZfji7ER"
   },
   "source": [
    "Looks like our dataset has majority of positive reviews. We don't need exact ratings for our task, we just need whether the review is positive or negative. So we will consider reviews with ratings `5` and `4` as `positive` and reviews with ratings `1` and `2` as `negative`. We will remove all the reviews with rating `3` as it resembles `neutral` sentiment."
   ]
  },
  {
   "cell_type": "code",
   "execution_count": null,
   "id": "bac48437",
   "metadata": {
    "ExecuteTime": {
     "end_time": "2023-11-07T07:25:22.522400Z",
     "start_time": "2023-11-07T07:25:22.478768Z"
    },
    "id": "bac48437"
   },
   "outputs": [],
   "source": [
    "# Remove rows with value 3\n",
    "df = df[df['ReviewStar'] != 3]\n",
    "\n",
    "# Create a new column with the coded values\n",
    "df['labels'] = df['ReviewStar'].map({1: 0, 2: 0, 4: 1, 5: 1})\n",
    "\n",
    "# Drop the original 'ReviewStar' column\n",
    "df.drop(['ReviewStar'], axis=1, inplace=True)\n",
    "df.head()\n",
    "\n",
    "# Rename the column\n",
    "df = df.rename(columns={'ReviewBody': 'review_text'})\n",
    "\n",
    "# Change order of columns\n",
    "df = df[['labels', 'review_text']]"
   ]
  },
  {
   "cell_type": "markdown",
   "id": "2rK-WETuj7pK",
   "metadata": {
    "id": "2rK-WETuj7pK"
   },
   "source": [
    "So `1` is positive and `0` is negative. Now we will check their distribution."
   ]
  },
  {
   "cell_type": "code",
   "execution_count": null,
   "id": "fcb7a7a3",
   "metadata": {
    "ExecuteTime": {
     "end_time": "2023-11-07T07:25:22.543471Z",
     "start_time": "2023-11-07T07:25:22.527322Z"
    },
    "colab": {
     "base_uri": "https://localhost:8080/"
    },
    "id": "fcb7a7a3",
    "outputId": "4d666aeb-6880-4aa0-f066-914d6f24a513"
   },
   "outputs": [
    {
     "data": {
      "text/plain": [
       "1    9402\n",
       "0    3432\n",
       "Name: labels, dtype: int64"
      ]
     },
     "execution_count": 8,
     "metadata": {},
     "output_type": "execute_result"
    }
   ],
   "source": [
    "df['labels'].value_counts()"
   ]
  },
  {
   "cell_type": "markdown",
   "id": "MRA2-_pNkOjC",
   "metadata": {
    "id": "MRA2-_pNkOjC"
   },
   "source": [
    "When it comes to classification we need balanced datasets ie. labels should have uniform distribution. So we create a new dataframe where we take all the negative reviews and sample some positive reviews to create a balanced dataset."
   ]
  },
  {
   "cell_type": "code",
   "execution_count": null,
   "id": "07cb2107",
   "metadata": {
    "ExecuteTime": {
     "end_time": "2023-11-07T07:25:22.604325Z",
     "start_time": "2023-11-07T07:25:22.547447Z"
    },
    "colab": {
     "base_uri": "https://localhost:8080/"
    },
    "id": "07cb2107",
    "outputId": "758557ea-7705-40ce-c992-a223642eb6b9"
   },
   "outputs": [
    {
     "name": "stdout",
     "output_type": "stream",
     "text": [
      "<class 'pandas.core.frame.DataFrame'>\n",
      "Int64Index: 6864 entries, 1044 to 14336\n",
      "Data columns (total 2 columns):\n",
      " #   Column       Non-Null Count  Dtype \n",
      "---  ------       --------------  ----- \n",
      " 0   labels       6864 non-null   int64 \n",
      " 1   review_text  6864 non-null   object\n",
      "dtypes: int64(1), object(1)\n",
      "memory usage: 160.9+ KB\n"
     ]
    }
   ],
   "source": [
    "df = pd.concat([df[df['labels'] == 1].sample(3432, random_state=100), df[df['labels'] == 0]])\n",
    "df.info()"
   ]
  },
  {
   "cell_type": "code",
   "execution_count": null,
   "id": "8ca40628",
   "metadata": {
    "ExecuteTime": {
     "end_time": "2023-11-07T07:25:22.636389Z",
     "start_time": "2023-11-07T07:25:22.610759Z"
    },
    "colab": {
     "base_uri": "https://localhost:8080/",
     "height": 206
    },
    "id": "8ca40628",
    "outputId": "fb468108-b329-4e4c-cf45-50ed9b679dd4"
   },
   "outputs": [
    {
     "data": {
      "text/html": [
       "\n",
       "  <div id=\"df-28f828b4-0eab-4ddc-bf62-2441ddb7b655\" class=\"colab-df-container\">\n",
       "    <div>\n",
       "<style scoped>\n",
       "    .dataframe tbody tr th:only-of-type {\n",
       "        vertical-align: middle;\n",
       "    }\n",
       "\n",
       "    .dataframe tbody tr th {\n",
       "        vertical-align: top;\n",
       "    }\n",
       "\n",
       "    .dataframe thead th {\n",
       "        text-align: right;\n",
       "    }\n",
       "</style>\n",
       "<table border=\"1\" class=\"dataframe\">\n",
       "  <thead>\n",
       "    <tr style=\"text-align: right;\">\n",
       "      <th></th>\n",
       "      <th>labels</th>\n",
       "      <th>review_text</th>\n",
       "    </tr>\n",
       "  </thead>\n",
       "  <tbody>\n",
       "    <tr>\n",
       "      <th>0</th>\n",
       "      <td>1</td>\n",
       "      <td>I got a already opened package. The product is...</td>\n",
       "    </tr>\n",
       "    <tr>\n",
       "      <th>1</th>\n",
       "      <td>1</td>\n",
       "      <td>Battery life is awesome\\n</td>\n",
       "    </tr>\n",
       "    <tr>\n",
       "      <th>2</th>\n",
       "      <td>1</td>\n",
       "      <td>I like it.\\n</td>\n",
       "    </tr>\n",
       "    <tr>\n",
       "      <th>3</th>\n",
       "      <td>1</td>\n",
       "      <td>Good packaging and crystal clear sound..for ba...</td>\n",
       "    </tr>\n",
       "    <tr>\n",
       "      <th>4</th>\n",
       "      <td>1</td>\n",
       "      <td>Earphone is good but it do not have in build m...</td>\n",
       "    </tr>\n",
       "  </tbody>\n",
       "</table>\n",
       "</div>\n",
       "    <div class=\"colab-df-buttons\">\n",
       "\n",
       "  <div class=\"colab-df-container\">\n",
       "    <button class=\"colab-df-convert\" onclick=\"convertToInteractive('df-28f828b4-0eab-4ddc-bf62-2441ddb7b655')\"\n",
       "            title=\"Convert this dataframe to an interactive table.\"\n",
       "            style=\"display:none;\">\n",
       "\n",
       "  <svg xmlns=\"http://www.w3.org/2000/svg\" height=\"24px\" viewBox=\"0 -960 960 960\">\n",
       "    <path d=\"M120-120v-720h720v720H120Zm60-500h600v-160H180v160Zm220 220h160v-160H400v160Zm0 220h160v-160H400v160ZM180-400h160v-160H180v160Zm440 0h160v-160H620v160ZM180-180h160v-160H180v160Zm440 0h160v-160H620v160Z\"/>\n",
       "  </svg>\n",
       "    </button>\n",
       "\n",
       "  <style>\n",
       "    .colab-df-container {\n",
       "      display:flex;\n",
       "      gap: 12px;\n",
       "    }\n",
       "\n",
       "    .colab-df-convert {\n",
       "      background-color: #E8F0FE;\n",
       "      border: none;\n",
       "      border-radius: 50%;\n",
       "      cursor: pointer;\n",
       "      display: none;\n",
       "      fill: #1967D2;\n",
       "      height: 32px;\n",
       "      padding: 0 0 0 0;\n",
       "      width: 32px;\n",
       "    }\n",
       "\n",
       "    .colab-df-convert:hover {\n",
       "      background-color: #E2EBFA;\n",
       "      box-shadow: 0px 1px 2px rgba(60, 64, 67, 0.3), 0px 1px 3px 1px rgba(60, 64, 67, 0.15);\n",
       "      fill: #174EA6;\n",
       "    }\n",
       "\n",
       "    .colab-df-buttons div {\n",
       "      margin-bottom: 4px;\n",
       "    }\n",
       "\n",
       "    [theme=dark] .colab-df-convert {\n",
       "      background-color: #3B4455;\n",
       "      fill: #D2E3FC;\n",
       "    }\n",
       "\n",
       "    [theme=dark] .colab-df-convert:hover {\n",
       "      background-color: #434B5C;\n",
       "      box-shadow: 0px 1px 3px 1px rgba(0, 0, 0, 0.15);\n",
       "      filter: drop-shadow(0px 1px 2px rgba(0, 0, 0, 0.3));\n",
       "      fill: #FFFFFF;\n",
       "    }\n",
       "  </style>\n",
       "\n",
       "    <script>\n",
       "      const buttonEl =\n",
       "        document.querySelector('#df-28f828b4-0eab-4ddc-bf62-2441ddb7b655 button.colab-df-convert');\n",
       "      buttonEl.style.display =\n",
       "        google.colab.kernel.accessAllowed ? 'block' : 'none';\n",
       "\n",
       "      async function convertToInteractive(key) {\n",
       "        const element = document.querySelector('#df-28f828b4-0eab-4ddc-bf62-2441ddb7b655');\n",
       "        const dataTable =\n",
       "          await google.colab.kernel.invokeFunction('convertToInteractive',\n",
       "                                                    [key], {});\n",
       "        if (!dataTable) return;\n",
       "\n",
       "        const docLinkHtml = 'Like what you see? Visit the ' +\n",
       "          '<a target=\"_blank\" href=https://colab.research.google.com/notebooks/data_table.ipynb>data table notebook</a>'\n",
       "          + ' to learn more about interactive tables.';\n",
       "        element.innerHTML = '';\n",
       "        dataTable['output_type'] = 'display_data';\n",
       "        await google.colab.output.renderOutput(dataTable, element);\n",
       "        const docLink = document.createElement('div');\n",
       "        docLink.innerHTML = docLinkHtml;\n",
       "        element.appendChild(docLink);\n",
       "      }\n",
       "    </script>\n",
       "  </div>\n",
       "\n",
       "\n",
       "<div id=\"df-03b7ee16-19b2-4022-92df-bb1296df21c8\">\n",
       "  <button class=\"colab-df-quickchart\" onclick=\"quickchart('df-03b7ee16-19b2-4022-92df-bb1296df21c8')\"\n",
       "            title=\"Suggest charts\"\n",
       "            style=\"display:none;\">\n",
       "\n",
       "<svg xmlns=\"http://www.w3.org/2000/svg\" height=\"24px\"viewBox=\"0 0 24 24\"\n",
       "     width=\"24px\">\n",
       "    <g>\n",
       "        <path d=\"M19 3H5c-1.1 0-2 .9-2 2v14c0 1.1.9 2 2 2h14c1.1 0 2-.9 2-2V5c0-1.1-.9-2-2-2zM9 17H7v-7h2v7zm4 0h-2V7h2v10zm4 0h-2v-4h2v4z\"/>\n",
       "    </g>\n",
       "</svg>\n",
       "  </button>\n",
       "\n",
       "<style>\n",
       "  .colab-df-quickchart {\n",
       "      --bg-color: #E8F0FE;\n",
       "      --fill-color: #1967D2;\n",
       "      --hover-bg-color: #E2EBFA;\n",
       "      --hover-fill-color: #174EA6;\n",
       "      --disabled-fill-color: #AAA;\n",
       "      --disabled-bg-color: #DDD;\n",
       "  }\n",
       "\n",
       "  [theme=dark] .colab-df-quickchart {\n",
       "      --bg-color: #3B4455;\n",
       "      --fill-color: #D2E3FC;\n",
       "      --hover-bg-color: #434B5C;\n",
       "      --hover-fill-color: #FFFFFF;\n",
       "      --disabled-bg-color: #3B4455;\n",
       "      --disabled-fill-color: #666;\n",
       "  }\n",
       "\n",
       "  .colab-df-quickchart {\n",
       "    background-color: var(--bg-color);\n",
       "    border: none;\n",
       "    border-radius: 50%;\n",
       "    cursor: pointer;\n",
       "    display: none;\n",
       "    fill: var(--fill-color);\n",
       "    height: 32px;\n",
       "    padding: 0;\n",
       "    width: 32px;\n",
       "  }\n",
       "\n",
       "  .colab-df-quickchart:hover {\n",
       "    background-color: var(--hover-bg-color);\n",
       "    box-shadow: 0 1px 2px rgba(60, 64, 67, 0.3), 0 1px 3px 1px rgba(60, 64, 67, 0.15);\n",
       "    fill: var(--button-hover-fill-color);\n",
       "  }\n",
       "\n",
       "  .colab-df-quickchart-complete:disabled,\n",
       "  .colab-df-quickchart-complete:disabled:hover {\n",
       "    background-color: var(--disabled-bg-color);\n",
       "    fill: var(--disabled-fill-color);\n",
       "    box-shadow: none;\n",
       "  }\n",
       "\n",
       "  .colab-df-spinner {\n",
       "    border: 2px solid var(--fill-color);\n",
       "    border-color: transparent;\n",
       "    border-bottom-color: var(--fill-color);\n",
       "    animation:\n",
       "      spin 1s steps(1) infinite;\n",
       "  }\n",
       "\n",
       "  @keyframes spin {\n",
       "    0% {\n",
       "      border-color: transparent;\n",
       "      border-bottom-color: var(--fill-color);\n",
       "      border-left-color: var(--fill-color);\n",
       "    }\n",
       "    20% {\n",
       "      border-color: transparent;\n",
       "      border-left-color: var(--fill-color);\n",
       "      border-top-color: var(--fill-color);\n",
       "    }\n",
       "    30% {\n",
       "      border-color: transparent;\n",
       "      border-left-color: var(--fill-color);\n",
       "      border-top-color: var(--fill-color);\n",
       "      border-right-color: var(--fill-color);\n",
       "    }\n",
       "    40% {\n",
       "      border-color: transparent;\n",
       "      border-right-color: var(--fill-color);\n",
       "      border-top-color: var(--fill-color);\n",
       "    }\n",
       "    60% {\n",
       "      border-color: transparent;\n",
       "      border-right-color: var(--fill-color);\n",
       "    }\n",
       "    80% {\n",
       "      border-color: transparent;\n",
       "      border-right-color: var(--fill-color);\n",
       "      border-bottom-color: var(--fill-color);\n",
       "    }\n",
       "    90% {\n",
       "      border-color: transparent;\n",
       "      border-bottom-color: var(--fill-color);\n",
       "    }\n",
       "  }\n",
       "</style>\n",
       "\n",
       "  <script>\n",
       "    async function quickchart(key) {\n",
       "      const quickchartButtonEl =\n",
       "        document.querySelector('#' + key + ' button');\n",
       "      quickchartButtonEl.disabled = true;  // To prevent multiple clicks.\n",
       "      quickchartButtonEl.classList.add('colab-df-spinner');\n",
       "      try {\n",
       "        const charts = await google.colab.kernel.invokeFunction(\n",
       "            'suggestCharts', [key], {});\n",
       "      } catch (error) {\n",
       "        console.error('Error during call to suggestCharts:', error);\n",
       "      }\n",
       "      quickchartButtonEl.classList.remove('colab-df-spinner');\n",
       "      quickchartButtonEl.classList.add('colab-df-quickchart-complete');\n",
       "    }\n",
       "    (() => {\n",
       "      let quickchartButtonEl =\n",
       "        document.querySelector('#df-03b7ee16-19b2-4022-92df-bb1296df21c8 button');\n",
       "      quickchartButtonEl.style.display =\n",
       "        google.colab.kernel.accessAllowed ? 'block' : 'none';\n",
       "    })();\n",
       "  </script>\n",
       "</div>\n",
       "    </div>\n",
       "  </div>\n"
      ],
      "text/plain": [
       "   labels                                        review_text\n",
       "0       1  I got a already opened package. The product is...\n",
       "1       1                          Battery life is awesome\\n\n",
       "2       1                                       I like it.\\n\n",
       "3       1  Good packaging and crystal clear sound..for ba...\n",
       "4       1  Earphone is good but it do not have in build m..."
      ]
     },
     "execution_count": 10,
     "metadata": {},
     "output_type": "execute_result"
    }
   ],
   "source": [
    "df = df.reset_index(drop=True)\n",
    "df.head()"
   ]
  },
  {
   "cell_type": "markdown",
   "id": "hI38tI7xk4pz",
   "metadata": {
    "id": "hI38tI7xk4pz"
   },
   "source": [
    "Now let us see whether the dataset is balanced."
   ]
  },
  {
   "cell_type": "code",
   "execution_count": null,
   "id": "db940a12",
   "metadata": {
    "ExecuteTime": {
     "end_time": "2023-11-07T07:25:22.668307Z",
     "start_time": "2023-11-07T07:25:22.636389Z"
    },
    "colab": {
     "base_uri": "https://localhost:8080/"
    },
    "id": "db940a12",
    "outputId": "795638b2-49df-4248-f48b-62fc153f9609"
   },
   "outputs": [
    {
     "data": {
      "text/plain": [
       "1    3432\n",
       "0    3432\n",
       "Name: labels, dtype: int64"
      ]
     },
     "execution_count": 11,
     "metadata": {},
     "output_type": "execute_result"
    }
   ],
   "source": [
    "df['labels'].value_counts()"
   ]
  },
  {
   "cell_type": "markdown",
   "id": "byMOQfpzk-zv",
   "metadata": {
    "id": "byMOQfpzk-zv"
   },
   "source": [
    "Both the classes have equal reviews. Now that our dataset is balanced let us now move to processing of the text data."
   ]
  },
  {
   "cell_type": "code",
   "execution_count": null,
   "id": "ATvCAksWtoJz",
   "metadata": {
    "id": "ATvCAksWtoJz"
   },
   "outputs": [],
   "source": [
    "docs = df['review_text'].tolist()\n",
    "labels = df['labels'].to_numpy()"
   ]
  },
  {
   "cell_type": "markdown",
   "id": "0G19Js44lnii",
   "metadata": {
    "id": "0G19Js44lnii"
   },
   "source": [
    "First we will tokenize our reviews and see how many unique words are there in the reviews."
   ]
  },
  {
   "cell_type": "code",
   "execution_count": null,
   "id": "fprv80nmDG8S",
   "metadata": {
    "colab": {
     "base_uri": "https://localhost:8080/"
    },
    "id": "fprv80nmDG8S",
    "outputId": "51777934-3954-4ae3-9d6a-2e0b523e0bd2"
   },
   "outputs": [
    {
     "name": "stdout",
     "output_type": "stream",
     "text": [
      "7639\n"
     ]
    }
   ],
   "source": [
    "t = Tokenizer()\n",
    "t.fit_on_texts(docs)\n",
    "vocab_size = len(t.word_index) + 1\n",
    "print(vocab_size)"
   ]
  },
  {
   "cell_type": "markdown",
   "id": "9reoSjFilyng",
   "metadata": {
    "id": "9reoSjFilyng"
   },
   "source": [
    "Our reviews have `7639` unique words. Now we need to convert our words into numbers so that model can train on it. We will convert them into sequences where these sequences are numerical representations of the original texts and each word has been replaced by its index in the tokenizer's vocabulary."
   ]
  },
  {
   "cell_type": "code",
   "execution_count": null,
   "id": "K8IL_GC3DdPW",
   "metadata": {
    "colab": {
     "base_uri": "https://localhost:8080/"
    },
    "id": "K8IL_GC3DdPW",
    "outputId": "c795cb25-3f26-4460-c0eb-6410661c7c95"
   },
   "outputs": [
    {
     "name": "stdout",
     "output_type": "stream",
     "text": [
      "[4, 73, 15, 394, 922, 455, 2, 10, 1, 21, 205, 77, 44, 6, 4, 151, 28, 276, 5, 4, 68, 75, 5, 151, 1471, 12, 170, 42, 4, 102, 6, 803, 2, 247, 40, 11, 394, 106, 225, 91, 23, 243, 232, 33, 323, 38, 2, 2149, 35, 578, 10]\n"
     ]
    }
   ],
   "source": [
    "encoded_docs = t.texts_to_sequences(docs)\n",
    "print(encoded_docs[0])"
   ]
  },
  {
   "cell_type": "markdown",
   "id": "h-64233Jme8G",
   "metadata": {
    "id": "h-64233Jme8G"
   },
   "source": [
    "We can see one such sequence in the output. Now these sequences are of varying lengths so we need to convert them into sequences with same length to make our data consistent. We will do so by padding these sequences with 0."
   ]
  },
  {
   "cell_type": "code",
   "execution_count": null,
   "id": "VnNxhZRIEIke",
   "metadata": {
    "colab": {
     "base_uri": "https://localhost:8080/"
    },
    "id": "VnNxhZRIEIke",
    "outputId": "0067495c-ff69-46fa-db0b-14044dda1371"
   },
   "outputs": [
    {
     "name": "stdout",
     "output_type": "stream",
     "text": [
      "[   4   73   15  394  922  455    2   10    1   21  205   77   44    6\n",
      "    4  151   28  276    5    4   68   75    5  151 1471   12  170   42\n",
      "    4  102    6  803    2  247   40   11  394  106  225   91   23  243\n",
      "  232   33  323   38    2 2149   35  578   10    0    0    0    0    0\n",
      "    0    0    0    0    0    0    0    0    0    0    0    0    0    0\n",
      "    0    0    0    0    0    0    0    0    0    0    0    0    0    0\n",
      "    0    0    0    0    0    0    0    0    0    0    0    0    0    0\n",
      "    0    0    0    0    0    0    0    0    0    0    0    0    0    0\n",
      "    0    0    0    0    0    0    0    0    0    0    0    0    0    0\n",
      "    0    0    0    0    0    0    0    0    0    0    0    0    0    0\n",
      "    0    0    0    0    0    0    0    0    0    0]\n"
     ]
    }
   ],
   "source": [
    "max_length = 150\n",
    "padded_docs = pad_sequences(encoded_docs, maxlen=max_length, padding='post')\n",
    "print(padded_docs[0])"
   ]
  },
  {
   "cell_type": "markdown",
   "id": "vICEHfVAmwbm",
   "metadata": {
    "id": "vICEHfVAmwbm"
   },
   "source": [
    "We can see one such sequence in the output. Our data is now ready."
   ]
  },
  {
   "cell_type": "markdown",
   "id": "izJLxhwqo1Bj",
   "metadata": {
    "id": "izJLxhwqo1Bj"
   },
   "source": [
    "### Model Training\n",
    "\n",
    "Now we will import GloVe embeddings which contains the words and their numerical vector representations. In traditional models we need to clean data further with processes like Stemming, Lemmatization, removal of stop words & punctuations etc. but while using pre-trained embeddings we can skip these steps and still achieve reasonable outputs."
   ]
  },
  {
   "cell_type": "code",
   "execution_count": null,
   "id": "aYs3rsZa2VJu",
   "metadata": {
    "colab": {
     "base_uri": "https://localhost:8080/"
    },
    "id": "aYs3rsZa2VJu",
    "outputId": "eac45358-899f-4104-c639-28cf33c369f1"
   },
   "outputs": [
    {
     "name": "stdout",
     "output_type": "stream",
     "text": [
      "Loaded 400000 word vectors.\n"
     ]
    }
   ],
   "source": [
    "embeddings_index = dict()\n",
    "f = open('/content/drive/MyDrive/glove.6B.100d.txt')\n",
    "for line in f:\n",
    " values = line.split()\n",
    " word = values[0]\n",
    " coefs = asarray(values[1:], dtype='float32')\n",
    " embeddings_index[word] = coefs\n",
    "f.close()\n",
    "print('Loaded %s word vectors.' % len(embeddings_index))"
   ]
  },
  {
   "cell_type": "markdown",
   "id": "2UJjXBlioSc7",
   "metadata": {
    "id": "2UJjXBlioSc7"
   },
   "source": [
    "We will now populate an `embedding_matrix` with pre-trained word embeddings for the words present in our dataset. It checks if a word in our dataset exists in the pre-trained embeddings and, if so, uses that embedding to fill the matrix at the corresponding index. This matrix will be used as the initial embeddings for the words in our dataset during model training."
   ]
  },
  {
   "cell_type": "code",
   "execution_count": null,
   "id": "VsSN_fHnFFPL",
   "metadata": {
    "id": "VsSN_fHnFFPL"
   },
   "outputs": [],
   "source": [
    "embedding_matrix = zeros((vocab_size, 100))\n",
    "for word, i in t.word_index.items():\n",
    " embedding_vector = embeddings_index.get(word)\n",
    " if embedding_vector is not None:\n",
    "  embedding_matrix[i] = embedding_vector"
   ]
  },
  {
   "cell_type": "markdown",
   "id": "TbUCII03pCbz",
   "metadata": {
    "id": "TbUCII03pCbz"
   },
   "source": [
    "Let us now split the dataset into training and test sets. We will perform an 80-20 split."
   ]
  },
  {
   "cell_type": "code",
   "execution_count": null,
   "id": "uxE7nWlBFm1Q",
   "metadata": {
    "id": "uxE7nWlBFm1Q"
   },
   "outputs": [],
   "source": [
    "X_train, X_test, y_train, y_test = train_test_split(padded_docs, labels, test_size=0.2, random_state=100)"
   ]
  },
  {
   "cell_type": "markdown",
   "id": "nqMe95eGpOrm",
   "metadata": {
    "id": "nqMe95eGpOrm"
   },
   "source": [
    "We will also set some additional parameters which will be required in model training."
   ]
  },
  {
   "cell_type": "code",
   "execution_count": null,
   "id": "D7GSrQvwvBkX",
   "metadata": {
    "id": "D7GSrQvwvBkX"
   },
   "outputs": [],
   "source": [
    "batch_size = 32\n",
    "embedding_dims = 50\n",
    "filters = 250\n",
    "kernel_size = 3\n",
    "hidden_dims = 100"
   ]
  },
  {
   "cell_type": "markdown",
   "id": "oTRfQyHApeCV",
   "metadata": {
    "id": "oTRfQyHApeCV"
   },
   "source": [
    "First we will train a CNN Model and see how it performs. This CNN architecture is suitable for text data, utilizing pre-trained word embeddings, multiple convolutional layers, regularization techniques, and specific configuration for training the model efficiently and combatting overfitting."
   ]
  },
  {
   "cell_type": "code",
   "execution_count": null,
   "id": "xMZPSiO36JA2",
   "metadata": {
    "id": "xMZPSiO36JA2"
   },
   "outputs": [],
   "source": [
    "model = Sequential()\n",
    "model.add(Embedding(vocab_size, 100, input_length=max_length, weights=[embedding_matrix], trainable=False))\n",
    "\n",
    "# Reduced number of filters and kernel sizes to lower complexity\n",
    "filters = 64\n",
    "kernel_size = 3\n",
    "\n",
    "model.add(Conv1D(filters, kernel_size, padding='same', activation='relu'))\n",
    "model.add(MaxPooling1D())\n",
    "\n",
    "# Implement Dropout and BatchNormalization after each Convolutional layer\n",
    "model.add(Dropout(0.5))\n",
    "model.add(BatchNormalization())\n",
    "\n",
    "model.add(Conv1D(filters, kernel_size, padding='same', activation='relu'))\n",
    "model.add(MaxPooling1D())\n",
    "model.add(Dropout(0.5))\n",
    "model.add(BatchNormalization())\n",
    "\n",
    "model.add(Conv1D(filters, kernel_size, padding='same', activation='relu'))\n",
    "model.add(MaxPooling1D())\n",
    "model.add(Dropout(0.5))\n",
    "model.add(BatchNormalization())\n",
    "\n",
    "model.add(Flatten())\n",
    "\n",
    "# Regularization with L2 regularization on the Dense layer\n",
    "hidden_dims = 64\n",
    "model.add(Dense(hidden_dims, activation='relu', kernel_regularizer=regularizers.l2(0.01)))\n",
    "model.add(Dropout(0.5))\n",
    "model.add(BatchNormalization())\n",
    "\n",
    "model.add(Dense(1, activation='sigmoid'))\n",
    "\n",
    "# Reduce learning rate and add momentum to the optimizer to reduce overfitting\n",
    "optimizer = Adam(learning_rate=0.0001, beta_1=0.9, beta_2=0.999)\n",
    "\n",
    "model.compile(loss='binary_crossentropy', optimizer=optimizer, metrics=['accuracy'])"
   ]
  },
  {
   "cell_type": "markdown",
   "id": "dUg8Ap9dqKyM",
   "metadata": {
    "id": "dUg8Ap9dqKyM"
   },
   "source": [
    "After defining the architecture let us train the model."
   ]
  },
  {
   "cell_type": "code",
   "execution_count": null,
   "id": "ed32dba7",
   "metadata": {
    "ExecuteTime": {
     "start_time": "2023-11-07T07:25:08.388Z"
    },
    "colab": {
     "base_uri": "https://localhost:8080/"
    },
    "id": "ed32dba7",
    "outputId": "ecd29279-23c0-4634-c820-8b1d12415bc8"
   },
   "outputs": [
    {
     "name": "stdout",
     "output_type": "stream",
     "text": [
      "Epoch 1/75\n",
      "172/172 [==============================] - 13s 20ms/step - loss: 1.9941 - accuracy: 0.5008 - val_loss: 1.7603 - val_accuracy: 0.5040\n",
      "Epoch 2/75\n",
      "172/172 [==============================] - 2s 12ms/step - loss: 1.8509 - accuracy: 0.4908 - val_loss: 1.6438 - val_accuracy: 0.5076\n",
      "Epoch 3/75\n",
      "172/172 [==============================] - 3s 15ms/step - loss: 1.7076 - accuracy: 0.5196 - val_loss: 1.5442 - val_accuracy: 0.5186\n",
      "Epoch 4/75\n",
      "172/172 [==============================] - 3s 15ms/step - loss: 1.6263 - accuracy: 0.5116 - val_loss: 1.4598 - val_accuracy: 0.5339\n",
      "Epoch 5/75\n",
      "172/172 [==============================] - 2s 14ms/step - loss: 1.5181 - accuracy: 0.5469 - val_loss: 1.3904 - val_accuracy: 0.5462\n",
      "Epoch 6/75\n",
      "172/172 [==============================] - 2s 13ms/step - loss: 1.4437 - accuracy: 0.5489 - val_loss: 1.3301 - val_accuracy: 0.5790\n",
      "Epoch 7/75\n",
      "172/172 [==============================] - 2s 9ms/step - loss: 1.3784 - accuracy: 0.5555 - val_loss: 1.2764 - val_accuracy: 0.5812\n",
      "Epoch 8/75\n",
      "172/172 [==============================] - 1s 9ms/step - loss: 1.3243 - accuracy: 0.5636 - val_loss: 1.2298 - val_accuracy: 0.5892\n",
      "Epoch 9/75\n",
      "172/172 [==============================] - 1s 9ms/step - loss: 1.2751 - accuracy: 0.5717 - val_loss: 1.1725 - val_accuracy: 0.6271\n",
      "Epoch 10/75\n",
      "172/172 [==============================] - 2s 9ms/step - loss: 1.2228 - accuracy: 0.5784 - val_loss: 1.1311 - val_accuracy: 0.6322\n",
      "Epoch 11/75\n",
      "172/172 [==============================] - 1s 9ms/step - loss: 1.1706 - accuracy: 0.5968 - val_loss: 1.0842 - val_accuracy: 0.6540\n",
      "Epoch 12/75\n",
      "172/172 [==============================] - 2s 9ms/step - loss: 1.1150 - accuracy: 0.6237 - val_loss: 1.0421 - val_accuracy: 0.6752\n",
      "Epoch 13/75\n",
      "172/172 [==============================] - 2s 11ms/step - loss: 1.0837 - accuracy: 0.6219 - val_loss: 0.9937 - val_accuracy: 0.7007\n",
      "Epoch 14/75\n",
      "172/172 [==============================] - 2s 12ms/step - loss: 1.0208 - accuracy: 0.6567 - val_loss: 0.9445 - val_accuracy: 0.7050\n",
      "Epoch 15/75\n",
      "172/172 [==============================] - 2s 13ms/step - loss: 0.9872 - accuracy: 0.6644 - val_loss: 0.9106 - val_accuracy: 0.7145\n",
      "Epoch 16/75\n",
      "172/172 [==============================] - 2s 10ms/step - loss: 0.9492 - accuracy: 0.6797 - val_loss: 0.8661 - val_accuracy: 0.7356\n",
      "Epoch 17/75\n",
      "172/172 [==============================] - 1s 9ms/step - loss: 0.9158 - accuracy: 0.6917 - val_loss: 0.8316 - val_accuracy: 0.7451\n",
      "Epoch 18/75\n",
      "172/172 [==============================] - 2s 9ms/step - loss: 0.8772 - accuracy: 0.7022 - val_loss: 0.8006 - val_accuracy: 0.7480\n",
      "Epoch 19/75\n",
      "172/172 [==============================] - 2s 9ms/step - loss: 0.8262 - accuracy: 0.7246 - val_loss: 0.7605 - val_accuracy: 0.7961\n",
      "Epoch 20/75\n",
      "172/172 [==============================] - 1s 9ms/step - loss: 0.8001 - accuracy: 0.7379 - val_loss: 0.7318 - val_accuracy: 0.8063\n",
      "Epoch 21/75\n",
      "172/172 [==============================] - 1s 9ms/step - loss: 0.7685 - accuracy: 0.7512 - val_loss: 0.6926 - val_accuracy: 0.8208\n",
      "Epoch 22/75\n",
      "172/172 [==============================] - 2s 9ms/step - loss: 0.7360 - accuracy: 0.7609 - val_loss: 0.6565 - val_accuracy: 0.8259\n",
      "Epoch 23/75\n",
      "172/172 [==============================] - 2s 13ms/step - loss: 0.7202 - accuracy: 0.7649 - val_loss: 0.6281 - val_accuracy: 0.8361\n",
      "Epoch 24/75\n",
      "172/172 [==============================] - 2s 12ms/step - loss: 0.6785 - accuracy: 0.7818 - val_loss: 0.6105 - val_accuracy: 0.8339\n",
      "Epoch 25/75\n",
      "172/172 [==============================] - 2s 11ms/step - loss: 0.6633 - accuracy: 0.7853 - val_loss: 0.5805 - val_accuracy: 0.8456\n",
      "Epoch 26/75\n",
      "172/172 [==============================] - 1s 9ms/step - loss: 0.6341 - accuracy: 0.7968 - val_loss: 0.5556 - val_accuracy: 0.8529\n",
      "Epoch 27/75\n",
      "172/172 [==============================] - 2s 9ms/step - loss: 0.6090 - accuracy: 0.8062 - val_loss: 0.5353 - val_accuracy: 0.8565\n",
      "Epoch 28/75\n",
      "172/172 [==============================] - 1s 9ms/step - loss: 0.5917 - accuracy: 0.8093 - val_loss: 0.5145 - val_accuracy: 0.8623\n",
      "Epoch 29/75\n",
      "172/172 [==============================] - 2s 9ms/step - loss: 0.5719 - accuracy: 0.8177 - val_loss: 0.4976 - val_accuracy: 0.8645\n",
      "Epoch 30/75\n",
      "172/172 [==============================] - 2s 9ms/step - loss: 0.5551 - accuracy: 0.8184 - val_loss: 0.4854 - val_accuracy: 0.8631\n",
      "Epoch 31/75\n",
      "172/172 [==============================] - 2s 9ms/step - loss: 0.5371 - accuracy: 0.8239 - val_loss: 0.4678 - val_accuracy: 0.8696\n",
      "Epoch 32/75\n",
      "172/172 [==============================] - 2s 12ms/step - loss: 0.5152 - accuracy: 0.8297 - val_loss: 0.4569 - val_accuracy: 0.8725\n",
      "Epoch 33/75\n",
      "172/172 [==============================] - 2s 13ms/step - loss: 0.5054 - accuracy: 0.8350 - val_loss: 0.4413 - val_accuracy: 0.8791\n",
      "Epoch 34/75\n",
      "172/172 [==============================] - 2s 11ms/step - loss: 0.4898 - accuracy: 0.8377 - val_loss: 0.4351 - val_accuracy: 0.8798\n",
      "Epoch 35/75\n",
      "172/172 [==============================] - 2s 10ms/step - loss: 0.4782 - accuracy: 0.8408 - val_loss: 0.4244 - val_accuracy: 0.8776\n",
      "Epoch 36/75\n",
      "172/172 [==============================] - 2s 10ms/step - loss: 0.4666 - accuracy: 0.8496 - val_loss: 0.4169 - val_accuracy: 0.8755\n",
      "Epoch 37/75\n",
      "172/172 [==============================] - 2s 12ms/step - loss: 0.4563 - accuracy: 0.8487 - val_loss: 0.4084 - val_accuracy: 0.8827\n",
      "Epoch 38/75\n",
      "172/172 [==============================] - 1s 9ms/step - loss: 0.4475 - accuracy: 0.8519 - val_loss: 0.3983 - val_accuracy: 0.8791\n",
      "Epoch 39/75\n",
      "172/172 [==============================] - 1s 9ms/step - loss: 0.4426 - accuracy: 0.8498 - val_loss: 0.3972 - val_accuracy: 0.8813\n",
      "Epoch 40/75\n",
      "172/172 [==============================] - 2s 9ms/step - loss: 0.4186 - accuracy: 0.8559 - val_loss: 0.3870 - val_accuracy: 0.8755\n",
      "Epoch 41/75\n",
      "172/172 [==============================] - 2s 13ms/step - loss: 0.4173 - accuracy: 0.8596 - val_loss: 0.3830 - val_accuracy: 0.8798\n",
      "Epoch 42/75\n",
      "172/172 [==============================] - 2s 13ms/step - loss: 0.4120 - accuracy: 0.8585 - val_loss: 0.3734 - val_accuracy: 0.8835\n",
      "Epoch 43/75\n",
      "172/172 [==============================] - 2s 10ms/step - loss: 0.3940 - accuracy: 0.8623 - val_loss: 0.3676 - val_accuracy: 0.8835\n",
      "Epoch 44/75\n",
      "172/172 [==============================] - 2s 9ms/step - loss: 0.4014 - accuracy: 0.8585 - val_loss: 0.3653 - val_accuracy: 0.8842\n",
      "Epoch 45/75\n",
      "172/172 [==============================] - 1s 9ms/step - loss: 0.3767 - accuracy: 0.8729 - val_loss: 0.3564 - val_accuracy: 0.8842\n",
      "Epoch 46/75\n",
      "172/172 [==============================] - 2s 9ms/step - loss: 0.3735 - accuracy: 0.8698 - val_loss: 0.3501 - val_accuracy: 0.8849\n",
      "Epoch 47/75\n",
      "172/172 [==============================] - 1s 9ms/step - loss: 0.3721 - accuracy: 0.8672 - val_loss: 0.3475 - val_accuracy: 0.8835\n",
      "Epoch 48/75\n",
      "172/172 [==============================] - 1s 9ms/step - loss: 0.3741 - accuracy: 0.8618 - val_loss: 0.3485 - val_accuracy: 0.8827\n",
      "Epoch 49/75\n",
      "172/172 [==============================] - 1s 9ms/step - loss: 0.3645 - accuracy: 0.8685 - val_loss: 0.3426 - val_accuracy: 0.8827\n",
      "Epoch 50/75\n",
      "172/172 [==============================] - 2s 12ms/step - loss: 0.3474 - accuracy: 0.8789 - val_loss: 0.3346 - val_accuracy: 0.8849\n",
      "Epoch 51/75\n",
      "172/172 [==============================] - 2s 12ms/step - loss: 0.3450 - accuracy: 0.8771 - val_loss: 0.3344 - val_accuracy: 0.8835\n",
      "Epoch 52/75\n",
      "172/172 [==============================] - 2s 12ms/step - loss: 0.3507 - accuracy: 0.8729 - val_loss: 0.3308 - val_accuracy: 0.8849\n",
      "Epoch 53/75\n",
      "172/172 [==============================] - 2s 9ms/step - loss: 0.3453 - accuracy: 0.8802 - val_loss: 0.3302 - val_accuracy: 0.8827\n",
      "Epoch 54/75\n",
      "172/172 [==============================] - 1s 8ms/step - loss: 0.3306 - accuracy: 0.8867 - val_loss: 0.3242 - val_accuracy: 0.8820\n",
      "Epoch 55/75\n",
      "172/172 [==============================] - 2s 9ms/step - loss: 0.3332 - accuracy: 0.8833 - val_loss: 0.3225 - val_accuracy: 0.8864\n",
      "Epoch 56/75\n",
      "172/172 [==============================] - 1s 9ms/step - loss: 0.3241 - accuracy: 0.8813 - val_loss: 0.3211 - val_accuracy: 0.8900\n",
      "Epoch 57/75\n",
      "172/172 [==============================] - 2s 9ms/step - loss: 0.3357 - accuracy: 0.8794 - val_loss: 0.3166 - val_accuracy: 0.8857\n",
      "Epoch 58/75\n",
      "172/172 [==============================] - 1s 9ms/step - loss: 0.3217 - accuracy: 0.8864 - val_loss: 0.3141 - val_accuracy: 0.8893\n",
      "Epoch 59/75\n",
      "172/172 [==============================] - 2s 10ms/step - loss: 0.3119 - accuracy: 0.8860 - val_loss: 0.3116 - val_accuracy: 0.8915\n",
      "Epoch 60/75\n",
      "172/172 [==============================] - 2s 12ms/step - loss: 0.3094 - accuracy: 0.8885 - val_loss: 0.3094 - val_accuracy: 0.8893\n",
      "Epoch 61/75\n",
      "172/172 [==============================] - 2s 12ms/step - loss: 0.3012 - accuracy: 0.8918 - val_loss: 0.3064 - val_accuracy: 0.8893\n",
      "Epoch 62/75\n",
      "172/172 [==============================] - 2s 11ms/step - loss: 0.3093 - accuracy: 0.8896 - val_loss: 0.3068 - val_accuracy: 0.8922\n",
      "Epoch 63/75\n",
      "172/172 [==============================] - 1s 9ms/step - loss: 0.3074 - accuracy: 0.8913 - val_loss: 0.3060 - val_accuracy: 0.8908\n",
      "Epoch 64/75\n",
      "172/172 [==============================] - 2s 9ms/step - loss: 0.2993 - accuracy: 0.8929 - val_loss: 0.3037 - val_accuracy: 0.8937\n",
      "Epoch 65/75\n",
      "172/172 [==============================] - 2s 9ms/step - loss: 0.2915 - accuracy: 0.8949 - val_loss: 0.3013 - val_accuracy: 0.8908\n",
      "Epoch 66/75\n",
      "172/172 [==============================] - 2s 9ms/step - loss: 0.2999 - accuracy: 0.8911 - val_loss: 0.2993 - val_accuracy: 0.8980\n",
      "Epoch 67/75\n",
      "172/172 [==============================] - 2s 9ms/step - loss: 0.2913 - accuracy: 0.9006 - val_loss: 0.2990 - val_accuracy: 0.8893\n",
      "Epoch 68/75\n",
      "172/172 [==============================] - 2s 9ms/step - loss: 0.2828 - accuracy: 0.8989 - val_loss: 0.2974 - val_accuracy: 0.8937\n",
      "Epoch 69/75\n",
      "172/172 [==============================] - 2s 12ms/step - loss: 0.2813 - accuracy: 0.8980 - val_loss: 0.2966 - val_accuracy: 0.8944\n",
      "Epoch 70/75\n",
      "172/172 [==============================] - 2s 12ms/step - loss: 0.2910 - accuracy: 0.8944 - val_loss: 0.2970 - val_accuracy: 0.8937\n",
      "Epoch 71/75\n",
      "172/172 [==============================] - 2s 11ms/step - loss: 0.2866 - accuracy: 0.8958 - val_loss: 0.2946 - val_accuracy: 0.8937\n",
      "Epoch 72/75\n",
      "172/172 [==============================] - 2s 9ms/step - loss: 0.2688 - accuracy: 0.9073 - val_loss: 0.2934 - val_accuracy: 0.8973\n",
      "Epoch 73/75\n",
      "172/172 [==============================] - 1s 9ms/step - loss: 0.2781 - accuracy: 0.9027 - val_loss: 0.2922 - val_accuracy: 0.8966\n",
      "Epoch 74/75\n",
      "172/172 [==============================] - 2s 9ms/step - loss: 0.2757 - accuracy: 0.8960 - val_loss: 0.3047 - val_accuracy: 0.8922\n",
      "Epoch 75/75\n",
      "172/172 [==============================] - 1s 9ms/step - loss: 0.2791 - accuracy: 0.9018 - val_loss: 0.2981 - val_accuracy: 0.8966\n"
     ]
    }
   ],
   "source": [
    "history = model.fit(X_train, y_train,\n",
    "          batch_size=batch_size,\n",
    "          epochs=75,\n",
    "          validation_data=(X_test, y_test))"
   ]
  },
  {
   "cell_type": "code",
   "execution_count": null,
   "id": "31fd4739",
   "metadata": {
    "ExecuteTime": {
     "start_time": "2023-11-07T07:25:08.391Z"
    },
    "colab": {
     "base_uri": "https://localhost:8080/",
     "height": 466
    },
    "id": "31fd4739",
    "outputId": "8bb2c36e-58cf-4a2a-a5b4-57ce7792cbd7"
   },
   "outputs": [
    {
     "name": "stdout",
     "output_type": "stream",
     "text": [
      "43/43 - 0s - loss: 0.2981 - accuracy: 0.8966 - 125ms/epoch - 3ms/step\n"
     ]
    },
    {
     "data": {
      "image/png": "[encoded data removed]",
      "text/plain": [
       "<Figure size 640x480 with 1 Axes>"
      ]
     },
     "metadata": {},
     "output_type": "display_data"
    }
   ],
   "source": [
    "plt.plot(history.history['accuracy'], label='accuracy')\n",
    "plt.plot(history.history['val_accuracy'], label = 'val_accuracy')\n",
    "plt.xlabel('Epoch')\n",
    "plt.ylabel('Accuracy')\n",
    "plt.legend(loc='lower right')\n",
    "\n",
    "test_loss, test_acc = model.evaluate(X_test, y_test, verbose=2)"
   ]
  },
  {
   "cell_type": "markdown",
   "id": "cnyoEAvhqXFF",
   "metadata": {
    "id": "cnyoEAvhqXFF"
   },
   "source": [
    "Looking at the diagram we can say that our model is trained perfectly fine. Both the train accuracy and validation accuracy are almost equal."
   ]
  },
  {
   "cell_type": "code",
   "execution_count": null,
   "id": "c13c5f3a",
   "metadata": {
    "ExecuteTime": {
     "start_time": "2023-11-07T07:25:08.395Z"
    },
    "colab": {
     "base_uri": "https://localhost:8080/"
    },
    "id": "c13c5f3a",
    "outputId": "83998991-fd15-4b13-acf4-261a84cc6519"
   },
   "outputs": [
    {
     "name": "stdout",
     "output_type": "stream",
     "text": [
      "0.8965768218040466\n"
     ]
    }
   ],
   "source": [
    "print(test_acc)"
   ]
  },
  {
   "cell_type": "markdown",
   "id": "FU4eLy-Bqr03",
   "metadata": {
    "id": "FU4eLy-Bqr03"
   },
   "source": [
    "Our CNN model produced an accuracy of `0.896` which is quite good. Now we will train a LSTM model with attention networks. This architecture leverages LSTM, known for its ability to model sequence data, along with an attention mechanism, providing the network the capability to focus on crucial parts of the sequences."
   ]
  },
  {
   "cell_type": "code",
   "execution_count": null,
   "id": "H4SMvVWmw7qJ",
   "metadata": {
    "colab": {
     "base_uri": "https://localhost:8080/"
    },
    "id": "H4SMvVWmw7qJ",
    "outputId": "77b73233-eb23-4225-c8c4-48f3478fa27e"
   },
   "outputs": [
    {
     "name": "stderr",
     "output_type": "stream",
     "text": [
      "WARNING:tensorflow:Layer lstm will not use cuDNN kernels since it doesn't meet the criteria. It will use a generic GPU kernel as fallback when running on GPU.\n"
     ]
    }
   ],
   "source": [
    "input_layer = Input(shape=(max_length,))\n",
    "embedding_layer = Embedding(vocab_size, embedding_dims, input_length=max_length)(input_layer)\n",
    "\n",
    "lstm_layer = LSTM(64, return_sequences=True, dropout=0.2, recurrent_dropout=0.2)(embedding_layer)\n",
    "\n",
    "# Attention Mechanism\n",
    "attention = Attention()([lstm_layer, lstm_layer])\n",
    "\n",
    "# Flatten or Pool over time dimension before passing to Dense layers\n",
    "flatten_layer = Flatten()(attention)\n",
    "\n",
    "dense_layer = Dense(64, activation='relu', kernel_regularizer=regularizers.l2(0.01))(flatten_layer)\n",
    "dropout_layer = Dropout(0.5)(dense_layer)\n",
    "output_layer = Dense(1, activation='sigmoid')(dropout_layer)\n",
    "\n",
    "model = Model(inputs=input_layer, outputs=output_layer)\n",
    "model.compile(loss='binary_crossentropy', optimizer='adam', metrics=['accuracy'])"
   ]
  },
  {
   "cell_type": "markdown",
   "id": "iph1T2flrS0P",
   "metadata": {
    "id": "iph1T2flrS0P"
   },
   "source": [
    "Let us now train the model."
   ]
  },
  {
   "cell_type": "code",
   "execution_count": null,
   "id": "URvW2zG0EZVV",
   "metadata": {
    "colab": {
     "base_uri": "https://localhost:8080/"
    },
    "id": "URvW2zG0EZVV",
    "outputId": "3a46cd5a-723b-40d9-a10a-94092a343e1a"
   },
   "outputs": [
    {
     "name": "stdout",
     "output_type": "stream",
     "text": [
      "Epoch 1/5\n",
      "172/172 [==============================] - 162s 909ms/step - loss: 0.7461 - accuracy: 0.5504 - val_loss: 0.5366 - val_accuracy: 0.8296\n",
      "Epoch 2/5\n",
      "172/172 [==============================] - 136s 790ms/step - loss: 0.4392 - accuracy: 0.8463 - val_loss: 0.3659 - val_accuracy: 0.8762\n",
      "Epoch 3/5\n",
      "172/172 [==============================] - 141s 824ms/step - loss: 0.3328 - accuracy: 0.9029 - val_loss: 0.3258 - val_accuracy: 0.8791\n",
      "Epoch 4/5\n",
      "172/172 [==============================] - 133s 774ms/step - loss: 0.2920 - accuracy: 0.9179 - val_loss: 0.3225 - val_accuracy: 0.8718\n",
      "Epoch 5/5\n",
      "172/172 [==============================] - 133s 774ms/step - loss: 0.2650 - accuracy: 0.9290 - val_loss: 0.3899 - val_accuracy: 0.8937\n"
     ]
    }
   ],
   "source": [
    "history = model.fit(X_train, y_train,\n",
    "          batch_size=batch_size,\n",
    "          epochs=5,\n",
    "          validation_data=(X_test, y_test))"
   ]
  },
  {
   "cell_type": "code",
   "execution_count": null,
   "id": "zLs20qs8Ec7y",
   "metadata": {
    "colab": {
     "base_uri": "https://localhost:8080/",
     "height": 466
    },
    "id": "zLs20qs8Ec7y",
    "outputId": "295c2e1d-a191-4799-93a8-be568a2e82c4"
   },
   "outputs": [
    {
     "name": "stdout",
     "output_type": "stream",
     "text": [
      "43/43 - 2s - loss: 0.3899 - accuracy: 0.8937 - 2s/epoch - 41ms/step\n"
     ]
    },
    {
     "data": {
      "image/png": "[encoded data removed]",
      "text/plain": [
       "<Figure size 640x480 with 1 Axes>"
      ]
     },
     "metadata": {},
     "output_type": "display_data"
    }
   ],
   "source": [
    "plt.plot(history.history['accuracy'], label='accuracy')\n",
    "plt.plot(history.history['val_accuracy'], label = 'val_accuracy')\n",
    "plt.xlabel('Epoch')\n",
    "plt.ylabel('Accuracy')\n",
    "plt.legend(loc='lower right')\n",
    "\n",
    "test_loss, test_acc = model.evaluate(X_test, y_test, verbose=2)"
   ]
  },
  {
   "cell_type": "markdown",
   "id": "29fNZJLOrXbc",
   "metadata": {
    "id": "29fNZJLOrXbc"
   },
   "source": [
    "This model trains relatively quickly compared to our earlier CNN model in terms of epochs taken. In the diagram we can see both the train and validation accuracy are almost equal, which is a good sign for our model."
   ]
  },
  {
   "cell_type": "code",
   "execution_count": null,
   "id": "wt7YjQNnFgk7",
   "metadata": {
    "colab": {
     "base_uri": "https://localhost:8080/"
    },
    "id": "wt7YjQNnFgk7",
    "outputId": "9e856eda-b170-4d0c-a85b-caa712587804"
   },
   "outputs": [
    {
     "name": "stdout",
     "output_type": "stream",
     "text": [
      "0.8936635255813599\n"
     ]
    }
   ],
   "source": [
    "print(test_acc)"
   ]
  },
  {
   "cell_type": "markdown",
   "id": "MEK5kOuwr3Qf",
   "metadata": {
    "id": "MEK5kOuwr3Qf"
   },
   "source": [
    "Our LSTM model with Attention mechanism produced accuracy of `0.893` which is very good."
   ]
  },
  {
   "cell_type": "markdown",
   "id": "uxgOTXFQxGC1",
   "metadata": {
    "id": "uxgOTXFQxGC1"
   },
   "source": [
    "### Conclusion\n",
    "\n",
    "In this notebook, we explored how to prepare text data for computers to understand. We began by converting words into numbers using a tool called a `Tokenizer`. This helped turn our text into sequences of numbers, making it easier for computers to work with.\n",
    "\n",
    "Then, we introduced pre-existing word patterns that the computer already understood. It was like giving the computer a head start in understanding the text. These patterns were like shortcuts for the computer.\n",
    "\n",
    "After data preparation, we trained 2 models: `CNN` and `LSTM`. Both the models gave `0.89` accuracy and did not overfit."
   ]
  }
 ],
 "metadata": {
  "accelerator": "GPU",
  "colab": {
   "gpuType": "T4",
   "provenance": []
  },
  "kernelspec": {
   "display_name": "Python 3 (ipykernel)",
   "language": "python",
   "name": "python3"
  },
  "language_info": {
   "codemirror_mode": {
    "name": "ipython",
    "version": 3
   },
   "file_extension": ".py",
   "mimetype": "text/x-python",
   "name": "python",
   "nbconvert_exporter": "python",
   "pygments_lexer": "ipython3",
   "version": "3.9.12"
  }
 },
 "nbformat": 4,
 "nbformat_minor": 5
}
